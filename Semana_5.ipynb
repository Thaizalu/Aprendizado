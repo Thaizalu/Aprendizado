{
  "nbformat": 4,
  "nbformat_minor": 0,
  "metadata": {
    "colab": {
      "provenance": [],
      "authorship_tag": "ABX9TyNgtq764ga03S8euxowJARv",
      "include_colab_link": true
    },
    "kernelspec": {
      "name": "python3",
      "display_name": "Python 3"
    },
    "language_info": {
      "name": "python"
    }
  },
  "cells": [
    {
      "cell_type": "markdown",
      "metadata": {
        "id": "view-in-github",
        "colab_type": "text"
      },
      "source": [
        "<a href=\"https://colab.research.google.com/github/Thaizalu/Aprendizado/blob/main/Semana_5.ipynb\" target=\"_parent\"><img src=\"https://colab.research.google.com/assets/colab-badge.svg\" alt=\"Open In Colab\"/></a>"
      ]
    },
    {
      "cell_type": "markdown",
      "source": [
        "# **Passo a passo - Semana 5**\n",
        "\n",
        "* Fazer download do dataset Top Youtube Artists, do Kaggle.\n",
        "* Tratar as colunas sem informação adicionando o texto “Não informado”.\n",
        "* Formatar a coluna de total de inscritos multiplicando por 100 milhões.\n",
        "* Formatar coluna “AVG” para 2 casas decimais depois da vírgula.\n",
        "* Mostrar os top 10 usuários.\n",
        "* Mostrar primeiros 100 usuários por nome decrescente.\n",
        "* Salvar um novo CSV com a informação tratada."
      ],
      "metadata": {
        "id": "fzn_LfV9Yxvl"
      }
    },
    {
      "cell_type": "code",
      "execution_count": 1,
      "metadata": {
        "id": "O73xlbAYYQd1"
      },
      "outputs": [],
      "source": [
        "# importar a biblioteca necessária\n",
        "import pandas as pd"
      ]
    },
    {
      "cell_type": "code",
      "source": [
        "# importando o arquivo\n",
        "df = pd.read_csv('/content/topyoutube.csv')"
      ],
      "metadata": {
        "id": "ARkBMUF3ZXND"
      },
      "execution_count": 2,
      "outputs": []
    },
    {
      "cell_type": "code",
      "source": [
        "df.head()"
      ],
      "metadata": {
        "colab": {
          "base_uri": "https://localhost:8080/",
          "height": 206
        },
        "id": "Gi0ZNvipZxx1",
        "outputId": "a9da4633-f56f-4867-d7aa-fb30203daf88"
      },
      "execution_count": 3,
      "outputs": [
        {
          "output_type": "execute_result",
          "data": {
            "text/plain": [
              "          Artist Total Views  100M     Avg\n",
              "0            BTS    27,947.9  63.0   7.370\n",
              "1      Bad Bunny    27,573.4  66.0  14.555\n",
              "2  Justin Bieber    27,399.7  37.0   3.986\n",
              "3     Ed Sheeran    26,894.0  39.0   4.609\n",
              "4   Taylor Swift    24,350.0  38.0   5.716"
            ],
            "text/html": [
              "\n",
              "  <div id=\"df-c7ce26f2-d122-4b01-8ae2-9120edcf872a\" class=\"colab-df-container\">\n",
              "    <div>\n",
              "<style scoped>\n",
              "    .dataframe tbody tr th:only-of-type {\n",
              "        vertical-align: middle;\n",
              "    }\n",
              "\n",
              "    .dataframe tbody tr th {\n",
              "        vertical-align: top;\n",
              "    }\n",
              "\n",
              "    .dataframe thead th {\n",
              "        text-align: right;\n",
              "    }\n",
              "</style>\n",
              "<table border=\"1\" class=\"dataframe\">\n",
              "  <thead>\n",
              "    <tr style=\"text-align: right;\">\n",
              "      <th></th>\n",
              "      <th>Artist</th>\n",
              "      <th>Total Views</th>\n",
              "      <th>100M</th>\n",
              "      <th>Avg</th>\n",
              "    </tr>\n",
              "  </thead>\n",
              "  <tbody>\n",
              "    <tr>\n",
              "      <th>0</th>\n",
              "      <td>BTS</td>\n",
              "      <td>27,947.9</td>\n",
              "      <td>63.0</td>\n",
              "      <td>7.370</td>\n",
              "    </tr>\n",
              "    <tr>\n",
              "      <th>1</th>\n",
              "      <td>Bad Bunny</td>\n",
              "      <td>27,573.4</td>\n",
              "      <td>66.0</td>\n",
              "      <td>14.555</td>\n",
              "    </tr>\n",
              "    <tr>\n",
              "      <th>2</th>\n",
              "      <td>Justin Bieber</td>\n",
              "      <td>27,399.7</td>\n",
              "      <td>37.0</td>\n",
              "      <td>3.986</td>\n",
              "    </tr>\n",
              "    <tr>\n",
              "      <th>3</th>\n",
              "      <td>Ed Sheeran</td>\n",
              "      <td>26,894.0</td>\n",
              "      <td>39.0</td>\n",
              "      <td>4.609</td>\n",
              "    </tr>\n",
              "    <tr>\n",
              "      <th>4</th>\n",
              "      <td>Taylor Swift</td>\n",
              "      <td>24,350.0</td>\n",
              "      <td>38.0</td>\n",
              "      <td>5.716</td>\n",
              "    </tr>\n",
              "  </tbody>\n",
              "</table>\n",
              "</div>\n",
              "    <div class=\"colab-df-buttons\">\n",
              "\n",
              "  <div class=\"colab-df-container\">\n",
              "    <button class=\"colab-df-convert\" onclick=\"convertToInteractive('df-c7ce26f2-d122-4b01-8ae2-9120edcf872a')\"\n",
              "            title=\"Convert this dataframe to an interactive table.\"\n",
              "            style=\"display:none;\">\n",
              "\n",
              "  <svg xmlns=\"http://www.w3.org/2000/svg\" height=\"24px\" viewBox=\"0 -960 960 960\">\n",
              "    <path d=\"M120-120v-720h720v720H120Zm60-500h600v-160H180v160Zm220 220h160v-160H400v160Zm0 220h160v-160H400v160ZM180-400h160v-160H180v160Zm440 0h160v-160H620v160ZM180-180h160v-160H180v160Zm440 0h160v-160H620v160Z\"/>\n",
              "  </svg>\n",
              "    </button>\n",
              "\n",
              "  <style>\n",
              "    .colab-df-container {\n",
              "      display:flex;\n",
              "      gap: 12px;\n",
              "    }\n",
              "\n",
              "    .colab-df-convert {\n",
              "      background-color: #E8F0FE;\n",
              "      border: none;\n",
              "      border-radius: 50%;\n",
              "      cursor: pointer;\n",
              "      display: none;\n",
              "      fill: #1967D2;\n",
              "      height: 32px;\n",
              "      padding: 0 0 0 0;\n",
              "      width: 32px;\n",
              "    }\n",
              "\n",
              "    .colab-df-convert:hover {\n",
              "      background-color: #E2EBFA;\n",
              "      box-shadow: 0px 1px 2px rgba(60, 64, 67, 0.3), 0px 1px 3px 1px rgba(60, 64, 67, 0.15);\n",
              "      fill: #174EA6;\n",
              "    }\n",
              "\n",
              "    .colab-df-buttons div {\n",
              "      margin-bottom: 4px;\n",
              "    }\n",
              "\n",
              "    [theme=dark] .colab-df-convert {\n",
              "      background-color: #3B4455;\n",
              "      fill: #D2E3FC;\n",
              "    }\n",
              "\n",
              "    [theme=dark] .colab-df-convert:hover {\n",
              "      background-color: #434B5C;\n",
              "      box-shadow: 0px 1px 3px 1px rgba(0, 0, 0, 0.15);\n",
              "      filter: drop-shadow(0px 1px 2px rgba(0, 0, 0, 0.3));\n",
              "      fill: #FFFFFF;\n",
              "    }\n",
              "  </style>\n",
              "\n",
              "    <script>\n",
              "      const buttonEl =\n",
              "        document.querySelector('#df-c7ce26f2-d122-4b01-8ae2-9120edcf872a button.colab-df-convert');\n",
              "      buttonEl.style.display =\n",
              "        google.colab.kernel.accessAllowed ? 'block' : 'none';\n",
              "\n",
              "      async function convertToInteractive(key) {\n",
              "        const element = document.querySelector('#df-c7ce26f2-d122-4b01-8ae2-9120edcf872a');\n",
              "        const dataTable =\n",
              "          await google.colab.kernel.invokeFunction('convertToInteractive',\n",
              "                                                    [key], {});\n",
              "        if (!dataTable) return;\n",
              "\n",
              "        const docLinkHtml = 'Like what you see? Visit the ' +\n",
              "          '<a target=\"_blank\" href=https://colab.research.google.com/notebooks/data_table.ipynb>data table notebook</a>'\n",
              "          + ' to learn more about interactive tables.';\n",
              "        element.innerHTML = '';\n",
              "        dataTable['output_type'] = 'display_data';\n",
              "        await google.colab.output.renderOutput(dataTable, element);\n",
              "        const docLink = document.createElement('div');\n",
              "        docLink.innerHTML = docLinkHtml;\n",
              "        element.appendChild(docLink);\n",
              "      }\n",
              "    </script>\n",
              "  </div>\n",
              "\n",
              "\n",
              "<div id=\"df-03b3cee3-a2d0-4b4c-8a07-befacade1b65\">\n",
              "  <button class=\"colab-df-quickchart\" onclick=\"quickchart('df-03b3cee3-a2d0-4b4c-8a07-befacade1b65')\"\n",
              "            title=\"Suggest charts\"\n",
              "            style=\"display:none;\">\n",
              "\n",
              "<svg xmlns=\"http://www.w3.org/2000/svg\" height=\"24px\"viewBox=\"0 0 24 24\"\n",
              "     width=\"24px\">\n",
              "    <g>\n",
              "        <path d=\"M19 3H5c-1.1 0-2 .9-2 2v14c0 1.1.9 2 2 2h14c1.1 0 2-.9 2-2V5c0-1.1-.9-2-2-2zM9 17H7v-7h2v7zm4 0h-2V7h2v10zm4 0h-2v-4h2v4z\"/>\n",
              "    </g>\n",
              "</svg>\n",
              "  </button>\n",
              "\n",
              "<style>\n",
              "  .colab-df-quickchart {\n",
              "      --bg-color: #E8F0FE;\n",
              "      --fill-color: #1967D2;\n",
              "      --hover-bg-color: #E2EBFA;\n",
              "      --hover-fill-color: #174EA6;\n",
              "      --disabled-fill-color: #AAA;\n",
              "      --disabled-bg-color: #DDD;\n",
              "  }\n",
              "\n",
              "  [theme=dark] .colab-df-quickchart {\n",
              "      --bg-color: #3B4455;\n",
              "      --fill-color: #D2E3FC;\n",
              "      --hover-bg-color: #434B5C;\n",
              "      --hover-fill-color: #FFFFFF;\n",
              "      --disabled-bg-color: #3B4455;\n",
              "      --disabled-fill-color: #666;\n",
              "  }\n",
              "\n",
              "  .colab-df-quickchart {\n",
              "    background-color: var(--bg-color);\n",
              "    border: none;\n",
              "    border-radius: 50%;\n",
              "    cursor: pointer;\n",
              "    display: none;\n",
              "    fill: var(--fill-color);\n",
              "    height: 32px;\n",
              "    padding: 0;\n",
              "    width: 32px;\n",
              "  }\n",
              "\n",
              "  .colab-df-quickchart:hover {\n",
              "    background-color: var(--hover-bg-color);\n",
              "    box-shadow: 0 1px 2px rgba(60, 64, 67, 0.3), 0 1px 3px 1px rgba(60, 64, 67, 0.15);\n",
              "    fill: var(--button-hover-fill-color);\n",
              "  }\n",
              "\n",
              "  .colab-df-quickchart-complete:disabled,\n",
              "  .colab-df-quickchart-complete:disabled:hover {\n",
              "    background-color: var(--disabled-bg-color);\n",
              "    fill: var(--disabled-fill-color);\n",
              "    box-shadow: none;\n",
              "  }\n",
              "\n",
              "  .colab-df-spinner {\n",
              "    border: 2px solid var(--fill-color);\n",
              "    border-color: transparent;\n",
              "    border-bottom-color: var(--fill-color);\n",
              "    animation:\n",
              "      spin 1s steps(1) infinite;\n",
              "  }\n",
              "\n",
              "  @keyframes spin {\n",
              "    0% {\n",
              "      border-color: transparent;\n",
              "      border-bottom-color: var(--fill-color);\n",
              "      border-left-color: var(--fill-color);\n",
              "    }\n",
              "    20% {\n",
              "      border-color: transparent;\n",
              "      border-left-color: var(--fill-color);\n",
              "      border-top-color: var(--fill-color);\n",
              "    }\n",
              "    30% {\n",
              "      border-color: transparent;\n",
              "      border-left-color: var(--fill-color);\n",
              "      border-top-color: var(--fill-color);\n",
              "      border-right-color: var(--fill-color);\n",
              "    }\n",
              "    40% {\n",
              "      border-color: transparent;\n",
              "      border-right-color: var(--fill-color);\n",
              "      border-top-color: var(--fill-color);\n",
              "    }\n",
              "    60% {\n",
              "      border-color: transparent;\n",
              "      border-right-color: var(--fill-color);\n",
              "    }\n",
              "    80% {\n",
              "      border-color: transparent;\n",
              "      border-right-color: var(--fill-color);\n",
              "      border-bottom-color: var(--fill-color);\n",
              "    }\n",
              "    90% {\n",
              "      border-color: transparent;\n",
              "      border-bottom-color: var(--fill-color);\n",
              "    }\n",
              "  }\n",
              "</style>\n",
              "\n",
              "  <script>\n",
              "    async function quickchart(key) {\n",
              "      const quickchartButtonEl =\n",
              "        document.querySelector('#' + key + ' button');\n",
              "      quickchartButtonEl.disabled = true;  // To prevent multiple clicks.\n",
              "      quickchartButtonEl.classList.add('colab-df-spinner');\n",
              "      try {\n",
              "        const charts = await google.colab.kernel.invokeFunction(\n",
              "            'suggestCharts', [key], {});\n",
              "      } catch (error) {\n",
              "        console.error('Error during call to suggestCharts:', error);\n",
              "      }\n",
              "      quickchartButtonEl.classList.remove('colab-df-spinner');\n",
              "      quickchartButtonEl.classList.add('colab-df-quickchart-complete');\n",
              "    }\n",
              "    (() => {\n",
              "      let quickchartButtonEl =\n",
              "        document.querySelector('#df-03b3cee3-a2d0-4b4c-8a07-befacade1b65 button');\n",
              "      quickchartButtonEl.style.display =\n",
              "        google.colab.kernel.accessAllowed ? 'block' : 'none';\n",
              "    })();\n",
              "  </script>\n",
              "</div>\n",
              "\n",
              "    </div>\n",
              "  </div>\n"
            ],
            "application/vnd.google.colaboratory.intrinsic+json": {
              "type": "dataframe",
              "variable_name": "df",
              "summary": "{\n  \"name\": \"df\",\n  \"rows\": 1587,\n  \"fields\": [\n    {\n      \"column\": \"Artist\",\n      \"properties\": {\n        \"dtype\": \"string\",\n        \"num_unique_values\": 1587,\n        \"samples\": [\n          \"Sofia Reyes\",\n          \"Vanessa Carlton\",\n          \"Ruth B\"\n        ],\n        \"semantic_type\": \"\",\n        \"description\": \"\"\n      }\n    },\n    {\n      \"column\": \"Total Views\",\n      \"properties\": {\n        \"dtype\": \"string\",\n        \"num_unique_values\": 1551,\n        \"samples\": [\n          \"230.4\",\n          \"1,411.3\",\n          \"2,572.4\"\n        ],\n        \"semantic_type\": \"\",\n        \"description\": \"\"\n      }\n    },\n    {\n      \"column\": \"100M\",\n      \"properties\": {\n        \"dtype\": \"number\",\n        \"std\": 6.707930692233433,\n        \"min\": 1.0,\n        \"max\": 66.0,\n        \"num_unique_values\": 42,\n        \"samples\": [\n          13.0,\n          20.0,\n          41.0\n        ],\n        \"semantic_type\": \"\",\n        \"description\": \"\"\n      }\n    },\n    {\n      \"column\": \"Avg\",\n      \"properties\": {\n        \"dtype\": \"number\",\n        \"std\": 1.1509282722609362,\n        \"min\": 0.004,\n        \"max\": 21.626,\n        \"num_unique_values\": 831,\n        \"samples\": [\n          0.156,\n          0.018,\n          0.666\n        ],\n        \"semantic_type\": \"\",\n        \"description\": \"\"\n      }\n    }\n  ]\n}"
            }
          },
          "metadata": {},
          "execution_count": 3
        }
      ]
    },
    {
      "cell_type": "code",
      "source": [
        "# tratando as colunas sem informação adicionando o texto \"Não informado\"\n",
        "df.fillna(\"Não informado\", inplace=True)"
      ],
      "metadata": {
        "colab": {
          "base_uri": "https://localhost:8080/"
        },
        "id": "i8qaBqXfZncW",
        "outputId": "7ca9a9be-0785-450f-feb5-bc61532f1f1c"
      },
      "execution_count": 4,
      "outputs": [
        {
          "output_type": "stream",
          "name": "stderr",
          "text": [
            "<ipython-input-4-e3824ef93123>:2: FutureWarning: Setting an item of incompatible dtype is deprecated and will raise in a future error of pandas. Value 'Não informado' has dtype incompatible with float64, please explicitly cast to a compatible dtype first.\n",
            "  df.fillna(\"Não informado\", inplace=True)\n"
          ]
        }
      ]
    },
    {
      "cell_type": "code",
      "source": [
        "# convertendo a coluna 'Total Views' para numérica, tratando erros como NaN\n",
        "df['Total Views'] = pd.to_numeric(df['Total Views'], errors='coerce')"
      ],
      "metadata": {
        "id": "xwE5ufE6Ncvq"
      },
      "execution_count": 8,
      "outputs": []
    },
    {
      "cell_type": "code",
      "source": [
        "# formando a coluna de total de inscritos multiplicando por 100 milhões\n",
        "df['Total Views'] = df['Total Views']* 100_000_000"
      ],
      "metadata": {
        "id": "biEIO5ULZ3A7"
      },
      "execution_count": 9,
      "outputs": []
    },
    {
      "cell_type": "code",
      "source": [
        "# formatar a coluna 'Avg' para 2 casas decimais depois da vírgula\n",
        "df['Avg'] =  df['Avg'].round(2)"
      ],
      "metadata": {
        "id": "Mi_gavIwcH2l"
      },
      "execution_count": 5,
      "outputs": []
    },
    {
      "cell_type": "code",
      "source": [
        "# mostrar os top 10 usuários (assumindo que seja com base em inscritos):\n",
        "top_10_users = df.nlargest(10, 'Total Views')\n",
        "print(top_10_users)"
      ],
      "metadata": {
        "colab": {
          "base_uri": "https://localhost:8080/"
        },
        "id": "-qAn-mI5M6Ce",
        "outputId": "75784185-f560-4e49-8057-b10b45f46684"
      },
      "execution_count": 10,
      "outputs": [
        {
          "output_type": "stream",
          "name": "stdout",
          "text": [
            "                    Artist   Total Views           100M   Avg\n",
            "857        Phan Mạnh Quỳnh  9.989000e+10            2.0  0.10\n",
            "858          Bomba Estéreo  9.976000e+10            3.0  0.18\n",
            "859          The Offspring  9.951000e+10            1.0  0.50\n",
            "860                 Ultimo  9.947000e+10  Não informado  0.33\n",
            "861     Humberto e Ronaldo  9.934000e+10            1.0  0.35\n",
            "862         Leandro Borges  9.930000e+10            1.0  0.44\n",
            "863  João Neto e Frederico  9.917000e+10            2.0  0.06\n",
            "864              Vegedream  9.913000e+10            1.0  0.51\n",
            "865            Alex Campos  9.912000e+10            1.0  0.48\n",
            "866         Sasa Kovacevic  9.853000e+10  Não informado  0.12\n"
          ]
        }
      ]
    },
    {
      "cell_type": "code",
      "source": [
        "# mostrar os primeiros 100 usuários por nome em ordem decrescente\n",
        "top_100_users = df.sort_values(by='Artist', ascending=False).head(100)\n",
        "print(top_100_users)"
      ],
      "metadata": {
        "colab": {
          "base_uri": "https://localhost:8080/"
        },
        "id": "WD6dB6BeNmNA",
        "outputId": "511dc71f-edfe-47d3-f23e-d998511af587"
      },
      "execution_count": 11,
      "outputs": [
        {
          "output_type": "stream",
          "name": "stdout",
          "text": [
            "             Artist   Total Views           100M   Avg\n",
            "1374         Łobuzy  3.965000e+10            2.0  0.11\n",
            "537     İrem Derici           NaN            3.0  0.32\n",
            "634      Ñengo Flow           NaN            4.0  0.82\n",
            "1032  Çağatay Akman  7.427000e+10            2.0  0.05\n",
            "350       will.i.am           NaN            6.0  0.30\n",
            "...             ...           ...            ...   ...\n",
            "516      Via Vallen           NaN            3.0  0.08\n",
            "1507   Veysel Mutlu  2.774000e+10            1.0  0.03\n",
            "1358         Veysel  4.122000e+10  Não informado  0.06\n",
            "891       Vengaboys  9.348000e+10            3.0  0.34\n",
            "864       Vegedream  9.913000e+10            1.0  0.51\n",
            "\n",
            "[100 rows x 4 columns]\n"
          ]
        }
      ]
    },
    {
      "cell_type": "code",
      "source": [
        "# salvar um novo csv com a informação tratada\n",
        "df.to_csv(\"top_youtube_artists_cleaned.csv\", index=False)"
      ],
      "metadata": {
        "id": "ADhh2o6zN2GN"
      },
      "execution_count": 13,
      "outputs": []
    }
  ]
}