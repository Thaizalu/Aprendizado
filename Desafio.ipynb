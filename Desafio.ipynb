{
  "nbformat": 4,
  "nbformat_minor": 0,
  "metadata": {
    "colab": {
      "provenance": [],
      "toc_visible": true,
      "authorship_tag": "ABX9TyMLdy41IWYkKPfmeDnf+drl",
      "include_colab_link": true
    },
    "kernelspec": {
      "name": "python3",
      "display_name": "Python 3"
    },
    "language_info": {
      "name": "python"
    }
  },
  "cells": [
    {
      "cell_type": "markdown",
      "metadata": {
        "id": "view-in-github",
        "colab_type": "text"
      },
      "source": [
        "<a href=\"https://colab.research.google.com/github/Thaizalu/Aprendizado/blob/main/Desafio.ipynb\" target=\"_parent\"><img src=\"https://colab.research.google.com/assets/colab-badge.svg\" alt=\"Open In Colab\"/></a>"
      ]
    },
    {
      "cell_type": "markdown",
      "source": [
        "# Aula 01"
      ],
      "metadata": {
        "id": "FYacfSI1-OCP"
      }
    },
    {
      "cell_type": "markdown",
      "source": [
        "## Desafio: utilizando parâmetros do json_normalize"
      ],
      "metadata": {
        "id": "SSdm7srW-K43"
      }
    },
    {
      "cell_type": "markdown",
      "source": [
        "Ao normalizar o objeto JSON durante a aula passamos simplesmente pd.json_normalize(<dados>) mas o método json_normalize possui diversos parâmetros para trabalhar com estruturas de dados mais complexas.\n",
        "\n",
        "Você recebeu a tarefa de normalizar o seguinte arquivo JSON chamado “informacoes.json” referente a algumas informações de identificação de um cliente. O arquivo possui o seguinte conteúdo:"
      ],
      "metadata": {
        "id": "HjCjuijt-Rtl"
      }
    },
    {
      "cell_type": "markdown",
      "source": [
        "Passo 1: carregar o arquivo JSON como um objeto Python"
      ],
      "metadata": {
        "id": "SgvtULvn-uOO"
      }
    },
    {
      "cell_type": "code",
      "execution_count": 1,
      "metadata": {
        "id": "xUm8p13UaeRH"
      },
      "outputs": [],
      "source": [
        "import pandas as pd"
      ]
    },
    {
      "cell_type": "code",
      "source": [
        "informacoes = pd.read_json('/content/informacoes.json')\n",
        "informacoes"
      ],
      "metadata": {
        "colab": {
          "base_uri": "https://localhost:8080/",
          "height": 112
        },
        "id": "Yj4GvT0d-bYU",
        "outputId": "9235b89b-95f5-4291-f8b4-2e5783042c59"
      },
      "execution_count": 2,
      "outputs": [
        {
          "output_type": "execute_result",
          "data": {
            "text/plain": [
              "   nome  idade                                          enderecos\n",
              "0  João     28  {'tipo': 'casa', 'rua': 'Rua A', 'numero': 123...\n",
              "1  João     28  {'tipo': 'trabalho', 'rua': 'Rua B', 'numero':..."
            ],
            "text/html": [
              "\n",
              "  <div id=\"df-0a77c39d-c5f7-4caa-971d-decab4f0d836\" class=\"colab-df-container\">\n",
              "    <div>\n",
              "<style scoped>\n",
              "    .dataframe tbody tr th:only-of-type {\n",
              "        vertical-align: middle;\n",
              "    }\n",
              "\n",
              "    .dataframe tbody tr th {\n",
              "        vertical-align: top;\n",
              "    }\n",
              "\n",
              "    .dataframe thead th {\n",
              "        text-align: right;\n",
              "    }\n",
              "</style>\n",
              "<table border=\"1\" class=\"dataframe\">\n",
              "  <thead>\n",
              "    <tr style=\"text-align: right;\">\n",
              "      <th></th>\n",
              "      <th>nome</th>\n",
              "      <th>idade</th>\n",
              "      <th>enderecos</th>\n",
              "    </tr>\n",
              "  </thead>\n",
              "  <tbody>\n",
              "    <tr>\n",
              "      <th>0</th>\n",
              "      <td>João</td>\n",
              "      <td>28</td>\n",
              "      <td>{'tipo': 'casa', 'rua': 'Rua A', 'numero': 123...</td>\n",
              "    </tr>\n",
              "    <tr>\n",
              "      <th>1</th>\n",
              "      <td>João</td>\n",
              "      <td>28</td>\n",
              "      <td>{'tipo': 'trabalho', 'rua': 'Rua B', 'numero':...</td>\n",
              "    </tr>\n",
              "  </tbody>\n",
              "</table>\n",
              "</div>\n",
              "    <div class=\"colab-df-buttons\">\n",
              "\n",
              "  <div class=\"colab-df-container\">\n",
              "    <button class=\"colab-df-convert\" onclick=\"convertToInteractive('df-0a77c39d-c5f7-4caa-971d-decab4f0d836')\"\n",
              "            title=\"Convert this dataframe to an interactive table.\"\n",
              "            style=\"display:none;\">\n",
              "\n",
              "  <svg xmlns=\"http://www.w3.org/2000/svg\" height=\"24px\" viewBox=\"0 -960 960 960\">\n",
              "    <path d=\"M120-120v-720h720v720H120Zm60-500h600v-160H180v160Zm220 220h160v-160H400v160Zm0 220h160v-160H400v160ZM180-400h160v-160H180v160Zm440 0h160v-160H620v160ZM180-180h160v-160H180v160Zm440 0h160v-160H620v160Z\"/>\n",
              "  </svg>\n",
              "    </button>\n",
              "\n",
              "  <style>\n",
              "    .colab-df-container {\n",
              "      display:flex;\n",
              "      gap: 12px;\n",
              "    }\n",
              "\n",
              "    .colab-df-convert {\n",
              "      background-color: #E8F0FE;\n",
              "      border: none;\n",
              "      border-radius: 50%;\n",
              "      cursor: pointer;\n",
              "      display: none;\n",
              "      fill: #1967D2;\n",
              "      height: 32px;\n",
              "      padding: 0 0 0 0;\n",
              "      width: 32px;\n",
              "    }\n",
              "\n",
              "    .colab-df-convert:hover {\n",
              "      background-color: #E2EBFA;\n",
              "      box-shadow: 0px 1px 2px rgba(60, 64, 67, 0.3), 0px 1px 3px 1px rgba(60, 64, 67, 0.15);\n",
              "      fill: #174EA6;\n",
              "    }\n",
              "\n",
              "    .colab-df-buttons div {\n",
              "      margin-bottom: 4px;\n",
              "    }\n",
              "\n",
              "    [theme=dark] .colab-df-convert {\n",
              "      background-color: #3B4455;\n",
              "      fill: #D2E3FC;\n",
              "    }\n",
              "\n",
              "    [theme=dark] .colab-df-convert:hover {\n",
              "      background-color: #434B5C;\n",
              "      box-shadow: 0px 1px 3px 1px rgba(0, 0, 0, 0.15);\n",
              "      filter: drop-shadow(0px 1px 2px rgba(0, 0, 0, 0.3));\n",
              "      fill: #FFFFFF;\n",
              "    }\n",
              "  </style>\n",
              "\n",
              "    <script>\n",
              "      const buttonEl =\n",
              "        document.querySelector('#df-0a77c39d-c5f7-4caa-971d-decab4f0d836 button.colab-df-convert');\n",
              "      buttonEl.style.display =\n",
              "        google.colab.kernel.accessAllowed ? 'block' : 'none';\n",
              "\n",
              "      async function convertToInteractive(key) {\n",
              "        const element = document.querySelector('#df-0a77c39d-c5f7-4caa-971d-decab4f0d836');\n",
              "        const dataTable =\n",
              "          await google.colab.kernel.invokeFunction('convertToInteractive',\n",
              "                                                    [key], {});\n",
              "        if (!dataTable) return;\n",
              "\n",
              "        const docLinkHtml = 'Like what you see? Visit the ' +\n",
              "          '<a target=\"_blank\" href=https://colab.research.google.com/notebooks/data_table.ipynb>data table notebook</a>'\n",
              "          + ' to learn more about interactive tables.';\n",
              "        element.innerHTML = '';\n",
              "        dataTable['output_type'] = 'display_data';\n",
              "        await google.colab.output.renderOutput(dataTable, element);\n",
              "        const docLink = document.createElement('div');\n",
              "        docLink.innerHTML = docLinkHtml;\n",
              "        element.appendChild(docLink);\n",
              "      }\n",
              "    </script>\n",
              "  </div>\n",
              "\n",
              "\n",
              "<div id=\"df-7a3c46b8-b8ac-4922-bf03-e8ba57976524\">\n",
              "  <button class=\"colab-df-quickchart\" onclick=\"quickchart('df-7a3c46b8-b8ac-4922-bf03-e8ba57976524')\"\n",
              "            title=\"Suggest charts.\"\n",
              "            style=\"display:none;\">\n",
              "\n",
              "<svg xmlns=\"http://www.w3.org/2000/svg\" height=\"24px\"viewBox=\"0 0 24 24\"\n",
              "     width=\"24px\">\n",
              "    <g>\n",
              "        <path d=\"M19 3H5c-1.1 0-2 .9-2 2v14c0 1.1.9 2 2 2h14c1.1 0 2-.9 2-2V5c0-1.1-.9-2-2-2zM9 17H7v-7h2v7zm4 0h-2V7h2v10zm4 0h-2v-4h2v4z\"/>\n",
              "    </g>\n",
              "</svg>\n",
              "  </button>\n",
              "\n",
              "<style>\n",
              "  .colab-df-quickchart {\n",
              "      --bg-color: #E8F0FE;\n",
              "      --fill-color: #1967D2;\n",
              "      --hover-bg-color: #E2EBFA;\n",
              "      --hover-fill-color: #174EA6;\n",
              "      --disabled-fill-color: #AAA;\n",
              "      --disabled-bg-color: #DDD;\n",
              "  }\n",
              "\n",
              "  [theme=dark] .colab-df-quickchart {\n",
              "      --bg-color: #3B4455;\n",
              "      --fill-color: #D2E3FC;\n",
              "      --hover-bg-color: #434B5C;\n",
              "      --hover-fill-color: #FFFFFF;\n",
              "      --disabled-bg-color: #3B4455;\n",
              "      --disabled-fill-color: #666;\n",
              "  }\n",
              "\n",
              "  .colab-df-quickchart {\n",
              "    background-color: var(--bg-color);\n",
              "    border: none;\n",
              "    border-radius: 50%;\n",
              "    cursor: pointer;\n",
              "    display: none;\n",
              "    fill: var(--fill-color);\n",
              "    height: 32px;\n",
              "    padding: 0;\n",
              "    width: 32px;\n",
              "  }\n",
              "\n",
              "  .colab-df-quickchart:hover {\n",
              "    background-color: var(--hover-bg-color);\n",
              "    box-shadow: 0 1px 2px rgba(60, 64, 67, 0.3), 0 1px 3px 1px rgba(60, 64, 67, 0.15);\n",
              "    fill: var(--button-hover-fill-color);\n",
              "  }\n",
              "\n",
              "  .colab-df-quickchart-complete:disabled,\n",
              "  .colab-df-quickchart-complete:disabled:hover {\n",
              "    background-color: var(--disabled-bg-color);\n",
              "    fill: var(--disabled-fill-color);\n",
              "    box-shadow: none;\n",
              "  }\n",
              "\n",
              "  .colab-df-spinner {\n",
              "    border: 2px solid var(--fill-color);\n",
              "    border-color: transparent;\n",
              "    border-bottom-color: var(--fill-color);\n",
              "    animation:\n",
              "      spin 1s steps(1) infinite;\n",
              "  }\n",
              "\n",
              "  @keyframes spin {\n",
              "    0% {\n",
              "      border-color: transparent;\n",
              "      border-bottom-color: var(--fill-color);\n",
              "      border-left-color: var(--fill-color);\n",
              "    }\n",
              "    20% {\n",
              "      border-color: transparent;\n",
              "      border-left-color: var(--fill-color);\n",
              "      border-top-color: var(--fill-color);\n",
              "    }\n",
              "    30% {\n",
              "      border-color: transparent;\n",
              "      border-left-color: var(--fill-color);\n",
              "      border-top-color: var(--fill-color);\n",
              "      border-right-color: var(--fill-color);\n",
              "    }\n",
              "    40% {\n",
              "      border-color: transparent;\n",
              "      border-right-color: var(--fill-color);\n",
              "      border-top-color: var(--fill-color);\n",
              "    }\n",
              "    60% {\n",
              "      border-color: transparent;\n",
              "      border-right-color: var(--fill-color);\n",
              "    }\n",
              "    80% {\n",
              "      border-color: transparent;\n",
              "      border-right-color: var(--fill-color);\n",
              "      border-bottom-color: var(--fill-color);\n",
              "    }\n",
              "    90% {\n",
              "      border-color: transparent;\n",
              "      border-bottom-color: var(--fill-color);\n",
              "    }\n",
              "  }\n",
              "</style>\n",
              "\n",
              "  <script>\n",
              "    async function quickchart(key) {\n",
              "      const quickchartButtonEl =\n",
              "        document.querySelector('#' + key + ' button');\n",
              "      quickchartButtonEl.disabled = true;  // To prevent multiple clicks.\n",
              "      quickchartButtonEl.classList.add('colab-df-spinner');\n",
              "      try {\n",
              "        const charts = await google.colab.kernel.invokeFunction(\n",
              "            'suggestCharts', [key], {});\n",
              "      } catch (error) {\n",
              "        console.error('Error during call to suggestCharts:', error);\n",
              "      }\n",
              "      quickchartButtonEl.classList.remove('colab-df-spinner');\n",
              "      quickchartButtonEl.classList.add('colab-df-quickchart-complete');\n",
              "    }\n",
              "    (() => {\n",
              "      let quickchartButtonEl =\n",
              "        document.querySelector('#df-7a3c46b8-b8ac-4922-bf03-e8ba57976524 button');\n",
              "      quickchartButtonEl.style.display =\n",
              "        google.colab.kernel.accessAllowed ? 'block' : 'none';\n",
              "    })();\n",
              "  </script>\n",
              "</div>\n",
              "    </div>\n",
              "  </div>\n"
            ]
          },
          "metadata": {},
          "execution_count": 2
        }
      ]
    },
    {
      "cell_type": "code",
      "source": [
        "import json\n",
        "\n",
        "with open('informacoes.json') as f:\n",
        "    dados = json.load(f)"
      ],
      "metadata": {
        "id": "0MsxkEcM-nPd"
      },
      "execution_count": 3,
      "outputs": []
    },
    {
      "cell_type": "markdown",
      "source": [
        "Passo 2: usar o método json_normalize para normalizar os dados de endereço"
      ],
      "metadata": {
        "id": "xUWsXon8-wRt"
      }
    },
    {
      "cell_type": "code",
      "source": [
        "informacoes = pd.json_normalize(dados, record_path='enderecos', meta=['nome', 'idade'])"
      ],
      "metadata": {
        "id": "ANhSd-kk-q8j"
      },
      "execution_count": 4,
      "outputs": []
    },
    {
      "cell_type": "markdown",
      "source": [
        "Neste passo estamos usando o método json_normalize para normalizar os dados de endereço do objeto JSON dados. O parâmetro record_path é usado para especificar o caminho para os dados que queremos normalizar. No nosso caso, queremos normalizar os dados da lista de endereços, então especificamos 'enderecos'.\n",
        "\n",
        "O parâmetro meta é usado para especificar quais chaves do objeto original queremos incluir na saída normalizada. No nosso caso, queremos incluir as chaves 'nome' e 'idade' do objeto original.\n",
        "\n",
        "Resumindo, record_path define qual caminho deve ser seguido para obter os dados que serão normalizados e meta define quais outras chaves devem ser incluídas na tabela normalizada. A variável ’informacoes’ contém os dados que foram normalizados em uma tabela na qual cada linha representa um endereço. As colunas representam os atributos dos endereços, bem como as chaves nome e idade do objeto original."
      ],
      "metadata": {
        "id": "t7DLcPtd-yEm"
      }
    },
    {
      "cell_type": "markdown",
      "source": [
        "# Aula 02"
      ],
      "metadata": {
        "id": "EbCeCtQGC872"
      }
    },
    {
      "cell_type": "markdown",
      "source": [
        "Sua tarefa é realizar alguns tratamentos e deixar esse arquivo JSON como um Pandas DataFrame, sem dados vazios e com a tipagem das colunas de forma correta. Como isso pode ser feito?"
      ],
      "metadata": {
        "id": "_saSYmz5C_uc"
      }
    },
    {
      "cell_type": "code",
      "source": [
        "# abrir o arquivo e carregar o conteúdo do JSON em um objeto Python\n",
        "dados = pd.read_json('/content/dados.json')"
      ],
      "metadata": {
        "id": "d3wbLGiJDTGs"
      },
      "execution_count": 5,
      "outputs": []
    },
    {
      "cell_type": "code",
      "source": [
        "import json\n",
        "\n",
        "with open('dados.json', 'r') as f:\n",
        "    dados = json.load(f)"
      ],
      "metadata": {
        "id": "UsGeAn3hDBYN"
      },
      "execution_count": 6,
      "outputs": []
    },
    {
      "cell_type": "markdown",
      "source": [
        "Normalizar o JSON com o método json_normalize"
      ],
      "metadata": {
        "id": "bDuWeYlwEABb"
      }
    },
    {
      "cell_type": "code",
      "source": [
        "# importando biblioteca pandas\n",
        "# utilizando o métido json_normalize\n",
        "\n",
        "import pandas as pd\n",
        "\n",
        "df = pd.json_normalize(dados, record_path=['pessoas'])"
      ],
      "metadata": {
        "id": "GI2DhtZXDgJ8"
      },
      "execution_count": 7,
      "outputs": []
    },
    {
      "cell_type": "code",
      "source": [
        "df # verificando o dataframe"
      ],
      "metadata": {
        "colab": {
          "base_uri": "https://localhost:8080/",
          "height": 112
        },
        "id": "RHCINeJ_D4mW",
        "outputId": "89bef93a-6cf3-4211-c4b4-b71b65cf444d"
      },
      "execution_count": 8,
      "outputs": [
        {
          "output_type": "execute_result",
          "data": {
            "text/plain": [
              "    nome idade                     telefones endereco.rua  endereco.numero  \\\n",
              "0   João    25  [11 1111-1111, 11 2222-2222]        Rua A              123   \n",
              "1  Maria    30                [21 3333-3333]                           456   \n",
              "\n",
              "  endereco.cidade  \n",
              "0       São Paulo  \n",
              "1  Rio de Janeiro  "
            ],
            "text/html": [
              "\n",
              "  <div id=\"df-9b43dbf4-9cba-4a4c-b0fe-8edb1900000f\" class=\"colab-df-container\">\n",
              "    <div>\n",
              "<style scoped>\n",
              "    .dataframe tbody tr th:only-of-type {\n",
              "        vertical-align: middle;\n",
              "    }\n",
              "\n",
              "    .dataframe tbody tr th {\n",
              "        vertical-align: top;\n",
              "    }\n",
              "\n",
              "    .dataframe thead th {\n",
              "        text-align: right;\n",
              "    }\n",
              "</style>\n",
              "<table border=\"1\" class=\"dataframe\">\n",
              "  <thead>\n",
              "    <tr style=\"text-align: right;\">\n",
              "      <th></th>\n",
              "      <th>nome</th>\n",
              "      <th>idade</th>\n",
              "      <th>telefones</th>\n",
              "      <th>endereco.rua</th>\n",
              "      <th>endereco.numero</th>\n",
              "      <th>endereco.cidade</th>\n",
              "    </tr>\n",
              "  </thead>\n",
              "  <tbody>\n",
              "    <tr>\n",
              "      <th>0</th>\n",
              "      <td>João</td>\n",
              "      <td>25</td>\n",
              "      <td>[11 1111-1111, 11 2222-2222]</td>\n",
              "      <td>Rua A</td>\n",
              "      <td>123</td>\n",
              "      <td>São Paulo</td>\n",
              "    </tr>\n",
              "    <tr>\n",
              "      <th>1</th>\n",
              "      <td>Maria</td>\n",
              "      <td>30</td>\n",
              "      <td>[21 3333-3333]</td>\n",
              "      <td></td>\n",
              "      <td>456</td>\n",
              "      <td>Rio de Janeiro</td>\n",
              "    </tr>\n",
              "  </tbody>\n",
              "</table>\n",
              "</div>\n",
              "    <div class=\"colab-df-buttons\">\n",
              "\n",
              "  <div class=\"colab-df-container\">\n",
              "    <button class=\"colab-df-convert\" onclick=\"convertToInteractive('df-9b43dbf4-9cba-4a4c-b0fe-8edb1900000f')\"\n",
              "            title=\"Convert this dataframe to an interactive table.\"\n",
              "            style=\"display:none;\">\n",
              "\n",
              "  <svg xmlns=\"http://www.w3.org/2000/svg\" height=\"24px\" viewBox=\"0 -960 960 960\">\n",
              "    <path d=\"M120-120v-720h720v720H120Zm60-500h600v-160H180v160Zm220 220h160v-160H400v160Zm0 220h160v-160H400v160ZM180-400h160v-160H180v160Zm440 0h160v-160H620v160ZM180-180h160v-160H180v160Zm440 0h160v-160H620v160Z\"/>\n",
              "  </svg>\n",
              "    </button>\n",
              "\n",
              "  <style>\n",
              "    .colab-df-container {\n",
              "      display:flex;\n",
              "      gap: 12px;\n",
              "    }\n",
              "\n",
              "    .colab-df-convert {\n",
              "      background-color: #E8F0FE;\n",
              "      border: none;\n",
              "      border-radius: 50%;\n",
              "      cursor: pointer;\n",
              "      display: none;\n",
              "      fill: #1967D2;\n",
              "      height: 32px;\n",
              "      padding: 0 0 0 0;\n",
              "      width: 32px;\n",
              "    }\n",
              "\n",
              "    .colab-df-convert:hover {\n",
              "      background-color: #E2EBFA;\n",
              "      box-shadow: 0px 1px 2px rgba(60, 64, 67, 0.3), 0px 1px 3px 1px rgba(60, 64, 67, 0.15);\n",
              "      fill: #174EA6;\n",
              "    }\n",
              "\n",
              "    .colab-df-buttons div {\n",
              "      margin-bottom: 4px;\n",
              "    }\n",
              "\n",
              "    [theme=dark] .colab-df-convert {\n",
              "      background-color: #3B4455;\n",
              "      fill: #D2E3FC;\n",
              "    }\n",
              "\n",
              "    [theme=dark] .colab-df-convert:hover {\n",
              "      background-color: #434B5C;\n",
              "      box-shadow: 0px 1px 3px 1px rgba(0, 0, 0, 0.15);\n",
              "      filter: drop-shadow(0px 1px 2px rgba(0, 0, 0, 0.3));\n",
              "      fill: #FFFFFF;\n",
              "    }\n",
              "  </style>\n",
              "\n",
              "    <script>\n",
              "      const buttonEl =\n",
              "        document.querySelector('#df-9b43dbf4-9cba-4a4c-b0fe-8edb1900000f button.colab-df-convert');\n",
              "      buttonEl.style.display =\n",
              "        google.colab.kernel.accessAllowed ? 'block' : 'none';\n",
              "\n",
              "      async function convertToInteractive(key) {\n",
              "        const element = document.querySelector('#df-9b43dbf4-9cba-4a4c-b0fe-8edb1900000f');\n",
              "        const dataTable =\n",
              "          await google.colab.kernel.invokeFunction('convertToInteractive',\n",
              "                                                    [key], {});\n",
              "        if (!dataTable) return;\n",
              "\n",
              "        const docLinkHtml = 'Like what you see? Visit the ' +\n",
              "          '<a target=\"_blank\" href=https://colab.research.google.com/notebooks/data_table.ipynb>data table notebook</a>'\n",
              "          + ' to learn more about interactive tables.';\n",
              "        element.innerHTML = '';\n",
              "        dataTable['output_type'] = 'display_data';\n",
              "        await google.colab.output.renderOutput(dataTable, element);\n",
              "        const docLink = document.createElement('div');\n",
              "        docLink.innerHTML = docLinkHtml;\n",
              "        element.appendChild(docLink);\n",
              "      }\n",
              "    </script>\n",
              "  </div>\n",
              "\n",
              "\n",
              "<div id=\"df-114ddfe1-b57d-411a-ab77-ce9d10f41504\">\n",
              "  <button class=\"colab-df-quickchart\" onclick=\"quickchart('df-114ddfe1-b57d-411a-ab77-ce9d10f41504')\"\n",
              "            title=\"Suggest charts.\"\n",
              "            style=\"display:none;\">\n",
              "\n",
              "<svg xmlns=\"http://www.w3.org/2000/svg\" height=\"24px\"viewBox=\"0 0 24 24\"\n",
              "     width=\"24px\">\n",
              "    <g>\n",
              "        <path d=\"M19 3H5c-1.1 0-2 .9-2 2v14c0 1.1.9 2 2 2h14c1.1 0 2-.9 2-2V5c0-1.1-.9-2-2-2zM9 17H7v-7h2v7zm4 0h-2V7h2v10zm4 0h-2v-4h2v4z\"/>\n",
              "    </g>\n",
              "</svg>\n",
              "  </button>\n",
              "\n",
              "<style>\n",
              "  .colab-df-quickchart {\n",
              "      --bg-color: #E8F0FE;\n",
              "      --fill-color: #1967D2;\n",
              "      --hover-bg-color: #E2EBFA;\n",
              "      --hover-fill-color: #174EA6;\n",
              "      --disabled-fill-color: #AAA;\n",
              "      --disabled-bg-color: #DDD;\n",
              "  }\n",
              "\n",
              "  [theme=dark] .colab-df-quickchart {\n",
              "      --bg-color: #3B4455;\n",
              "      --fill-color: #D2E3FC;\n",
              "      --hover-bg-color: #434B5C;\n",
              "      --hover-fill-color: #FFFFFF;\n",
              "      --disabled-bg-color: #3B4455;\n",
              "      --disabled-fill-color: #666;\n",
              "  }\n",
              "\n",
              "  .colab-df-quickchart {\n",
              "    background-color: var(--bg-color);\n",
              "    border: none;\n",
              "    border-radius: 50%;\n",
              "    cursor: pointer;\n",
              "    display: none;\n",
              "    fill: var(--fill-color);\n",
              "    height: 32px;\n",
              "    padding: 0;\n",
              "    width: 32px;\n",
              "  }\n",
              "\n",
              "  .colab-df-quickchart:hover {\n",
              "    background-color: var(--hover-bg-color);\n",
              "    box-shadow: 0 1px 2px rgba(60, 64, 67, 0.3), 0 1px 3px 1px rgba(60, 64, 67, 0.15);\n",
              "    fill: var(--button-hover-fill-color);\n",
              "  }\n",
              "\n",
              "  .colab-df-quickchart-complete:disabled,\n",
              "  .colab-df-quickchart-complete:disabled:hover {\n",
              "    background-color: var(--disabled-bg-color);\n",
              "    fill: var(--disabled-fill-color);\n",
              "    box-shadow: none;\n",
              "  }\n",
              "\n",
              "  .colab-df-spinner {\n",
              "    border: 2px solid var(--fill-color);\n",
              "    border-color: transparent;\n",
              "    border-bottom-color: var(--fill-color);\n",
              "    animation:\n",
              "      spin 1s steps(1) infinite;\n",
              "  }\n",
              "\n",
              "  @keyframes spin {\n",
              "    0% {\n",
              "      border-color: transparent;\n",
              "      border-bottom-color: var(--fill-color);\n",
              "      border-left-color: var(--fill-color);\n",
              "    }\n",
              "    20% {\n",
              "      border-color: transparent;\n",
              "      border-left-color: var(--fill-color);\n",
              "      border-top-color: var(--fill-color);\n",
              "    }\n",
              "    30% {\n",
              "      border-color: transparent;\n",
              "      border-left-color: var(--fill-color);\n",
              "      border-top-color: var(--fill-color);\n",
              "      border-right-color: var(--fill-color);\n",
              "    }\n",
              "    40% {\n",
              "      border-color: transparent;\n",
              "      border-right-color: var(--fill-color);\n",
              "      border-top-color: var(--fill-color);\n",
              "    }\n",
              "    60% {\n",
              "      border-color: transparent;\n",
              "      border-right-color: var(--fill-color);\n",
              "    }\n",
              "    80% {\n",
              "      border-color: transparent;\n",
              "      border-right-color: var(--fill-color);\n",
              "      border-bottom-color: var(--fill-color);\n",
              "    }\n",
              "    90% {\n",
              "      border-color: transparent;\n",
              "      border-bottom-color: var(--fill-color);\n",
              "    }\n",
              "  }\n",
              "</style>\n",
              "\n",
              "  <script>\n",
              "    async function quickchart(key) {\n",
              "      const quickchartButtonEl =\n",
              "        document.querySelector('#' + key + ' button');\n",
              "      quickchartButtonEl.disabled = true;  // To prevent multiple clicks.\n",
              "      quickchartButtonEl.classList.add('colab-df-spinner');\n",
              "      try {\n",
              "        const charts = await google.colab.kernel.invokeFunction(\n",
              "            'suggestCharts', [key], {});\n",
              "      } catch (error) {\n",
              "        console.error('Error during call to suggestCharts:', error);\n",
              "      }\n",
              "      quickchartButtonEl.classList.remove('colab-df-spinner');\n",
              "      quickchartButtonEl.classList.add('colab-df-quickchart-complete');\n",
              "    }\n",
              "    (() => {\n",
              "      let quickchartButtonEl =\n",
              "        document.querySelector('#df-114ddfe1-b57d-411a-ab77-ce9d10f41504 button');\n",
              "      quickchartButtonEl.style.display =\n",
              "        google.colab.kernel.accessAllowed ? 'block' : 'none';\n",
              "    })();\n",
              "  </script>\n",
              "</div>\n",
              "    </div>\n",
              "  </div>\n"
            ]
          },
          "metadata": {},
          "execution_count": 8
        }
      ]
    },
    {
      "cell_type": "markdown",
      "source": [
        "Fazer o cast das colunas para suas tipagens corretas"
      ],
      "metadata": {
        "id": "Noxui7CgEMPE"
      }
    },
    {
      "cell_type": "code",
      "source": [
        "# analisando os tipos de dados do dataset\n",
        "df.info()"
      ],
      "metadata": {
        "colab": {
          "base_uri": "https://localhost:8080/"
        },
        "id": "NTrt9Y4_D5we",
        "outputId": "43a03b36-3d0c-46c4-9adb-dd81d903f820"
      },
      "execution_count": 9,
      "outputs": [
        {
          "output_type": "stream",
          "name": "stdout",
          "text": [
            "<class 'pandas.core.frame.DataFrame'>\n",
            "RangeIndex: 2 entries, 0 to 1\n",
            "Data columns (total 6 columns):\n",
            " #   Column           Non-Null Count  Dtype \n",
            "---  ------           --------------  ----- \n",
            " 0   nome             2 non-null      object\n",
            " 1   idade            2 non-null      object\n",
            " 2   telefones        2 non-null      object\n",
            " 3   endereco.rua     2 non-null      object\n",
            " 4   endereco.numero  2 non-null      int64 \n",
            " 5   endereco.cidade  2 non-null      object\n",
            "dtypes: int64(1), object(5)\n",
            "memory usage: 224.0+ bytes\n"
          ]
        }
      ]
    },
    {
      "cell_type": "code",
      "source": [
        "# fazer o cast da coluna idade para inteiro\n",
        "df['idade'] = df['idade'].astype(int)\n",
        "df.info()"
      ],
      "metadata": {
        "colab": {
          "base_uri": "https://localhost:8080/"
        },
        "id": "vgBoWptJETEM",
        "outputId": "45ebc311-6ce5-47c5-8691-c4c875ed3e95"
      },
      "execution_count": 10,
      "outputs": [
        {
          "output_type": "stream",
          "name": "stdout",
          "text": [
            "<class 'pandas.core.frame.DataFrame'>\n",
            "RangeIndex: 2 entries, 0 to 1\n",
            "Data columns (total 6 columns):\n",
            " #   Column           Non-Null Count  Dtype \n",
            "---  ------           --------------  ----- \n",
            " 0   nome             2 non-null      object\n",
            " 1   idade            2 non-null      int64 \n",
            " 2   telefones        2 non-null      object\n",
            " 3   endereco.rua     2 non-null      object\n",
            " 4   endereco.numero  2 non-null      int64 \n",
            " 5   endereco.cidade  2 non-null      object\n",
            "dtypes: int64(2), object(4)\n",
            "memory usage: 224.0+ bytes\n"
          ]
        }
      ]
    },
    {
      "cell_type": "markdown",
      "source": [
        "Realize o filtro e remoção dos dados com valores vazios"
      ],
      "metadata": {
        "id": "TQWzTgMCEf8m"
      }
    },
    {
      "cell_type": "code",
      "source": [
        "#filtro para as amostras que possuem um valor diferente de vazio na coluna endereco.rua\n",
        "# salvando em outro dataframe\n",
        "df_filtrado = df.query('`endereco.rua` != \"\"')"
      ],
      "metadata": {
        "id": "SAKrTgYQEhds"
      },
      "execution_count": 11,
      "outputs": []
    },
    {
      "cell_type": "code",
      "source": [
        "# outra forma e filtrar\n",
        "df_filtrado = df[df['endereco.rua'] != \"\"]\n",
        "df_filtrado"
      ],
      "metadata": {
        "colab": {
          "base_uri": "https://localhost:8080/",
          "height": 81
        },
        "id": "9XXAo-v2Evlm",
        "outputId": "66ff47f4-1d64-4da7-f53d-236452fed209"
      },
      "execution_count": 12,
      "outputs": [
        {
          "output_type": "execute_result",
          "data": {
            "text/plain": [
              "   nome  idade                     telefones endereco.rua  endereco.numero  \\\n",
              "0  João     25  [11 1111-1111, 11 2222-2222]        Rua A              123   \n",
              "\n",
              "  endereco.cidade  \n",
              "0       São Paulo  "
            ],
            "text/html": [
              "\n",
              "  <div id=\"df-37b57057-7c95-4b2c-ab3f-3003701eab95\" class=\"colab-df-container\">\n",
              "    <div>\n",
              "<style scoped>\n",
              "    .dataframe tbody tr th:only-of-type {\n",
              "        vertical-align: middle;\n",
              "    }\n",
              "\n",
              "    .dataframe tbody tr th {\n",
              "        vertical-align: top;\n",
              "    }\n",
              "\n",
              "    .dataframe thead th {\n",
              "        text-align: right;\n",
              "    }\n",
              "</style>\n",
              "<table border=\"1\" class=\"dataframe\">\n",
              "  <thead>\n",
              "    <tr style=\"text-align: right;\">\n",
              "      <th></th>\n",
              "      <th>nome</th>\n",
              "      <th>idade</th>\n",
              "      <th>telefones</th>\n",
              "      <th>endereco.rua</th>\n",
              "      <th>endereco.numero</th>\n",
              "      <th>endereco.cidade</th>\n",
              "    </tr>\n",
              "  </thead>\n",
              "  <tbody>\n",
              "    <tr>\n",
              "      <th>0</th>\n",
              "      <td>João</td>\n",
              "      <td>25</td>\n",
              "      <td>[11 1111-1111, 11 2222-2222]</td>\n",
              "      <td>Rua A</td>\n",
              "      <td>123</td>\n",
              "      <td>São Paulo</td>\n",
              "    </tr>\n",
              "  </tbody>\n",
              "</table>\n",
              "</div>\n",
              "    <div class=\"colab-df-buttons\">\n",
              "\n",
              "  <div class=\"colab-df-container\">\n",
              "    <button class=\"colab-df-convert\" onclick=\"convertToInteractive('df-37b57057-7c95-4b2c-ab3f-3003701eab95')\"\n",
              "            title=\"Convert this dataframe to an interactive table.\"\n",
              "            style=\"display:none;\">\n",
              "\n",
              "  <svg xmlns=\"http://www.w3.org/2000/svg\" height=\"24px\" viewBox=\"0 -960 960 960\">\n",
              "    <path d=\"M120-120v-720h720v720H120Zm60-500h600v-160H180v160Zm220 220h160v-160H400v160Zm0 220h160v-160H400v160ZM180-400h160v-160H180v160Zm440 0h160v-160H620v160ZM180-180h160v-160H180v160Zm440 0h160v-160H620v160Z\"/>\n",
              "  </svg>\n",
              "    </button>\n",
              "\n",
              "  <style>\n",
              "    .colab-df-container {\n",
              "      display:flex;\n",
              "      gap: 12px;\n",
              "    }\n",
              "\n",
              "    .colab-df-convert {\n",
              "      background-color: #E8F0FE;\n",
              "      border: none;\n",
              "      border-radius: 50%;\n",
              "      cursor: pointer;\n",
              "      display: none;\n",
              "      fill: #1967D2;\n",
              "      height: 32px;\n",
              "      padding: 0 0 0 0;\n",
              "      width: 32px;\n",
              "    }\n",
              "\n",
              "    .colab-df-convert:hover {\n",
              "      background-color: #E2EBFA;\n",
              "      box-shadow: 0px 1px 2px rgba(60, 64, 67, 0.3), 0px 1px 3px 1px rgba(60, 64, 67, 0.15);\n",
              "      fill: #174EA6;\n",
              "    }\n",
              "\n",
              "    .colab-df-buttons div {\n",
              "      margin-bottom: 4px;\n",
              "    }\n",
              "\n",
              "    [theme=dark] .colab-df-convert {\n",
              "      background-color: #3B4455;\n",
              "      fill: #D2E3FC;\n",
              "    }\n",
              "\n",
              "    [theme=dark] .colab-df-convert:hover {\n",
              "      background-color: #434B5C;\n",
              "      box-shadow: 0px 1px 3px 1px rgba(0, 0, 0, 0.15);\n",
              "      filter: drop-shadow(0px 1px 2px rgba(0, 0, 0, 0.3));\n",
              "      fill: #FFFFFF;\n",
              "    }\n",
              "  </style>\n",
              "\n",
              "    <script>\n",
              "      const buttonEl =\n",
              "        document.querySelector('#df-37b57057-7c95-4b2c-ab3f-3003701eab95 button.colab-df-convert');\n",
              "      buttonEl.style.display =\n",
              "        google.colab.kernel.accessAllowed ? 'block' : 'none';\n",
              "\n",
              "      async function convertToInteractive(key) {\n",
              "        const element = document.querySelector('#df-37b57057-7c95-4b2c-ab3f-3003701eab95');\n",
              "        const dataTable =\n",
              "          await google.colab.kernel.invokeFunction('convertToInteractive',\n",
              "                                                    [key], {});\n",
              "        if (!dataTable) return;\n",
              "\n",
              "        const docLinkHtml = 'Like what you see? Visit the ' +\n",
              "          '<a target=\"_blank\" href=https://colab.research.google.com/notebooks/data_table.ipynb>data table notebook</a>'\n",
              "          + ' to learn more about interactive tables.';\n",
              "        element.innerHTML = '';\n",
              "        dataTable['output_type'] = 'display_data';\n",
              "        await google.colab.output.renderOutput(dataTable, element);\n",
              "        const docLink = document.createElement('div');\n",
              "        docLink.innerHTML = docLinkHtml;\n",
              "        element.appendChild(docLink);\n",
              "      }\n",
              "    </script>\n",
              "  </div>\n",
              "\n",
              "    </div>\n",
              "  </div>\n"
            ]
          },
          "metadata": {},
          "execution_count": 12
        }
      ]
    },
    {
      "cell_type": "markdown",
      "source": [
        "# Aula 03"
      ],
      "metadata": {
        "id": "cgcJJ6g2E4pr"
      }
    },
    {
      "cell_type": "markdown",
      "source": [
        "Para facilitar a análise dos dados de cadastro de cursos de uma plataforma, você recebeu um arquivo chamado cursos_cadastrados.json. Você foi informado que esses dados podem apresentar problemas que podem prejudicar a análise e interpretação correta dos dados.\n",
        "\n",
        "Para resolver isso, foi solicitado que você identifique e remova as amostras que apresentam os seguintes problemas:\n",
        "\n",
        "* Valores nulos: são valores ausentes em algumas das colunas que devem ser preenchidos para que a análise seja correta.\n",
        "* Duplicatas: registros iguais que podem prejudicar a análise dos dados, já que estão representando a mesma informação.\n",
        "* Strings vazias: valores de texto que não apresentam nenhum conteúdo escrito, o que pode dificultar a análise de dados, principalmente se a coluna tiver muitos valores assim.\n",
        "* Conversão de tipos: algumas colunas do arquivo podem estar no tipo de dados errado, como texto em vez de número, o que pode prejudicar a análise. Nesse caso você deve realizar a conversão para o tipo correto de cada coluna.\n",
        "\n",
        "Dentro desse contexto, você precisará de uma abordagem sistemática para limpar os dados. Assim, como isso pode ser feito?"
      ],
      "metadata": {
        "id": "HGQVMSY9KRQ1"
      }
    },
    {
      "cell_type": "code",
      "source": [
        "# Importando as bibliotecas necessárias\n",
        "import pandas as pd\n",
        "import json\n",
        "\n",
        "# carrega o conjunto de dados\n",
        "data = pd.read_json('/content/cursos_cadastrados.json')\n",
        "with open('cursos_cadastrados.json', 'r') as f:\n",
        "    data = json.load(f)\n",
        "\n",
        "# normaliza o json\n",
        "df = pd.json_normalize(data)\n",
        "\n",
        "# exibe o DataFrame resultante\n",
        "print(df)\n"
      ],
      "metadata": {
        "colab": {
          "base_uri": "https://localhost:8080/"
        },
        "id": "ShQXiY9jKj01",
        "outputId": "8ddd526c-4506-41fd-9078-49f1fb7738e2"
      },
      "execution_count": 13,
      "outputs": [
        {
          "output_type": "stream",
          "name": "stdout",
          "text": [
            "                             curso      categoria carga_horaria concluintes  \\\n",
            "0         Introdução à programação    Programação      20 horas         100   \n",
            "1            Excel para iniciantes  Produtividade          None        None   \n",
            "2  Marketing digital para negócios      Marketing      30 horas          75   \n",
            "3          Inteligência artificial    Programação      40 horas               \n",
            "4             Inglês para negócios        Idiomas      20 horas          30   \n",
            "5         Introdução à programação    Programação      20 horas         100   \n",
            "\n",
            "  data_inicio data_conclusao  \\\n",
            "0  2022-01-01     2022-01-20   \n",
            "1        None           None   \n",
            "2  2022-03-01     2022-03-31   \n",
            "3  2022-04-01                  \n",
            "4                              \n",
            "5  2022-01-01     2022-01-20   \n",
            "\n",
            "                                           descricao  preco  instrutor.nome  \\\n",
            "0        Curso introdutório à programação com Python  99.90      João Silva   \n",
            "1                                               None   None  Maria Oliveira   \n",
            "2                    Curso introdutório em marketing   89.9      Ana Santos   \n",
            "3  Curso avançado sobre inteligência artificial c...  129.9                   \n",
            "4                      Curso de inglês para negócios   69.9      John Smith   \n",
            "5        Curso introdutório à programação com Python  99.90      João Silva   \n",
            "\n",
            "                     instrutor.email instrutor.telefone  \n",
            "0      joao.silva@emailaleatorio.com     (11) 9999-9999  \n",
            "1  maria.oliveira@emailaleatorio.com     (11) 8888-8888  \n",
            "2      ana.santos@emailaleatorio.com     (11) 7777-7777  \n",
            "3         contato@emailaleatorio.com                     \n",
            "4                                                        \n",
            "5      joao.silva@emailaleatorio.com     (11) 9999-9999  \n"
          ]
        }
      ]
    },
    {
      "cell_type": "markdown",
      "source": [
        "Esse código em Python é responsável por carregar um arquivo JSON contendo dados sobre cursos cadastrados e exibi-los em um DataFrame, utilizando a biblioteca Pandas.\n",
        "\n",
        "A primeira etapa é importar as bibliotecas necessárias para o código: pandas e json. Em seguida, o arquivo JSON é carregado usando a função json.load(). O arquivo em questão é denominado 'cursos_cadastrados.json' e é aberto no modo de leitura (r) para que possa ser lido.\n",
        "\n",
        "Depois que o arquivo JSON é carregado, a função pd.json_normalize() é utilizada para transformar o JSON em um DataFrame do Pandas. Isso permite que os dados sejam manipulados e analisados de forma mais fácil e eficiente. Por fim, o DataFrame resultante é exibido com o comando print(df)."
      ],
      "metadata": {
        "id": "sBev-e9RK4X0"
      }
    },
    {
      "cell_type": "markdown",
      "source": [
        "Identificar e remover amostras com valores nulos"
      ],
      "metadata": {
        "id": "pKrX_J7fK85i"
      }
    },
    {
      "cell_type": "code",
      "source": [
        "#  verificar se há dados nulos no conjunto de dados utilizando o código a seguir\n",
        "df.isnull().sum().sum()\n"
      ],
      "metadata": {
        "colab": {
          "base_uri": "https://localhost:8080/"
        },
        "id": "A5aN-KWXK6Rk",
        "outputId": "3aa8c003-a812-4bef-c53f-9187d3128a32"
      },
      "execution_count": 14,
      "outputs": [
        {
          "output_type": "execute_result",
          "data": {
            "text/plain": [
              "6"
            ]
          },
          "metadata": {},
          "execution_count": 14
        }
      ]
    },
    {
      "cell_type": "code",
      "source": [
        "df[df.isna().any(axis=1)]\n"
      ],
      "metadata": {
        "colab": {
          "base_uri": "https://localhost:8080/",
          "height": 135
        },
        "id": "KJkQOtAGLFCD",
        "outputId": "5faa7718-dc5c-4dbb-cad3-da7590efaebe"
      },
      "execution_count": 15,
      "outputs": [
        {
          "output_type": "execute_result",
          "data": {
            "text/plain": [
              "                   curso      categoria carga_horaria concluintes data_inicio  \\\n",
              "1  Excel para iniciantes  Produtividade          None        None        None   \n",
              "\n",
              "  data_conclusao descricao preco  instrutor.nome  \\\n",
              "1           None      None  None  Maria Oliveira   \n",
              "\n",
              "                     instrutor.email instrutor.telefone  \n",
              "1  maria.oliveira@emailaleatorio.com     (11) 8888-8888  "
            ],
            "text/html": [
              "\n",
              "  <div id=\"df-c224edbe-00ec-4c33-b970-6434aaf10a7d\" class=\"colab-df-container\">\n",
              "    <div>\n",
              "<style scoped>\n",
              "    .dataframe tbody tr th:only-of-type {\n",
              "        vertical-align: middle;\n",
              "    }\n",
              "\n",
              "    .dataframe tbody tr th {\n",
              "        vertical-align: top;\n",
              "    }\n",
              "\n",
              "    .dataframe thead th {\n",
              "        text-align: right;\n",
              "    }\n",
              "</style>\n",
              "<table border=\"1\" class=\"dataframe\">\n",
              "  <thead>\n",
              "    <tr style=\"text-align: right;\">\n",
              "      <th></th>\n",
              "      <th>curso</th>\n",
              "      <th>categoria</th>\n",
              "      <th>carga_horaria</th>\n",
              "      <th>concluintes</th>\n",
              "      <th>data_inicio</th>\n",
              "      <th>data_conclusao</th>\n",
              "      <th>descricao</th>\n",
              "      <th>preco</th>\n",
              "      <th>instrutor.nome</th>\n",
              "      <th>instrutor.email</th>\n",
              "      <th>instrutor.telefone</th>\n",
              "    </tr>\n",
              "  </thead>\n",
              "  <tbody>\n",
              "    <tr>\n",
              "      <th>1</th>\n",
              "      <td>Excel para iniciantes</td>\n",
              "      <td>Produtividade</td>\n",
              "      <td>None</td>\n",
              "      <td>None</td>\n",
              "      <td>None</td>\n",
              "      <td>None</td>\n",
              "      <td>None</td>\n",
              "      <td>None</td>\n",
              "      <td>Maria Oliveira</td>\n",
              "      <td>maria.oliveira@emailaleatorio.com</td>\n",
              "      <td>(11) 8888-8888</td>\n",
              "    </tr>\n",
              "  </tbody>\n",
              "</table>\n",
              "</div>\n",
              "    <div class=\"colab-df-buttons\">\n",
              "\n",
              "  <div class=\"colab-df-container\">\n",
              "    <button class=\"colab-df-convert\" onclick=\"convertToInteractive('df-c224edbe-00ec-4c33-b970-6434aaf10a7d')\"\n",
              "            title=\"Convert this dataframe to an interactive table.\"\n",
              "            style=\"display:none;\">\n",
              "\n",
              "  <svg xmlns=\"http://www.w3.org/2000/svg\" height=\"24px\" viewBox=\"0 -960 960 960\">\n",
              "    <path d=\"M120-120v-720h720v720H120Zm60-500h600v-160H180v160Zm220 220h160v-160H400v160Zm0 220h160v-160H400v160ZM180-400h160v-160H180v160Zm440 0h160v-160H620v160ZM180-180h160v-160H180v160Zm440 0h160v-160H620v160Z\"/>\n",
              "  </svg>\n",
              "    </button>\n",
              "\n",
              "  <style>\n",
              "    .colab-df-container {\n",
              "      display:flex;\n",
              "      gap: 12px;\n",
              "    }\n",
              "\n",
              "    .colab-df-convert {\n",
              "      background-color: #E8F0FE;\n",
              "      border: none;\n",
              "      border-radius: 50%;\n",
              "      cursor: pointer;\n",
              "      display: none;\n",
              "      fill: #1967D2;\n",
              "      height: 32px;\n",
              "      padding: 0 0 0 0;\n",
              "      width: 32px;\n",
              "    }\n",
              "\n",
              "    .colab-df-convert:hover {\n",
              "      background-color: #E2EBFA;\n",
              "      box-shadow: 0px 1px 2px rgba(60, 64, 67, 0.3), 0px 1px 3px 1px rgba(60, 64, 67, 0.15);\n",
              "      fill: #174EA6;\n",
              "    }\n",
              "\n",
              "    .colab-df-buttons div {\n",
              "      margin-bottom: 4px;\n",
              "    }\n",
              "\n",
              "    [theme=dark] .colab-df-convert {\n",
              "      background-color: #3B4455;\n",
              "      fill: #D2E3FC;\n",
              "    }\n",
              "\n",
              "    [theme=dark] .colab-df-convert:hover {\n",
              "      background-color: #434B5C;\n",
              "      box-shadow: 0px 1px 3px 1px rgba(0, 0, 0, 0.15);\n",
              "      filter: drop-shadow(0px 1px 2px rgba(0, 0, 0, 0.3));\n",
              "      fill: #FFFFFF;\n",
              "    }\n",
              "  </style>\n",
              "\n",
              "    <script>\n",
              "      const buttonEl =\n",
              "        document.querySelector('#df-c224edbe-00ec-4c33-b970-6434aaf10a7d button.colab-df-convert');\n",
              "      buttonEl.style.display =\n",
              "        google.colab.kernel.accessAllowed ? 'block' : 'none';\n",
              "\n",
              "      async function convertToInteractive(key) {\n",
              "        const element = document.querySelector('#df-c224edbe-00ec-4c33-b970-6434aaf10a7d');\n",
              "        const dataTable =\n",
              "          await google.colab.kernel.invokeFunction('convertToInteractive',\n",
              "                                                    [key], {});\n",
              "        if (!dataTable) return;\n",
              "\n",
              "        const docLinkHtml = 'Like what you see? Visit the ' +\n",
              "          '<a target=\"_blank\" href=https://colab.research.google.com/notebooks/data_table.ipynb>data table notebook</a>'\n",
              "          + ' to learn more about interactive tables.';\n",
              "        element.innerHTML = '';\n",
              "        dataTable['output_type'] = 'display_data';\n",
              "        await google.colab.output.renderOutput(dataTable, element);\n",
              "        const docLink = document.createElement('div');\n",
              "        docLink.innerHTML = docLinkHtml;\n",
              "        element.appendChild(docLink);\n",
              "      }\n",
              "    </script>\n",
              "  </div>\n",
              "\n",
              "    </div>\n",
              "  </div>\n"
            ]
          },
          "metadata": {},
          "execution_count": 15
        }
      ]
    },
    {
      "cell_type": "markdown",
      "source": [
        "O código df[df.isna().any(axis=1)] é utilizado para retornar um subconjunto do DataFrame df, contendo apenas as linhas que possuem pelo menos um valor ausente (NaN - Not a Number).\n",
        "\n",
        "Para entender o código, vamos dividi-lo em partes:\n",
        "\n",
        "* df.isna() retorna um DataFrame com a mesma forma que df, contendo valores booleanos indicando quais elementos do DataFrame df são valores ausentes (NaN).\n",
        "* df.isna().any(axis=1) retorna uma série booleana que indica se cada linha do DataFrame df contém pelo menos um valor ausente. O parâmetro axis=1 indica que a verificação deve ser feita por linha.\n",
        "* df[df.isna().any(axis=1)] utiliza a série booleana retornada na etapa anterior como índice para o DataFrame df, retornando apenas as linhas que possuem pelo menos um valor ausente.\n",
        "\n",
        "Agora vamos realizar a remoção dessa amostra com o código:"
      ],
      "metadata": {
        "id": "-6hI8v4HLDSj"
      }
    },
    {
      "cell_type": "code",
      "source": [
        "df.dropna(inplace=True)"
      ],
      "metadata": {
        "id": "VUY_DEZBLNBE"
      },
      "execution_count": 16,
      "outputs": []
    },
    {
      "cell_type": "markdown",
      "source": [
        "O trecho de código df.dropna(inplace=True) é utilizado para remover todas as linhas do DataFrame df que contenham valores ausentes (NaN - Not a Number). O parâmetro inplace=True é utilizado para indicar que a alteração deve ser feita diretamente no objeto DataFrame df sem criar uma cópia do DataFrame com as linhas removidas.\n",
        "\n",
        "Identificar e remover amostras com valores duplicados"
      ],
      "metadata": {
        "id": "Yrvpd6CTLOpi"
      }
    },
    {
      "cell_type": "code",
      "source": [
        "df.duplicated()"
      ],
      "metadata": {
        "colab": {
          "base_uri": "https://localhost:8080/"
        },
        "id": "TSOaM00nLRKz",
        "outputId": "ebf3ed76-8e13-4a1b-fc1c-33ad903313a1"
      },
      "execution_count": 17,
      "outputs": [
        {
          "output_type": "execute_result",
          "data": {
            "text/plain": [
              "0    False\n",
              "2    False\n",
              "3    False\n",
              "4    False\n",
              "5     True\n",
              "dtype: bool"
            ]
          },
          "metadata": {},
          "execution_count": 17
        }
      ]
    },
    {
      "cell_type": "code",
      "source": [
        "# remover a amostra duplicada\n",
        "df.drop_duplicates(inplace=True)"
      ],
      "metadata": {
        "id": "1iWCGKyALUAi"
      },
      "execution_count": 18,
      "outputs": []
    },
    {
      "cell_type": "markdown",
      "source": [
        "O código df.drop_duplicates(inplace=True) é utilizado para remover as linhas duplicadas do DataFrame df. O parâmetro inplace=True é utilizado para indicar que a alteração deve ser feita diretamente no objeto DataFrame df sem criar uma cópia do DataFrame com as linhas duplicadas removidas. Já o método drop_duplicates() remove as linhas que têm exatamente os mesmos valores em todas as colunas, mantendo apenas a primeira ocorrência e descartando as duplicatas subsequentes.\n",
        "\n",
        "Remover as amostras com strings vazias\n",
        "Vamos verificar onde tem amostras com strings vazias. Para isso, observamos duas colunas, começando pela coluna \"instrutor.nome\":"
      ],
      "metadata": {
        "id": "_e90qXnhLZDa"
      }
    },
    {
      "cell_type": "code",
      "source": [
        "df[df['instrutor.nome'] == \"\"]"
      ],
      "metadata": {
        "colab": {
          "base_uri": "https://localhost:8080/",
          "height": 170
        },
        "id": "k1MP5ytaLYQM",
        "outputId": "a683d860-f6e7-470e-a020-34cc9aa0eef2"
      },
      "execution_count": 19,
      "outputs": [
        {
          "output_type": "execute_result",
          "data": {
            "text/plain": [
              "                     curso    categoria carga_horaria concluintes data_inicio  \\\n",
              "3  Inteligência artificial  Programação      40 horas              2022-04-01   \n",
              "\n",
              "  data_conclusao                                          descricao  preco  \\\n",
              "3                 Curso avançado sobre inteligência artificial c...  129.9   \n",
              "\n",
              "  instrutor.nome             instrutor.email instrutor.telefone  \n",
              "3                 contato@emailaleatorio.com                     "
            ],
            "text/html": [
              "\n",
              "  <div id=\"df-044cc7fa-9cdd-41ab-bb24-b2e3219c670f\" class=\"colab-df-container\">\n",
              "    <div>\n",
              "<style scoped>\n",
              "    .dataframe tbody tr th:only-of-type {\n",
              "        vertical-align: middle;\n",
              "    }\n",
              "\n",
              "    .dataframe tbody tr th {\n",
              "        vertical-align: top;\n",
              "    }\n",
              "\n",
              "    .dataframe thead th {\n",
              "        text-align: right;\n",
              "    }\n",
              "</style>\n",
              "<table border=\"1\" class=\"dataframe\">\n",
              "  <thead>\n",
              "    <tr style=\"text-align: right;\">\n",
              "      <th></th>\n",
              "      <th>curso</th>\n",
              "      <th>categoria</th>\n",
              "      <th>carga_horaria</th>\n",
              "      <th>concluintes</th>\n",
              "      <th>data_inicio</th>\n",
              "      <th>data_conclusao</th>\n",
              "      <th>descricao</th>\n",
              "      <th>preco</th>\n",
              "      <th>instrutor.nome</th>\n",
              "      <th>instrutor.email</th>\n",
              "      <th>instrutor.telefone</th>\n",
              "    </tr>\n",
              "  </thead>\n",
              "  <tbody>\n",
              "    <tr>\n",
              "      <th>3</th>\n",
              "      <td>Inteligência artificial</td>\n",
              "      <td>Programação</td>\n",
              "      <td>40 horas</td>\n",
              "      <td></td>\n",
              "      <td>2022-04-01</td>\n",
              "      <td></td>\n",
              "      <td>Curso avançado sobre inteligência artificial c...</td>\n",
              "      <td>129.9</td>\n",
              "      <td></td>\n",
              "      <td>contato@emailaleatorio.com</td>\n",
              "      <td></td>\n",
              "    </tr>\n",
              "  </tbody>\n",
              "</table>\n",
              "</div>\n",
              "    <div class=\"colab-df-buttons\">\n",
              "\n",
              "  <div class=\"colab-df-container\">\n",
              "    <button class=\"colab-df-convert\" onclick=\"convertToInteractive('df-044cc7fa-9cdd-41ab-bb24-b2e3219c670f')\"\n",
              "            title=\"Convert this dataframe to an interactive table.\"\n",
              "            style=\"display:none;\">\n",
              "\n",
              "  <svg xmlns=\"http://www.w3.org/2000/svg\" height=\"24px\" viewBox=\"0 -960 960 960\">\n",
              "    <path d=\"M120-120v-720h720v720H120Zm60-500h600v-160H180v160Zm220 220h160v-160H400v160Zm0 220h160v-160H400v160ZM180-400h160v-160H180v160Zm440 0h160v-160H620v160ZM180-180h160v-160H180v160Zm440 0h160v-160H620v160Z\"/>\n",
              "  </svg>\n",
              "    </button>\n",
              "\n",
              "  <style>\n",
              "    .colab-df-container {\n",
              "      display:flex;\n",
              "      gap: 12px;\n",
              "    }\n",
              "\n",
              "    .colab-df-convert {\n",
              "      background-color: #E8F0FE;\n",
              "      border: none;\n",
              "      border-radius: 50%;\n",
              "      cursor: pointer;\n",
              "      display: none;\n",
              "      fill: #1967D2;\n",
              "      height: 32px;\n",
              "      padding: 0 0 0 0;\n",
              "      width: 32px;\n",
              "    }\n",
              "\n",
              "    .colab-df-convert:hover {\n",
              "      background-color: #E2EBFA;\n",
              "      box-shadow: 0px 1px 2px rgba(60, 64, 67, 0.3), 0px 1px 3px 1px rgba(60, 64, 67, 0.15);\n",
              "      fill: #174EA6;\n",
              "    }\n",
              "\n",
              "    .colab-df-buttons div {\n",
              "      margin-bottom: 4px;\n",
              "    }\n",
              "\n",
              "    [theme=dark] .colab-df-convert {\n",
              "      background-color: #3B4455;\n",
              "      fill: #D2E3FC;\n",
              "    }\n",
              "\n",
              "    [theme=dark] .colab-df-convert:hover {\n",
              "      background-color: #434B5C;\n",
              "      box-shadow: 0px 1px 3px 1px rgba(0, 0, 0, 0.15);\n",
              "      filter: drop-shadow(0px 1px 2px rgba(0, 0, 0, 0.3));\n",
              "      fill: #FFFFFF;\n",
              "    }\n",
              "  </style>\n",
              "\n",
              "    <script>\n",
              "      const buttonEl =\n",
              "        document.querySelector('#df-044cc7fa-9cdd-41ab-bb24-b2e3219c670f button.colab-df-convert');\n",
              "      buttonEl.style.display =\n",
              "        google.colab.kernel.accessAllowed ? 'block' : 'none';\n",
              "\n",
              "      async function convertToInteractive(key) {\n",
              "        const element = document.querySelector('#df-044cc7fa-9cdd-41ab-bb24-b2e3219c670f');\n",
              "        const dataTable =\n",
              "          await google.colab.kernel.invokeFunction('convertToInteractive',\n",
              "                                                    [key], {});\n",
              "        if (!dataTable) return;\n",
              "\n",
              "        const docLinkHtml = 'Like what you see? Visit the ' +\n",
              "          '<a target=\"_blank\" href=https://colab.research.google.com/notebooks/data_table.ipynb>data table notebook</a>'\n",
              "          + ' to learn more about interactive tables.';\n",
              "        element.innerHTML = '';\n",
              "        dataTable['output_type'] = 'display_data';\n",
              "        await google.colab.output.renderOutput(dataTable, element);\n",
              "        const docLink = document.createElement('div');\n",
              "        docLink.innerHTML = docLinkHtml;\n",
              "        element.appendChild(docLink);\n",
              "      }\n",
              "    </script>\n",
              "  </div>\n",
              "\n",
              "    </div>\n",
              "  </div>\n"
            ]
          },
          "metadata": {},
          "execution_count": 19
        }
      ]
    },
    {
      "cell_type": "code",
      "source": [
        "# coluna data conclusão\n",
        "df[df['data_conclusao'] == \"\"]"
      ],
      "metadata": {
        "colab": {
          "base_uri": "https://localhost:8080/",
          "height": 236
        },
        "id": "mTUAMXEYLcqd",
        "outputId": "601708aa-417e-4adc-845e-27999e73d76f"
      },
      "execution_count": 20,
      "outputs": [
        {
          "output_type": "execute_result",
          "data": {
            "text/plain": [
              "                     curso    categoria carga_horaria concluintes data_inicio  \\\n",
              "3  Inteligência artificial  Programação      40 horas              2022-04-01   \n",
              "4     Inglês para negócios      Idiomas      20 horas          30               \n",
              "\n",
              "  data_conclusao                                          descricao  preco  \\\n",
              "3                 Curso avançado sobre inteligência artificial c...  129.9   \n",
              "4                                     Curso de inglês para negócios   69.9   \n",
              "\n",
              "  instrutor.nome             instrutor.email instrutor.telefone  \n",
              "3                 contato@emailaleatorio.com                     \n",
              "4     John Smith                                                 "
            ],
            "text/html": [
              "\n",
              "  <div id=\"df-07b25964-88ee-451f-8b9b-81608f87d1a4\" class=\"colab-df-container\">\n",
              "    <div>\n",
              "<style scoped>\n",
              "    .dataframe tbody tr th:only-of-type {\n",
              "        vertical-align: middle;\n",
              "    }\n",
              "\n",
              "    .dataframe tbody tr th {\n",
              "        vertical-align: top;\n",
              "    }\n",
              "\n",
              "    .dataframe thead th {\n",
              "        text-align: right;\n",
              "    }\n",
              "</style>\n",
              "<table border=\"1\" class=\"dataframe\">\n",
              "  <thead>\n",
              "    <tr style=\"text-align: right;\">\n",
              "      <th></th>\n",
              "      <th>curso</th>\n",
              "      <th>categoria</th>\n",
              "      <th>carga_horaria</th>\n",
              "      <th>concluintes</th>\n",
              "      <th>data_inicio</th>\n",
              "      <th>data_conclusao</th>\n",
              "      <th>descricao</th>\n",
              "      <th>preco</th>\n",
              "      <th>instrutor.nome</th>\n",
              "      <th>instrutor.email</th>\n",
              "      <th>instrutor.telefone</th>\n",
              "    </tr>\n",
              "  </thead>\n",
              "  <tbody>\n",
              "    <tr>\n",
              "      <th>3</th>\n",
              "      <td>Inteligência artificial</td>\n",
              "      <td>Programação</td>\n",
              "      <td>40 horas</td>\n",
              "      <td></td>\n",
              "      <td>2022-04-01</td>\n",
              "      <td></td>\n",
              "      <td>Curso avançado sobre inteligência artificial c...</td>\n",
              "      <td>129.9</td>\n",
              "      <td></td>\n",
              "      <td>contato@emailaleatorio.com</td>\n",
              "      <td></td>\n",
              "    </tr>\n",
              "    <tr>\n",
              "      <th>4</th>\n",
              "      <td>Inglês para negócios</td>\n",
              "      <td>Idiomas</td>\n",
              "      <td>20 horas</td>\n",
              "      <td>30</td>\n",
              "      <td></td>\n",
              "      <td></td>\n",
              "      <td>Curso de inglês para negócios</td>\n",
              "      <td>69.9</td>\n",
              "      <td>John Smith</td>\n",
              "      <td></td>\n",
              "      <td></td>\n",
              "    </tr>\n",
              "  </tbody>\n",
              "</table>\n",
              "</div>\n",
              "    <div class=\"colab-df-buttons\">\n",
              "\n",
              "  <div class=\"colab-df-container\">\n",
              "    <button class=\"colab-df-convert\" onclick=\"convertToInteractive('df-07b25964-88ee-451f-8b9b-81608f87d1a4')\"\n",
              "            title=\"Convert this dataframe to an interactive table.\"\n",
              "            style=\"display:none;\">\n",
              "\n",
              "  <svg xmlns=\"http://www.w3.org/2000/svg\" height=\"24px\" viewBox=\"0 -960 960 960\">\n",
              "    <path d=\"M120-120v-720h720v720H120Zm60-500h600v-160H180v160Zm220 220h160v-160H400v160Zm0 220h160v-160H400v160ZM180-400h160v-160H180v160Zm440 0h160v-160H620v160ZM180-180h160v-160H180v160Zm440 0h160v-160H620v160Z\"/>\n",
              "  </svg>\n",
              "    </button>\n",
              "\n",
              "  <style>\n",
              "    .colab-df-container {\n",
              "      display:flex;\n",
              "      gap: 12px;\n",
              "    }\n",
              "\n",
              "    .colab-df-convert {\n",
              "      background-color: #E8F0FE;\n",
              "      border: none;\n",
              "      border-radius: 50%;\n",
              "      cursor: pointer;\n",
              "      display: none;\n",
              "      fill: #1967D2;\n",
              "      height: 32px;\n",
              "      padding: 0 0 0 0;\n",
              "      width: 32px;\n",
              "    }\n",
              "\n",
              "    .colab-df-convert:hover {\n",
              "      background-color: #E2EBFA;\n",
              "      box-shadow: 0px 1px 2px rgba(60, 64, 67, 0.3), 0px 1px 3px 1px rgba(60, 64, 67, 0.15);\n",
              "      fill: #174EA6;\n",
              "    }\n",
              "\n",
              "    .colab-df-buttons div {\n",
              "      margin-bottom: 4px;\n",
              "    }\n",
              "\n",
              "    [theme=dark] .colab-df-convert {\n",
              "      background-color: #3B4455;\n",
              "      fill: #D2E3FC;\n",
              "    }\n",
              "\n",
              "    [theme=dark] .colab-df-convert:hover {\n",
              "      background-color: #434B5C;\n",
              "      box-shadow: 0px 1px 3px 1px rgba(0, 0, 0, 0.15);\n",
              "      filter: drop-shadow(0px 1px 2px rgba(0, 0, 0, 0.3));\n",
              "      fill: #FFFFFF;\n",
              "    }\n",
              "  </style>\n",
              "\n",
              "    <script>\n",
              "      const buttonEl =\n",
              "        document.querySelector('#df-07b25964-88ee-451f-8b9b-81608f87d1a4 button.colab-df-convert');\n",
              "      buttonEl.style.display =\n",
              "        google.colab.kernel.accessAllowed ? 'block' : 'none';\n",
              "\n",
              "      async function convertToInteractive(key) {\n",
              "        const element = document.querySelector('#df-07b25964-88ee-451f-8b9b-81608f87d1a4');\n",
              "        const dataTable =\n",
              "          await google.colab.kernel.invokeFunction('convertToInteractive',\n",
              "                                                    [key], {});\n",
              "        if (!dataTable) return;\n",
              "\n",
              "        const docLinkHtml = 'Like what you see? Visit the ' +\n",
              "          '<a target=\"_blank\" href=https://colab.research.google.com/notebooks/data_table.ipynb>data table notebook</a>'\n",
              "          + ' to learn more about interactive tables.';\n",
              "        element.innerHTML = '';\n",
              "        dataTable['output_type'] = 'display_data';\n",
              "        await google.colab.output.renderOutput(dataTable, element);\n",
              "        const docLink = document.createElement('div');\n",
              "        docLink.innerHTML = docLinkHtml;\n",
              "        element.appendChild(docLink);\n",
              "      }\n",
              "    </script>\n",
              "  </div>\n",
              "\n",
              "\n",
              "<div id=\"df-7d90673d-55e4-4245-9bfa-57d89899b4fa\">\n",
              "  <button class=\"colab-df-quickchart\" onclick=\"quickchart('df-7d90673d-55e4-4245-9bfa-57d89899b4fa')\"\n",
              "            title=\"Suggest charts.\"\n",
              "            style=\"display:none;\">\n",
              "\n",
              "<svg xmlns=\"http://www.w3.org/2000/svg\" height=\"24px\"viewBox=\"0 0 24 24\"\n",
              "     width=\"24px\">\n",
              "    <g>\n",
              "        <path d=\"M19 3H5c-1.1 0-2 .9-2 2v14c0 1.1.9 2 2 2h14c1.1 0 2-.9 2-2V5c0-1.1-.9-2-2-2zM9 17H7v-7h2v7zm4 0h-2V7h2v10zm4 0h-2v-4h2v4z\"/>\n",
              "    </g>\n",
              "</svg>\n",
              "  </button>\n",
              "\n",
              "<style>\n",
              "  .colab-df-quickchart {\n",
              "      --bg-color: #E8F0FE;\n",
              "      --fill-color: #1967D2;\n",
              "      --hover-bg-color: #E2EBFA;\n",
              "      --hover-fill-color: #174EA6;\n",
              "      --disabled-fill-color: #AAA;\n",
              "      --disabled-bg-color: #DDD;\n",
              "  }\n",
              "\n",
              "  [theme=dark] .colab-df-quickchart {\n",
              "      --bg-color: #3B4455;\n",
              "      --fill-color: #D2E3FC;\n",
              "      --hover-bg-color: #434B5C;\n",
              "      --hover-fill-color: #FFFFFF;\n",
              "      --disabled-bg-color: #3B4455;\n",
              "      --disabled-fill-color: #666;\n",
              "  }\n",
              "\n",
              "  .colab-df-quickchart {\n",
              "    background-color: var(--bg-color);\n",
              "    border: none;\n",
              "    border-radius: 50%;\n",
              "    cursor: pointer;\n",
              "    display: none;\n",
              "    fill: var(--fill-color);\n",
              "    height: 32px;\n",
              "    padding: 0;\n",
              "    width: 32px;\n",
              "  }\n",
              "\n",
              "  .colab-df-quickchart:hover {\n",
              "    background-color: var(--hover-bg-color);\n",
              "    box-shadow: 0 1px 2px rgba(60, 64, 67, 0.3), 0 1px 3px 1px rgba(60, 64, 67, 0.15);\n",
              "    fill: var(--button-hover-fill-color);\n",
              "  }\n",
              "\n",
              "  .colab-df-quickchart-complete:disabled,\n",
              "  .colab-df-quickchart-complete:disabled:hover {\n",
              "    background-color: var(--disabled-bg-color);\n",
              "    fill: var(--disabled-fill-color);\n",
              "    box-shadow: none;\n",
              "  }\n",
              "\n",
              "  .colab-df-spinner {\n",
              "    border: 2px solid var(--fill-color);\n",
              "    border-color: transparent;\n",
              "    border-bottom-color: var(--fill-color);\n",
              "    animation:\n",
              "      spin 1s steps(1) infinite;\n",
              "  }\n",
              "\n",
              "  @keyframes spin {\n",
              "    0% {\n",
              "      border-color: transparent;\n",
              "      border-bottom-color: var(--fill-color);\n",
              "      border-left-color: var(--fill-color);\n",
              "    }\n",
              "    20% {\n",
              "      border-color: transparent;\n",
              "      border-left-color: var(--fill-color);\n",
              "      border-top-color: var(--fill-color);\n",
              "    }\n",
              "    30% {\n",
              "      border-color: transparent;\n",
              "      border-left-color: var(--fill-color);\n",
              "      border-top-color: var(--fill-color);\n",
              "      border-right-color: var(--fill-color);\n",
              "    }\n",
              "    40% {\n",
              "      border-color: transparent;\n",
              "      border-right-color: var(--fill-color);\n",
              "      border-top-color: var(--fill-color);\n",
              "    }\n",
              "    60% {\n",
              "      border-color: transparent;\n",
              "      border-right-color: var(--fill-color);\n",
              "    }\n",
              "    80% {\n",
              "      border-color: transparent;\n",
              "      border-right-color: var(--fill-color);\n",
              "      border-bottom-color: var(--fill-color);\n",
              "    }\n",
              "    90% {\n",
              "      border-color: transparent;\n",
              "      border-bottom-color: var(--fill-color);\n",
              "    }\n",
              "  }\n",
              "</style>\n",
              "\n",
              "  <script>\n",
              "    async function quickchart(key) {\n",
              "      const quickchartButtonEl =\n",
              "        document.querySelector('#' + key + ' button');\n",
              "      quickchartButtonEl.disabled = true;  // To prevent multiple clicks.\n",
              "      quickchartButtonEl.classList.add('colab-df-spinner');\n",
              "      try {\n",
              "        const charts = await google.colab.kernel.invokeFunction(\n",
              "            'suggestCharts', [key], {});\n",
              "      } catch (error) {\n",
              "        console.error('Error during call to suggestCharts:', error);\n",
              "      }\n",
              "      quickchartButtonEl.classList.remove('colab-df-spinner');\n",
              "      quickchartButtonEl.classList.add('colab-df-quickchart-complete');\n",
              "    }\n",
              "    (() => {\n",
              "      let quickchartButtonEl =\n",
              "        document.querySelector('#df-7d90673d-55e4-4245-9bfa-57d89899b4fa button');\n",
              "      quickchartButtonEl.style.display =\n",
              "        google.colab.kernel.accessAllowed ? 'block' : 'none';\n",
              "    })();\n",
              "  </script>\n",
              "</div>\n",
              "    </div>\n",
              "  </div>\n"
            ]
          },
          "metadata": {},
          "execution_count": 20
        }
      ]
    },
    {
      "cell_type": "markdown",
      "source": [
        "Percebemos que, para verificar se há strings vazias em cada coluna, teríamos que fazer uma verificação manualmente. Para tornar esse processo mais automatizado, podemos fazer a substituição desses valores por NaN.\n",
        "\n",
        "Dessa forma, podemos trabalhar com as strings vazias de forma mais fácil, utilizando os métodos do Pandas que são projetados para lidar com valores nulos, como o método dropna. Esse método nos permite eliminar linhas ou colunas que contenham valores nulos, o que pode ser muito útil para limpar os dados e garantir que eles estejam prontos para serem analisados."
      ],
      "metadata": {
        "id": "JUrmRSc_Lpmt"
      }
    },
    {
      "cell_type": "code",
      "source": [
        "# Substitui strings vazias por valores nulos\n",
        "df.replace('', pd.NA, inplace=True)"
      ],
      "metadata": {
        "id": "DluMOTU9LyIT"
      },
      "execution_count": 21,
      "outputs": []
    },
    {
      "cell_type": "code",
      "source": [
        "# removendo amostras com valor NA\n",
        "df.dropna(inplace=True)\n",
        "print(df)\n"
      ],
      "metadata": {
        "colab": {
          "base_uri": "https://localhost:8080/"
        },
        "id": "x1MmM-_IL00T",
        "outputId": "930490de-8105-4b48-e087-0b3d741e3eef"
      },
      "execution_count": 22,
      "outputs": [
        {
          "output_type": "stream",
          "name": "stdout",
          "text": [
            "                             curso    categoria carga_horaria concluintes  \\\n",
            "0         Introdução à programação  Programação      20 horas         100   \n",
            "2  Marketing digital para negócios    Marketing      30 horas          75   \n",
            "\n",
            "  data_inicio data_conclusao                                    descricao  \\\n",
            "0  2022-01-01     2022-01-20  Curso introdutório à programação com Python   \n",
            "2  2022-03-01     2022-03-31              Curso introdutório em marketing   \n",
            "\n",
            "   preco instrutor.nome                instrutor.email instrutor.telefone  \n",
            "0  99.90     João Silva  joao.silva@emailaleatorio.com     (11) 9999-9999  \n",
            "2   89.9     Ana Santos  ana.santos@emailaleatorio.com     (11) 7777-7777  \n"
          ]
        }
      ]
    },
    {
      "cell_type": "markdown",
      "source": [
        "Fazer o cast das colunas para seus tipos corretos\n",
        "\n",
        "Primeiro, vamos verificar o tipo em que as colunas estão:"
      ],
      "metadata": {
        "id": "tg4LoGhuL-CK"
      }
    },
    {
      "cell_type": "code",
      "source": [
        "df.info()"
      ],
      "metadata": {
        "colab": {
          "base_uri": "https://localhost:8080/"
        },
        "id": "TTrzzV_aMAJM",
        "outputId": "7b65c320-f90a-4a89-c4a7-dfde51ec374a"
      },
      "execution_count": 23,
      "outputs": [
        {
          "output_type": "stream",
          "name": "stdout",
          "text": [
            "<class 'pandas.core.frame.DataFrame'>\n",
            "Int64Index: 2 entries, 0 to 2\n",
            "Data columns (total 11 columns):\n",
            " #   Column              Non-Null Count  Dtype \n",
            "---  ------              --------------  ----- \n",
            " 0   curso               2 non-null      object\n",
            " 1   categoria           2 non-null      object\n",
            " 2   carga_horaria       2 non-null      object\n",
            " 3   concluintes         2 non-null      object\n",
            " 4   data_inicio         2 non-null      object\n",
            " 5   data_conclusao      2 non-null      object\n",
            " 6   descricao           2 non-null      object\n",
            " 7   preco               2 non-null      object\n",
            " 8   instrutor.nome      2 non-null      object\n",
            " 9   instrutor.email     2 non-null      object\n",
            " 10  instrutor.telefone  2 non-null      object\n",
            "dtypes: object(11)\n",
            "memory usage: 192.0+ bytes\n"
          ]
        }
      ]
    },
    {
      "cell_type": "markdown",
      "source": [
        "E fazemos o cast para seus tipos corretos:"
      ],
      "metadata": {
        "id": "jnu1K1rmMCgc"
      }
    },
    {
      "cell_type": "code",
      "source": [
        "# Converte a concluintes para o tipo inteiro\n",
        "df['concluintes'] = df['concluintes'].astype(int)\n",
        "\n",
        "# Converte a coluna data_inicio e data_conclusao para o tipo datetime\n",
        "df['data_inicio'] = pd.to_datetime(df['data_inicio'])\n",
        "df['data_conclusao'] = pd.to_datetime(df['data_conclusao'])\n",
        "\n",
        "# Convertendo a coluna preço para o tipo float\n",
        "df['preco'] = df['preco'].astype(float)\n"
      ],
      "metadata": {
        "id": "FqHTnsLuMDp_"
      },
      "execution_count": 24,
      "outputs": []
    },
    {
      "cell_type": "markdown",
      "source": [
        "Essas conversões são importantes para garantir que os tipos de dados das colunas estejam corretos para a realização de operações matemáticas ou análises estatísticas em um dataframe. Se os tipos de dados estiverem incorretos, as operações podem gerar resultados inesperados ou erros.\n",
        "\n",
        "Agora, verificamos se a conversão funcionou corretamente:"
      ],
      "metadata": {
        "id": "PUZ6RQZGMFq2"
      }
    },
    {
      "cell_type": "code",
      "source": [
        "df.info()"
      ],
      "metadata": {
        "colab": {
          "base_uri": "https://localhost:8080/"
        },
        "id": "DAilUs_jMIjb",
        "outputId": "319ccc40-0392-45a7-9c25-295a5bb3ef81"
      },
      "execution_count": 25,
      "outputs": [
        {
          "output_type": "stream",
          "name": "stdout",
          "text": [
            "<class 'pandas.core.frame.DataFrame'>\n",
            "Int64Index: 2 entries, 0 to 2\n",
            "Data columns (total 11 columns):\n",
            " #   Column              Non-Null Count  Dtype         \n",
            "---  ------              --------------  -----         \n",
            " 0   curso               2 non-null      object        \n",
            " 1   categoria           2 non-null      object        \n",
            " 2   carga_horaria       2 non-null      object        \n",
            " 3   concluintes         2 non-null      int64         \n",
            " 4   data_inicio         2 non-null      datetime64[ns]\n",
            " 5   data_conclusao      2 non-null      datetime64[ns]\n",
            " 6   descricao           2 non-null      object        \n",
            " 7   preco               2 non-null      float64       \n",
            " 8   instrutor.nome      2 non-null      object        \n",
            " 9   instrutor.email     2 non-null      object        \n",
            " 10  instrutor.telefone  2 non-null      object        \n",
            "dtypes: datetime64[ns](2), float64(1), int64(1), object(7)\n",
            "memory usage: 192.0+ bytes\n"
          ]
        }
      ]
    },
    {
      "cell_type": "markdown",
      "source": [
        "# Aula 04"
      ],
      "metadata": {
        "id": "wwpm1Ib2MMLS"
      }
    },
    {
      "cell_type": "markdown",
      "source": [
        "Você trabalha em um banco como cientista de dados e recebeu o seguinte conjunto de dados para analisar:"
      ],
      "metadata": {
        "id": "8kzpochePv0d"
      }
    },
    {
      "cell_type": "code",
      "source": [
        "import pandas as pd\n",
        "\n",
        "# criando um DataFrame com 30 transações aleatórias\n",
        "df = pd.DataFrame({\n",
        "    'ID da transação': range(1, 31),\n",
        "    'Valor da transação': [100, 200, 150, 500, 300, 913, 250, 400, 200, 150,\n",
        "                           200, 200, 400, 300, 150, 301, 805, 300, 400, 250,\n",
        "                           150, 100, 500, 600, 200, 350, 100, 250, 800, 250],\n",
        "    'Data da transação': pd.date_range(start='2022-01-01', end='2022-01-30', freq='D'),\n",
        "    'Local da transação': ['São Paulo, Brasil', 'Rio de Janeiro, Brasil', 'Belo Horizonte, Brasil', 'São Paulo, Brasil',\n",
        "                           'São Paulo, Brasil', 'Nova Iorque, EUA', 'São Paulo, Brasil', 'São Paulo, Brasil', 'São Paulo, Brasil',\n",
        "                           'Rio de Janeiro, Brasil', 'São Paulo, Brasil', 'São Paulo, Brasil', 'São Paulo, Brasil', 'São Paulo, Brasil',\n",
        "                           'São Paulo, Brasil', 'São Paulo, Brasil', 'Los Angeles, EUA', 'São Paulo, Brasil', 'São Paulo, Brasil', 'São Paulo, Brasil',\n",
        "                           'São Paulo, Brasil', 'São Paulo, Brasil', 'São Paulo, Brasil', 'São Paulo, Brasil', 'São Paulo, Brasil', 'São Paulo, Brasil',\n",
        "                           'São Paulo, Brasil', 'São Paulo, Brasil', 'Miami, EUA', 'São Paulo, Brasil']\n",
        "})"
      ],
      "metadata": {
        "id": "tKaJURtdPxs5"
      },
      "execution_count": 26,
      "outputs": []
    },
    {
      "cell_type": "markdown",
      "source": [
        "Foi informado que nessa base de dados há possíveis fraudes que podem ser identificadas através dos outliers no “valor da transação”. Basicamente a fraude seria um outlier.\n",
        "\n",
        "Sua missão é construir uma função que recebe dois parâmetros, a coluna que você quer analisar se tem outlier e o DataFrame em questão. A intenção de fazer isso é aproveitar novamente essa função tanto para outras colunas quanto para outros DataFrames futuramente em outras análises. O método que deve ser implementado para identificação do outlier é do intervalo interquartil.\n",
        "\n",
        "Como podemos fazer isso?"
      ],
      "metadata": {
        "id": "TWoskfu4Pz78"
      }
    },
    {
      "cell_type": "code",
      "source": [
        "def calc_outliers(column, dataframe):\n",
        "\n",
        "  # calculando o IQR e definindo o limite para outliers\n",
        "  Q1 = dataframe[column].quantile(0.25)\n",
        "  Q3 = dataframe[column].quantile(0.75)\n",
        "  IQR = Q3 - Q1\n",
        "  limite_inferior = Q1 - 1.5 * IQR\n",
        "  limite_superior = Q3 + 1.5 * IQR\n",
        "\n",
        "  # identificando os outliers\n",
        "  outliers = dataframe[(dataframe[column] < limite_inferior) | (dataframe[column] > limite_superior)]\n",
        "\n",
        "  # retornando os outliers\n",
        "  return outliers"
      ],
      "metadata": {
        "id": "YdZaGhRqP1mO"
      },
      "execution_count": 27,
      "outputs": []
    },
    {
      "cell_type": "markdown",
      "source": [
        "Esse código em Python define uma função chamada calc_outliers que recebe dois parâmetros: column e dataframe. A função tem como objetivo identificar e retornar os outliers (valores extremos) de uma coluna específica em um DataFrame.\n",
        "\n",
        "O primeiro passo da função é calcular o IQR (Interquartile Range) da coluna, que é a diferença entre o terceiro (Q3) e o primeiro quartil (Q1). Em seguida, é definido um limite inferior e um limite superior para identificar os outliers. Esses limites são calculados subtraindo e somando, respectivamente, 1.5 vezes o IQR ao Q1 e ao Q3. A imagem abaixo exemplifica isso:"
      ],
      "metadata": {
        "id": "p6_xxaIhP4i-"
      }
    },
    {
      "cell_type": "markdown",
      "source": [
        "![image.png](data:image/png;base64,iVBORw0KGgoAAAANSUhEUgAABfwAAAKfCAIAAAC0YZ6vAAAgAElEQVR4Aezd+X8UVb7/8e+fc+88rqOyJum9q6u6q9esJCwCggi4DSMqCGPYRMBRXB4jKiOjDuC4i8rouIwCbgy4oSCiDMi+hS0kvXfX93HzuffcfhCIEJJOpXnVD1h0qs7yPEUej357zqn/Z3EggAACCCCAAAIIIIAAAggggAACCFScwP+ruB7RIQQQQAABBBBAAAEEEEAAAQQQQAABi9CHhwABBBBAAAEEEEAAAQQQQAABBBCoQAFCnwocVLqEAAIIIIAAAggggAACCCCAAAIIEPrwDCCAAAIIIIAAAggggAACCCCAAAIVKEDoU4GDSpcQQAABBBBAAAEEEEAAAQQQQAABQh+eAQQQQAABBBBAAAEEEEAAAQQQQKACBQh9KnBQ6RICCCCAAAIIIIAAAggggAACCCBA6MMzgAACCCCAAAIIIIAAAggggAACCFSgAKFPBQ4qXUIAAQQQQAABBBBAAAEEEEAAAQQIfXgGEEAAAQQQQAABBBBAAAEEEEAAgQoUIPSpwEGlSwgggAACCCCAAAIIIIAAAggggAChD88AAggggAACCCCAAAIIIIAAAgggUIEChD4VOKh0CQEEEEAAAQQQQAABBBBAAAEEECD04RlAAAEEEEAAAQQQQAABBBBAAAEEKlCA0KcCB5UuIYAAAggggAACCCCAAAIIIIAAAoQ+PAMIIIAAAggggAACCCCAAAIIIIBABQoQ+lTgoNIlBBBAAAEEEEAAAQQQQAABBBBAgNCHZwABBBBAAAEEEEAAAQQQQAABBBCoQAFCnwocVLqEAAIIIIAAAggggAACCCCAAAIIEPrwDCCAAAIIIIAAAggggAACCCCAAAIVKEDoU4GDSpcQQAABBBBAAAEEEEAAAQQQQAABQh+eAQQQQAABBBBAAAEEEEAAAQQQQKACBQh9KnBQ6RICCCCAAAIIIIAAAggggAACCCBA6MMzgAACCCCAAAIIIIAAAggggAACCFSgAKFPBQ4qXUIAAQQQQAABBBBAAAEEEEAAAQQIfXgGEEAAAQQQQAABBBBAAAEEEEAAgQoUIPSpwEGlSwgggAACCCCAAAIIIIAAAggggAChD88AAggggAACCCCAAAIIIIAAAgggUIEChD4VOKh0CQEEEEAAAQQQQAABBBBAAAEEECD04RlAAAEEEEAAAQQQQAABBBBAAAEEKlCA0KcCB5UuIYAAAggggAACCCCAAAIIIIAAAoQ+PAMIIIAAAggggAACCCCAAAIIIIBABQoQ+lTgoNIlBBBAAAEEEEAAAQQQQAABBBBAgNCHZwABBBBAAAEEEEAAAQQQQAABBBCoQAFCnwocVLqEAAIIIIAAAggggAACCCCAAAIIEPrwDCCAAAIIIIAAAggggAACCCCAAAIVKEDoU4GDSpcQQAABBBBAAAEEEEAAAQQQQAABQh+eAQQQQAABBBBAAAEEEEAAAQQQQKACBQh9KnBQ6RICCCCAAAIIIIAAAggggAACCCBA6MMzgAACCCCAAAIIIIAAAggggAACCFSgAKFPBQ4qXUIAAQQQQAABBBBAAAEEEEAAAQQIfXgGEEAAAQQQQAABBBBAAAEEEEAAgQoUIPSpwEGlSwgggAACCCCAAAIIIIAAAggggAChD88AAggggAACCCCAAAIIIIAAAgggUIEChD4VOKh0CQEEEEAAAQQQQAABBBBAAAEEECD04RlAAAEEEEAAAQQQQAABBBBAAAEEKlCA0KcCB5UuIYAAAggggAACCCCAAAIIIIAAAoQ+PAMIIIAAAggggAACCCCAAAIIIIBABQoQ+lTgoNIlBBBAAAEEEEAAAQQQQAABBBBAgNCHZwABBBBAAAEEEEAAAQQQQAABBBCoQAFCnwocVLqEAAIIIIAAAggggAACCCCAAAIIEPrwDCCAAAIIIIAAAggggAACCCCAAAIVKEDoU4GDSpcQQAABBBBAAAEEEEAAAQQQQAABQh+eAQQQQAABBBBAAAEEEEAAAQQQQKACBQh9KnBQ6RICCCCAAAIIIIAAAggggAACCCBA6MMzgAACCCCAAAIIIIAAAggggAACCFSgAKFPBQ4qXUIAAQQQQAABBBBAAAEEEEAAAQQIfXgGEEAAAQQQQAABBBBAAAEEEEAAgQoUIPSpwEGlSwgggAACCCCAAAIIIIAAAggggAChD88AAggggAACCCCAAAIIIIAAAgggUIEChD4VOKh0CQEEEEAAAQQQQAABBBBAAAEEECD04RlAAAEEEEAAAQQQQAABBBBAAAEEKlCA0KcCB5UuIYAAAggggAACCCCAAAIIIIAAAoQ+PAMIIIAAAggggAACCCCAAAIIIIBABQoQ+lTgoNIlBBBAAAEEEEAAAQQQQAABBBBAgNCHZwABBBBAAAEEEEAAAQQQQAABBBCoQAFCnwocVLqEAAIIIIAAAggggAACCCCAAAIIEPrwDCCAAAIIIIAAAggggAACCCCAAAIVKEDoU4GDSpcQQAABBBBAAAEEEEAAAQQQQAABQh+eAQQQQAABBBBAAAEEEEAAAQQQQKACBQh9KnBQ6RICCCCAAAIIIIAAAggggAACCCBA6MMzgAACCCCAwMAIpNNpy7Ky2axlWZlMxrKsXC4nTUl3HXIuF8h5oetQ1xQKBTm/2J/5ruOCPy0Wi7muo1gsXvCCwfhhsVjM5/Ol/cpkMqUdLD2/WAcLhUI6nVZjYVlWsVjsTi2AqpDSC2Q01Y/scJLP57s3Qz1a+Xy+tP0XvLj0dnmuSqnVLarv+XxelV96L+cIIIAAAgggUE4BQp9yalMXAggggAAC/yOQyWTkK7F8W04mk/IDiS3kPNV1FAqF0qhCri92HT1olt4il2UymXPnzrW3t0vYpO69YKKhfjqITgqFQjabVeFFsVhUoYP0sbtJ994lk0mVX3T/qVRRWovEcLlcLpvN9nBj96IG5JNMJtPR0aFyGSFSLBLT9NyLs2fP9nxBLpdTBQ5IH6kUAQQQQAABBEoFCH1KNThHAAEEEECg3AISwUgqId+6VQBU2pTOzs7SuSelP+rhPJfLZTKZC35Lz+Vy6XRaxSI9FDIofnRe0KCiH5k/dek9VTcWi8V0Op1MJlOpVCaTUZ+XapxXqWVZ5yV0pRcP7Hnpw1OaGKZSKYlp5Am8YDcv2PJsNptOpyXz6uzsTCaTpZOqustcsBA+RAABBBBAAIH+FiD06W9hykcAAQQQQOACAvJNO5PJdHZ2yo9Lv5an0+n2rkPWGZ0XA6lkQU3Z6F5BLpfL5/Ol373V0id1u3zPl1kq3UsYXJ9IkFEoFCTnKp2Mc15HCoVCD24S3GSz2e7XyLyYTCaTTqdLY6BSZMmYLpiyndeMMv9VAhqpVJ4ESW1UM0p78atRYLbrUPd2P5HHz4YO3ZvKJwgggAACCFS2AKFPZY8vvUMAAQQQGBwCagOUjo4OabGac6G+OedyOZlY8avfyQdHn/uhlaVZjOQvMgNFdvmRJKLnapW2isYKhUIqlep+l8rUJCEqDU26X2yHT4rFYjKZPO/hkehHpupIUlY6D+iCzc5kMiqgzOfzaoKPZGGSml3wRj5EAAEEEEAAgfILEPqU35waEUAAAQQQsPL5/Llz586cOWNZltpkJ5fLnTt3TnTUd2lJE3K5nJrvo75yHz9+/GKUHR0dsnJH9ugtjSTUUjKZ45NMJlWlFyvN/p+rjExlPdL90pbLPKDST7qfK9tcLle6/Y1l/feQdY+EVAnZbFbdqz60z4l6nGRfalmz1j2guawdeXK5XHt7u0yJyufzas6aGou2tjb7CNASBBBAAAEErk4BQp+rc9zpNQIIIIDAwAuojODkyZPyPbm9vV1lQMViUSIhy7Jk+o9KHE6dOqW+V19KN7LZ7JEjR3bs2LF169YtW7Zs37798OHDpcuXSiOhSynQhtdIktXZ2bl///5vvvlm8+bN27Zt27179+HDh0+ePKliNXld2gVn7kinFEupieRHBw4c+Oqrrz799NMvvvhi+/btp0+ftizr1KlTSkNNorms0VG3l+GkUCicPn16165dW7Zs+eqrr3bt2vXLL78cO3ZM5TWSbSmE7k0qZVE/PXv2bGl+dPLkyQtepq7nBAEEEEAAAQTKJkDoUzZqKkIAAQQQQOD/BNS0kSNHjtx2222JRKKlpaW5uXnUqFH19fWvv/66uvT48eMLFiwYM2ZMPB5vaGior69vbm5euXLliRMn1DUXPGlra3v33XfnzZvX1NTk9/s1TTNNMxQK+f1+n8/X2NjY2tr6zjvv/Go5Fyzcbh++/fbby5Yta25u9ng8mqZFIhHDMBwOh9/vv+GGGx566KGNGzdeek9VanP8+PHXX3/9rrvuMk3T6/V6PJ5gMBiNRiORSENDw4QJEz744IODBw+KhrpLxXn2Udq1a9fq1aunTJliGEYgEJA/fT6fpmmxWOyOO+5Yu3bt3r17pcE9RDbStXw+r4Kzjz/+eMaMGc3NzXV1dc3NzYlEoqGhYdWqVaVxmH0caAkCCCCAAAJXmwChz9U24vQXAQQQQMBGAjKdZ9SoUfIlPNB16Lr+t7/9TbWyWCzedttthmH4fL5gMKhpmq7rixYtkgvU7BI1mUVeK/7BBx9MmjTJ4XBEo1HTNP1+v5Tg8XjC4bDRdQSDQafTOWnSpPXr16u9hFKplDpXc4tUY2xyohYrdXR0fPrpp4lEIhQKCY7H4/H7/aGuQ9O0cDjs6zo0TZs0adIHH3yguiDzU0qXtsmWSeqC9957r7m52e/3B4NBScpCoZDWdUQikWDXYRjGmDFjXn75ZblLMhGV/qiiynki2ZZ6Y/3OnTvvu+++aDTq7TrC4XAoFHK73V6vNxaLyblpmsFg0DTNRx555NixY9JaNdFMVszJHDR5JBTdkiVL/H5/NBoNBAK6rmuaFgqFfD7fQw89VM4uUxcCCCCAAAIIXEyA0OdiMnyOAAIIIIBAvwtceehjWZaawCJbDp89e3bBggXBYNAwjLq6ulgsVl1d7XK5otGoRCHxeNzj8VRVVUUikbq6Ol3X/X7/0qVLDxw4IOt6JLkoXfLT7xCXU4Fq2NGjR+fPn28YRjQadbvdkjhEIpFoNBoOh3Vd93g8Xq+3vr4+GAy63W5d18Ph8JIlSyTOUHmZ2qpZhTXHjh177LHHfD6fYRj19fU+n6+pqcnj8ei6bpqmy+Xyer2GYUjhQ4YMaW5ufvrpp1VYpsq5nG71zbWSYUnX8vn8Sy+9NHXq1EgkomlaoutwuVzV1dW1tbX19fUjR450OBx1dXVer7empiYajTqdznHjxn3yySfShfMSMdXEQqGwfv36CRMmxGKxxsbGkSNHEvooHE4QQAABBBCwlQChj62Gg8YggAACCFxdAlce+khAI7lPOp3et2/f0qVLXS5XXV2dpmlOp1PTtGg0GovFgsGg1+vVNE1SklgsFggEqqurvV5vbW1tMBi86667/v3vf8sAHDp0yLIsFa/YalRkms/p06cnTJhQW1v7m9/8JhQKeb3eQCAQCoUk7pGFS6FQyOPxSMgVCATGjRsXCAQcDseMGTN2794tWxpL11Rek06nk8nkmjVrIpGI3++PRCJS8vDhw8PhsAA2NzcHAoHhw4c3NDTI/Cm55oUXXpBFT2rWVfnd1MqsVCq1evXqeDweDAaHDRtmGEZVVZVhGE1NTYZhuN1u0zQjkUg8HjdN0+12BwKB2traQCDg9Xqbm5s/+ugjy7JKN/eRThUKhe+//37hwoW6rktIdN11140ePZrQp/xjTY0IIIAAAghcigChz6UocQ0CCCCAAAL9InDloY/kMuq1X3PnzvX5fIFAQJY4mV2HLONyOBzhcDiRSFR3HeFwOBKJBAIBTdPkep/PN3PmTNlsSFbxDGB40QN3Z2dne3v7nXfeOXz4cK/XO2XKFJfLVV9fr2laVVVVTU2NpmnBYDAQCPh8vlgs5vP5ZJKO3++X+T7xeHzhwoUy30e2nikWixKfJZPJLVu21NbW/va3v62vr5d8RO86otHoDTfcMGXKlFgspmmaZElOp7OlpUXyoObm5u3bt8te0T20v79/dOTIEcuyPvjgA4moRo8e7fP5pIWBQMDj8YwYMSIcDjc2NrpcriFDhsjqP4fDIau9HA5HKBSaMGHCe++9pxZ2qYV+b7755ujRo/1+v8vlCoVCiUQiHo9LZsTyrv4eWcpHAAEEEECgFwKEPr1A4xYEEEAAAQT6RuDKQx/LstSWumvWrHG73T6fLxqNVldXJxKJcDhcVVUVjUbnzJmzcuXKtWvXvvTSS0899dTs2bMTiYTD4ZBZPw6HIxgMhkKh6urqJ598Uvpmz2k+Eqk888wzw4cPb2lp8fl8uq7LDjWBQKCxsfHuu+9euXLla6+9tnbt2hUrVtx6660y90d2GvZ6vW63WxKxVatWWZaVTCZlyo/MkSkUCnfffXcoFNJ13el0xmIxWRb3wAMP/PDDDydOnJAgbMuWLbNnz3a73ZFIxOl01tTU1NbWapq2cuVKKbBvno/LL0Xm5uzcufOmm26SHMfpdBqGEYvFvF5vOBy++eabFy9e/MILL7z22mtPPfXUQw891NjYGI1GE4nEkCFDampqGhsbDcMYPnz4lClTjh8/rpaqSe7T1NQ0dOjQpqamhoYGn883cuRIWR3GTJ/LHyvuQAABBBBAoBwChD7lUKYOBBBAAAEELijQJ6GPZVmnT59Op9Nutzsej8uezaNGjfL5fC6Xa+rUqW+99ZbsvJvP5yXaOHv27Pr166dPn+50Or1eb0tLSyQSqampkS/whw4dkutLV/dcsP0D8uHOnTtlq51AIBAOh3/7298Gg8ERI0bMnj37008/bWtrK232mTNnNm3aNHXq1N/+9rcS4gSDQYmBAoHAjh075F3jktRks9l9+/Zde+21siuQ0+mMRqPXXHPNn/70J5V9SJeLxeLhw4dnz54djUZl4oxsITRx4sQBMVGVSjSzePHiqqqqRCLh9XpHjBhhmmZNTU1LS8tTTz31yy+/yJbMotTe3n7gwIFly5YFg8GmpqZ4PC5xoWmaDodj5cqVaraXPBKmacZiMcMwrrnmmkgk0tLSMn/+/OnTpxP6qCHgBAEEEEAAAVsJEPrYajhoDAIIIIDA1SXQV6FPNptdtGiReieXz+cbMWJEVVXV/PnzDxw4cDHTAwcOLFy40OFwjBgxIhQKORwO0zQTicRdd90l03zUF/6LlVD+z3O5XGtrq6y3kkRj1KhRpmnef//927Ztk/bIxsylMc3evXvV5tbS00gkct111y1btkwSEDXN58svv9R13TAMl8sVj8dldVhnZ6eEKSdPnmxvb1drnf7+97/LjkjNzc2yu3MgEBjw5V2bNm2qra2tqamRzXpkHV8oFPrnP/9ZOl7FYlGlY8lkcu3atZL4GIahaVpdXZ2sXPvmm2/kLplQNn78ePHx+/2/+93v/vWvf1mW1dTUROhTass5AggggAAC9hEg9LHPWNASBBBAAIGrTqBPQp9cLnfy5El5g5XsZRMMBnVdnzZt2ieffCKmqVSqUChkMhn56i7711iWtXnz5ttuu0229ZG7PB5PQ0PD4cOHZbMbuw3Jjz/+OGrUqJEjRxqGIZvRyCu09u3bJylPR0eHWpgm2zPLn9u3b5elSQ0NDZqm+f1+yXT27NlT+rayzz777NFHH120aNHSpUuXLVu2dOnSF198US4oFAqSDZ07d07isM2bN2ua1tjYeP311weDwcbGRk3TTp8+XZo3lRkwm80uXrw4HA7Lnjv19fVOp1PX9b/+9a/yKq5UKiW9UKsCZaDz+fyDDz4YCoXkQXI6ncFgUNM0WQTX3t4uU6IaGhr8fn8ikXj++efVW+FvueUWQp8yDzTVIYAAAgggcIkChD6XCMVlCCCAAAII9L1An4Q++Xz+tddekwREXtEly3nef/99+T6f6zpKW5/P5yWYOHHixEcffSTf8EOhkLz2KxgMrlixQqbAlN5Veq5yjdK3equXoJde+avnpc1LpVKqEFVFNpuVnMKyrJdeekn2JHa5XIlEQlZXvfXWWz3UIveeOXPm1Vdflbgn2HXI6rDXX39d1dhDIZZl5fN5yXry+bzMkfnqq69ko5xgMOj3+8PhsNvt7rkQtTVyMpmUenO5XPHiRz6fVwmdmmHUwwys06dPy+5CpbtNT5gw4WKtUoV3dnaeOXNm9OjRTqdTXoLm8XhisVhzc7PapSibzdbW1j766KPff/99KpUShEKhMGXKFEKfiwnzOQIIIIAAAgMrQOgzsP7UjgACCCBwVQv0SeiTSqUeffRRlTvIS9nr6+t37twpMYEKC1TWIxGG/Llr166Wlhat65AIw+v13nfffeqaC45QPp8vzUo+/PDDzz//fMeOHV9e5rF169buEYaaWSNVq9Anm83ec889Pp9PJjSFQiFN00aPHr1v374LNlI+VEnNzp07ZZqPruuhUMjv9/t8vkcffVTNDFIJSPfS1I9UFNXW1jZz5sxwOCxBm0w4WrBgQTabVeDdy7EsS2KyXC4nRalI5YIXy4cq8yp0HT1c+e233waDQXldl9/vl/eyP/LIIz3cIj8qFAr5fH7RokXy5nt5Fb1hGPF4XF5vL3HV559/fvTo0fNKmzp1KqHPeSb8FQEEEEAAAZsIEPrYZCBoBgIIIIDA1SjQJ6FPe3v7tGnTDMPw+/2RSETenD1jxgxJE4rFooQLshhHJSxqP5dz587NmTNH0zS32y0relwu1/jx42VVVA+joqKNPXv2BAIBeXGY7LZz6X96vd63335b1p2pYEUqVeWruTBnz55taGgIBAKRSMQ0TU3THA7Hfffdp4KYC7a2NFW59dZbJZ4IhUKBQMDhcNxyyy2yRbGag3PBQko/PHfu3M6dO59//nm1ikrTNNkvecOGDaVXXvBc9Ut+KtmZpDnd/5Q3i2UyGcl9crmcWpZ1wcJffvlln8/n9/sl+vH5fE1NTVu2bLngxfJhKfv7778vu1xLdOj1eg3DeP/999VTVFpOMpmU7ZPGjh1L6FMqwzkCCCCAAAL2ESD0sc9Y0BIEEEAAgatO4MpDHykhHA6bpunz+UKhkKQ/Dz74oGiqlEdO1PQcFfrk8/knnngiGAzK1sVer1fTtHA4fOzYsR7GI5fLZbPZXC6Xz+ePHj0aDAYjkYjL5br0uEeuNAxj48aNqqJ0On3y5ElJOlQ4Iie5XO7o0aOxWCwSifj9fpmQ4vV6V61a1XPoI/ObpL9Lly4NBAKGYcgr6r1ebyKROH36tGrAxU4+/PDD1atXr127dv369X/6058mTpwYiUQCXYecjB49euXKlXL74cOHL1aOzJ/KlxzpdFr1tPtdapqSXFO6+3L3iy3LWr58uSQ1hmEEAgGn09nc3Fy6BK/7XaWh2P79+2WdoM/nk7e867r+l7/85bxpX4VCQR4AGamJEycS+nSH5RMEEEAAAQTsIEDoY4dRoA0IIIAAAlepQF+FPh6PJxqNer1eiSFk417LsjKZjMzjyOfzshevbMer1hZls9lCofDqq6+apimhj8fjiUQimqbt3bv3V0cll8ul0+n9+/drmpZIJGT6jLThEv/UNO3NN988ffq0CiZKZ75IAyTTyWQy+/fvNwxDXr8lO86EQqF33323h3bKvZ2dnTJZZu3atbKQzefzmaYpy8ROnDghm+r0UM7o0aNN05SgStM0Xdf9fr/H4zEMw+12NzU1vf322x0dHcViUXXkgqXJhB3ZqUct2rrgld0/vJTrW1tbZfmbruuyx9Do0aO7F1X6iQp9MplMMpmUKVRerzcej8uMoYcffli9kuyC+dTkyZMJfUpJOUcAAQQQQMA+AoQ+9hkLWoIAAgggcNUJXHnoY1lWW1ub7OHi8/kCgYDf7zcMY/369RL6iGkmk1FhRCaTUdN/ZP7LBx98EAwG3W63xATRaFTTtJ07d5Yu/DlvbIrFoirkwIEDPp/P4XDoui57JF/6n16v96OPPiotvFgs5vP50vVEEnZkMpk9e/ZomibRkmyc7Pf7z3sTeWlRai9qaWoul3vnnXc0TfN0HRKLaJp24MCB87YoOq8Qy7JkIpXP56uurvb7/XV1daZphkKhCRMmfPjhh2qBmGRMPbuVFi4vg+9hxVZnZ+e5c+dEQBI6mVxTWkjp+axZs2Smj9/vj0ajgUBg/PjxpRd0P1eTv1KpVD6fj0ajhmF4vV7TNAOBQDAYXLx4sWVZkg3JUjt5kVkmk5HlXcz06a7KJwgggAACCNhEgNDHJgNBMxBAAAEErkaBPgl9Dh06JGt5NE2TtTkq9FHzMkrfkCVb9gq3xBPvvfee7AQUCoVkZx9d17dv3/6ry6YkgNi5c+cNN9ygaZpMnLnEOT5yWTQaXbdunUzDkffKq+dAkg41Byebze7evTsYDBqGIa+mkta+9957PU+BUa9aLxaLb7zxhvRU13WZERMKhWSjYrXeTTWg9KSlpSUYDMbj8UjX4ff7hwwZIrFIbW3tvHnzpJBUKqW2hS69XZ1LviPsu3btevbZZ59++ulnnnnmqYscq1evXrly5ZdffikLrKSRPfR31qxZ0i+v1xvqOiZNmqRqv+CJiqhk/lF9fb1hGGrxnWEYixYtUqFPaQlqgKZNm8ZMn1IZzhFAAAEEELCPAKGPfcaCliCAAAIIXHUCfRL67NmzRxZnybuWZPHRK6+8ot7VpeIMmaYhyhLoyJ9vvPFGIBAwTVPehi7b5ezYsaOH8VC5g8wTOXPmTHt7e2dnZ8dlHu3t7Sp0kOrUHB+pQkU2+Xx+9+7dsrZL5iVFo9FgMNjzTB/LstSO1MVi8bnnnpPth+LxuEyMikajP/7446/u4tzY2CiwLpcrFArF4/GamhrTNGW5mdPpDIfD9913n6yhU3NnLgYo7O+//359fb0U2MNeSE6n84knnhClHuYESV1z586VV9G73W6J4RrL6DcAACAASURBVCZPnnye8Hmtkr2ZRDuTyTQ1NWmaJhsVSQdlpo/MllJbTatCstnsjTfeSOijQDhBAAEEEEDAVgKEPrYaDhqDAAIIIFBugdKZF2rhzK9+ae+rVl556JPNZs+cORMOh2VPn1gs5vP5vF6v2lRYEp/Ozk61dYv0ToIAeaXXmjVrZG8a2cbF6/XW1dX1/B50FfqoDYaV3uXiyCqh0rtKQwo12yiVSh08eDAYDIbDYb/fX1NTE4vFTNNcs2aNulf6qEIuaWRnZ6cUmMlkHnnkEZmUpGlaXV3d8OHD6+vr29ra1FI1qU7Wl0mxsmnxp59++s4777z55psbNmz461//On369NraWpfLJUvh/H6/ruuBQGDmzJmqMRc8UW7t7e0bN26UrYXUzJru0Y/M4XrqqafkQf3VJ/O+++6TQXS5XKNHjx46dOiECRPOnDkjwySzkEp51Qo4WQx4/Phxt9sdj8dlAyPTND0ez5o1a+RGNRbSNelLoVC46aabBlHoIxtRXXB0+BABBBBAAIHKEyD0qbwxpUcIIIAAApctIFuTyCuVLvvmK7jhykOfQqGQzWZlzZHb7Q4EAjIh5b777lOTXLLZrHznP3PmjNrdRjYDkrY//PDDoVBIkgvZDdo0TbVPTQ/9KxaLctmvzkDpoRD5kcRPKhNR+YI6yeVybW1tdV2HvKHM6DpaW1tl6ZNcKR08depUaU6hAq9HH330mmuucTgc8kryQCAwatSo06dPq3qlMWqhmXokJChRk6ey2ezmzZtnzJjh6zpkzpHMtHrzzTdV6tS916oEy7K++uoriYp6CH1kD6Nnn31WJSyWZfWg/eSTT5qm6fV6g8Ggx+ORJWnHjx9XGzyJjzwPBw8eVI+BEB04cEAmH8ljEAqFPB7PK6+8csGZUKpJgyv0UTObSqO97iPFJwgggAACCFSGAKFPZYwjvUAAAQQQ6KWAmgai7j937tx5UyHUj/r85MpDH2nSTTfdJLv5yHf1YDA4duxYtWFzoVDo7Ozct2/fL7/8cujQoR9++OGnn36SsCbddbS0tEiAIq9Cj0Qizc3NPXdWTY2RuSc9xBA9l6PWXkmsoMIXNQQq9JFtZSZNmiQ7B8lLpiKRyLhx49RdyWSyra1t165du3fv3rt376FDh7777jtZcpVOp5PJ5JQpU1wul2zQ43a7a2trb7/99tLGl56rN52pLqi1ZhIzff7559Fo1Ol0RqNRn88Xj8ddLtfUqVNL26zuVSfy02w2+/nnn2ua5nA4vF6vvFOs+58ul0vX9RUrVsh75VVPVWnnnXz00UeS+ITD4erqaklwNm7cKJ5nzpyxLOvgwYO7d+/evn27LMqT3YjE/6mnnpItq6VJ0iPZUUiNiKpxMIY+mUym+2wplQmqrnGCAAIIIIBAxQgQ+lTMUNIRBBBAAIErElBfBXv+xn5FdXS7ua9Cnz//+c/yoiVZDaTrekNDw8cff6zmd3R0dMyYMcPhcITD4aFDh4ZCoTlz5pw+fTqdTv/000+RSESSgmAwGAqFIpHIkiVLJPLo1uT/+UClD5IoPd91/OUvf1l9mcff/va3Xbt2ldYib++SqSiyZEyNSKFQePjhh+X9WeFwWNf1aDRqmubXX3+tFpdlMpnZs2fLJkcS69x5552SmGzYsGHkyJG6rsuyLHk5vVoHJ/1VoY96VZasBspms2qzoY6ODinQsqw5c+bIq9NqampkC2TDMHoOETKZjEwgOnTo0NNPP/3cc8+9/PLLAtj9z7Vr1z733HNbt24VhO7JSymdZVn79u3TNE1W+UUikXA47HA4ZNqXzPexLGv9+vWyx7NkTNFo9B//+Ic8KrfeequmafX19bK8S0pQ6aEaFKl0MIY+iiudTve85ba6khMEEEAAAQQGtQChz6AePhqPAAIIIHClAjJ3o1AoqCU58iapKy330u7vk9AnnU5v377d33XI+6QMw6ipqbntttukFTIr54cffpg8ebLf729qanI4HPF4/IEHHjh+/PjSpUvdbrfP5zMMQ6YLRSKRjRs3qljnYl2RCKBQKPz888/RaFRWh136y9rlyoaGhtdff710vk/3ekuX4WzZskUmoei6bhiGpmler3fu3Ln5fP7EiRMyAWfz5s1jxozx+/0+n2/EiBHxePyFF16wLGvWrFnRaDSRSBiGEQwG5S1XW7duVR0sFAqHDx/++eefd+/e/d133/30009Hjx49derUBd9dJcusVqxYYZpmIpGQt57JJjh79uxRZXY/Ke2gWkOnNkg+78SyrHPnzqm05VcfzlQqdcstt/h8PqfTWVtbq+u63++PRCJbt26VQvL5fDKZXL58uWzVLICtra179+798ssvR48ePXLkSKfTaZpmJBKpqqr6wx/+YFmWzJZS6Zt0ajCGPt2DHrb46f6I8gkCCCCAQCUJEPpU0mjSFwQQQACBXgrIW8yLxWJp+tDLsi7ntr4KfTo7OydNmuRyuWTpUygU0nW9vr7+rbfeamtrKxQKMstj06ZNpmnGYjFd1+WFU8uXL3e73bIljXo71ZQpU9ra2lQKdrEOqRVeBw4c8Pv9MsHkst7XHggEPB7PunXrVA4i03zOq1FyELnm5MmTsoOMx+MJhUKy+skwDJnWpPa7+ec//zl27NiamhqJNjwez913361WUcmuN36/f9q0aZLpqBk0DQ0N1dXV4XA4Ho9rmhYIBObOnaveyXX27FmZ7yM4mUzmrrvuCgQCsVhMdsLWNC0cDv/888/ndaH7X2XqkHzeM3Umk5HmqQ2GupdW+snLL7/s9Xr9fr/X65XXb/l8vunTp8s1wnjq1Km7775bXtnm8/mqqqpuvvnmlpYWn8+n63okEpHVajU1NRs3bhT/0ipKixp0GzlL42VKVy6Xk8Ht3js+QQABBBBAoDIECH0qYxzpBQIIIIBA7wWy2exLL720ZMmSuXPnLl68+Keffup9WZd5Z5+EPrIby6uvvirZjbxHSRYxRSKRF198UTUqmUyuWLFCvuoHAgF5bflvfvObRCIhL2vXNC0ajcotanaJuv1iJ/v27fN6vTLvpvv7p3r+JBgMqrxG8giVv8iKLfmw+L9HJpN58cUXZQ+dSCTidrtjsZjH43G73Rs2bFCZXTabXb58eTgcNk0zFApVVVV5PJ7x48dLCCK7OJum+fe//12VL/298cYbXS5XLBaLx+Ner9fpdE6bNk29yEytAcxkMqlU6t///rcUKFsmy/bSN9xww7lz5y5mlcvlpCKp92KX9fz5eTNuzrv4wIEDt99+u7zVXvCDwaDL5Zo5c6Zkf/l8Pp1OHzlyxDAMn89XW1srD4OwyJIumQZ19913q82/ZRZVaV3ShcEV+hQKhWQyuWbNmmnTpt11111z5sxZvXp1aac4RwABBBBAoMIECH0qbEDpDgIIIIDAZQukUqlFixYlEomRI0eGQqEtW7ZcdhG9veHKQx9ZrpLJZM6ePTt58mSZ2CLbOcteM+Fw+M477/zwww+PHj2aSqXOnDkzY8aMmpqaRCJRU1Mjy7JkpZXb7dZ1fdKkSUePHpUO9TADRUUz6XR6//79pmnG43GHwyEbQl/6ny6XSzaUUa8YU2lIPp/P5XLqrxL7WJZ14sSJcePGhcPhWCzmcrlkRVsikfB6vYsWLdqwYYNsuLN379477rjD7XY3NDQ4HI5QKOTz+fx+v9zS2NjY0NAgIY5UIZ19/PHHGxsbNU2rrq6WdVsjR44cN27cli1bJKxRe/188cUXiURC07SWlpZhw4YFAoHGxsZAIDB16tSeHwdFJ0sLpd7/DbXO/69co7YTkpJ7Dn0sy1q7dq1hGLFYTPY/MruOeDze3Nz8/PPPy0SkkydPfvDBB8FgUJ4BSXnk7W9+v980Tbfb/f777yt/y7LOWxslPxpcoY8kpI8//rjH45FEbM6cOZeeb/Y8svwUAQQQQAABGwoQ+thwUGgSAggggEC5BRYtWiSLm0KhUOkmL/3XDjXj4+TJk6NGjZKVWaFQKBwOBwKBNWvWyDwXSSVuu+02r9dbW1srOzFHIpH58+er1VVq+c/XX389ceLE66+/vqmpKRQKBQIBeRuXbGETj8dHjRo1duzYSCRSV1cnewAZhjF8+HB5M3c8HjdNc/fu3TIT5LygoTuFioS+++67BQsWjB079qbLPyZPnvzee+9J4el0+le/fkuln376aWNj44gRI+rq6mKx2LBhw+LxeDAY1DQtGAzW1dW1tLQ0NzdLCuP1ehOJRG1trdPp1DQtHo+73e5wOLx37171LicVZ/z444+NjY1DhgxpamrSNM3j8dTX17vd7kgkMn369EcfffSvf/3rY489dsstt5imWVNT09DQUFVVFY/HGxoa/uM//iMej2/atKm7Vdk+kSDm0KFDixcvlqV2sVgsEAjInk0yGyscDre0tIwbN66lpUWCD5mj5PP5TNMMh8Nut9vv98v2z2ov8POSJjX6lmWNHz/e4/FEo1GZ8RSJRJYtW6aez7L1/RIrKhaLgqNpmmmara2tl3gjlyGAAAIIIDAYBQh9BuOo0WYEEEAAgT4WKH/oozpw9uzZMWPGyL65EsS43W5ZcqLmttx8882yAKempka25l24cKEqQQUlqVTqlVdeaWlpue6664LBoGQ9kv7IJi/BYFCmushuLzI9R0IN2dh43bp1sseNehmWquW8k2KxmE6nVRBw+vRp2RtF9p259D/PK1b+2vPbr3K5XEdHx/r162Ox2LXXXhuJROrr651Op8zdiEQiiUQiGo0GAgFZ/KVp2ogRI6qqqgzDCIfDwWDQNM1NmzapnqrqJGJbvny5LNoaOXKkbHg0YsSIUCgk86FUPhIKherq6kaMGCFThxwORzAYfOGFF9rb248dO3bBfpXhQ5Veff3117NmzXK5XDU1NbW1tR6PJxAIqF4Eg0Fd130+n5rwEgqFTNOsrq4eMWJENBpdvHhxZ2enPFrJZFJ2wOns7FQjLq/0kupkl6VwOOzxeOSNYA899FAZOtu7Kgh9eufGXQgggAACg1SA0GeQDhzNRgABBBDoS4Hyhz4SmqTT6TNnztTW1sq70uVFS4FA4KWXXip9Y/r06dP9fn84HJa5GG63e/78+blcTmZblO6zm0wm33rrrYkTJ0p+JIt3IpGIvMrdMIy6rkMigBEjRlRXV7e0tFRXVzc2Nt5yyy1iqiZxqDSkB2uVAvRwTc8/kpe+q+1yer5YJVxnzpxZt27d2LFjhw4d6na7E4lEJBLRdd3j8TidTrfbLbN+Ro4c2dDQ0NjYGOk65GXt8+fPVxNYVLwlJctm3k8++aSsBQuHw6FQaOLEiV6v1+12y4vtw+GwRD9er7exsVECplAoNHv27O+++67n9vf3T9XaMcuytm3b1traquv6iBEjYrGYmvwlffH7/fKJvHHM5/PJe828Xu+oUaM2b94sTU2lUlKmLJorFAry12KxqPainjJlimhLzujxeB588EFZndff/e1F+YQ+vUDjFgQQQACBwStA6DN4x46WI4AAAgj0mUD5Qx/V9Hw+X1tbKy+Kks13PR7PSy+9pMKUbDZ78803y+qzQCAgO7A8+OCDqgQJfVKplMqANm/ePGHChLq6Olmg5PP5AoFAMBiMRCLXXXedvOw8kUjEYjF525TP5xs2bNikSZNkex35Pm9ZltoXWdWlTlT4otapZbPZkydPSmMu/c/Ozk6VMcmb0XteFiRNUoHCZ599dscddxiGIVOZdF2XJXISZ8iby2XKjyzpkuktahFWe3u7VHdeT0+cOLF69erm5mbZIvr666+XYE6SIE3TJFPTNM3n8w0dOlTX9ccee+zw4cPi03MXlGE/neTzeUW6b9++FStWNDc3Sxzm8/kikUg8HpfQStd1mfrkcrmGDx8uiVg4HHY4HE888cSRI0fk/e7qle0X7F0ulxs7dqxsBhTuOjRNe+KJJ/qpd1deLKHPlRtSAgIIIIDAIBIg9BlEg0VTEUAAAQT6S6D8oY/sB5xOp48dOzZ69GjZjTjUdSQSibfeekt9bz99+vSsWbNkZZbX65XlXUuXLu3o6JDZMWqOTGkQY1nWu+++e9NNNzmdTpfLJS9xdzqd8a7D7/fLhjiJRGLo0KHyAixN0xKJxFdffdV9y96Lucsb1kv3+r3YlZf+eaFQUB254F1KRjp+4sSJl19+uaWlJZFIyOY1knDJCiaZ4pRIJOrr60OhUDQajcViDoejpaXlyJEjsq2vWkZ35swZydqKxeLZs2d//PHHhx9+WMTcbrdMj4pGo/F4PBKJSLqk6/of//jH7777TlqVTqdlJdQFW162D9UsMMuyzpw5s23btnvuuWfcuHG6rktHZB1WOBx2uVxOp3PMmDETJkxwuVxer7eurk5e3P78889Lg3O5XOn7yPL5vIy4/HnmzJk777zTNE15g5vsJPX44493dHSUTjsqW99/tSJCn18l4gIEEEAAgUoSIPSppNGkLwgggAACvRQof+gjDZW44YMPPvjwww//3nWsX7/+lVde2bNnj4o2CoXCxx9//O6778oF//jHP9atW/f111+rrpamDGoxjvqWfujQoddee621tXXGjBmzZs2aNGnS7373uwcffPDZZ5/97rvvNmzYMG7cOE3T6uvr5Uv7XXfdpTa7UVVc7ES+9svGzyp7utjFF/xcNm/OZDLnzp27lNVkqhC1zkheJZ7P53/++efXXnvtgQcemDlz5m233XbLLbdMnz794YcffvHFF7/99tt33nln3Lhxw4cPj0QiLS0tI0eOnD17trynTE3MkbBJ1jHJtKNkMnny5Mn169c/9thjCxcunDFjxpQpU26++eZ77rnn8ccff/nll9va2jKZTD6fVzOzSlfbqdaW7aR0o6VSIsuyjhw58u677z722GP33nvv7bffPm3atKlTpz7wwAPLli3bsGHDN99809raKsviamtrJV7cuHGj5GKWZe3fv/+8t7bL8q5isfjpp5/+4x//ePvtt99///133nln3bp1O3fuLFuXL7ciQp/LFeN6BBBAAIFBLUDoM6iHj8YjgAACCPSNQPlDH0kKJNmRrEHNl5H5EWrnlAv2MJ1OF4tFub1QKKTTaclcSr/nFwqFs2fPqp19Zf8gtYWNFJtKpZ5//nl527psG1RTU7N8+fKTJ0+WbirUvQ3qDevqR2qTl/PfOt7j30ujIjXjRpXZ/USuz2Qyql8qosrn86lUKplMiq3MdlFZTEdHx+rVq+vq6oYNG+Z0OuV15o899pgs7EqlUhL9qLCsra1NnStbmeRy3nvNMl2HNDWVSpX2qHv7+/uT8yKnbDabSqVkldZ586dyuVx7e3s+n1cN3rFjx6233lpVVRUIBGQ5Wzgc3rZtm7RZIh7F3kNH5EnO5XKlcWQP15f5R4Q+ZQanOgQQQACBgRUg9BlYf2pHAAEEELCFQPlDH9VtCXdksox8qD6RzYYl2ZFAJJlMSoqhvsCr2THqJJfLZbPZ0tefSzykZuUUCgX5ni+3ZDKZRx55ZPz48dOmTaurq7vxxhvHjh37z3/+88yZM6qR3U9UM5LJpDTYsiw1Zab79T18otqjrlH5l/qk9ETVIj3tOZySySli2N7e/vTTT48ePXry5MkTJkwYP378qFGjPvzwQ8uyBERUS9uTy+VUzCFr2aQlKp8qFAqqtSo9UZ+UNrvM5+l0Wo1LsVhU59lstvvCq1OnTsmAfvzxx1OmTBk7dmxLS8v48eNvuOGG+fPnt7W1SePVzs2ZTEYKLBaLkuxI5JfNZoVakZa515dSHaHPpShxDQIIIIBAxQgQ+lTMUNIRBBBAAIHeCwxg6NP7RvfpncmuQ3aDllk8pXFGn1Y1YIXJbkESFXV2dsqbyKWzdohpBsylpGI1K6ujo0OIJDxSE6ZKrh2sp4Q+g3XkaDcCCCCAQK8ECH16xcZNCCCAAAKVJUDoIy/hKt2bprJG+L97I1N15M1f2Ww213VIlwl9ZLhV6JPvOiT4qzAcQp/K+6dNjxBAAAEEehAg9OkBhx8hgAACCFwtAoQ+V8NIS6Jx3q43quNqxZb65Oo8qXgHQp+r88Gm1wgggMBVK0Doc9UOPR1HAAEEEPg/AUKf/7PomhGjZnyUfl7Z5xUfdvR6+ETmYmFZr4sdqBsJfQZKnnoRQAABBAZEgNBnQNipFAEEEEDAXgKEPirlkVdTyTf8CtjJ5WJLk1R/7fUg2qY16gFQK7wqJhQj9LHNU0ZDEEAAAQTKIUDoUw5l6kAAAQQQsLkAoY/NB6jPm6f2rKm8/aovy+piUY6EPheLzC6rCrtdTOhjtxGhPQgggAAC/SpA6NOvvBSOAAIIIDA4BAh9Bsc49V0rVahxsdSj76qydUkXm/FUkXGPjAShj62fSBqHAAIIINDXAoQ+fS1KeQgggAACg1CA0Ect57lYCjAIR/Xymnx1pj8XG271uZyox+PyTG15NaGPLYeFRiGAAAII9JcAoU9/yVIuAggggMAgEiD0GUSDRVMRuBIBQp8r0eNeBBBAAIFBJ0DoM+iGjAYjgAACCPS9AKFP35tSIgK2FCD0seWw0CgEEEAAgf4SIPTpL1nKRQABBBAYRAKEPoNosGgqAlciQOhzJXrciwACCCAw6AQIfQbdkNFgBBBAAIG+FyD06XtTSkTAlgKEPrYcFhqFAAIIINBfAoQ+/SVLuQgggAACg0iA0GcQDRZNReBKBAh9rkSPexFAAAEEBp0Aoc+gGzIajAACCCDQ9wKEPn1vSokI2FKA0MeWw0KjEEAAAQT6S4DQp79kKRcBBBBAYBAJEPoMosGiqQhciQChz5XocS8CCCCAwKATIPQZdENGgxFAAAEE+l6A0KfvTSkRAVsKEPrYclhoFAIIIIBAfwkQ+vSXLOUigAACCAwiAUKfQTRYNBWBKxEg9LkSPe5FAAEEEBh0AoQ+g27IaDACCCCAQN8LEPr0vSklImBLAUIfWw4LjUIAAQQQ6C8BQp/+kqVcBBBAAIFBJEDoM4gGi6YicCUChD5Xose9CCCAAAKDToDQZ9ANGQ1GAAEEEOh7AUKfvjelRARsKUDoY8thoVEIIIAAAv0lQOjTX7KUiwACCCAwiAQIfQbRYNFUBK5EgNDnSvS4FwEEEEBg0AkQ+gy6IaPBCCCAAAJ9L0Do0/emlIiALQUIfWw5LDQKAQQQQKC/BAh9+kuWchFAAAEEBpEAoc8gGiyaisCVCBD6XIke9yKAAAIIDDoBQp9BN2Q0GAEEEECg7wUIffrelBIRsKUAoY8th4VGIYAAAgj0lwChT3/JUi4CCCCAwGARyOVy8+fPN7oOTdO2bdtmWVaRAwEEKk4gnU5blrVkyZJQKOTz+bxe77x58wbLbyraiQACCCCAQC8ECH16gcYtCCCAAAKVJrBo0SJd171er9vt3rx5cy6Xq7Qe0h8EEPhfgaVLl4bDYV3XDcOYP3/+/37MfxFAAAEEEKhAAUKfChxUuoQAAgggcOkChULBsiwJfTRNi0aj33777aXfzpUIIDC4BDo7O1tbWwOBgM/nC4VCCxcuHFztp7UIIIAAAghclgChz2VxcTECCCCAQKUJFItFy7Lmz5/v9/sNwxg1atQnn3ySSqUKHAggUHEClmWdPXt26dKliUQiEAgEg8G5c+dK8ltpv9roDwIIIIAAAl0ChD48CAgggAACCPxP6KNpmmma999///McCCBQiQJ/+9vf1qxZM2XKFNnTJxgMzpkzh9+ACCCAAAIIVLAAoU8FDy5dQwABBBD4dYF8Pm9Z1oIFC2QjZ7/fH4vF6uvrNQ4EEKg4AbfbHYlEHA6Hy+XyeDzhcJjQ59d/S3IFAggggMBgFiD0GcyjR9sRQAABBK5YQN7mM3/+/GAwGA6HTdP0dh06BwIIVJxAIBCIxWKhUCgSiRiGEYlEZs6cKcnvFf8uoQAEEEAAAQTsKEDoY8dRoU0IIIAAAmUTkD19WltbvV5vIBCIRCJ+vz8UClXct106hAAC/y1gGIbX6/X7/R6PJxKJ3HvvvWX7bUNFCCCAAAIIlF+A0Kf85tSIAAIIIGAvgUKhsHDhQtM0Y7HYkCFDZs6c+bvf/W4GBwIIVJzA5MmTH3jgAdM0nU5nNBo1TZPQx16/jmkNAggggEBfCxD69LUo5SGAAAIIDCqBbDabz+cXLFjg9/tN06yrq/vmm2/y+XzFvbaIDiGAQCGfz2ez2QceeCAajQaDQU3T2NNnUP3CprEIIIAAApctQOhz2WTcgAACCCBQSQKyvGvJkiUej8fpdPr9/q+++qqSOkhfEEDgPIEFCxZomub3+3Vdv++++877KX9FAAEEEECgkgQIfSppNOkLAggggMBlC6jQxzTNSCQSDoc/++yzzs7Oyy6IGxBAwPYCmUyms7OztbU1GAxGuo65c+dms1nbN5wGIoAAAggg0EsBQp9ewnEbAggggEDFCBSLxfnz5wcCgWg0Wltbu23btorpGh1BAIHuAkuWLAmFQoZhmKY5b9687hfwCQIIIIAAAhUjQOhTMUNJRxBAAAEEei+waNEin8/ndrtdLtdnn33W+4K4EwEEbCxQKPz3tj4LFy70er1ut1vX9QULFti4vTQNAQQQQACBKxUg9LlSQe5HAAEEEBjUAtlsNpfLLV68OBwORyKRUCj05ZdfDuoe0XgEEOhZ4KGHHjJNU9f1YDDI8q6erfgpAggggMBgFyD0GewjSPsRQAABBK5UIJ/P/+EPf9A0Ldx1fPHFF/l8vsiBAAIVJ2BZVrFYvP/++7WuIxwOz5s3r1AoXOkvEe5HAAEEEEDArgKEPnYdGdqFAAIIIFBGgUWLFmmaput6KBTaunVrGWumKgQQKKtAsVhcvHhxIBDQNM00zdbW1rJWT2UIIIAAAgiUV4DQp7ze1IYAAgggYEsBQh9bDguNQqDvBQh9+t6UEhFAAAEEbCxA6GPjwaFpCCCAAALlEiD0KZc0XCZOXQAAIABJREFU9SAwwAKEPgM8AFSPAAIIIFBeAUKf8npTGwIIIICALQUIfWw5LDQKgb4XIPTpe1NKRAABBBCwsQChj40Hh6YhgAACCJRLgNCnXNLUg8AACxD6DPAAUD0CCCCAQHkFCH3K601tCCCAAAK2FCD0seWw0CgE+l6A0KfvTSkRAQQQQMDGAoQ+Nh4cmoYAAgggUC4BQp9ySVMPAgMsQOgzwANA9QgggAAC5RUg9CmvN7UhgAACCNhSgNDHlsNCoxDoewFCn743pUQEEEAAARsLEPrYeHBoGgIIIIBAuQQIfcolTT0IDLAAoc8ADwDVI4AAAgiUV4DQp7ze1IYAAgggYEsBQh9bDguNQqDvBQh9+t6UEhFAAAEEbCxA6GPjwaFpCCCAAALlEiD0KZc09SAwwAKEPgM8AFSPAAIIIFBeAUKf8npTGwIIIICALQUIfWw5LDQKgb4XIPTpe1NKRAABBBCwsQChj40Hh6YhgAACCJRLgNCnXNLUg8AACxD6DPAAUD0CCCCAQHkFCH3K601tCCCAAAK2FCD0seWw0CgE+l6A0KfvTSkRAQQQQMDGAoQ+Nh4cmoYAAgggUC4BQp9ySVMPAgMsQOgzwANA9QgggAAC5RUg9CmvN7UhgAACCNhSgNDHlsNCoxDoewFCn743pUQEEEAAARsLEPrYeHBoGgIIIIBAuQQIfcolTT0IDLAAoc8ADwDVI4AAAgiUV4DQp7ze1IYAAgggYEsBQh9bDguNQqDvBQh9+t6UEhFAAAEEbCxA6GPjwaFpCCCAAALlEiD0KZc09SAwwAKEPgM8AFSPAAIIIFBeAUKf8npTGwIIIICALQUIfWw5LDQKgb4XIPTpe1NKRAABBBCwsQChj40Hh6YhgAACCJRLgNCnXNLUg8AACxD6DPAAUD0CCCCAQHkFCH3K601tCCCAAAK2FCD0seWw0CgE+l6A0KfvTSkRAQQQQMDGAoQ+Nh4cmoYAAgggUC4BQp9ySVMPAgMsQOgzwANA9QgggAAC5RUg9CmvN7UhgAACCNhSgNDHlsNCoxDoewFCn743pUQEEEAAARsLEPrYeHBoGgIIIIBA/wvk8/lsNrts2bJwOKxpmmEYX3/9df9XSw0IIDAAArlcLpPJPPDAA6FQyO/3m6bZ2tqaTCYHoClUiQACCCCAQFkECH3KwkwlCCCAAAL2FmhtbfV6vU6n0+v1fv/99/ZuLK1DAIHeCxSLxXnz5rlcLrfbHQqFFi1a1PuyuBMBBBBAAAHbCxD62H6IaCACCCCAQH8KpNNpy7LmzZtXV1eXSCQMw/j+++87Ozv7s07KRgCBgREodh2LFy+ORCK1tbXhcPjuu+/O5XID0xpqRQABBBBAoP8FCH3635gaEEAAAQRsLJDNZi3LmjVrlq7rfr/f4XD88MMPfAm08YjRNASuSEBm+ni9Xl3XPR7PnXfeeUXFcTMCCCCAAAL2FiD0sff40DoEEEAAgbIILFiwwDRNv9/vdrt37NhRljqpBAEEBkZgyZIlpmkGg0Fd11tbWwemEdSKAAIIIIBAWQQIfcrCTCUIIIAAAjYWyGaz999/v/xvf03Tvvjii0wmY+P20jQEEOi9QDqdln/vDofD5/PNnTu3o6Oj98VxJwIIIIAAAvYWIPSx9/jQOgQQQACB/hdIJpN//vOfb7zxxptvvvn3v//99u3b+79OakAAgYERyGQyTzzxxOTJk0ePHn3LLbesWrWKPbwGZiSoFQEEEECgLAKEPmVhphIEEEAAAbsKyNuac7ncyZMni8Xi8ePH7dpS2oUAAlcqkEqlLMs6ffp0Z2dnMpk8e/bsqVOnrrRQ7kcAAQQQQMDGAoQ+Nh4cmoYAAggggAACCCCAAAIIIIAAAgj0VoDQp7dy3IcAAggggAACCCCAAAIIIIAAAgjYWIDQx8aDQ9MQQAABBBBAAAEEEEAAAQQQQACB3goQ+vRWjvsQQAABBBBAAAEEEEAAAQQQQAABGwsQ+th4cGgaAggggAACCCCAAAIIIIAAAggg0FsBQp/eynEfAggggAACCCCAAAIIIIAAAgggYGMBQh8bDw5NQwABBBBAAAEEEEAAAQQQQAABBHorQOjTWznuQwABBBBAAAEEEEAAAQQQQAABBGwsQOhj48GhaQgggAACCCCAAAIIIIAAAggggEBvBQh9eivHfQgggAACCCCAAAIIIIAAAggggICNBQh9bDw4NA0BBBBAAAEEEEAAAQQQQAABBBDorQChT2/luA8BBBBAAAEEEEAAAQQQQAABBBCwsQChj40Hh6YhgAACCCCAAAIIIIAAAggggAACvRUg9OmtHPchgAACCCCAAAIIIIAAAggggAACNhYg9LHx4NA0BBBAAAEEEEAAAQQQQAABBBBAoLcChD69leM+BBBAAAEEEEAAAQQQQAABBBBAwMYChD42HhyahgACCCCAAAIIIIAAAggggAACCPRWgNCnt3LchwACCCCAAAIIIIAAAggggAACCNhYgNDHxoND0xBAAAEEEEAAAQQQQAABBBBAAIHeChD69FaO+xBAAAEEEEAAAQQQQAABBBBAAAEbCxD62HhwaBoCCCCAAAIIIIAAAggggAACCCDQWwFCn97KcR8CCCCAAAIIIIAAAggggAACCCBgYwFCHxsPDk1DAAEEEEAAAQQQQAABBBBAAAEEeitA6NNbOe5DAAEEEEAAAQQQQAABBBBAAAEEbCxA6GPjwaFpCCCAAAIIIIAAAggggAACCCCAQG8FCH16K8d9CCCAAAIIIIAAAggggAACCCCAgI0FCH1sPDg0DQEEEEAAAQQQQAABBBBAAAEEEOitAKFPb+W4DwEEEEAAAQQQQAABBBBAAAEEELCxAKGPjQeHpiGAAAIIIIAAAggggAACCCCAAAK9FSD06a0c9yGAAAIIIIAAAggggAACCCCAAAI2FiD0sfHg0DQEEEAAAQQQQAABBBBAAAEEEECgtwKEPr2V4z4EEEAAAQQQQAABBBBAAAEEEEDAxgKEPjYeHJqGAAIIIIAAAggggAACCCCAAAII9FaA0Ke3ctyHAAIIIIAAAggggAACCCCAAAII2FiA0MfGg0PTEEAAAQQQQAABBBBAAAEEEEAAgd4KEPr0Vo77EEAAAQQQQAABBBBAAAEEEEAAARsLEPrYeHBoGgIIIIAAAggggAACCCCAAAIIINBbAUKf3spxHwIIIIAAAggggAACCCCAAAIIIGBjAUIfGw8OTUMAAQQQQAABBBBAAAEEEEAAAQR6K0Do01s57kMAAQQQQAABBBBAAAEEEEAAAQRsLEDoY+PBoWkIIIAAAggggAACCCCAAAIIIIBAbwUIfXorx30IIIAAAggggAACCCCAAAIIIICAjQUIfWw8ODQNAQQQQAABBBBAAAEEEEAAAQQQ6K0AoU9v5bgPAQQQQAABBBBAAAEEEEAAAQQQsLEAoY+NB4emIYAAAggggAACCCCAAAIIIIAAAr0VIPTprRz3IYAAAggggAACCCCAAAIIIIAAAjYWIPSx8eDQNAQQQAABBBBAAAEEEEAAAQQQQKC3AoQ+vZXjPgQQQAABBBBAAAEEEEAAAQQQQMDGAoQ+Nh4cmoYAAggggAACCCCAAAIIIIAAAgj0VoDQp7dy3IcAAggggAACCCCAAAIIIIAAAgjYWIDQx8aDQ9MQQAABBBBAAAEEEEAAAQQQQACB3goQ+vRWjvsQQAABBBBAAAEEEEAAAQQQQAABGwsQ+th4cGgaAggggAACCCCAAAIIIIAAAggg0FsBQp/eynEfAggggAACCCCAAAIIIIAAAgggYGMBQh8bDw5NQwABBBBAAAEEEEAAAQQQQAABBHorQOjTWznuQwABBBBAAAEEEEAAAQQQQAABBGwsQOhj48GhaQgggAACPQrk8/l0Om1ZVj6fT6VSlmXJX1Op1KFDh7Zt2/bRRx+98847n3zyyY4dO5LJZGdnp5SXTqfz+bxlWcViUdWQz+flr7lcTj6Ua+SvhULBsqzjx4+fO3fu1KlTlmXt37/fsiz5aWk5qkBOEECgDwVyuZz8M5R/8lJyJpORk1QqJeft7e0//PDDli1bPug6vvnmm4MHD548eVJ+OagSisWi+pde+u/37Nmz8puhWCxms9lCoVAsFtPp9KFDh7Zu3free++9//77n3766Y4dOw4fPixXJpNJaUM+n1flqxPLskrP+xCEohBAAAEEELgUAUKfS1HiGgQQQAAB+wpks1lJfCzL2r59+9KlS2+99dZYLKbrejgcjkQiuq57vd5wOHzrrbe++uqrhw8fVt/xcrmc+sKmClHhUS6XO3funGVZbW1ty5cvHz169JQpU8aNG9fQ0HDTTTfddtttO3bsUN8b7QtEyxAY/AIqN1H/YJPJpMSymUwmlUodP378vffeu+eee+LxeDAYrK6udrlcmqbpum6a5qRJk55++umtW7e2t7dLZtTR0SEqUmChUFD5UT6fV+e7du1atWrV+PHjdV03DCMYDGqa5vV6HQ7HtGnTJk2a9PLLLxcKBZUjq3Yq8mKxKO1Un3CCAAIIIIBAOQUIfcqpTV0IIIAAAn0mIF/VTpw4ISX+/PPP999/f0NDQ2NjYyQS0TTN7/cHug7DMEKhkGEY4XDYNM3x48evWrVqz5498vVMfR9TJzJ/R30n3LRp0w033KDrejQadTgcwWCwpqZm5MiRmqZ9++238gUym832WccoCAEEugmof2KS2liWpf6FHjp0aNWqVc3NzU6nU/6ZezyehoaGaDQaCAR8Pp/8KjC6jsWLF3/11VfnZbWFruO8D6XYxsZGwzB8Pl8oFDJNU4pKJBJutzsQCBiG4fV677777q+//lqFRypTlt8k5xXbrWd8gAACCCCAQP8KEPr0ry+lI4AAAgj0t0CxWNy0adPEiRMdDoff7/d4PA6Ho6amxuv1mqYZi8XC4bDedcTjcbfbfc0113i93ttvv/3vf/+7tE0t9CgWi7K4Q6KcH3/8cfny5bquRyIRv98/cuTIaDQaj8dra2slSPrxxx8ty1KTAvq7p5SPwFUrUJqkFAoFlQFt3Ljx3nvvdTgcw4cPDwaD4XA4GAyGQqGamhqfz6frusp/5XzYsGFTpkz56KOP0ul06XoxtQhLKjp48ODjjz8+YsQIj8fj9XoDgUAwGJSIx+FwVFVVyXyiqqoq0zRdLld9ff3HH38suU++65CRktVhV+2o0XEEEEAAATsIEPrYYRRoAwIIIIBALwXOnTv3xhtvhMPhmpqa8ePHy//Mj0Qi8XjcNE2fz+d2u/1+v3xbCwQC4XC4oaHBNM0hQ4aMGTNm3bp16XRafYcsFAqyyKutrW3Dhg3RaNTpdLpcrsbGRvk+6XK5RowYoeu6fBXcvn17sViUb3q97AC3IYDAJQvIP0+V0m7cuHHChAler3f48OGmacq/U5mDI1ltLBYzTVMiWjXdb+jQobW1ta+//rosEFP/fmUtp8whmjNnjqZppmlGo1HJfKuqqrxeb21trZpLeO21144bN87tdns8nmg0aprmTz/9JLv8yGZAl9wtLkQAAQQQQKAfBQh9+hGXohFAAAEE+k9AtmV99tlnZeOehoYGwzCGDRvm9Xr9fr/WdRiGYZqmbMMh/5/f6/Xquq6+CtbW1m7btk0aKRtzWJbV3t6+dOnS6urqUCg0ZsyY66+/XrIkh8PR1NSk63o8Hpfyd+7caVlWZ2dn6dKw/usyJSNw1QrIP7HSjbeOHTs2adIkn88XiURM06ypqZF//vILwefzeTwet9vt8/lkmadMAwyHw9Fo9Nprrx01atTWrVuLxaJkPblcTqbsZTKZjRs3hkKha6+9dvTo0bquy9Sh+vr6O+6446GHHnrkkUcWLFgwceLEpqYmwzAkY9I0LR6Pz549Ww2Q2hjesiw1L0n9lBMEEEAAAQTKJkDoUzZqKkIAAQQQ6GOB06dP33777dddd11zc7PL5frP//zP8ePHR7qO5ubm2bNnP//88+vWrXvyySfvuece0zRDoZCu606ns6amJhQKRSIRp9P5xz/+8dixY/L/5+X1XgcPHgyFQolEwuFwyOyAIUOGtLS0uN3umpoa+RLo8Xh8Pt/27dvVi376uG8UhwACJQIqV5VoJplMrly5srq62u/3V1VVaZrW0tLS0NAgk25uv/32VatWPf/8888999wf//hHyYZkns7w4cMbGhpisZjL5Zo5c6ZkvqW7OJ89e3bevHmxWMzj8Uh87HA4amtrH3vssT179qgWvfvuu01NTW63u76+PpFIaJrmcDgikcixY8fUJj7ntVndywkCCCCAAALlFCD0Kac2dSGAAAII9JlAsVh86qmnAoGAvJ3H4/HINqvBYPDxxx8/dOiQ1JRMJmXD5l9++eUPf/iD3++PRCLRaNTn88nyDcMwNmzYIBfL7KGjR4/W1dXJkpCqqqr6+vpx48a99dZbEyZM0HXd7/fruh4IBDRN27p1a5/1h4IQQKBHAZkvI5N9fvrpJ5loYxhGIpEIh8MjR450OBy///3vN23aJGmL2gboyJEjq1evnjBhQk1NTWNj43XXXVdbW1tXV/df//Vfy5YtU7v5yGSfVCoVjUY1TQsGg9FotKamZuLEia+++qqsAstkMmon6YMHD44ZM6ampiYcDldVVTU0NASDwe+++04tE1PpT/dXevXYUX6IAAIIIIBAXwoQ+vSlJmUhgAACCPSHQLHrkG9QxWJR5uO0tbX5fD75n+1er1dWbLnd7g8//FAlPmpVhXz9a29vl42ZZY/ncDjs8Xg0Tbv55pvlW5lUcfr06VGjRkUikerq6ng8vmLFiiNHjhSLxQkTJrjdbtkTWjZ2/frrr5np0x8jTpkIXFBA7b8zf/78uro6r9eraZphGJFIZOjQoa2tradOnVLXqLVg8hvjyy+/lA16XC6XxDqS4W7ZskXVlc1md+7cKT81DCMQCMjLuVSOU7pxez6ff+KJJ1wul9vtliVmhmG88MILUpr8SpF5SaolqiJOEEAAAQQQKJsAoU/ZqKkIAQQQQOCKBNT/LZco54033pD/G28Yht/vD4fDhmEsW7asra1NVXNe6GNZ1o4dO+68885QKCSBTjAY9Pv9DQ0NW7duVXuv7t27V/KgOXPmfPHFF/KFLZPJjBkzRtM0Qh/FywkCZROQ3FYylP3790+dOjUcDnu9XsMwNE3z+Xz33nvvv/71L2mPzPRR6Y/8tbOz87XXXlP7+8huX7qu/+lPf8p0HblcLpvNHj9+/Omnn37mmWf++te/PvPMMytXrty4caNlWel0Wub4FAqFfD4vAfHjjz9eV1cXDodlKajH43n11VfljV1qhyB5cXvZoKgIAQQQQACB8wQIfc4D4a8IIIAAAvYSUFlPabMKhcL06dODwaDT6YzFYrKtcjweL910o1gsqj01Sv///FtvvSVvdJbtmWWR14oVK+TiQqFw9OjRWbNmvfrqq6q0fD6fTCZvuummWCxG6FM6EJwjUB6BYrGofhW8/fbb0WhU5ukYhqHreigUKl1rKf+W1eoq9Xugo6Nj9OjRiUSipqYmEonIjc3NzSdOnCjtxblz5yQvTiaTMktIfqoKVDnOI488kkgkfD7fsGHDmpqaAoHAJ598ks/ns11H6a+d0vI5RwABBBBAoJwChD7l1KYuBBBAAIHLFlBf2GQhldx/8uRJeTOXrNQIBAIej+eOO+6wLEu+cZV+PZNb5JNisdjW1lbXdVRXVwcCAb/fHwwGf//738tl8v/nv/nmG/UNUz6xLGvSpP/P3pt/R1G07eP/z+ec1+dBICSz9nTP9Dp7ZpKQsGQBws4DsgnKKqKAgPAgqyiyKYIKIqsgIgIivrLvSNgDZCOTyewz3/PNdd779JksBBIWsfoHqPR0V911dXfVXVfdS3nv3r0Z6fPUj5DdwBDoDgQwFKTT6Y8++gg2PuB9NE0bPXo02Jnm5mZE5tI3mE6noy1HJpP5+OOPfT6f0WhECDBZls1m89WrV1MtRyaTadMVq6mpCRXG4/Hm5maMCb///rvP5zMYDPn5+aqq5ufna5oG31IaPcjYUC8PKzMEGAIMAYYAQ+BFIsBInxeJNmuLIcAQYAgwBJ4aAVrpYXcdiZDPnz+PEM6IqexwOGw22/r161vXnkqliACKRCJYg73zzjuFhYV5eXmqqtpsNp7n/X5/PB6HRQ8qQSAhvbnQwIEDrVYrI31ag8zOMAReAAL4kJPJ5Pjx4202GzLr2Ww2p9O5du3aWCym/4SJ+iH+BSPJyZMnZVm22+2KotjtdlEUrVbr/v37iVyur6/PZDJNTU1krQPfLqoQPf32228rKyuNRqMkSR6Pp0+fPhCD6sFlNPi8AHxYEwwBhgBDgCHAEGgTAUb6tAkLO8kQYAgwBBgCrwoCtNIj0ieRSBw4cEBRFCz8LBYLcrGfOnWKrHIgvZ7xyWQyDQ0NOL9r1y6u5XA6nbIscxzH8zxcPLBERKMUvCOVSjU1NZWWlgYCAUb6vCpvBpPjH4YAvspwOFxeXg7fTAToQQI+MsBBNi58yPpc7DAVfPTokSAIasuhKApCAq1YsYJSfWEMIQsdFK5duzZ58uThw4cPHjy4rKzM7XZrmsZxnM/n43k+Ly8vEAgsXry4NcVDlNM/7Fmx7jIEGAIMAYbAK4QAI31eoYfBRGEIMAQYAgyB1ghgHYWVGFZQyWRy69atsPFBeh1VVe12+82bN5MtB8J/xONx/RoMLh6ov6qqymQyORwOURRdLheysFMEn1QqhV19/YItlUoVFxebzWZG+rR+RuwMQ+B5I0CkTH19fTAYlGXZZrPhE+Y47tSpU0TTUMAdYn9gtQcONxQKeTwe0MRyy2Gz2T744INYLIavHvVQbYgG/ddff2Go0TTN5/PZbDZJkhBC3mKxjB079siRIzARymQydC9Z/ZDwzxslVj9DgCHAEGAIMARaI8BIn9aYsDMMAYYAQ4Ah8AohgBWUPtBGOp3esGEDx3HYbHc4HMjjc+PGjfbkjkajIICwhGtsbPT7/aqqIqCPIAgul+vcuXNoRb9CS6fT4JsSiURpaSkYH/BNkiSxlO3tAc7OMwSeEwI1NTUej0dRFDLxs1gsFy5cQHO1tbXUrn7QiMVi+K7D4XBZWZkgCBaLRRAETdMsFsu8efMQDozuRQE1ILi7zWaDYRHsgyiA9PTp03/66af79+/TvcQ1t2Z/6BpWYAgwBBgCDAGGwAtDgJE+Lwxq1hBDgCHAEGAIPAsCWKplBdTYuHEjz/Nut1uSJIPB4PF4OI6rrq7GxZSLJ+uuTCaDaK+3bt2y2+1+v5/jOJvNpqqqLMunTp2CfPq1IowFsCAsLS3VBxJipM+zPE52D0PgmRAgs7v6+vrCwkKj0Qj7PkVRzGYzSB+yB6T06kS7JBKJWCyWSqXq6+sHDBiAKGCI7GOxWBYtWgShyDYHf2IASafT9+/fhzOpqqrgm+x2O0I4w9qosLBw7dq1cCBNJBKRSARjUTKZhFTP1Gl2E0OAIcAQYAgwBLoBAUb6dAOIrAqGAEOAIcAQeH4IYLGHhRPWUZlMZseOHZIkwb8DeXzsdvuVK1ewx45b4vF4Y2NjOp3Gwi8ej5P/xalTp1RVzcvLIy8PSZKuX7+OXtBGPf5EbclkkpE+z+8ps5oZAh0jgG8fTliFhYWCIJDFjdFoPHPmDBJs6QcKfLlNTU2RSITYnKamJrfbLYoiLHdEUbTb7YsWLWpubkbU9kQiQReTSLW1tePGjRs/fvzw4cMrKir69u3r9/sdDkePHj1sNpvVajWZTAUFBZMmTbp16xbdxQoMAYYAQ4AhwBB4FRBgpM+r8BSYDAwBhgBDgCHQLgLE4Oj9L44fP66qam5ursPhkGXZarUqivLjjz+iFqRnJoYILl2ItZFMJhOJxKeffhoIBHJycjRNo1Q+2KXHeg+NojZG+rT7bNgPDIEXiwCs8AYOHKgoiiRJsiwLgmCz2Xbu3ImfYMoHoSjPOv5MJpPxeLy6uprjOEmSYKEjiqIkSZ9++in1A6F/8NUnEonHjx/jJ73jWDqd3rt378qVKyVJ0jQNwX3sdrvNZlu1ahUZHCGWkD7GELXCCgwBhgBDgCHAEHhhCDDS54VBzRpiCDAEGAIMgWdBACwM/iUbnKqqKkVRTCaTLMtI46Vp2scff4wGsGDTZ1vPZDIPHz7MZDKNjY2JRKKiokLTNIfDIbUcNputb9++SO5DCzaSlZE+BAUrMAReIgJE406ePBkhdSRJstvtkiTNmDGDBAuFQolEAvZ9IHwpklcmk9m/fz8sBJ1OpyiKCAh98ODBaDQKfgfkEbVFdoKoH65bGCVu3749b948SiOoKIogCIWFhbAZjEajNATRwEVCsgJDgCHAEGAIMAReGAKM9HlhULOGGAIMAYYAQ+BZEADnkmo5yO0iFArl5+cj+Q7P88jfPHjw4FAohDVbPB7/7rvvcE1ZWZnH45k9e3ZjY2Mmk7l//74sy0ajURRFJGvneX7q1KmwJMLtaBTiMtLnWR4bu4ch0K0IpNNpUCfpdHrdunUOh0MQBNjpgLStrq5Gg42NjdFotLy8vKioqLi4uKCgYPDgwUeOHMGvb7/9tqIoHMe5XC6bzQam5vbt2xTwC60kEgl9RLDGxsZkMplKpfT0TTwev3LlitfrRWwgW8thsVh++eWXeDxOtFG3wsAqYwgwBBgCDAGGwFMjwEifp4aM3cAQYAgwBBgCLxIBcC7Iwk7rqHQ6PXXqVK/Xiyw8sixzHCfL8v79+0m227dvz5o1i+M4RVFUVRVFceHChdFodPHixQjkwfO81WrF8u+bb75BzGZ9TBBUxUgfgpQVGAIvCwG91cyff/4ZDAY5joN3p8FgcLlc69evh4cm3KkOHDjgcrlghmO1WgcPHvzgwYOzZ88qiuJ0OpH5y2KxSJJUXl4OKgcGQffv339D8XBnAAAgAElEQVT8+HFtbW1jY2Mqlbp7967eZSyVSoHQoRDRxcXFmqY5nU5QSFar9ZtvvqFfM5kMuZe+LOhYuwwBhgBDgCHwD0eAkT7/8BeAdZ8hwBBgCLzqCCAuBkgfyIoV2sGDB/Pz881msyAIkiQhnPOoUaPu378fDoexS19VVTVq1CiDwYDMO5qmrVixAl5dPp8Pi0ae5/v373/nzh24d6FyZunzqr8WTL5/JAIYDZqamiZMmADKBvGYZVkuKir69ttvYc0HAve9997jeR6WOP/zP/8zd+7cKVOm4C4YCoERXrt2La5vbGwMhUIzZszo37+/z+fzeDyapo0cOXLjxo0AG8NCNBoNh8OgdWpra91uN2RAZDGHw/HZZ5/heoxCJNI/8omxTjMEGAIMAYbAy0eAkT4v/xkwCRgCDAGGAEOgYwRSqZSe9MFSKhwOBwIBo9GI2BwOh8Ptdvfu3Xv16tUUlSMSiaxatcrtdtvtdsR8hTcHYnkYDAZE9hk2bBhFiSa7HhKJzrDsXYQJKzAEXgoCZMvz8ccfm0wmRVEMBkNhYSHHcW+88cbQoUOrq6uJsX306JHH43E6nYjZLEmSxWKB7Q+YGkmSnE7n6dOn9X0ZMWIEqGSv1yvLssFg+OCDDzA+6E1+YHV47NgxDC/gnZFTbOXKlahQHyRI3wQrMwQYAgwBhgBD4EUiwEifF4n2c28rmUzCMQEt6T3PKYVEayGQALX1ef0ZrLhwJquqeDxOjcL6mvwv9DW8mDJ54CcSCdqIy2QykDASiUA2PTJtCkb1IN3PE6+nOCP6dWmbNeNkLBYjrRRnsqDTQ0p40l1IQdI6IQhd2UHTdA0SlGB7ExWSOTpkg7aKEAbUwUwmg+U0NUEV0pmsAvWFqsrqe9b17E+GQOcRWLNmjdvt5nne4XDY7Xb8KwjCvHnzrly5gnpu3Lgxb948bO+bzWbk6uI4TlVVXG+z2S5cuIAYz7hFb+yjf4FHjhwpCILT6bRarZIkmc3mU6dO4eKs76LzXWBXMgQYAp1EAN9aKBTKZDJVVVXgehRFwYdst9tVVR0xYsSOHTuQtysej//4449ut7tPnz6FhYXw8UTeLlVV4eE1fvx4tI7KE4nE2rVrvV7vm2++6XK5eJ7Py8vr27fvli1boBjE43HSJc6ePTt16lSj0ZibmwsPL7vdbjQaMfhgpqOJtZN9ZJcxBNpEIEv3hl3qExWwNqvq4CSUWETQa91iBzeyn14zBFo//dZnXrMuv/bdYaTPa/KIw+GwfiGN9TzomEQiQT8hDiKtYfSdT6fTbZ6na7JYCTqfVYjH43rGJOvX5/0nJirqL5pLJBLgLGh2RE6NjlWxZDIZjUb1ZAdNsRj49P9m9Qs4Q4PM+kn/J1JH68/QujEej+NXED363UXQNJFIhOqPtRzodSqV6uA5JpPJ5ubmWCzWumn0LhqNoja9VCij5ixs8RNBof8VTRDmWRXG43EW5iALE/bnMyBw+vTpcePGWa1Wh8OhqirP84IgOBwORVF8Pt+wYcM++uijVatWTZo0CdmdFUXxer08z9tsNlwviuKyZcuwjMTYhZgd+ND0IsXj8X79+vEtBzgjm8127ty5rFFCfwsrMwQYAt2FAM3jmChTqdRXX33lcrkMBoMoioqiWCyW3r17W63WQCAwaNCgjz76aPXq1YsWLSooKIAjZ05ODsdxmqZZLJbc3FyXyzVmzJhHjx5lMhlK7h6JRE6ePInAzAgb5PP5LBaLqqrTp0/fu3fvzZs37927d/78+RUrVgwdOlQQBE3TAoGAyWTq1auXpmlvvfVWTU0Ndoxob6a9qbC7wGH1MASeAQG2jH8G0NgtDIG/KQKM9PmbPrhssfUDN5mB6C8CG0JnYrFYJBIJh8MdEAR0cZsFtJhoOaLRaCQS6ZhDabOS53RSr13B+glruUgkguwbnek1SB9IiEqIZGktdjQabWpq0lerl6H19XQG9BykoiiV9CsVqOZkMkk1o9AmfUM3PrGQSqWIaSKTqEwmU19fD15Jz3yRqVHrarNymhBBhitBJMXjcRBw1IXW9bAzDIHOI4BP8uzZsxUVFQaDQVVVj8cjiqLVagX7IwiC3W5HzGaO43Jzc81ms6qqSsuBMBwTJky4e/cu3liwlqBcydsL8qCtQCCgaRrCA7lcLlEUL1y4oCfWOy88u5IhwBB4KgTweeq3QJLJ5Lx581wul6ZpsixLLQe+d5vNJrQcsANythwcx3k8npycHJ/P5/f7Bw4cWFdXl8lk8C8VIpHIkiVLTCaT2WyWJCkvL4/nefiBGo1GOHBZLBYMMhaLxWq1olG73e71eg8cOIDxBBM3uCpGDT/Vs2YXt4cA7bG1d8FTnUdttF2qX0o8VT3s4tcYAfZWvDYPl5E+r82j/P87Eo1GE4kEuAOyucCfYGew5Kaf0Hn81PE6PBQKEaej9+dqE76s+tu85jmdBP0ESxbYYHcgTAddbm5ufioVTX9xmyZCWf3Nqj9LyObmZtp1bGpqgpsVqtUTT8QEoXLkl43FYvprstqNRCJgZ2KxGLpPIIDQeaKVViqVau8aVKWPcAnFVw8OSK6s/mYJyf5kCHQeASRprq+vh5OFJElWq1XTNEEQsLcPVw5E7igoKLDb7aBsFEXJzc0dNGjQ1atX0Ry5bNAXhBcVnA5e40Ag4HK5JEnSNA01X7hwIZ1Ot/dRdL4j7EqGAEOgMwhgckylUrAVraqqGj9+vNPpzMnJcTgcHo/H4XDYbDan0+n1em02m9FoxCcvCAIoG/iBqqp69erVVCql37AhPScUCo0bN6537942m83hcDidzvz8fFmWTSaTIAiqqnIcBzdPs9nsdrs9Ho/FYgkGg/Pnz6ewzcmWA+MJjSqd6SO7hiHQGgG8TuR41fqCLp6hmolX6mS8gi62y25/NRHQvwb68qspLZOqMwgw0qczKP39roEnDjigLOnxEy1v9L/qF+f6863L5PTb1NSUpcpkWY60vvdFnsEcCeohFAplcQ16C5csqQgKMEewpmlqaqL9kKwC3R6NRjvvtQSWBIjB6woStmm809zcTAQNyDv9OvNp52YYeZGFAhRf9KKxsRHegqBvIAzlQtL7vAAE6jsK+vBP9BNsfEh+CiREF7ACQ+AZEMC3Rh/CypUr8/LynE6nqqpw8nK73YjKgcRedrvdYDAgww68QgoKCvbv3081wLona5FGDGkmkwkGg0ajkeM4uIfwPH/q1CmMMM8gP7uFIcAQeCoE9CaltDWSyWQ2b94MJyyt5QDnazab7Xa7pmkejweRvPCrx+Ox2+19+vQ5fPgwqQEwf0ZgL0zENTU1M2fODAaDsizntRyw8fH5fEgHBvZHlmWLxdKnTx+32/3FF19kdYcEJqUi6wL2J0Ogkwi0aSitV6s6WU8nb4FWyd7bTqL6+l0GFwR9vygSqP4kK/+NEGCkz9/oYXUkqt7oo/UYjajGrZ25EomE3uSk9Y3UJIiJUChEGpLeFQhrnkQi0YH7D1X1XAtwI8piu7AyxA5eOp1uaGjo5JyXTCbbZMdadwE+UMQx4YL6+vrWV+rP6JeaOK9/BMlksqmpiUzZqaDvXWvaJZ1Od8A6wWiIYg3AOozQ0LeeFbAZ1WZd0HpKyOpdXV0dQqXoz7MyQ6C7ECAaN5lMhsPhdDp97ty5GTNmSJKEyDuiKHIcl5eXx3Gc1+vt06ePoiiBQMBut8P1w2QyBYPBM2fO0FcQi8UwVhCdTa1Eo9HRo0dj2x/Jv4qKik6ePNld3WH1MAQYAh0gQGY4NHVStoFIJHLu3LklS5YEg0GDwYB47aIogv/led5isYii6Ha7e/bsaTAY8vPzBUEwmUxnzpzJZDI0adIkjq/+0aNHO3fuLC8vR+52t9sNcyGYDiGOGGpesGDBX3/91abwtEne5q/sJEOgkwjQJKW/vs2T+gtal2lGa/1T6zPPUH/rStiZvyMCbT76Nk/+HXv3z5SZkT6vyXOnQby5uRn6UDKZrK2tDYfD1dXVFy9ePHHixG+//Xbu3Lk7d+40NDTQeka/R60/2QEuoEKgfjU1NTU0NJDChDDAHdz7vH+i8Sgej8MlDXRVJBKpra1F6zDY6VgSBPEBqqlUqr6+HmBG2zkQvhoAxuPxxsZGPQ3Xui241OF8LBarqampq6vDTmNTUxPi6eBXMsYh0opolJs3b8I+KB6Ph8Ph+vr6hoaGjttFnfF4/OHDh/AEbGxsjEaj9+7dy2QyDx8+xMtTU1MTi8WaW466ujqiyeDbRZLQW4dYlXgNQqHQnTt3rl69eubMmRMnTvzv//7vlStXHjx4UFdXp2cY9RZDrfFhZxgCnUQAizSETsct0Wj0zp07u3btmjVr1vDhw4cMGTJ48ODS0tJ+/fqtX79+586dGzduLCkp6d27tyzLMAWaNWvWmTNn6H3Gh0x/kiTNzc379u1bsWLFZ599tmLFinXr1q1fv76qqoqGHbqSFRgCDIFuR4B2HYj0aW5upghc2Iiqr6+/dOnSF198MWrUqIEDB/br18/v9w8ZMmTmzJnr16/ftWvXokWLRFEUBIHneUmSXC7XoUOHSIdBUGdITrnhw+HwkSNHli9f/s4771RWVg5oOfr161deXj5z5sydO3dWV1en0+nHjx/DsYvkpDGE6Kpux4RV+E9DALZjsJ5u07D6iYBkTVjk8o/gAPTSop6si59YObvgdUJAHx5EH1H0derjP6ovjPR5rR43rXySyeSJEycWL14cDAa9Xq+iKNjZRmALr9c7ZcqUHTt2IMFEZzyDSCU6ffr0/Pnz+/XrV1hYOGTIkOLi4nHjxn399ddEqehdIV48uKA8Hj9+/O23344dO7akpKRfv379+/cvLi6eNGnSpUuX9FwDaWYdyBmLxfbv3z969OhgMDh06NDSdo7y8vLi4uIBAwZUVFQUFRWVlpZu3LiRQGtdPxlM1dbWbt68eejQoUVFRZUtR//+/SsqKlasWHH79m3cCDlJWkzJly5dmjRpUr9+/QYNGlRRUVHQckybNu23335r3Zz+TF1d3bp168rLywcOHFhaWlpUVFRRUTFu3DiqPxaLzZo1q3///uXl5ZWVlQUFBf/5z38OHDhAXA9qy9I2wuFwTU3Np59+On78eGyHiqKI2AoIrzB69OgNGzZcvnyZuEUCQS8eKzMEOo8Arf3wUVDWrXg8TmcQFQsjAxGmGzZsgIuH3W63Wq29evX69NNP79y5g6ZxLwhxqLxELcE4jrhy/TvMlOPOPzh2JUPg2RCgr4w+dkqPhQqxgsVl2NjAREwT3PXr1/v16ycIgthyIDRPVVUVVtH62IgoYzRAhel0uqmpCftJtL+ij3OHLKg0gNAARYVn6zW7iyEABBA/LhQKNTY2IhYVvdjPBhECPjQ3N4dCocePHzc1NSGDBxS8zqwOnq1ddtffAgG4gzS2HM3NzaS9/y2EZ0K2RoCRPq0xedXP6LeMoNNAwyAV5NixYxMmTEDGCnA9drsdiS2Qy0ZRFJ7nZVkuKSn58ssv0WFibeAogZOUF7yp5di1a5ckSVCVeJ5HWhxRFNeuXUtkShdnoM6jH41GSRujQKqRSOTGjRvTpk2zWCwcx7ndbpPJBPZB0zRsx5FCRupj60ZpaIvFYl999ZXVakVnHQ6H1Wr1+Xw2m81iseTn51ssFkmSDAYDkHG0HJIkffzxx62rzTqDVu7duwdzA+QSslgsXq/XYrH8+uuvdD09dEQxiMVi8+bNs9lsJpPJ7/drmvbmm28qijJv3jy6ku5tXZg9e7bD4RAEQZIkm80mimJRURE9wUwmM2TIEICGHVGHw7F3717gpn++jx8/hi7b2Ng4ffp0r9dLO6jYR+V5XhRFTdPwvimKIoritGnT8K5GWo4s8ejpZJ1nfzIEuo4A+Ujeu3dv06ZNw4YNKygoKC0t7du374QJE3bs2EERWNl72HW0WQ0MgVcTgZMnT44YMaK4uLiioqKsrKykpOTdd999ojv2q9kXJtXrhwC0LFLp0cH79+/v2LHjgw8+KCsrCwQCHo/H5XKVlpa+8847n3766ZkzZ0j3w+3YkKB9Dn2dNLv99ddfq1evHjNmTElJSSAQ8Pv9hYWFAwYMmDNnzrZt2yiFCNK5QkUkp369KvhcHwEF0ESukqampo8++mju3LnTp0+f1XLMmDEjnU5T99sUBr+S82Ymkzl27Ni0adPmzp07Z86cuXPnzp49e9q0aVOnTv3www9ntnMsW7aMlgbUHHCAakH68Jw5c959991p06bNmzdv9uzZ77777qZNm/T0NN1OwRYePHiwaNGiiRMn4pbx48fPnj17+/btbXZHf/LGjRsTJ06cO3furFmzpk+fPmPGjP379+NhoZVFixbNmDEDIs2ePXv69On62+PxOC2FKFdvJBI5dOjQ0qVLx44dGwwGPS1HMBgcO3bs0qVLjx8/DiadbtQvH/SV0/ZY1kn258tCgJE+Lwv5rrZLIy8qgh1yNBrdvHlzQUEBAlgYjUZwEHa7ned5juNAKyDBjSRJSF86a9YsmMCQa5h+bMJwf/78+aFDh8JV3ufzISoq2J+XQvrQBrs+5k59ff2mTZv69u2bm5vr8XgkSbJYLDabDfzXU5E+mBSxZ7h8+XI47UuSJAgCEsHyPI+kHhzHGY1G0BlWq1WSJFVV7Xb77Nmzabpt72Fjhmhqatq+fXuvXr1gIAMixuv1jhgxIplMkiZKU2wsFvv99989Hg8JIEmS2+0uKiq6cuUKzUntNZrJZLqF9KFHcPTo0UAgUFZWBqINCIiiKEkSTMwMBoPD4cjLy0PwS6fTqSgKpiUIifmSAkJ1pgsd9I79xBDoJAKRSASKNbRJ0mDC4XAHZnqdrJxdxhBgCLyyCGD+orUim3Re2Sf1jxUsHA5Dh6ypqVm5cmVRURFFJXc6ncgdabPZDAaDIAgDW449e/ZkMhm6kaCDFyQZwGYymaqqqg8//JDneb/fL8syKsHmnCzLDofDZDKVlZVt27YNaioM6/CZwOWHKn9+BWTjpXk5k8kcPHgwPz/f5XIhe6aqqpqmBYPB6urqjqds9IK06FQqtX37dk3T7HY7FFee52mrUmrnGDNmDG0LIVBX1loJrcRisS1btkA2U8uhKEr//v2xj6sPygk86+rqMpnMihUrNE3DLqzdbvd6vaWlpRcvXiSGrjXOyWSyubn5p59+QpxB2sr94osvkslkPB6H3daQIUOw6y/Lst/v79u3L6JJUIV6hOPx+Pr160tKSgRBsFqtDocDbxoVrFarIAh9+/Zdt24d3k/cDjkJFqqcFV4pBBjp80o9jicLQ9+/nuzAJxeJRBYuXIiExDBdttlsZrNZFEWsvXmedzgcGOM0TXO5XHl5eW+++abZbJ4xYwZcG2hvAYXm5uYTJ05MmTJFURQQSaIo5ubmIg7iSyR9aJCi3Yx9+/ZNnz5dEITc3FwMT7m5uW63u6Cg4M0333Q4HE9F+uBJgCZ/9913Yc4jSZLX60WqDswQHMcFg0G32y1JEpg1UDZWq3XJkiUdP06i7fBMKyoqMGTjeYFd2rJlCymjRLLU1tZOnjw5Ly8PUSRNJpPD4XC5XJs3b0aLdEt7AnSd9Ekmk42Njel0+s8//1RV1e12Iz22x+MB54XcSZIkYbIhIyBYRRUUFGiadvDgQUiIDSV69/R7IO11gZ1nCDwbAuFwuKGhIRKJYP+QRhLUBg9Z9gY+G7bsLobA3wUBLP8o2ybNPn8X+ZmcrzcClHNj69atZWVlPM8bjUaohUajMTc3VxAEr9eLnUKr1Wo2m/v27et2uxcuXIhcq/pYV2QhDruSEydO5Ofn9+7dWxAEWZaNRmMwGFRaDiwTPB6P0+nMzc11Op1Tpkx58OAB2A2aGV/M96Jf71y7dm3WrFkmkwmaNjkxWK1WVVUhYQevRDQa1buqRSKR//73v6qqwhqdLPRdLpfD4UAWiNb/lpeXk3aNxL5oEYMJVHRcUFNTU1FR4fF4OI6Do4DRaJw6dWokEoEkelHj8fj58+e9Xq/RaPR4PDk5OaIoWiyW9evX6y9rs5xOpw8dOgQixmKxoLB69Wr9xYMGDcKuv8FgsNlsHo+nvr5er/lA/lQqdf369cmTJ5vNZr/fjyQY2MQFPqqqwlYAlciyPGLEiN9//52YL4pYz6gfPf6vVJmRPq/U43iyMDTmEmNN5P3atWvdbrfFYlFVFUOG1+vlOA78DoZIp9OJQY3jOPDQmqapqmqxWCZOnEiWKRi8ksnkxo0bhwwZ8sYbb4DfAZ/St29fbC/IsozzL8W9i1z6U6nUunXrioqKevXqBfsXg8HgajksFovBYPB6vc9A+lCApKFDh8JcSBRFu90OixXAaDAYeJ4nOlxRFGwdyLK8aNEi2hNo/Vxp+qHIOKdPn8a4TAlBVFX1eDwIooyJBE9/586dmKoxBOfn5xsMhhEjRtCboB/NWzfdXZY+mUzm+vXrfr/fZDIFAgGr1WqxWMCIcRzncrmcTid0EewjIXiKw+HweDy5ubkINXX8+PGsICltCsxOMgSeBwJk7B0KhdpUxZ5Ho6xOhgBD4KUjQJ6ekCTrz5cuHhPgn4wAKJWGhoZPP/2U53mDwVBYWAhtiud5p9MJo+mcnByj0eh0OlVVlWUZ/ILNZps8eTKM92mCgwIJzfDw4cOiKDpbDliLw6YjJydHEASz2Ww0Gs1ms6IoBoOB47jCwsL58+dTYCxUQguQ5/qY0ApM+F0uF5JvYt2hqqrT6XS73Q6HQ5ZlisfXnjwwJCfduLm5ecaMGQaDwWQyeTweURQRscHpdEK7lts6ysrKiM5A9C7wHVDjyZgIaB8+fFjTNFmWXS4XvA0cDsfOnTshIekb8KiaNm2a2Wx2OByFhYW4ftCgQWQ31F6nMplMMpn85ZdfYOkDkVVVXbFiBfFlyWRy8ODBWJtg0VdQUIAlHtk5ghPcuHFjfn4+gksg+yHiHlqtVvBfYK88Ho8sy71790bB4XB8/fXXxPuQqAQUnWGFVwEBRvq8Ck/h2WWgMf3MmTNerxdxmkF58DxvNpsHDhy4YMGCgwcPXmw5Dh06tGTJkmHDhjkcDoPBgBETpI/RaNywYQNGGYxZTU1NI0aMgBUJz/M+n89isTgcDkVRQHPAp+mluHfB8QrA1dXVVVZWms1mmLzC6CY/P99sNoP/egb3LnioYoYoKSlBr0GceTyeo0ePXrp06ebNm/fv37969eqdO3euX79+5cqVixcvXr16taqq6ubNmwiS/cRHi9kd/86ZMwecUW5ubiAQwCS0YsUKCp/2+PHje/fu9e3bF/Mc8lLDuIYCAHVGee26pQ9mlClTphiNxqKiot69e8PaFgGPJk2atHXr1suXL9+/f//ChQuHDh1avnx57969CwoK7HY7wg9B+PHjxz98+JDmp1QqRczjE6FjFzAEnhYB+HOR5keFNut5MZuZbTbNTjIEGALPDwG9KzENAux7f36As5qfCgGY+SxfvhxRxhVFgVO8qqqI5MjzvKIoqqqSec6//vUvBF6AshoMBu/fv5/JZODYhdAqyWSypqZm7NixMPk3mUyIt8hxXEFBwaJFiyZNmjRx4sSysjJ4eLndblmWTSaToihHjx6lLrww9y74cw0cONBmsxUXF0uS1KNHD5fLBYsnm80GOVVVvXPnDqmRJKe+QCwVvvdYLPbWW2/5fD6n04mdS8SjdLlcJpNJaOeYMGFCLBajrXfUn6WyRqNRKOGpVGrmzJkIfqqqqsvl6tWr1+jRoy9cuIA8g7g9kUj8+OOPYN/gSIF1Gan0WfXrO5VIJOLx+M8//4xEhPDz4Djus88+QzchTGlpKToEgx2Px0PRmqgvhw8f9vv9iIzB8zxc3shxBHQSYLfb7ZIk/etf/8LOeu/evYuLi3fs2KEXDGUaWlv/xM68LAQY6fOykH/2diltHqgZcL3Tpk0D0w/iX9M0o9H47rvv3r9/n9yC0GQqlXr8+PGmTZtcLhfmD6vV6nK5LBZLQUHBxYsX9RG5xowZY7PZEGb43//+t9/v/+677+bMmSOKoizLVqv1JVr6kJzhcLiyshLxdBC3aObMmUePHlVVFZY4mBie1r0LU0gsFisoKICHL3YABgwYoJ9dHj9+TA8i66F27GMM+WnMDYfDDx48wCSBmR5GWzab7cSJE/DTzmQyS5cutVqtsiwrimKxWARB6NGjx+rVqxHSGy9Dlhit/+w66ROLxXbu3AmLHlCNVqtV07SysrIDBw6gxVAo1NTUBL4/HA6fPHmyqKhI0zRBEMD+ILfXd999R5HkUqlUZ0ir1j1iZxgCnUeAuHLckkgkkskkwvo0NzeztV/nkWRXMgT+1ghQkvW/dS+Y8K8fAsePHweJU1JS0qdPn549e/p8PrPZXFlZuWzZst27d585c+bcuXObNm0aNWoUQjrabDaQCwi/MGbMGL1qir3DgwcPIrKnw+GAeUtJScmePXtCodC9e/dARhw4cGDq1Km5ubmoDQ5f8+fPJ4+zRMvxAjCPRqMzZ860tRx5eXnwaLNarYFAAAsQbH/6fL6ON1n17AMwSSQSlZWVHMchUCnP82vWrDl+/PjNmzfPnTt3oZ0DRAz0f1oFwE8caITDYegPUP5ramrAWMHkB0ryxIkTq6urcX08Hq+vr6+oqIDvhdPpNJlMFotl4cKFemKoY6h//fVXRAJCJE1RFDds2EC3pNPpoUOHiqIIax2Hw+F2u2tra/WY1NfX9+vXD8zaG2+8kZeXV1FRIcuy0+l877339u/ff6bl2L9//3vvved0Oj0eTzAYNBgM//rXv/r37w87o7q6On2d+o1zEoYVXjoCjPR56Y/gqQWgNQlxCidPnszJySksLJRl2W63ezyevLy8MWPGhMNhLLkR0ysajdLqOpPJfP75536/HwSwKIqqqlqt1lWrVuFbxdp74sSJCBnDcdyyZbUW7NEAACAASURBVMswVL3//vuCIASDQYQ3fimWPkCNCIKRI0diRCstLf3mm29grJiXl+d2uz0eT8+ePZ/NvSuTydy/f9/v91M8bLvdPnjwYKBKDwKjM80BNO4/8dHqh0gEbD5z5syQIUM8Hg/ZzvTq1WvatGn19fUNDQ2XLl2CUS7HcdAANE2rrKx89OgRIgTBUAv/dtB610mfTCaD5PU9evSQJAkeW4FA4Pz587W1tYlEQg8O+Q9fu3bN5XLl5+fzPP///t//g7HP0KFDsSVFLF4HkrOfGAJdRyDWclA9+Hbo+6XzrMAQYAi8lgjAvZrm31QqRXtpr2V/Waf+XgjEYrFJkyZxHJeXl2c2m/Pz851OJ8/zCxYsOH36dFZfksnk9u3bi4qK8vLywI/AFsPlcunTZeANX7hwIez03W632Wy22+2XL1+Gd3MmkyFap6ampqSkBIGEED164MCB9fX1sJfRc0lZwnT7nzNmzLDZbH379vV6vb169RoyZMiBAwf69+/vdDotFgvsaDRNu3v3Ln3OrWXQ/4QuxONxhONUFMVms0mSdOzYMWitWCVByc/6l2pOp9OI3gC1gbaRYrEY2qK4DatXr8YGrc1mczqd2C9ft24dLquvr1+/fr3FYoGbAiJgDhgw4Pbt21hW6BVpap0KGMd+/vlns9mMQK7wfVu5ciUkAT2HbLy4AHFOkfkH9SQSiaVLl7rdbrxs2OM3Go1lZWVXr17FaoI6GI1Gr169OmjQoLy8PLjXIYaGoiiLFi0ipwTUTCCQwKzw0hFgpM9LfwRPJ0A6nSbLHZA+4XB42bJloHtycnLcbndubm5JScnt27fJoJHagFcURopIJDJ58mRMACaTyev12my2kpISMCYwKUTU9ylTphw5cqS55UilUitXroSJEJynXgrpk0gkUqkUBsREItGvX7/8/Pxp06Zdv36dYsTAz+vf//53QUHBM5A+AO3y5cterxep7sGjT548GT+RWQoQI1sbQrvjqZFGc6Ku8GQ3btxot9theQux7Xb7Dz/8kMlkRo4ciZzxyIMuCILf7//rr7/QIpGAJEB7ha6TPn/88YeqqnCpg12SKIobN26EFTHms3Q6TfwXpsZ4PP79999zHGe32wOBAMdxfr+/R48ep06dQoQmYPJE0qq9frHzDIGOEaCPDpdhJMTLqVdQ4vF4xx9vx62wXxkCDIFXGQGMA/jkwfi8ytIy2f5pCPz222+wo3c6nTBm6dWr14wZM8LhMGYrRGMBj4Mzv//+OyIBQ7OCec6oUaPA49DEN2LECET5FAShX79+wWAQUSMzmQyIALjYx2KxkSNHBoNBuFBBx0MQaPpeOq9wPvPjS6fTH374IYJRSJK0Zs2ax48fNzc39+vXz+VykY+b2+2+e/cucGizLdJIaWcxGo1KkoQExzCTOXXqFPFBbVaCk48fP9YzX6S9Nzc3oxVk1CJaORqNTpo0CaLCkEcUxeLi4kuXLqXT6Vu3blHsCHh4Wa3W77//nuTsQBLKhn78+HFEAkXADY7jEGUVlcTjcYrpY7FYNE0LBAKPHj2Ck0EymWxoaMAWvs/nkyRJFEWr1VpQUHDnzp02taBEInH37t3y8nJka3E4HIj67PP56uvrCQe0Dkw67gX79UUiwEifF4l297RFDkFU3cCBAxG5WVVVo9Goqurs2bNplKfL9AX4gh49erRPnz6SJMFLFpn5EAEOkf/Hjx+/YMECGtwxqi5cuFAQBEVRwBw/G+lDY0GWnJhRoI3RNXrJUSaLykgkEo/HR44cuXz5cr0ml0gkKBmW3W5/WtKH5o9jx47JsgyPWYyGCxcuBDsDXkwvJMqhUAgzAZEX+ms69sBKJBLhcBgWoQgRDTJu1KhRu3btQj4FuGFjT2D16tWgnGiLhh5Wa9DoTOdJH7vdjgf9448/kuTxeHzdunXYeoJGYjabPR5PbW0tNdFmobm5ubGxsW/fvn369IHtKHoxb948XJ9MJrPehzbrYScZAt2LAJQbGlqh1bFXsXtBZrUxBF4pBOh7b25uphn/lZKQCfN6I0CRdKmb0BU//PDDgoICq9WKxLtgJRALhq7UFzBVzZ8/H1ciCq/D4fD5fH/99RdmNySqu3z58q+//nr8+PFffvnlyJEj586dA9dDkx2WBplMZvLkyYFAAE5VSCkLhba1b5d+vwRSZRnI0J/4ldqiDWx9X/TlZDI5ffp0RBSlVFbV1dXIdQuDJp7nPR7PEwM5Qyenz7y2ttbpdMLGR5KkQCBw+fJlNE3DAv4kIxcSrLa2FrURVvRT60IkEvnpp5+sVisCJGGvVBTFzz//PJPJLFy4EIGZbDYbEsb37du3oaEBMpC0raulM6lU6pdffkHoCYRqcjgcqBy0SzKZhKUPsp4hazvWC9BzDh06BE7KbrerqupwOPr06bNnz54Onk5TUxM6BRYJyZ1VVf3uu++w6Q7JwX+RqKzwKiDASJ9X4Sk8owwYSaurqz0eD5KUw0dXluXt27d3ptIbN27k5+dTwBpkp9q7dy8t7//880/yPiXuuSukDyyVIi1HmyxyZ8TWO7uCeTlx4gQckold7iLpA0uiTCZz5MiRQCAARySj0ejz+ZYuXRoKhZqbm7ds2TJp0qQhQ4aUlZWNGDFixYoV+/btwzAaiUTgrgUyPmtSzOKA9F3GT19++aUkSX6/H6MwCPUhQ4ZgkhNFEYN7YWHhlStXcDsN0N1L+mCy53l+3759eN/Qo9mzZ9vtdo7jsDMgCMK4ceM6eKCABb2bPXs26EIQRjab7e2336bpDVfqMWFlhsCLRCCZTNL2HRQ+9i9DgCHwOiEQiUSwwaCfs9jU8yKHWdYWENC/gVC8o9FoRUWFIAgGgwHKnqZpU6ZMeaJqd+TIESSfQqhNqIv79+8HyYKGEokENkqxvUrvPOgn2qesra2tqKiAybnb7eZ5fsSIEbSz2DpVE/qSRe60fsSQhFgViNRBv1Kp1Ny5c+fMmYOt6Fgshj3OZyB90NOmpqbGxsZIJHLhwgUYMcmybDabrVbro0ePoNxGo1GCiLqQTqdxHkpsBzo83YICujxx4kSkQgORh/gMv/76K8/zNpvN5/MhGKsgCF999RVupBeDnlFWzfjzqUgfpCEOBoO1tbV4Cul0+r///S8UcmzxKopSXFxMFFibjWYymatXr1ZUVMD7QZIkgLlgwQKSCgXqRXv1sPMvGAFG+rxgwLvaHI01+JZisdgff/xhbzk0TQPNL8symBpaSLfXajwenzRpkiRJHMdhnpBlef78+WQ3iBtp0EGFXSF9iDlCzXDqaWpqIgMfEpWMSOmMvoDup1Kp1mnRwbB0nfRBYJoffvhBURQENkLo6717965atQqhyyRJysnJ8fl8giB4PB6O40aMGPHHH39AVMygrbum70ib5XA4/M477yCbAMyvEHCO53lVVZH7XFXVb7/9FrcjZhM0BppQ26wZJztv6YNgTzzP79mzR/86lZaWci0HzI4URVm3bl0HLeql+v7775GkDLsTBoOhrKzs0aNH9G5ToYMK2U8MgW5EIBQKxeNx0j6p0I1NsKoYAgyBVwQBNsW8Ig+CiZG1IxiLxW7fvo0sXXDREgRB07Qn7uOinkGDBsGoBDu4giB89NFHiOpA9jV6zCORCHnW0wV1dXW7d+8uLCxEtiak6924caM+Fh52GfU6IW1wwumMCCB9gZYSehmIadKfRDmdTj969AitQOdPJBKPHj16WtKHNGRq4syZM6qqAmFJkvLz8zOZTHV19ZYtW6ZPn44I1qqqBoPB+fPnnzt3jm6sq6tDmcTuzGBy6tQpVVU9Ho/FYnG73X369HG3HJIk9ezZs7i42GQySZL01ltvkSEVeo2Ag9R668JTkT4cx8myXFRUVFNTAyUHDCN2ke12OxT+Dz744IlkTTQaXbp0qaZpWDzi3oEDB1KoI9L5O4NP636xM88JAUb6PCdgn1e1GJcpYXkymTxw4ABIH+RCEkXR7/ej+awRWS8TvLeQDQquYZqmITv7sGHD8JXSEE9WJKiwi6RPNBpFUicQ53qp9GWyK9Gf1JeJFQIHj+Q73WXpQw1t3rzZ4XCYTCaitIcPH+52uzHSIZS1zWZDnBqr1dqrV6/8/HzEz6NJ9Il9oeYymQzQPnXqFOLtY6uHfKlg0mU2m4cNG4a7EGtJX8MTy50nfWBqBNKHxu5oNIoNJZ7nnU4ncngdO3bsie1CGzh//jyoIkmSZFk2GAx+v//GjRv0ulLhiRWyCxgC3YVAJBK5evXqrVu37t27d+XKlaqqqhs3bvzFDoYAQ+C1Q+DatWtVLcfly5fxmV+9epVRvd01lrJ6Oo9AOp3WL7Cj0ejJkycR58XlcjkcDo7jFEUhm+42a06n09A2P/jgA5PJBE8ipB8ZMmQItgNxDTKONzU16WNQ1tTUhEIh7KGeP39+2bJlgUCgT58+cBPzer1Dhw69ceMGaB3yk0LKS5KH9EM607pAm7UwG2x9QXtn4vE47e+GQqGnJX2yNPBkMrl7925EIAYJ4vP5vvrqq7Fjx2qaZrVayfML0RUQQvvBgwfQz8Gv0SqpPZnpPBzo1qxZA9srRAj1er05OTmSJMHMB08ciXofPnxI9xK1RGeyCk9F+thsNp7ni4qKHj9+jBcmFAo5nU7EhEVADEmSsJ38xAe6f/9+p9NpMBjgLIL3jfzs9G91lszsz5eIACN9XiL4z9I0PlQ9+7t9+3ZY5ZnNZmRhHDx4cHvml9RkIpGAirNhwwbErKG4aIMGDaLLKFYxznSd9Mlaz4PgaD2uIYkyidFmgYjkrOQ73WLpA/Pvurq6xYsXK4qiqipGN7vdbrPZ4OcFmqyoqAgpMK1Wa2Fhod/vz8nJ6devH2Uub1P4Dk7SWLl06VLk7MRYzPM8iCdBEAYMGLBv3z5UkgUp0UYdNNF50odsi/bu3Ys5IJlM1tbWgnuCJ7DNZvN6vVevXm0tSZYMsVgslUrV1NQgYwIC+nAc53a7r1y50uYuUFYN7E+GwPNAoKGhYcuWLUVFRQg1JYqiq+XQ2MEQYAi8jgggzJ+qqn6/3+l0FhQUIHXp8xheWJ0MgQ4QgCpLJMLevXutVqskSYqiICltIBAgtbDNesDgpNPpb7/9FhGgZVmGz46maXr7+nQ6naVo3b59e8KECUVFRcFg0Ov1ut1uu91uMBhABIii6PV6f//9d2oXERVQJ1VFW7B0WXsF6gjYLlLj27u+qamJWqRrnpb0wY2U+yWVSm3dulWWZax6EKMgEAhYrVaLxUIeWMi3hbxa+fn5w4YNq6qqQsexcqG9cxKsdQH9TaVS9fX1Pp+P8p+YzWa0i0dsNpsXL16M2/X9Jbha14wzT0X6OBwOi8USDAabm5vx7Kqrq6GHY/GIdwbOCvCka7NdLNkuX77scrmMRiNqsNvtgiBcuXJFvxDQl9usip18wQgw0ucFA97V5jAx0ECQSqW+/PJLjE0YqmRZHjduXBYH32ar4I+2bt2qKAoUII7jeJ4fNWpUOp2mXS8q0MzRFUsfRLqprq5++PBhKBR69OhRU1PTgwcPGhoaamtr6+rqGhoaHj16dO/evdraWkjYpvB6VkuPBoTEdNKVQM7U6JIlSyRJAvcPz1Wfz6coitPpLC8v/89//lNZWSlJEsLy5+XlgSWx2WyVlZXk50W1dbKAIfXRo0dlZWUGg4GCJWNs7dOnz/vvv5/JZCjyCKql6ZNm4vaa6zzpw3EcQrsh0hOiKd27d08QBMQ5Qrwhv99fVVXVwfiOnyBhLBYjw1qQRy6X68qVK1BHnri90F6n2HmGQFcQ2LZtmyiKOTk5giBYrVZBEDiOw+YV+5chwBB4nRBQVRVWujBlhbHqtm3bujKAsHsZAs+GAG3lwiRn69atCNSAyLt2u33AgAEd1wytKRQKHTt2DPoq1DMob5TQVq9cwbErk8ncu3evpKSE4zhENZZl2eFw8DzvdruHDx/+zTffEAdB0X/JcIZUPgqCiQxfHUur/zUej1Ml+vMo638i46D6+vqnJX1ojYBq0+n0qlWr4MqUk5NjNpvhwobQ10is7nK54LtkNpsR2tLhcFCGHKR1J5W7teR0Ro/5Tz/9pGka2DSPx5OTkxMMBnv06OFyuYYOHQrHMVAtlKmGll1UYVbhqUgfWZZtNlt+fj5CakQikcuXL8OZAPE9YHB08+ZNfeDUrBbpEdfW1rpcLliiIQq1LMsXLlwg1xD9Mq11JezMS0GAkT4vBfYuNUrmoBh3Nm/ejNxSoPYVRRk7dqzeFKi9xkANfP311xiD8K8gCP/5z38SiQTZUjY3N9PQhiG4K6QPDEQXLlzodrtdLpckScFg0OfzYYfB6/WCC5ckqaCgYMSIEe0JT1kPEIwDkyXmzm6x9MHOSXNz86pVqwYMGAD+WxTF/Px8juM2bNigF+zs2bPDhw/3er2guj0ej9Vqzc3NnTBhQiQS0c83NFnqb29dRtD7c+fOFRYWQjfFPIQh22KxTJ48GdWC3Yu3HPoJsnWd+jOdJ31sNhuiCO3evRuzVzKZvH//PgUOt1gsyP528eJFfRNZZbxseEDhcFiSJKRUEwRBbTkQN468wbNuZ38yBJ4rAqlU6osvvoCHbH5+Pt5JhNN6nda6rC8MAYYA0hvzPA9XDri3C4KwcePG5zrIsMoZAlkI6PUiUrM3btxIZj4ItlJWVtbaHF5fFXS/eDx+5MgRt9uNADF2ux2Gq0T6tJml7s6dO0VFRaqqguOAageFs7y8fOXKlWfOnKmrq4NHGDVKyjbO0EZjPB5/9OjR4XaOQ4cO7du378CBAzt37jxz5gzu1dMiVD8K6BeZnDx+/BgXPy3pQ9iCQ2loaHj//fdhwm+32+FGpyhK//79lyxZsm3btoMHD7777ruapmF/19JyeL1eVVWRx1ZPZ3QgP3oBsgzpazweDyJaer1e+O4FAoGePXsuXboUjwmi6n0dOlbsn4r0wf6x3+9Hpt14PH727FmEB8HeP8bG6upqPWJZDwV/ptPppqYmsIqyLHMch53gS5cu6d9VejHarISdfPEIMNLnxWPe1Rbj8TgW/Pi0YKbIcZzX64VNJqK9tDbjzGoYFDti1iCeGQbBkSNH0iiWRcNj9Oki6ZNKpWbMmGEymTRNw9yGMMmIBIao0haLJT8/f9SoUVky6/9E9zH3INM5fu0W0od4bsw3TU1NFy9e3L9//8qVK8l+B4Y2EKCmpmbcuHHwmEV8YsS7aWho0E+0BKy+I1llVJhOp6dOnWq1WmVZFkUxLy/P6XQiulBBQYEoiqtXr6Yb9QO0fsClC7IKnSd9oBkLgvDDDz/Q3PPo0SNZlhVF0TQNRqqSJJ08eTKrFf2f6DgQq66uRkQkWC+rqiqKIrIz4DI2T+ihY+UXg8CXX34JAzRN00wmE6J0sRUyQ4Ah8PohwPO8IAhutxub/IqiyLL8xRdfvJihhrXCEAAC0Nyg8pHmhu0HURSRHVUQhEGDBtEubJvQRaNR6E67d+/2er2klVksFp/PR7dQE/rdxzt37hQWFkqShLsQwQBpSaCbSZL0ySef3L9/HyYeqAT/kk5IhVAo9Ndff4FHaP0vOCxFUQRBeP/99ykoMkmYVYDGSLGN0cfGxsanJX2gUiaTSULgl19+2bJly6xZs/r37+90OgOBwMGDB5HAiyxZrl+/PmHCBJPJpKqq1+vt06eP3W6fNm0aYu5AGL3unSU8CCba9I3H49u3bw8EAgjEYTabPR6P3W43m81ut7u4uLi6uhp1UnxSkqR1zXTmqUgfBPn2+/14mplM5sKFCxjeNU0TWg5FUe7fv484RNRK60IkEmlsbIRTmCzLFN4UcR7I3Q89an07O/OyEGCkz8tC/hnbpbEVXlexWGzPnj0IiAvTCY7jPB5PJpMhtyyMd4lEAsNTJBIhW6FYLPbxxx9bWw7YXEiSNGXKFLSCf/V2mzjTFdIHI+D7779vMBgURcGsYLFYEJaI8n9bLBan09mBpU8H8HUL6YNpmKgfqjOTydDsm0wmYceITh09epTneZ/Pl5eX53A4MLjDKwozDU20GAdp+sHjoLkBdW7bti0vLw+JG2DrCyc+GBOpqurz+W7fvk01dzz3ZMHVedIHD0iSpD179kBCCK+qqqIoeXl5Ho9HVVVBEP744w9kskdbNTU1bRqmJpPJs2fPSpLk8XhgSipJkqZpjY2NBAhBkSU2+5Mh8PwQ2Lp1K9hneGj26dMHNOvrt+JlPSIERFF0Op0Wi8XhcLjdblVV8/Ly4OBA17DC64cA1KTevXsjHbXFYlEU5euvv35+wwurmSHQJgKkbGN/MRqN7tmzBzug5HdTUFBAabb0RAC0Pn0wh7Vr1yqKAg8vTdNEUQwGg9BUobllKYrQtfbs2bNu3brDhw/v3r171apVlZWVBoOB53mwEqqqchw3adIkxIskNwIsJbAJjV7ggsuXL7c3YmATEb2bMGECAOmAF6Bq6RqEo35a0gf6fCwWI/YHajZ0zubmZuQ7ppgJFDnh4cOHMH4RBMFkMmHN0tTURAsEfRr7Np8v6ozH46FQqLCwEBq1LMsejwf6hqIocDSbPn16JpOBMx1WHOl0+onky1ORPpjsCgsLUW00Gq2rq4OTB9FPPM9fvHgRb2MsFiPkgQn5+mUymVu3buHdwPINoR7u379POJOJWXvIsPMvHgFG+rx4zLvUIg24ZA1x+fJlcPPwThcEIRgMwm4iGo1S6DK0ijhk+Ixra2uj0ejo0aNtNpuiKG63GyYqK1euxMUY1/STRNdJHxAcc+bMwSYGfGgRIZ+yBsLJAm6uzwAWETRdj+mDvhNflslkaAimPQGghAFx4MCBNpsNSObm5nq93s2bN8P1DH5t9NSIENFzanTy8uXLxcXFhYWFcNwD6UOus4g84vf7Z8+eTSLROEt5HDqAruukz5AhQ7BN6vV6e/XqJcvyJ598ghZDoRAYH2gnsMilM7FYbMOGDdBmsLFgsVgqKirwTmah0UEX2E8MgW5EIJVKfffddwhtZrPZBEHIz8//8ssv97DjtUZg3759n3zyCazTrVYrqJ/ly5e/1p1mnduza9euJUuWYE8FqWdkWf7ss8+6cUhhVTEEOoMA6YSgIVKp1IkTJ2A6gZDM4Brq6uqgjhIPAt2eluVQTT/66CMEoPR6veCyhw4dqhcjFos1NTWBQtIn8ILySQlMjh49Cjcxm80GMdxu965du8CSkMz6mqHChcPhK1euIEBM63/hNw0r2vHjx7dZj75O6ixRD89G+ujrhB0N0EM8gUQigY7rL2tubob91CeffAIwEeJaFMXz58/TfrB+faS/HWV6pplMZtq0aYj84Ha7jUYjggZaLBbEcIAxEdL+Uj3odcdNPBXpg6Q9RUVFtH4JhUIulwueWdhXdjgcO3bsoA7W19eTswKoMbw2kUjkwIEDqqpi/AR1pSgKVH3auH3iI6bOssKLQYCRPi8G5+5shThmEA2pVApDCdhio9HodruRhwIDdDwenzp16sCBA0tKSoYPH15ZWTl79mzce+XKlUAgIIqi3W6Hq47dbj906BDExXeLYQtnuk76wATps88+GzlyZEVFRUFBwYABA4qKigYPHlxZWTl48OAhQ4YMHz58yJAhI0eOnDFjxjMA112kDwLlgKtOpVJg0CBPJBIBgKByaHwcPny41WqFTSwY/eXLl9Ool06nKTwbsE2lUmSQBYoEU/i8efMQVBueJoqieL3e6dOn5+bmOp1Os9kMr2BZln/++edMJgNWnsgpMplpD72ukz4fffQRsompqgqbiPLy8mQySaTYhg0bRo8eXVhYOGbMmJEjR86aNev06dOQZ/z48TzPk3+fyWSaM2cOfkomkx3PcO31iJ1nCHQFgWg0+s033/A8j7BZBoOhf//+TzQ+70qL7N5XBIFjx47RUkQQBKfTiby5r4h4TIznhMDevXthNguDU1VVP//88+fUFquWIdAeAqTwkKJ4+/ZtZIZFcGXYmBw8eDCTydTW1iYSiVAotHv37u+///7YsWPbt2//+eefoTil0+lhw4bBYxEmGDzPv/fee9h3bE8tJCOXLFX/k08+8Xg8TqcT6Zlyc3PHjh0LafX+R9QvECiRSOT27dsgAlr/C68COJ3Nnj27PZGozm4kfYiGgLbcuglqC0Et8Dji8TgGCqPRiBh/oijCfj9rCUAVZhVQz6+//qooCnygeJ6Hb1d+fr7L5erRo0dhYSH8A4YPH47HQcKQ7U9WtfTnU5E+cAcpKiq6d+8eaojFYoMHD6bYndiIfeedd7AeaW5uTqfT+/fv37Nnz/bt23fv3v3dd9/B2CcUCiHLDVl12e32gQMH4ldajNBONgnMCi8XAUb6vFz8u9Q6jdFvv/02zHwURendu7cgCJWVlXDaxIgD2h5JiHv37h0IBNatW5fJZBYsWIDgLLBpt9vtXq/31q1berFoaKOvtyvuXai5sbFRT3aANInH4+GWA4WsoVkvUsflbiF9aAJGUJ50Oh0Oh7M4mmQyGWs50JdUKlVZWSkIAlRJv99vs9nWrFmD4Zt8uzBrEnNHDZFN1o8//uhrOd544w2v18txnCzLCxYsqKqqGjBgAMwQ+vXrl5OTo6pqaWkp4sMBE+JcOoao66TPL7/8YjAYnE6nIAiwAZYkCVnqgVJzc3P//v09Hg/4nTfffHPGjBnXrl07f/58MBh0OBxms9nlcsFNbOvWrTTJUaHjLrBfGQLdiEA8Ht+2bZvRaITZo9Vq9fl8SDXYja2wql5BBE6ePImIeAhPYDabKcLoKygtE6m7EPjhhx94nkeCJNgdf/XVV91VOauHIdBJBIj0IWOWSCRSWlrqdrslSTIajcFgMC8vDzl5UWdNTc3cuXONRiNseURR3L59ezKZPHnyJAYxh8ORm5sbCAQURdmzZw/tSsL9CjuvkUiEdFHwNdDwyWa8qqoKZj75lbCCQwAAIABJREFU+fkwzS4pKYnFYnpOhBYF+sDGoVDocjvHzZs3r127dvbs2XPnzl27dq1jNkpfOYHzzJY+lPwLvX78+DEMWEKhUGvuiRiiTCazb98+bKgjEIHNZkMsZyTSIUP+Dh73/fv3S0pKEPABgSwlSerfv/+hQ4f8fj98SwVBgF/eihUr9EEkaF+5vfqfgfQpKCh48OABKkylUv/97385jnM6ndjxcjgcwWDw9u3buKCxsfHw4cNGoxFbzjzPL168OJ1OV1VVDR8+nOM4WMhi4bNw4UIsbcjhgB5ce/Kz8y8YAUb6vGDAu6c5YhAwNu3fvx8kNLhku93udrtXrFih9zxav369pmk2m41s+b766itVVWG6abFYsD5/7733UDmtvYmeoCG4K6QPZhQ905FMJslNVB/9i+bCp4WsW0gfNPrnn3/CCqm4uNjj8RQWFpaXl2M0pPj2ACqVStXW1paVlVmtVgTSA5ePGRczInqNfuHf1iCHw+HS0lKsPCVJgsNdv3790Oj+/fsR9Y3jONj7GI3G6dOnp1IpDOLgy56IWNdJn0gkUlhYiIEehmYWi2XYsGENDQ30cB8+fDh16lRBEPx+P3Jezpo1a9KkSdhVEEWR5/m8vLwhQ4ZcvnyZXmk2STzx8bELuh2BdDr9/fff8zyP9T9Smdy9exemeezf1xiB06dPYysbyrfZbL5w4cJr3F/WNagZO3fuRG4jpEfgeR6+2N0+trAKGQIdIEBKICzBceWaNWsQa5zjuEAggNRIP/74YzKZxFZEY2PjpEmTevXq5Xa7OY4LBoOHDh2aPHkyBjFFUYxGo8fj8fv9+vTb165dW7x48bJlyz755JNly5Z9+umnMCAiMgiaKkS6e/eu3W5HGGPwHT6fL9RyUHdSqRTxI1ToQIUj5ZBIIlL8qE59QQ8Ozj8z6YM+QrabN28uXrx47dq1Cxcu/Pzzz7ds2fLbb79Fo9FkMkkxeuLxOMJ3bty4ESbAsiyrqmoymc6ePUsd6ThhDmpYs2aNzWbDusxmsyHWEnIFbtiwwefzIaop4lr07dv3999/JxCeuA56KtJHFEW4rtOGViqVAleI7X/QW6IoLl26FFxYTU0NiCGHw4GcbgaDYdOmTZ999hmcEClOk6Iox44dy4pAQm8F9YgVXi4CjPR5ufg/des01mAswBcVCoUGDhxoMpmQo1GSJDhnfv311xg0MbDOmTPH6XQiABDP8xaLBTQQmAVFUaxWKw03rcnvbiF90GEayqn/OKOPSEc9pWs6WehG0ufChQt5eXlwW9U0ze/3OxwOcn/D/kk4HIbYmzZtgsespmlYPQqCgN0MQAf6DP1Cf8njF0+zoaFh+fLlmODdbrfD4UA6tm+++QZ9r6urmzVrlsViga0p4uFZLBbYbaFmPYbtIdZ10ieTySxZsgTJxYxGI2I5OxyOcePGPX78mF6eW7dulZaWWq3WQCDQq1cvv9+PcHGIGi4IQu/evZcuXYqZGCDoScb25GfnGQLdi0AikdixYwdM4pHE0O12M/eu7gX51azt4sWLiEMJh1Obzfbnn3++mqIyqboRgV27diGBMTZXHA4Hy97VjfCyqp4BAVow37p1S5Zls9kMzUqSJJ7ny8vLz549i2pTqdThw4cLCgqgoPbu3XvkyJFWqxU7cEi/nZOT88EHH2CN0NzcHIvFfvnlF1EUkdAdUR2GDBlCiZyyjOvXr19fUlLi8XhycnI0TUPlRBZQ70hRpwhBnSR9YGoUi8U64AVopUB1PhvpA42U9NKzZ8/CxhweEqIozpw5k7qWTqfJi6KxsXHUqFFGoxHrJhi2P3z4kDwVSEICJKtw+vTpgQMH2u12g8EAo3ij0Th69GiEZUin0+Xl5XzLIYqi1WrVNG3cuHFUCXWczmQVnpb0sdvtfr8fbBSsn8LhcEVFBWQAIBaLRZbl7du3gwKLx+PV1dVDhw41m81Op9Pn8zmdzv79+5tMJuzmYuFTWlra0NBANj54MZg+n/W8XvqfjPR56Y/gqQWAvxVWyESTb9u2jbxsBEEwm80Gg6Fv376TJk06fPhwc3NzIpG4d+9eUVERkvbl5+f37NnT7/fDRAi5imfOnIlqKUEARjQa11DoiqUP9RaR5Mg2EuO+ft+A5hK6pZOFbiF94LQM4x1BEGw2GzyS7HZ7eXn5vn379GNxKpXav3+/3+/HbIp85D6fr6ysjFJpUl4APDIgiakF0Ytjsdjnn3+ORGyyLPv9/j59+oiiOHHiRIyb0Zbj8uXLqqq6XC7EvdY0zel08jxfVVVFjnhPHGe7TvqkUqlLly6NHj3a4XAYjUaXy4WgfYFAoKCgYM+ePQgUl0wmT58+jemE0iEJggC2SFGU4cOH0xILmGRpHp186OwyhkBXEEilUps3b4Z5M+zXnE5nY2Mjvlb272uMwKlTp1RVRRYnLLGOHj36GveXdQ1z9w8//GBrORDEVFXV9evXd2UMYfcyBJ4WAVIjqUB679KlS+WWA+qT2+02GAyaph0+fPjmzZtgKL7//nu8vYIgwI/e6/VCC5VlubCwEGY+kCqVSt2+fbusrMxmsyGUstVqDQaDW7ZsobAA4DJisdjZs2f79u2LcFeyLIN1Gj9+PC7Q0zS0OiDGCs5ibY4zoF3opyfCRZUTPl0hfWh1U1NTU1xcnJubq2kax3E5OTkDBgzYs2cPUTlwPnj48OGmTZuQ4VHTNIAwY8YMKNhYaHTchUgkMmXKFGzDgxlxuVyBQABh49LpdDweP3jwIKJ20mUOh2PXrl3QhAmB9hp6KtIHG/yBQADsDC30vv/++2AwCG8+SZI4juvVq1dZWdny5cvJEayqqgpbtlartU+fPvCNxY44bM22bNlCbxrZjtH73J787PwLRoCRPi8Y8G5orra2FpYjGMJoUHjrrbeQYxgxgPPz83v16oWIv36/v6ysrLy8fMCAAb169fJ6vUajsbCwsFevXhgFNE1TVfXhw4eUDQqCYnAn2httdYX0Ia6diAmqHC1ijMBoSAP9U6HWLaQPeUEvXboU0yqSVcGWqqCgYO7cucePH79w4cI333wzb948Cu+PfM9Wq1VRlH379pEVqz4eG3mxobMA+fr16zARggtez549NU0rKio6duyYvpJwODx79mzMVVidIuHiW2+9pX8rOkas66QPJN+xYwfHcS6Xi1I8mEwmWZbRkdLS0srKytLSUk3TZFmGZSkiySHCnyAI3377LV4qeg3I16/jLrBfGQLdi8C6desEQRBFEe+qLMuUcq57G2K1vVII/Pbbb5IkqaqKJIlOp/PUqVOvlIRMmG5HIJlM7tu3T1VVu91utVp5nlcUBQ4X3d4Wq5Ah0B4CtCQmNR7qazKZrKur69+/P6LL5eXlUeqovLy88vLy2bNnL168eOrUqYqiwEsRu7kcx4GpURQFJGYoFILJaqLlmDZtGgzcaOOwZ8+eo0aNWr9+/eHDh0+fPr1//34otFAvEUbAarUWFBR8+eWX6Aj4COjnFNqGSBDqS+teU39xL/6lRUHr66kqWgs8G+mDmsFGYenx3nvvgYWB1xJYs7fffvvYsWOPHz8Oh8Nnzpx55513QHPk5+cbDAYo/99++y1qQ3ijjmPu7Nu3D3ucLpcLZIqmaRs2bNBH7Umn0++9957FYsE0BMP5YDCIWMu0ldsaHJx5KtLHarW6XK7CwsKamho8CyLCJk6cCHsupDVQVTUnJ8dqtRYXF5eVlS1dunT+/Pn9+/fned7pdCqKQn5qCOszadKkLCjIUY4eYntdYOdfJAKM9HmRaD/ftu7cufPOO+/07NlTFMVAIACXYMR1E0VRH0hfFEWLxeJyufx+P+wJZVmmlCU0Lsfj8azhGAPExx9/jKU+NiJEUVyzZs0Th+/n2/n/qx1+0RjckV4KFiiwiLl79y4upJ2KdDo9evToSZMmvfvuu2PGjJk7dy5+onHq7t27gwYNkiQJwXpgX+NwOCRJgn2sKIqapnk8HqRagAkVx3E7d+78P6Ha+J/qB4WXyWTKy8sVRXE6nT169ABvYrfbFyxYACtQPIh4PB6LxUKhEB6cw+FQVRURkTmO2759OzH3bTTZcgq9W7BgATwaMHCrqhoIBHALHvHgwYOx9Q2FWNO0H374gYgwUHKwXdq4cSMcA30+n9VqheEY/M7IIFaWZZ/PZzQaYXUMVdtutyPHHCgtmnvak5ydZwg8PwTS6fSWLVsQZwpDpcvlYqTP8wP8Fak5nU6fPn0avDlmCkEQ/vd///cVEY+J8fwQ2LVrF/QizOmyLDPS5/mhzWp+BgR+++238vLyHj16iKIIDQrRdmlnAkZAiAXjcDiggAmC4HK5xo8fTy1COYdif/bsWWTsRWxmfeolBCUA9QDlFp+GxWL597//vXDhwjt37lCdtEygMy+mAG+AyspKs9mMZQjP8y6XC/5KyLgCSbZv377i/45FixbhAmjIiN3j8XiwPoIyj84i6y7ypWB8IKDsdvusWbOQXYtqg2aOfwkTFGpraxHOEo4UWCn8f+y9h3cUR9b//V+873l/5/c8+9gmCgkhFFBOI2mUJcCAscFhbe/u4w32Luv1LkHS5FEgmWRgiSYpTx5JgMEJ22ucswEDBgMmCaHRpO6Zek/11ZQaIYFGGkkT7pw50Orprrr1uT01Xd++dWvVqlXwdBaOsdlsDofj6tWr5eXlhYWFZWVlaWlp4F+1Wg0NYcXeTxiEtuPHj0NiHYigl0gku3fvFt9XP/3009CK7Ozs8vLyxYsX3717l8lJoIKdP3/+tddeS0pKKioqqqioSE1Nhdlb+fn5oIiJR5SFhYUQJgZLxf3ud7/7+eefWagXs9Pr9YpXPWb7cWMSCaDoM4nwA1k1xEd88MEHEJMJs0Mff/xxpk3AUnwwGgfJOT09PTo6uqSkJDk5ec+ePbA2OfQFg3oZm80m3rNu3TrIH8Rmge7YsQMG7cEzdOd5HpLhw1pa2dnZxcXFLCM9E7MuX74Ma5bBvKoXX3yxu7sbWsEyeuj1+oqKioSEBLbYB8udlJ2dnSa8UlJSWAxLSUlJQ0MDU3OGczPoL/B7/P777y9atCg1NTU7O3v+/PmJiYkQHXPhwgV2OhPO3W734cOHQbMH+Qkc+pe//AWCfllvzs4Vb3g8HrVaDSn3MzMzJRJJZmbmkiVLQCmDc3//+9+Dlg8PQvPz8yGvEBPLmLp048YNrVabnJycmJgImg5cYxA7lpeXly285syZk5eXB+sXwA/qCy+8cO3aNfGP9J07d4A8i/oRm43bSGD8CKDoM35sg7lkFH2C2TvjahuKPuOKFwsfCwG40ert7W1paVm2bFliYmJ6ejpbIQTCySHgArILwwTVnJyc1NTUoqKi1157rbe312azwXierTML63YdPHiwoKAAUguXlZXBGqxSqXTBggWQYxiUINCACgsLH3/88RdeeOG9996DFkF6oLG0bizngujzhz/8QSKR5Ofnl5SUpKamSiSSS5cuwV09PE+12+0rV64ERBKJ5IknnmBT2NhYprW1taCgAHJolpaWlpSUQKjvggULnnjiCalUCvmVpVJpXl6eVCqtrKz8+uuvwXh2j22329m6YGAArAtGCNm4cSOMFCBXoFQqLS0tPXXqFJQA97pgrdvtXrduHazFxsJOlyxZ8uGHH7JHrQ+AdvLkSUjADA9xJRLJzp072fEej2f58uUg3ID0U1pa2t3dDWklxPlGT58+/dJLL2VmZmZkZEil0ieeeAKivaRSaZHwAhQSiaS8vDwzMzM5ORme9X766afQEFip/e7duz09PezBNrMEN4KBAIo+weCFQNrw8ccf/+Mf/ygoKMjIyIDl20EXgHm5+fn5ubm5WVlZpcJr/vz5ixYtSktLe+21165fvy6eWQMa7ZCTsKAvY9FDFRUV+/fvh284SBiTKP2wDr2vrw9iVSBncG5u7pIlS0Ckh24UNPJr165lZmaWlpaCagP51cAf7Dl/X1/fkSNHYCGqsrIyNq8VgmUqKioef/zxvLw8mOWUnZ39yiuvfP/99+IAziEdDMu9QyDP3//+9/LychDm5s+fX1BQkJqaum3bNuiRgS370XI4HDdv3ly2bFlmZiYkGyoqKoJ1FiwWy5B1iXc6nU6VSgVLaEFsUWFh4RNPPAHowIMvvfQS5DuAoOLS0lKDwcCiN8EeNv/5+++/37hx4/LlyyEwNScnJz09PTMzMzc3FyKNy8rKioqKIO9PampqZWUlLOkFWQnFQhJsMyeKzcZtJDB+BFD0GT+2wVwyij7B7J1xtQ1Fn3HFi4WPhQDchsE9ZGdn54oVKyCeeuHChaBNZGVlZWRkpKenQwbJoqKiuXPnLl68GA77wx/+8MUXX4jTAoAxcGfe09NTW1v79NNPZ2ZmwumZmZnwxBFubnNzcxcsWDB//ny4l8vLyztx4gS7/2Q3bJNynwaiz/PPPw8BuTAjacGCBZCbQjwMefnll2EtM3jKCLevbEQD2Zrr6uqWL1+empqakZEBT8pTUlLS09NjY2Nh+d2ysrLExMT4+PiXX37ZarUCRhDRxEjvv3G9cuXKsmXLIEwGIklzc3NrampYumuPxyN+unnmzJmnnnoK8kLAo/r09PSqqqoHX0VAo7OzEzSdnJyc8vJyqVS6detW1lKe51966SVIvjN//nxQr1ikktvtZmu/eL3er7766vXXX1+yZElqauq8efPgrJycnAzhlZOTA5pUVlZWZmbm4sWL4QqxWq3sqhAbzPP8JA4GxZbgNiOAog9DEdobLHSF47hff/113759Tz/99JIlS8rLy0tKSiD+E3L9QLp1SMifkpICTwaSk5Pr6uqgB3E6nay/cLlcbGwPAoTNZtuwYQMkbcnNzYVeZufOnSz1PZMGJgUo62KuX7/++OOPQw8Omv2SJUu+/fZb6Jvgt4EQcvHiRYlEAs0pKCiora1lZgMEJv1cvnx506ZNRUVFkNeZLW2YlZWVnp4OstEzzzzT0dFx8+ZNMTRW4P0bbreb4ziLxQLyDWTqSU5OXrRoUXl5+fXr15lbYQOmUkPhzc3NMCs7LS0NFmVLTk5+5plnfvrpJwbh/hohZ1NdXR2IgJCLJyMjY9myZfAzAD9Fr7zySn5+fnl5ORywYMECg8HA5myDasYuEvjz7bfffvXVV0tLSyFmqry8fMGCBWAYIGJPMEDViomJWbBgwZdffgnJvFlgFHuEMqTxuBMJjAcBFH3Gg2rwl4miT/D7aJwsRNFnnMBisYEiwKSfCxcu7N69+8UXX4S4dUgtXFZWVlxcDJE+7JEhzLvJy8tbsmQJzLiBWz4QaCAsBcw7duzYX//6V8hlBpODFi1aVFpaWlZWxtIbV1ZWbt++/fz58zA0YCKFeH2rQDV2hOXAEunLli0DJQViT5YvX37u3LlBq6ez5cxg4TMITmfaBLvP7Ozs/OMf/8hCnyCn8uLFi4GkRCJZsmSJSqWCOb8g94BfvF4vKw2e3bLVWux2e3V1NYy8kpKScnJyFi5cuGDBgjNnzgzZTLi9P3ToEAuNh+VZiouLT58+zUwd8lxYRgbu1bOzs6VSaUZGRktLC5Tp8Xh+/fXXl19+GTJUwOS1xYsXsyXb2DXW29sL293d3Xq9/tVXX4XH2CxYCS42SNqQl5e3cOHCLOG1ePHiefPmffHFF729vTA28Xg8bAwyKcrgkKBwJxBA0Sd8rgQ2bIbReG9vr16vl8lkK1asePbZZ+fPn19ZWbl8+fKXX3551apVBoPBarWyYL+SkpK0tDSWp83j8TC5AdaxAkwul4vn+RMnTuzatWvbtm07duzYvn37rl27PvroI/iSi4X2SSHL1Byn07lnz55Nmza98cYbu3fv3r59+969e2HGFuvmOI774IMPICc/qDnNzc1sDiq0iB0Mj03Onz/f1dWl1Wp/+9vfVlZWlpeXL1269Pnnn1+5cmVHR8edO3fEsa9sQtb9KKBYj8fjcrmsVuuGDRs2b968f//+bdu2vfHGG1u2bHnnnXegRjgS5B4mz0OY7oEDB3bt2gVe+Pe//71t2za1Wv3DDz8wCPfXCwLNW2+9tW3btp07d27fvn3r1q1vvPHG3r174WD4GWttbd24cePu3bu3bNmyefPmPXv2QOwSGAxHeoSXuIq7d+9+9NFHhw4d+te//rVkyRLQlebPn79s2bI1a9bs3bu3ra3tlVdeSU1NLS4uXrRoUX5+/ssvvwyU7HY73FLANSYuFreRwHgTQNFnvAkHZ/ko+gSnXybAKhR9JgAyVjFGAmzw7HQ6z5w5YzKZtm3b9sorr0CymNLS0ueee+7vf//7nj173nrrrYULF6akpFRUVIB2s2LFCgjeh0SQzBJ2b3/nzp3Tp0/v2bPntddeW7p0qVQqXbhwYWVl5ZNPPllVVWWxWK5cueIWXnAuu7G02WwPViJYXQHZEN+Eg7LT0tKyd+/eN954Y/v27du2bdu/f/+tW7fE85Vu3779wgsvQMbS9PR0rVbLFBkojek1Ho/n+vXrH3744d69e+HGNTc3t6Ki4oknnvjrX/+6Z8+e7777DpSLu3fvQg4EaJS4OkIIPPaGm9ienp7Nmzdv27Ztz549O3bsgHt7WNwKVi5jtcPx8O/169f37t27Y8eOnTt3btu2bd++fWvXrn377beZv+6HCR45e/bsjh07tm7dunPnzj179mzduvXTTz+FKtxut81m0+l0kN1o06ZNu3bt2r9/P3sszR7liq80yHn08ccfr1u3buXKlU8//TRkd3766adXrly5bt26EydOPPfcc6AKwXyR8vJyGKTAkjUsOQZLBHG/8bhnUgig6DMp2ANfKXRkbrebfZnFdTgcjjt37nR3d/f19bEO1OFw7N69e8GCBSkpKZDHvrKysqurC/qRvr4+6ImgHEghDP2C0+kU/xKwzgJCNlj5YgMmchviFVkXDwFKoJKAGdBA0C+amprKy8uzs7NLSkrKy8u//vprsf3Q20KPzwJbOI6z2+0MAquOtRHy1LBoWLZfvAE9MtQF/SNoKGAbC5uCw6Bq8a8sMHcIL0II6H2DHnSIq2PbUD7P86yDBhvA1zzPQ5OdTmdvby/UIn6qI96GMiGps/gagD3w6wjrlIHwDxg//vjjpUuXsgRA8+bNU6vVMO2O4zg4RnzhMctxAwmMHwEUfcaPbTCXjKJPMHtnXG1D0Wdc8WLhASEAi1UxjQDuZiFCHPKnsDs6QsiJEyeKi4tTU1MzMzNLSkri4uI2bNjAnhSyQu7cuSPWERwOB9x3eb3e7u5udgPscDhcLhfcl7Jz2W3woDiXgDR2uEKYSXAANBnUBLi3ZPfGcCTHcadOnXrqqaekUmlFRUVhYWF7ezsbs4jv2BkHnucdDgeUzHEcK1D8/FtsnniGF4yqxKfAkez5JRPdoDqbzQY8vV4vG6/BBjiCEMKeTz94HMEqZQkxoWr2vJm1CBwHN+pw888+gp3Ms8zXUBQMK2DpN7HmdenSpaeeegpWi0tPT09JSfnb3/7GEmgwVmw6G9uDG5NLAEWfyeUfyNpZ9wE5X+A7fP9XjoXeeTweu92uVquXLVtWUlIC0z5XrFgBM26YZeLvOXQH0Eew7pL99tyfvJ0VMpEbTGhglQIKSEcNyjf7SCaT5efnQ7Lh5557DiZzsSbDoozQEbtcLuh/Wdo2mMjGfpAACxMsAAuraMgNVhF8yn514Kd90IRYeGjDjIHuHjzCXM+m4A1ZHahy8BH74WTZ/kChF8uC4kKcTidrKeT8hk+h1RCUxHJCwZHwewkCmTjDkcVi+d3vfrdw4cLy8vLnnnvu+eefb21tBXuYVeKqcRsJjDcBFH3Gm3Bwlo+iT3D6ZQKsQtFnAiBjFaMmIL6ddjqddrsd7rXg/hZuPkHIgLsmGMnv2rXrxRdf/N///d+//OUvf//733//+99/9NFHYIPNZhPfKMITPjbUZ49s4f5WfLPHMjZwHMceFsLt4qhbN/ITITRGfLyYANvv8XiYAuLxeDZv3pyXl5eWlgbZkc+dO8dawZ5cQhs5jgN5ixUlVj3u5wBPi9mEAHHiJDi4r6+PDY7YcAB8BE9zmf12u52VD45gN8DMBlYCM+/BG4MC8J3CCwL82b8w0BBfDPCMnFXqcrlswgvgg8FwQcIeuBSPHj360ksv/eUvf/nzn/+8YsWKp59+2mQysdVyIFMEk7EebDZ+OmEEUPSZMNTjWxHri202G+tHHlClWMAWn8I6Aui2eJ5nDwrYQt3QPQ3ZGYGixISABxgwTh8NErkG/aRBpaxr4zjuz3/+c15eXkVFRW5u7po1a+AAiOKBbdYLA9VBv0CwQjz8nMCRrJNlCsiQLYXS2DMHcTAkcx/YCUoT+xW5ny381MFZYmFoyHpZo5j7wGz45YNPWcQNezYCKg87ktngdruhXqYkQk441gS2weqF5zPML+x3mlkLT7HYn7iBBCaAAIo+EwA5CKtA0ScInTIxJqHoMzGcsZZREGC3VexmlU2TGXRPBX/CLRncTbG7SnYzz2632J0bmMSKEt/pQVA/HOB2u+HOk91/wn52lzuKpvl7yqBbbvZAFFSq+zUFiK/55z//CTmqy8vLX3jhBTiMiTvsrn6QMeI7f/ETWfYEV+wOkHuADCPJ7qvZ8vYsbB8+gqrBHrhdZ49d4SOHwwH7QRIazlRmORvKQfARuNjlcrHqwGaoET4VtwKuDVZLX18fu2xgXAP8B/3LpC6W8AFKYBcYxIiJncUMxo3JJYCiz+Tyx9onjgDr0Fl/dO3atfnz55eWlmZlZSUkJHzzzTfi/m7iLMOakAASmFQCKPpMKv5JqxxFn0lDP9kVo+gz2R7A+pFAgAmABHPhwgXIQVNcXJyWlnb48OEAV4PFIYGQJYCiT8i6Dg33hwCE5IDaDf8SQj788MOioqLc3NyioqIXXniBzYNlB/hTAx6LBJBAqBJA0SdUPTec9UI7AAAgAElEQVQ2u1H0GRu/ED4bRZ8Qdh6ajgSGJ/DVV1/Nnz9fIpFkZWUtWbLkq6++Gv5Y/AQJRBYBFH0iy98R21oWfskCNe/evfvmm2/m5OQkJydXVlauX78e4iE5jmPRsBGLCxuOBCKKAIo+EeVu1lgUfRiKSNtA0SfSPI7tjQQCV69ePXToEMT4ZGZmrlmz5sGZFiKBCbYRCTACKPowFLgRzgTYnFWWsKavr89sNm/ZsqWurm7Hjh2fffZZOLcf24YEkMDwBFD0GZ5NOH+Cok84e/eBbUPR54F48EMkEKoELly48Inwevfdd3/66adQbQbajQTGgQCKPuMAFYsMPgKD0pWBgd3d3TzP2+12lgYbEo8xhSj42oEWIQEkEHgCKPoEnmkolIiiTyh4aVxsRNFnXLBioUhg8ghAIuFBqTkHZaGePOuwZiQw+QRQ9Jl8H6AFE0BAnLueLdk4qF6XywWTv1gK+kEH4J9IAAmEJQEUfcLSrQ9tFIo+D0UUrgeg6BOunsV2RSwBSOPgcrncbjdbdzhiaWDDkcD9BFD0uZ8J7glbAmyJ8d7eXtiGZRHZcphh23JsGBJAAsMTQNFneDbh/AmKPuHs3Qe2DUWfB+LBD5FA6BGAvJxgNyxM7nQ6cWGW0HMkWjxuBFD0GTe0WHAwEYDgnUEZmsU/Bn19fSD9iH82gqkFaAsSQALjRQBFn/EiG9zlougT3P4ZR+tQ9BlHuFg0Epg8Ak6n0+PxwKwuuLGfPFuwZiQQXARQ9Akuf6A1SAAJIAEkMMEEUPSZYOBBUh2KPkHiiIk3A0WfiWeONSIBJIAEkMAkEkDRZxLhY9VIAAkgASQw+QRQ9Jl8H0yGBSj6TAb1oKgTRZ+gcAMagQSQABJAAhNFAEWfiSKN9SABJIAEkEBQEkDRJyjdMu5Goegz7oiDtQIUfYLVM2gXEkACSAAJjAsBFH3GBSsWigSQABJAAqFCAEWfUPFUYO1E0SewPEOoNBR9QshZaCoSQAJIAAmMnQCKPmNniCUgASSABJBACBNA0SeEnTcG01H0GQO80D4VRZ/Q9h9ajwSQABJAAn4SQNHHT2B4OBJAAkgACYQXARR9wsufI20Nij4jJRV2x6HoE3YuxQYhASSABJDAgwig6PMgOvgZEkACSAAJhD0BFH3C3sVDNhBFnyGxRMJOFH0iwcvYRiSABJAAEmAEUPRhKHADCSABJIAEIpEAij6R6HVCUPSJTL8TQlD0iVjXY8ORABJAApFJAEWfyPQ7thoJIAEkgAT6CaDoE5mXAoo+kel3FH0i1u/YcCSABJBAxBJA0SdiXY8NRwJIAAkgAUoARZ/IvA5Q9IlMv6PoE7F+x4YjASSABCKWAIo+Eet6bDgSQAJIAAlQAij6ROZ1gKJPZPodRZ+I9Ts2HAkgASQQsQRQ9IlY12PDkQASQAJIgBJA0ScyrwMUfSLT7yj6RKzfseFIAAkggYglgKJPxLoeG44EkAASQAKUAIo+kXkdoOgTmX5H0Sdi/Y4NRwJIAAlELAEUfSLW9dhwJIAEkAASoARQ9InM6wBFn8j0O4o+Eet3bDgSQAJIIGIJoOgTsa7HhiMBJIAEkAAlgKJPZF4HKPpEpt9R9IlYv2PDkQASQAIRSwBFn4h1PTYcCSABJIAEKAEUfSLzOkDRJzL9jqJPxPodG44EkAASiFgCKPpErOux4Q8h4HK5xEc4HA6v1yveg9tIAAmEBwEUfcLDj/62AkUff4mFzfEWi6WgoEAqlebn5+fl5RUWFh48eDBsWocNQQJIgBHgeZ4QwvO8x+OBnb29vexT3EACkUMARZ/I8TW2FAkgASSABIYggKLPEFAiYBeKPhHg5KGbiKLP0FxwLxIIOwKg9XiFFzTO7XaHXSuxQUjg4QRQ9Hk4IzwiYgm4XC5eeA2K+olYINhwJBCWBFD0CUu3PrRRKPo8FFG4HoCiT7h6FtuFBAYR8Hq9HuHldrs5jnM6neKon0EH459IIIwJoOgTxs7Fpo2VgMPhgCKcTudYy8LzkQASCFYCKPoEq2fG1y4UfcaXbxCXjqJPEDsHTUMC40gA7+fHES4WHdwEUPQJbv+gdZNEwOFwwJMBqB/iQpkGNElGYbVIAAmMCwEUfcYFa9AXiqJP0LtovAxE0We8yGK5SCDICPT29nq9XpvNBnZh5H6Q+QfNmTgCKPpMHGusKRQJuFwufCwQio5Dm5HAyAmg6DNyVuF0JIo+4eRNv9qCoo9fuPBgJBDqBG7fvg1N4Hme47hQbw7ajwRGQQBFn1FAw1PCn4Ddbm9sbNyzZ8+WLVs2b97873//+8CBA3fu3An/lmMLkUDkEUDRJ/J8TluMok9k+h2XbI9Yv2PDI5AAxPjs3Llz7969W7du3b59+9atW48dOxaBKLDJEU4ARZ8IvwCw+cMSePbZZ3NyckpLS4uLi9PT05cuXYrTu4aFhR8ggVAmgKJPKHtv9Laj6DN6diF+Jkb6hLgD0Xwk4B+BF154Yf78+ampqVKptKioSKVS+Xc+Ho0EQp8Aij6h70NswTgQcLvdzz//fF5eXm5ubmFhYV5e3qJFi3p7e8ehKiwSCSCBSSaAos8kO2CSqkfRZ5LAT361KPpMvg/QAiQwgQSefPJJqVSaL7zy8vJqa2snsHKsCgkEBQEUfYLCDWhEsBFA0SfYPIL2IIHxI4Ciz/ixDeaSUfQJZu+Mq20o+owrXiwcCQQbARR9gs0jaM/EE0DRZ+KZY40hQABFnxBwEpqIBAJEAEWfAIEMsWJQ9AkxhwXOXBR9AscSS0ICIUAARZ8QcBKaOM4EUPQZZ8BYfGgSQNEnNP2GViOB0RBA0Wc01EL/HBR9Qt+Ho2wBij6jBIenIYHQJICiT2j6Da0OJAEUfQJJE8sKGwIo+oSNK7EhSOChBFD0eSiisDwARZ+wdOtIGoWiz0go4TFIIGwIoOgTNq7EhoyaAIo+o0aHJ4YzARR9wtm72DYkcC8BFH3u5REpf6HoEymevq+dKPrchwR3IIFwJoCiTzh7F9s2MgIo+oyMEx4VYQRQ9Ikwh2NzI5oAij6R6X4UfSLT74QQFH0i1vXY8MgkgKJPZPodWy0mgKKPmAZuI4F+Aij64KWABCKHAIo+keNrcUtR9BHTiKhtFH0iyt3YWCSAog9eA0gARR+8BpDAEARQ9BkCCu5CAmFKAEWfMHXsQ5qFos9DAIXvxyj6hK9vsWVIYAgCKPoMAQV3RRgBFH0izOHY3JERQNFnZJzwKCQQDgRQ9AkHL/rfBhR9/GcWJmeg6BMmjsRmIIGREUDRZ2Sc8KhwJoCiTzh7F9s2agIo+owaHZ6IBEKOAIo+IeeygBiMok9AMIZiISj6hKLX0GYkMGoCKPqMGh2eGDYEUPQJG1diQwJJAEWfQNLEspBAcBNA0Se4/TNe1qHoM15kg75cFH2C3kVoIBIIJAEUfQJJE8sKTQIo+oSm39DqcSaAos84A8bikUAQEUDRJ4icMYGmoOgzgbCDqyoUfYLLH2gNEhhnAij6jDNgLD4ECKDoEwJOQhMnngCKPhPPHGtEApNFAEWfySI/ufWi6DO5/CexdhR9JhE+Vo0EJp4Aij4TzxxrDDYCKPoEm0fQnqAggKJPULgBjUACE0IARZ8JwRx0laDoE3QumSiDUPSZKNJYDxIICgIo+gSFG9CISSWAos+k4sfKg5UAij7B6hm0CwkEngCKPoFnGgolougTCl4aFxtR9BkXrFgoEghWAij6BKtn0K6JI4Ciz8SxxppCiACKPiHkLDQVCYyRAIo+YwQYoqej6BOijhu72Sj6jJ0hloAEQogAij4h5Cw0dZwIoOgzTmCx2NAmgKJPaPsPrUcC/hBA0ccfWuFzLIo+4eNLP1uCoo+fwPBwJBDaBFD0CW3/ofWBIICiTyAoYhlhRwBFn7BzKTYICQxLAEWfYdGE9Qco+oS1ex/UOBR9HkQHP0MCYUcARZ+wcyk2yG8CKPr4jQxPiAQCKPpEgpexjUgACKDoE5lXAoo+kel3QgiKPhHremx4ZBJA0Scy/Y6tFhNA0UdMA7eRQD8BFH3wUkACkUMARZ/I8bW4pSj6iGlE1DaKPhHlbmwsEkDRB68BJICiD14DSGAIAij6DAEFdyGBMCWAok+YOvYhzULR5yGAwvdjFH3C17fYMiQwBAEUfYaAgrsijACKPhHmcGzuyAig6DMyTngUEggHAij6hIMX/W8Dij7+MwuTM1D0CRNHYjOQwMgIoOgzMk54VDgTQNEnnL2LbRs1ARR9Ro0OT0QCIUcARZ+Qc1lADEbRJyAYQ7EQFH1C0WtoMxIYNQEUfUaNDk8MGwIo+oSNK7EhgSSAok8gaWJZSCC4CaDoE9z+GS/rUPQZL7JBXy6KPkHvIjQQCQSSAIo+gaSJZYUmARR9QtNvaPU4E0DRZ5wBY/FIIIgIoOgTRM6YQFNQ9JlA2MFVFYo+weUPtAYJjDMBFH3GGTAWHwIEUPQJASehiRNPAEWfiWeONSKBySKAos9kkZ/celH0mVz+k1g7ij6TCB+rRgITTwBFn4lnjjUGGwEUfYLNI2hPUBBA0Sco3IBGIIEJIYCiz4RgDrpKUPQJOpdMlEEo+kwUaawHCQQFARR9gsINaMSkEkDRZ1LxY+XBSgBFn2D1DNqFBAJPAEWfwDMNhRJR9AkFL42LjSj6jAtWLBQJBCsBFH2C1TNo18QRQNFn4lhjTSFEAEWfEHIWmooExkgARZ8xAgzR01H0CVHHjd1sFH3GzhBLQAIhRABFnxByFpo6TgRQ9BknsFhsaBNA0Se0/YfWIwF/CKDo4w+t8DkWRZ/w8aWfLUHRx09geDgSCG0CKPqEtv/Q+kAQQNEnEBSxjLAjgKJP2LkUG4QEhiWAos+waML6AxR9wtq9D2ocij4PooOfIYGwI4CiT9i5FBvkNwEUffxGhidEAgEUfSLBy9hGJAAEUPSJzCsBRZ/I9DshBEWfiHU9NjwyCaDoE5l+x1aLCaDoI6aB20ignwCKPngpIIHIIYCiT+T4WtxSFH3ENCJqG0WfiHI3NhYJoOiD1wASQNEHrwEkMAQBFH2GgIK7kECYEkDRJ0wd+5BmoejzEEDh+zGKPuHrW2wZEhiCAIo+Q0DBXRFGAEWfCHM4NndkBFD0GRknPAoJhAMBFH3CwYv+twFFH/+ZhckZKPqEiSOxGUhgZARQ9BkZJzwqnAmg6BPO3sW2jZoAij6jRocnIoGQI4CiT8i5LCAGo+gTEIyhWAiKPqHoNbQZCYyaAIo+o0aHJ4YNARR9wsaV2JBAEkDRJ5A0sSwkENwEUPQJbv+Ml3Uo+owX2aAvF0WfoHcRGogEAkkARZ9A0sSyQpMAij6h6Te0epwJoOgzzoCxeCQQRARQ9AkiZ0ygKSj6TCDs4KoKRZ/g8gdagwTGmQCKPuMMGIsPAQIo+oSAk9DEiSeAos/EM8cakcBkEUDRZ7LIT269KPpMLv9JrB1Fn0mEj1UjgYkngKLPxDPHGoONAIo+weYRtCcoCKDoExRuQCOQwIQQQNFnQjAHXSUo+gSdSybKIBR9Joo01oMEgoIAij5B4QY0YlIJoOgzqfix8mAlgKJPsHoG7UICgSeAok/gmYZCiSj6hIKXxsVGFH3GBSsWigSClQCKPsHqGbRr4gig6DNxrLGmECKAok8IOQtNRQJjJICizxgBhujpKPqEqOPGbjaKPmNniCUggRAigKJPCDkLTR0nAij6jBNYLDa0CaDoE9r+Q+uRgD8EUPTxh1b4HIuiT/j40s+WoOjjJzA8HAmENgEUfULbf2h9IAig6BMIilhG2BFA0SfsXIoNQgLDEkDRZ1g0Yf0Bij5h7d4HNQ5FnwfRwc+QQNgRQNEn7FyKDfKbAIo+fiPDEyKBAIo+keBlbCMSAAIo+kTmlYCiT2T6nRCCok/Euh4bHpkEUPSJTL9jq8UEUPQR08BtJNBPAEUfvBSQQOQQQNEncnwtbimKPmIaEbWNok9EuRsbiwRQ9MFrAAmg6BPga8BLCHvfV7RH2AP/sg89XuIhpP9fImz7/mXHBGIDzLqnfFovVM1s9gqWgEnCpxwh8IaDByzpL29gx+i3RLUP0Buw4b6avIRShn/FJ4zegvvORNHnPiS4AwmELQEUfcLWtQ9sGIo+D8QTzh+i6BPO3sW2IYH7CARa9OkfQAlDpIHBlDA6EdU9MH5hxw/aEB0ciM1JHU9B0x7aDN9hYlsfcBI7jB4ziB778wHn40cDBFD0GWAx9i0vIbzozS5Un37B+WQUdpl6vITjCeclbp64vf1vzkv3cIL+IkgbY7FMZATxeoiX638TN6FvWhFPOI54XMKbo9tgjJMQJyF239spHC8oVl7i9fa3lCovfr2g6YJVzDQxNNE2xUL7U2r2gJYGVdN/BTO8Xl8nwAsbfhs0tPUo+gzNBfcigXAkgKJPOHr14W1C0efhjML0CBR9wtSx2CwkMDSBgIo+dOwmDNmcXmL3EqfwdgujOQ/vG6/QkYtH+IMIgy/6BB1GXnQ8JZw+MNAbzdgluMZTHlGIgA+BaOzmG816BAhOisbjGzCLGiIe7g0oPDC+o45lgQiDNtiwemjv414ggKJPIK8EEH0432UM+gVc8z5l4h79QghX8YxU9BlNl3DvF8/DRB/od/pFH5/iQ0D3cVEZiOo+94o+duFPjvISomxY6/wjyL7b/abR/hHewE1ED0Qft6BSCdx8rWGn0L6V9SlQsn/WDHs0ij7DosEPkEDYEUDRJ+xcOqIGoegzIkzheBCKPuHoVWwTEhiWQOBEH6pu+BQfEH1A97lH9OlXfNiQBx66i0QfQfcJkOgTFOMpEH3cwmjXN1qDARooX/1jWCb6cP2iD5Nr2Ghu0AY7gPoWtB4hIADCAgZkoIAOAoe9jkL7AxR9Auk/FukjvmL7K2C72OXruz7hiyD8e99nwsns1NHIPuKTPR4Cb4j3oV8VOq2M932NXITAG1QVoXLQpwdEIlCvxC31jyDYQ8/x+DpNtyCZU+kHivWZ7BPFvQO1QwwUL0QnCWIZCEMQlCSKRfLPpiGORtFnCCi4CwmEKQEUfcLUsQ9pFoo+DwEUvh+j6BO+vsWWIYEhCIxd9PGNTSAdx6BIk/7x1D3Tu8RDuv6xj3iXbxA4hLEj2xV04ynWOsF+H6+B4J3+ZjF5aGBwJwxD2eksaAgOYEM8mC4Dn7J/xWcNSp8yMoyRdBSKPoH1NggZ94TtDVzubCKS+BIVfyuGsWUEhwxzJnQ/7Px+0ccXdQT7fVILk35YrM09llOVeuB7KOg1VKzp13SHr3/wJ75KBZHb7iU2iI0UNCBqChW24F8qArPJaP0CkDAPzskTJ0/sPA2qtHlJLyE9vrdN6DgG1zmKv1H0GQU0PAUJhCgBFH1C1HFjNBtFnzECDN3TUfQJXd+h5UhgFAQCIfpQuQfeDzdgYOTlG3OxgJeBcRAUw8aEDy/1niMGynELI6ngG08xCAOmshZwhNiEsVuvkEUEgndgVgcAgekmcEw3oWM9XxgRHR5Cfh/xv3AWKx83hiCAos8QUMawixOuXbiChSmLILuwb/TIN0RfFdHmKEzzVekV5k/CFEr2L3woiCyQKwe0a17ImEO/VmKhitrBAvPswtfV7q/I4msL56UJg5heY+v/Mvs+pu2EbZ+FghoEKZDcw4g+0CkIE9BGweneU1D0uZcH/oUEwpkAij7h7N3h24aiz/BswvwTFH3C3MHYPCRwL4Exiz6Qx6d/Qlb/CEU8ThFrOnT45HuzcY1vB/ukvxD6N4y9/AtU8RUcNOMpMOhe7IP/8hkt7O8lpFvQfeyDx4D0+T+MN0H0uSUcNpLxnZjy4MrxbxR9AnsNgHLZKwgigugD17foIoTEw/1fDbGkIjqGXursiwGKjG+Hn+aKuxJBQGU7xHlxfNV5hdAdFukzOF0OPQxme0GCZ5ugcI3kSzhgta9ZnJemiGZf+N7+hEE+Swaaz7AIHASraRYkyDoE6dOEcyH8j8nAAzWObgtFn9Fxw7OQQCgSQNEnFL02dptR9Bk7wxAtAUWfEHUcmo0ERkcg8KIPG57AeIqNX6iCA1EqkHRCmBLBhnvs4MHH+z1zIujGUz6DfA5igERiFhwDbafP/mEg6Ru7iT8d0H3gMF8gha90+v8QSU+GqlR8SmRvo+gTWP9zvuTHTmFqkk+q8a0z5ctZ4xE0C6ewOpVwjPgqhW325fFtwP9+mtuvTFPFVNzjsLmorF6hdC812uMSFvOCfgkmWw1IMP1fQnGPJvoyj8A4HwEitJ2F9tkoN6+H5vVhJkGn4PtTHIjEzIc0QP1Nw9W7RsAfD0ECSOB+Aij63M8kEvag6BMJXh6yjSj6DIkFdyKBcCUQCNGH5u4QRim+gRuMlJiOQ4dIbMIHzTshJKCw958Fozg204KNWby+BKZ0/OPHK+jGU77hqk+LYVEGMGgTmsYgCEM8EG0G/wspPu79955xqLgi2B7ABoNGvxW0gQLCegtFn8C617c8FogsvusS/udpymQ3R2wc6ebITRe5xpGbQsALXJ2+b7vvrEGX+OALe0SGi0QfNtEMkvcweaW/XNrpeImdI90ucstFLezliI2nKxHSaMb+bq5fWBX+pP0U5/tuj8ga6KF8yxl6fAKZsC6Y995E7iII7CyO5pnuX1reJfSsEJREI5JYo6DzGJE5DzoII30eRAc/QwLhRQBFn/Dy50hbg6LPSEmF3XEo+oSdS7FBSOBBBMZF9GEKTv8ADmZ7dBNynZArXnKNJ9d5cosnPUISUo4OUGB043ueLfzJkf71anzDwAe1o/8zNjISyguO8ZRo4CZYCVoPJGP2qTCi5sOzfJ9u5vEl7rDxwthTmNIhLO4s5BuhyUXY+E5cEdsegMbEJj94Dpwd1lso+gTYvV6XL1YFLkR6lXqcHrub3BX0lOsucqmP/HiXfGkjXzjJjxy56iXdXtLDkR7O2yskSPbAqXQKk8vLc8KcKvHl7ofJ94k+LN4Hehye83qcHnLXQ+54acd0zUXO2cn3feRHFznvIpcFZeoWRzssG0/sHipyi/osXxtHaFF/J+WbsCaQElI10wzTgnADVtHAKC9PDXPwVCPrcZEeJ7ntIDeF920HuWMnd13EyREPB6u288TeK5TAOoUR2jTMYSj6DAMGdyOBMCSAok8YOnUETULRZwSQwvMQFH3C06/YKiQwDIGxiz6EcBzvcLudtAYvHX5wHPF6idtNHE63i+/z0tCe615yyUvO8XR8d9ZFzjnJBRe5wpGbHOmF5+iEEJeL83BeD8e77X2Erqfsdtp6Bh6uD9ME8e6HjKd8aZGJl/A8P2g85SLdDnLTTm70kZs2cstJbA5id3hc9JG8l3BO4naMajzF9Jf+gVi/6ONy07StXuK2222AjnPTinhCXF66ZjRHR3PdbvKLm1zgyDk3OcuRSxy5LgQfeFxe4vYQHkaO9CG/8PISzk14OgL0vfs/gGRAUDWKPgNQYAtFn8FExvS3IKk4bcRhE65CQtweu4sKOrc4csVJfrpsf++LK83vndt+4ocNb52pP/njxq9+0V+89X4fOccJnUIvf7XH8avTa4NVzKkxwgXtEcKEBmTOEVt5T555+G4IworT7hAmndoEEfoaRy71ku++uWL45Od9p85tO/Ht68e/2vT+j3u+u2G5Tb50koscjUvq5onNQ9xer/DlA5lmxJZAU3ghbRAU0P9dhXJ84ZFenng8NC0ZT0ONrtvJ2auuD768Ynz7m73WT984+uW/3z975PTPxjO33neSKy5yiwpAnIO2DPQsX4fgj11DHIuizxBQcBcSCFMCKPqEqWMf0iwUfR4CKHw/RtEnfH2LLUMCQxAIiOhD1RP6rJkOzTw84YXMGUJMil0Y6F12kTOX7544fWbvsU836E6pj325+bPLzT/b3+0h3zupkHGTp8KQjff0CUMwzutxEd5FdR+Pb+LYELYPsYuKPsONp9z9D9F5N+F5t3g8dc394dfXzO9+t7/z8x3Hv9596lzjJ5dMX195y0Z+dtGBqs1N53bQ8VRfL0yvGqLqYXfBGBP+pQexiBsa7OPm+nyT4zxOp91D+F7e4SAOJ+npI5cu3H3ngzO7uz7Xdn6mPPZl7Sc/77nsONFHzjrJTSdxOuk8D+IhgnoF/IUcsx5eWF6I1dtvGSg+vtiiYc2NxA9Q9Amo1wXp1eMiLjvtEYT1xXvc5KqLnPvqF/1bX2/ed/Sv61ue0DaWa5uKNM1S9ZGidY3Ldupf0b1f9+nPrTc9nzvJJRdVN7vddDFyIazGpyjT2VT+q5YD3z72raCyCA0F5MgdntZ1sZt8+snFQ/pTqgPH/lZ/uLKhsbT+SGndoYqGxkXbTC8ceWeV+ZP131/vuO35lqORir003kdQWKhJ/rxAmYbYHGoFmMTWihe+vW7exRObi9y6Q86evXO8+f1Vb574w1bTsvrGCuXBYuXBYm3jgoaWpYfeea39Q/WXV9t7yfcucs1NbgvBk/51mg+wHUWfB8DBj5BAmBFA0SfMHDrC5qDoM0JQ4XcYij7h51NsERJ4AIExiz4wdBJkHmE6Ase5OC+djuAkN/vIz7+6P/3kQuOhY6sb3nyq4cDirYantxqf2aBbvrZx2YaW3+4/uvK9H/Zd5z51CQ/ReXIL0v0Q4vTwTt7pEOZ0PMD8wR89aDwliD5C7tj+8VQPOXeu562WU6sPnPzfbeblDU2VyoPFqkMldc2Pr219cu+xv1o/X/fNdcN17jM7+UV4wO/LQzS42gf+fc8wkx1JpR+X2+bxwno7djffw3t73aTbSa5dcn7S9cX2vZ2vbtEvf11X+bpButmct9UibWiWNDSWHTy54pNfGm+Sr++SX+54r3J0VgrVyzz9c2roKHKoYB8UfRj8wRso+gwmMqa/2eQpOgWR42mMz5Ub3OmPzu3ebfnThrYn5Ack1QfSFM1pan2mSnodc+wAACAASURBVJcub0mvOZBd21RR17RoQ8tzLR8of+zptJMzLnLFQW5wpM9LOI/H44UsOLB6nZ+RLP2iD/wHc8RoCW4v6XWTa3fJ95cdJ45/vW5t0xNrduYoD+Urj2RqmjPq23Pq2yWallzFkRzFwQLFgbJ/W/588psdv7o/4egkVRvncdNvmp8i1EAnJQg+9HRRmA/vIi7OyVHF5/p1/suTP+zddeyVmjezFEfmqVtT6/TptYZUjS5V0Zwsa0xRNeW8tj1ti+6ZD8/vvGg7fod8zZFLbhpX6VPKxuRIgqLP2Pjh2UgglAig6BNK3gqcrSj6BI5liJWEok+IOQzNRQJjIzBW0Uc0viNenuPtnLeXI7c5mhbj4ne/WvcfXak9sFRzoLK2uUzbLFU1SZRNEvkRSfWbOWv25ioOlG0z/k73kerUj3t66YDloptcs7t/hUWQ6dwL/wd38MS8f5R373jK4yZu3gXjqRuer97+cd/u43+VHchWHJmnaknRtKWo2+ep2pIVzcnyplRlY7bioHSL7pnOzxvO3Lbe4r9wkYs8zTk7hvHUPc3xuNx9QhZXW5/zqttzjdDUsRc+vnS46aM1dc2PV+/LVh5J1bTGK5ujZI1TVK0ztO1ztK0p6kZJQ+viI6dWf92j7yM/8uSasHA71X2EaWF0CMq5fQEEA5cHij4DLAZtoegzCMjY/vQSp53GxQnqRq+LXL7u/ujEt69vbF1a11SkbslStaaqDfO0lhRNR6ramqIwJcmNSfUdOWutRcqm/Jr9JdvMfzx9uclBzgnJdHo8hE4fpaKPII54nCCW+GOkWHnt/xJyXjqBk/ZTF+3HD7/7L+XBYk2LpM6QXdMY9/pRyXprRq0hWaNP1BqS6owp9abMOn1e9b7sjW1Pdn627rL9lKD70PRD/thBjx0s+kAf6pvYxfNenthd5Pov3OmObzatNzxbdSCnwZxVb07UWuZqLXM01lhtx+z6zrkNXQn15nma9nRts0T1ZtF204s/3Glx0hxJZ710/b8AvFD0CQBELAIJhAgBFH1CxFEBNhNFnwADDZ3iUPQJHV+hpUggAAQCIPr4FsDx8E4vfSp/iyOXbeS7zy43Nr67Wnmgomp/br2h8PVjpXXW7OrW+Kq2BLUxvcEqqbdItO156qYCbWP5usYn3/l+203vfzhy0UmuCWMWjnMJ6+X408oHj6c8dDFkOp665v2s89vNG4zPwXiqzpSgNs1RGWOUpmiNNaauI27t0URl25x6Y3ZtS57mYMn+43/55uYRG/mEI+f9H0+B8iQ0QzT2pOl7eLcgb/W4vVcJueIhF7+53Ko5WKZpy2kw5azvyKwzz1XqpqsN0xs6Zyl1U9d1xb9+LF2rT1n9ZpL8SM6/336u69v6O54vCblJaBrcu8L8ODrZhOP6Y69E8FD0EcG4dxNFn3t5jPkvLyEOjudIH0eu3yFfnfxm85a2J2v2pqlaUlTt8QpdrEwftVo3Y2X7zJXts1bpomTWWSsa/2tly8yGzlyNrrDmQOnBd1f91HdcSKNzk+bQ8br6I2I4wjvGNsdSEH1g0pmLXLlge7v9Q6X6cOXqN5M1xuSGY4kaa6zaOFfePmdN8/SqtmkK40xNxyzYWWtIr3ozvf7wQsvphqv2jzkaU2MTVtDyI9pHmAPrFjKZuWkPB52C0I3StF50Za6eG55vOr7ZUte2ZNWhDIUxQ6FPkOsptDW6qWv0j1QZHqk2Pio3TtF2zK6zJtXpM6v2pcj2ShrfW3He3uYi33pJz5h9SAtA0ScgGLEQJBASBFD0CQk3BdxIFH0CjjRUCkTRJ1Q8hXYigYAQCIDo41s22MM7CF3f5oqT/PDTXWvdgSdrm+bX60u1htzq1vh/NM5Y1T5T2RWnPhav7pqrMM+paY9Z0xhT0xivac1ep6uoPbDw/TM77OQ7jlyh2Us9bg/ISf60cyTjqdvk+67vttW3P7HqUIZMn6YyJimNcTJ9VJV+WpXh0WrjozLzFKV5Wl3XnFpLoro1VXYgXX2wcP/xP31z84D/4ymYjeJLsiESfWi2Ey/voWPGW4RcIeT8mZ8te/V/btBnK00xCv0smX5mTfvU6vapGkv0+hOJWsucqtaZKw9PW9MSrTWl1HVkylvnrd6d9eWF1rv2M6D7uPluIXTIw/M8xXZvYJFveWc/xqf+sA/hY1H0CbDzvDQ3l5OnS55f+vZa2y7z75X7s+vaM+pMCRrzbKU1WmaZUWOJqrLE1HTE1RyNrT0161XD//Nqy/9Rd82t7ZRUH85THVq00/yPa9wnTnKVJ710KhYvLG7FCVf4PVf2CIwH4dU3sUvQhmmadCe5ZPx4o3LvQnVTYb0le2XrlNda/1/tW1FywyylMY7G1BydXXs8SnNsitz6iMzwGBWDW+fV7M3a2PLMu9/uttOYmpscVVj8yOvjJZywClivl2YsctL4JV/AJE3DTtx95Op7Z49sNL2w+lB2tT5JezxtdVt8jS5JYUpSdSSqu+KUnbNklmk1pilV+mn/OjJN3hy/qbN0o75Subek8b1Xu8l/eBR9RnBR4CFIAAmICaDoI6YROdso+kSOrwe1FEWfQUDwTyQQ3gQCIPoIS2J5XR6ep/oFTy6euWnRfSDbbFimacmvakySGRI0RxNVb8XJjs5c0zn1H7r/WmX4n2rLFLl1usIyU2mKUbUlKJvSqnZl7ba89PUvbRy5RNOAePrTpN6rXDzEGw8YT9F1n+kCXL9+cL55k+V3qw9lV+kSVV3Ja9oTZPp5Kkuypmue9li8+miM3DpdZp6qPTrnn4enVh2OXW8urG0srN5Z0HzqtTvkYz/HU7BsvLN/VOgb3NGoBUH04Tx3Bb3m0s+/Hm+3Kut2la+zpFQb/2dN22/k5qj6ownqjsTq1rh/HIquaU1WmbPWdklquzLUpnlyY3xd57wtXZUHTau+P3ec0EleN92emzAzzuMRlJ17hsYsgTSKPoOvIhR9BhMZy99emn6d4+gq49cu2941fFhT+2ah8lDSps4slS5Grpsp08+UmWYprLHyjtgaS0yVacY/jf+f/K1HVcdnrNZPXdUyW6XPrdct1Bx86vOr7Tf57zia68vOcy66tB3n/xJ67FsHKrIQJ8QRt5Pc/Oxn056uV6v25avbMhuOptUYZ6zS/5eya4ZMP1NhjFaZZ8nMU9fo/3uN4f/WmH+j7pgq001Z15lU156m3J998PiKn+++zZHrLtIrJI8fOTPOS0/p8RI7bQ8zjxrGcaT7ku3DgyfXyA4VaYy5dcfTqwzR6o4MpSVDZkyq0s9eo59ZZZwuM02Xm2cojDPVllhFe3ydPrO+rWDNnsytpie/vHaYp7F/ENrH5K6RmzdwJEb6DLDALSQQ7gRQ9Al3Dw/dPhR9huYSAXtR9IkAJ2MTkcAAgQCIPsLYwuvyuN13vORaL/nyra9eV+wtVRyWKNrS1KZkdUd8tTHqX7pHVhsfVR6dqT42TdH5WI3l0WrzYzLTdKUpWmWIV7fPe91SrNpf0PLOv351n+LpDC8nHQ1B8tYBex+6RTN1COOpXpA/2JDKQxcD6/nF/p/D76xSHCnUGLM1XSkrW6MU5lS5Ka3GkFhtiKsyRFUZp1cbplYbpsoNM2T6KK0peb1FomnOkR+Q7Ox85sS3r4vGU5DDVTR7awjrWKRP/+pm/ZNUPMTpoOILXbOMXL/l/tT8Xn39nifWNpdozLGKjkcV1ulKa7TCGF3THqs0JNd35NRaclSGDHl7skKfqDQnKi3xNYaY6qakmjdKT366s4+c4clNt/cOXVOIeITF1Nhwj6k8DzZ1COsjZBeKPoF0tJd46Bws0u0iF7++1rihab72SNpaY6pGN0ejj9foklT6ZOGdqDLEqYzRKlOUkr6jhXeM0hiv0qVrWgu0TQtfb33JQX50kCs27gadbGR30B7B306BrgJoJ7yT2AVxRpji6SKcg1w7dFKxwfCUsiVdbUyo7UhQGmOrdXMUhrkqY7TGOENjmqaib7AtRmWMVhim1Fqmq9sfUzXGbDMvspxe5yS3nHTFQL9enNA32WmMD0vh3K/SdnPk3Ec/7drU/mRtS568OVGlT6zvSpYb42WmeLkpVm6KkZujlOYZgmHT5PqpKmO01jhHrUtQtczTtmVssBTtsD7vJOcJsbu4O0JYlJvjHR4PTYbdbyWYOwKj7969+6c//Sk/Pz8rKys9Pb2ysnLhwoUul8uv1uLBSAAJhAqBxsbGAuFVWFgokUhKS0t7egIzVzRUCESgnSj6RKDTockdHR1SqTQvL6+4uLioqCg3N/fw4cMRSwMbjgTCmIDNRnN9Llq0KDc3t7CwMC8vTyKR1NXV+ddkr/BAWUgb7CU9PZ7vfurt0B5cWN9eotJlKA2JSmOc0hirNMaqjLEqQ5zGGK0xTdWYHlOZZihNdHxHjzHQoc1aa5r8cOKGttIzd9686/2UkJteN0efVo9gbCKyGSJr7ITOCLH3Kz6COON0Ozhy5eMLOzfpK+ra0zT6xDpLRnVrvNyYJDMlyo3CkMocrTRFqUx0SKWxRKlMUSrdLGXbHE17Yr0ha725YItxuZ2cIcRmd95wuulcKi9xCblcfeMpkSmwCTO6hBy0A9M46LjVQ+xOB0ds3eSn07801zU/qWktVOrT5aY4uTlabqIJhoSxZ7TGEKPVx2j1sRpDrEYfpzLEK43xcmMifRtS15qKlAcqfubeu+W55BIGxC4XPOO3QYJnOtNGYOiz5D4TI34Hij6BvASEOZacndzuIz++88PGtc1Fda3z6vRztMbZguiTrGnPoG9dMv2TyitRGgPtHWgfIXQTKn2Spj1L21K6vu23N8hHTvKzk9ygy6u76PSnUYk+vYS3ETsPgUIujjiJ+xY5u7NzRZ2upKYlTsjmFaswzJG1zVMZUzSGGJ/oM0NljKG26alEpTZM11oeVRv/r7p96iZTSeM7VQ7S7fC3j6JKj7P/a8lWaqedA8eRq73ktOWT6rXNRZqWNEVznEafqNDFyk1xMjMoPrSHgk5KY5yhNszUmmJqTbRfULbNVbQn1JvSN5mX3HR+TugU2TuCuuTmae5rYc7nvfNLH9q32u323//+9wUFBcXFxfA7UVFR4Xa7vfhCAkgg7Ai43e79+/dnCS+QfsrKyrq7uwP584BlBR8BFH2CzycTZFFnZyfIuxKJJE94NTY2hl3Hhg1CAkigX0pZunSpRCIpLi4GtVetVvvX1wjJO+hIinh40t1Dvvng513qxjKNXqI0JMlNsVTZMcWojLEafbxWl1iri6s1TNMap2oMMVS8MCQrDclymlUnvtYar2ievb4994PztTbyEZ2v5HKNSvSBrB82sejjpSmcOY5cPPmdar0uS9s+W6uPrTelK9pSBdEnnkot/dbSyAONcYbWNEtjjFIbZql0MWrdHI1xXoM5bYNh4VXbh4T0uPnbLu42obEDkNPooaKPsLa9V9B9YJaJh+a6dRHbDfJD1w9b1O3za/RpMkuCzAQP9alYpjLGaIzRWkNUrZ6+tYZoGB0Lok+SzJgsNyTXWtNkTdkf/9p8i/wCs8jo0l003qdHyBbUSweYwowWCJzyz7+RcTSKPoH0sxDpwznIrYt33288+c+GpoK1xlRVW1StWbh89YkqXSp965NVhngqqRijVVQYjoPOgvYXhni6KFVL4dqWZZ9dbRbSOd+isX8eIVQHUvOM3GQvR1x3+yN9BM2Ip98J+099H61vf17VklvTOltpilJboqv10dW6eLUpVaMX9GljlM+2eKWBdlJK40yN6TGN8b9r9VHr2gu2G165wV100JXK/HqJRB8W6UO/ok6eXPnhunG39Xeaw7nq1lRl21ytZe7q5ulC9xQn6qRiBG70X405TmtOUBsT5G1za9rmKnWJDW0VP1495iV3hUlkfcLK9DT8z+0W1F+m+4zAZI7jnn322dzc3IqKioKCgtzc3EWLFnGcHwmMRlAJHoIEkECwENDr9cXFxTk5OXl5efn5+aWlpdevXw8W49CO8SGAos/4cA32Ut1ud2dnZ1FRUV5eXnZ2tkQiKSkpOXLkSLDbjfYhASTgPwGv18vz/KJFi9LT0yUSSWFhoVQqra2t9a8kiPThaU5intzqI981vrdG21ymas+iwoQ5ms5FoBErMRp9nFaXqNXFaw1RWoPwaF+fSBUfKvok0ikdxli1LqGhNbf53ZfthEb6ELfX74f69CE6J0gedhA7YP6EIPq475LvW0+tqG1O1ehma42z1Qb6UF9uTKJhPjTShwUlDQyplIbZSv0cpX6u0hivMc6rby394ieDoKcMPEcnhPPS9aTvf1ElSBRf4yEg+sDC00LQgov0/ur9Zv/bqzTt5TRVqzWuX/ShA0wa+qAxxAphPjTShwb7QKSPgYb5yKjlSRpLkqI1q+2Tuh5yFUQfno7JOCHWqZvQRNF0rAdmDGnl/XZH2h4UfQLpcRB9nOT25xdNm5qfq2vM3WjNkDU/VttBY+do4B+N7ktSGpIE0UcQhoVoQGF6F0z1iqHBPm2S+pZFls/WOck5jtx08b1UOBUSHz80ROXe9niIq5fwHNVnhRmOHCEO0vPZVWtt8xJFa5ZCH6O2zlBYZlYbZtbo45VmUKOo5iqEI8YJBicLNs9SmqZozI/Um2M0Tbl1B589f/dbB4G06ffW+aC/hhN97By5/NG5/RublmiacrXtyUr9nIZjCavbp9GJXUIPJXRScUL8JP1XrqdimdqcqDIlyPVx1bq5sva5muaij79vFZK62z1eJkvTpbioUf6IPh6PZ/ny5ZmZmXBfmJ+fv3z58kuXLj2ocfgZEkACoUnAZrO1tbXNnz8fFF6JRFJWVnbjxo3QbA1aPVICKPqMlFR4Hed0Oru6umDsJ5FIpFJpZWXl9u3bw6uV2BokgAT6Cdjt9pdeegnmdsGv/CgifTzCSIrzODly00G+39DyXG17qUKXpjTGys1RcvMMuXmGkLiHzlSg8T76GF+YT5Kg+CTRaUqmOLkuWqufV9ec+3rzk07yjZd0e9z+z+SgLYM0Or75E4LC4qURAvYrjo93mp5TNaVQ0ccSK9fHqSxUcvK96bQp4U3HUwrDHHjDCEtmmKswzFU3FZw4vddDg2hswsJbQi2EE3Lo3H9d0RGmT/QRRptM9PEQt5CW1kF6rnm+XN/6vLpdStOJWGfLTFT3AR2KamGGeBp2QCWzeI2e/imE+dBoIJiVpjbN0bRnbDH+uY9csdNoJqosCRBgjpsgBAlG+Cy5385I34OiTyCvAEH0cbtI93/OtGn2LdE25rzelVHd8t/ajmlK81TaI4CEMfBli2XZauinlml0+hIN9smqbapoPiVzkLMucr2Po7MMOBB9/LPXQ08TYny8PPF4iIt4bOTXDy401jY/TvMHmWdrOqcprNOqjFOrDbEKExWkhLmpgmFUEk6SG2hMoDBVdbrWPKXeHKs8kqnau/TM7U8dxMXTTmfkL1+iL8ixBf/Svs7mJD+/+/2utY2LNC25Wv08mX5m7Vuza8xT6WxPOlFWNLFTUHyr2uNq9DDVM15mmFttiK0xxKpbpO98ccjpvkUIFX08XqcwAdUn+ozcTEJcLtczzzyTm5sLs38LCwsXLly4Z8+eg/hCAkgg7Ajs3r171apVEokkPz8f/p0/fz5O7/KnywzJY1H0CUm3jdlonuePHTuWl5dXWFhYUFBQJLxeffXVsOvYsEFIAAkcbGxsPHTo0KJFi/Ly8nJzc6VSaX5+fn19vX8diZfwQkIfl9fhJL86yNfKNxfV6YrkuiSlKVpumSazTu0fxNFkHf0SBqTIoPO/RPl0ZO2zag3J9An33gVO8gNH7tCIFX9nclDrhZTNNLxlYGEcYT7H3XN33lnfvETVnK7WzantjF2tm6G0Jsh9eYXAHiHwhxpWo4+XGeinMLWixjS7Wh+tbJJYTm3nPDSCxkv6+lNzPET08XghvoAa5svc6qGLB/F0Btrt6+RL1YHFmjaJ3DBLQRcOi60xCzO8BMNoLhHhrYENEH2oMNSf5UNtiqnVpa1tfMZBLtnpBBH2LN9NvM7+2KIB0cevwal/10LoHo2iTyB9J6ze5XKS7s8uGOsPLtMcyd7YmV7T+ht1xyNKyyNyy1QqBtOcxHEgbULCGpk5BhQfuWUqTVRsiNO0Z9Q2l+lPqxzkRxe5bufv0gmKdKKSn0l06PJYvu+gl3B0Rqa7l1z+z6XGutb5dcYMrTVG2TFVbnmsxjy1xhQtaK60C4DpVIKdiaBPU9GHTgSbVmearWrMqj345PneT539uYJGzlAQfUTdkxCJ5+FJr4389MHZfWubFisbszTGeavbp8i7pso7ptAYKCr6UN1HkKiFrtOYvKZ9bpUuvtoQX2OcCz2CzByracs79U0TzD4lxOnxukCTHsW0LIfD8dvf/rakpKSgoACme2RnZz/++OP5+EICSCDsCFRUVJSXl6ekpMCEf3jyj9O7Rt6zh+iRKPqEqOPGbvaJEydycnLgyX9+fn5mZmZlZWXYdWzYICSABPKzs7OLi4vnzZuXkZGRk5NTVFRUUFDQ0NDgXzciiD5e+iTZ6SRX+8jX9U1P1umKFO0JgugzVWZ9jOo+dJKXkLZZCF2hT6xhgpIpERalUZpiINJH25zfcPhJJznjJnfpbAR/x3dU8oBZVBzTO7zCLDEbuf7T3bfXNS+ta8+Xt8+pPRb/z7YpCuvs/ifowowT4Yk+nXEmMybXGBJrjJBhh8orNaboauMsVUvusdN7eG+PkM3HwdJleIfO6gGRPvAkHxY5GxB9vDwVfRyk+w75pu7QUm1bDl0dyDRFZo6uMQuaDo336Z8HQ6fC6CH4gIpQMnOszBxTY6Gz57SmWXXtaVt0zzvIRTtx0JWNABodVHJMbhImxLCUKP45OeyPRtEnkC720jlYDifp/vHGia26/9UczltvTZe3Paa0/EZp+Y3c+ojMMk1mjqYXsZC/iv5rjq2xRMssM2SWaWLRp66l/OSPmyDSx0F1ViF9zmg6BaoTeeg0VPqtc5K+PvLzV7faGtoqaw3palOMzDyFqlHW6TIaaxcvE9Ro+JoJdsbRPVQGilWZZ9E077podVPmxtZnr3CfO0mvkCB65AwFWZqJPv1Z1jmO9NjI+c+vtaxre6rqYFpdR1qVcfpq03/JrI9QFYwmP6KTuQSljM7trDElVRsTq42JVYb4atPcGnOszDpbbonRtEk++8nIe4VsXjRjNOd2O6kYzlbvGmzpsEqwy+V69tlnS0pKpFIp6D7Z2dlpaWn4+4kEkED4EUhLS5NKpRkZGeXl5fAYsKys7MqVK4M7DPw7vAig6BNe/vSjNSdPnszOzmbTt7OysnJzc8OvZ8MWIQEkkJeXJ5VKS0pKysrKpFJpUVFRVlaWTCbzo78Qgkp4QbzgiNtBrtrIVzu7XqofSvShaw0LqXPos2p4xu8TL+R0zaxopSFaq0uqbSnYaf6jg5zhSI/LLQzx/EyS6stZIaRM9kW4CObdvMJ/vNn4+3WmijXNcZqj8a+1PqLs7M8zrTIMPEQXjacSqk1zq01zaixUYZFZojRtkg++bRZifOjMCSb6DANNPH0DVtTyLeAl5HJ2cDxHevrID5vbf6ttya43x8r0j8jNUTJzDIw0YXwHs88EmQzCjmLpkNkSJbPQqXO1xpkN7WkHT65wkJ+cpI8WDEtas6lkkDeaYoRsR8MO8YZpRfjvRtEnkD72Eo/d0+ciPT/3frS/4zXNoaJ15mylbqbS9CiN9AHRxxLlE32o7lvTL/pECaIPnd5FJ4K2ZTU0LTj9y5tOcs5FbrmEMDavd/Sdgtu39peT9DrI5XN91rrmSm1bhkIfU6OfIjNNV3REKTvmyCxzZYIaTb+Hlqga+o4R9iTKTbFqy2y1YbqqLbquOXu76cVb5CsX6YH5UyOGyEQfXydFJSk3R3oc5NKPPZ0bdb9dvT9r/bF8hXX2KuN/y6yPUJmJprumvRUVfU1xNabEGlOiwposMydVG2k/RaViQQzWtOV9+8sx8exTl8sxjG2shxr6c4/H89RTT+Xn50OYT0FBQXl5eVFREf58IgEkEH4EcnJyysrKMjIypFIpDP8qKysx0mfozjGM9qLoE0bO9KMpHMedOHECnv/n5+dDcp+CgoLw69mwRUgACeTl5WVkZMAXPCsrC5btG0UiZ5Ho82sv+fbwqZV1baXqNl9OH8s0Oo6ja5ALqUj7Z0v1J/GQCZmehaQ/UVrjHHVrckNLyaGT/7CTHznS7eD4oQNoHtyrQeoaGM30P0QnHA1EunmHfLezc8UG8xP/Opig7kx+rfUxVZewLLoBHqJTC+kIVBhP1ZgSYTBVbZpTbZpNZ59YYmp1+Z+fNwnrIDt5j2P4FM6QVYcNqSC9tDBdjc41EaageUmvw8mRXic5/2/Ln2qbcteZE+TtjyhNUUIYBNV9hPklA5Ng+qeb+BQfmWWa0jyj3ji7oSXD+B+5nZx30YkmTPQRKoIVrvtjI9zCfDQUfQZfQCj6DCYylr9hyXaO9LrI5f+cO6g9UFlzIHVjZ3p12xS58bFq46NVxsdqzDNlljkyS0KNMWGNLk5ujV9jjKoyzFR0RKs6YhT6GFXLvNqWgo0tyy85jzvJRQe5xRGOrm/OjVL0gSgh+Dq4iN1JrjjIVzusL2qbJYqWBI05TmmJVVhnK6xxq9uj5eYEpTVB2TlL3jGt2jKlyjRDZopTWpPqj6euap5Sa5691pysPpxl+ULZS35wkW4/RR8WjuhL7U6nn7l5SuzaVe4/x7/ftMmyrOpIarVujvJolOb4TI1lRp1llsoUVd0+tUo3U2GNlVvjV+tj1pjmrtTHrWqfo+xI0R5NXdk8a1VT1JbOJRy56Jt66ha03uG+86yHGtrhML2roKAgKysrPz8fNvR6fSO+kAASCDsCer2+uro6MzMTvux5eXllZWW3b98eunfAJ9JszwAAIABJREFUveFCAEWfcPGk3+2wWq05OTmQ4KOwsDA9PV2tVoddx4YNQgJIoHHfvn1vv/22RCIpKiqC+H2JRDIK0QcmTLioqnKrj/z4zrk31uuWqFpyGjqylMa4Kt3MGmOU3BQjM86muZDNc6v10QrzbHXnHKU1utowtUo/RWGarrXErjo4vcGQs6Nz2Ts/bBJEn1s2V6+/UT60y2MRLjCgoQ/ROZ7YXOSmnVx49+z+htanZY0FCmNGlTFGbqUjqVrzbKVhVnX79BpDjLorQdWVVGOOq7Em/rM9ZrU+Vns8Td2ZtLJlZk37rC1dCx3kDMT4CGuEQdohYRw6uLtl4ynYgEgfIc2QoPsAN47YbvLfvffj9i2GRapDcbX6GI15tsw0s0o/o0o/o8YwS2GereyYQ+MPzDGqzjjt0blKa3SVfsrq9kdl5ql1nbH17fHb9OUf/bTLRS5zxElX7gJqTPwaiPRB0Wewk+BvFH2G5jLqvYLuY+fI9bM3j++1vqx8M79Ol9VgSW44lqA9OkfVQQVUGpZiSZCbk+TmpCpjXN2JlLVvp8lNsWtaolRtSXVtebWHy4z/UXeTz1zkmoPc4QU1ky477n+vAN8F+JcqR8TpIted5MfOrxq2W5erm7KVrYnVrXNkhrmajmR1Z/LK1ujVuqhq0xRheupjMsu0GtNsmSFhTfPsWnPK5mNZ6uZ5a5tLvri230ku9nlvCCvJ+0UL5B7hXyoC0xg8ntgc5IaTXPzmlnGL6Xer92c1dOatPZH6WtN/KQzTas1RWusshXGmzDRTbompNkf/q22GrDOh7q0suSX5n02xa5ri1fqMLceLW/7zN45c9ok+/T3UUMYxKXrYYxwOx7PPPgvruRYUFJSVlT355JMXL14cqjTchwSQQGgTuHXr1pEjR2BuF+RuLy0tvXXrVmi3Cq1/GAEUfR5GKGw/t1qtEMkLiZylUunOnTvDtrXYMCQQwQRsNpvL5Vq6dGl+fj5Ivfn5+evXr/cXiU+84Fyk20EunrV1HHrn1ap9EmVztqItWWNOru9KVnckyox0SKWyJtQdS1R1xFYbpq/RTZUZptKZHObZdaaELcekVftStpuf+8lmcpHzbnLTztEkHv6/fFOoQGyhRdDxlI1cc5LL398+8Yb51Zo3K+otJbVdGatapyn0VPTRWmIVxlky0yyFNbbGErOyfaasM0F9NEVhTV7dFreqMValT952svjw+390kgseb/+iXUIsDTVwqHEoDKnYBA42wurf4/USlweGn9fO3Lbssryo3p++wZhR3ThTYYyu65pbeyxe1RErM1Gr5BY6TJZbYlQdsZouKv1orNRgZWuM+s3Elnf+fKGniyPXeOKmq4VRe3yLtAuLl9E8JgIHIUZpuKf+/pMOlzNQ9AmwJ4UcV26e9PR4fjj51c71TcvlB/LXmwvUhnlKY5zMOLvKELVGF1OlnyM3J6k6UqqNCTKLkECrPV7RllyvK9jQvmBD07Nnuzs4cokjPXbOBtcwnfPpv7Fi0Ydmg6YBQz0uculX/v0Db/1dvrdgvalkXWfBqiNxrx2OUZjmqSzJSkusvGOaovMxZdcUVedMhSlBqU+VtSSvt+avNWRrD2e3vve32+QUR67Z3LeFNNH+mAUGDWTcor2Dl06RveMiN7vJN60faFUHF9TpihqsOVXNUTUtU5W66UrjTLlhRo1xBu0LOmbTDD7W+NW6uKq2pFpzXp1eKjuYs/ed58/2NvPkmk+THlbQETovnxRNLRni5Xa7n3nmmfz8/FzhBUu22+12Dl9IAAmEHQFCiMlkKikpyc7OhtQeFRUVuHrXED1jeO1C0Se8/DnS1ng8no6ODsjnCqv1lZaWNjU1hV3Hhg1CAkiARoQQQp555hlYrU8qlebl5Wm12pH2F77jQPThicctzE5wkLOf/HJ4Y+uzNF1Ga16tPkdjTJW1z13TEl3VHquyzn2t8dEaY1T90bi1x+NrrXNUulmK5tnKxsQtlnL5bqn1tMZFvuXIZSe5wROn34Op/qfmQr5kkejjJb193l9d5GYPudD5xT7twd8qDpfVm/NVhnhZy0yVbpbKGCM3RFUbZtKpVVb6HL3aNOcfTbOq2pLWdhZo2iRVb6bvfnv5l9f3usgvwmSOewZTvtzJPij0f5Ho0z+7ClLqCOQFTcZJ879Ssewu+fbkN5u3656uO5JXb8hQ6ufK2mJkeiH7tXW23BxFB3rmqCr9jNUtU6vbotTm+DpLqsaYrGlJW3uo+JOf3nCTszzp5ggPI2KvF8J77p3hRdwo+og9xLZR9GEoArTRL2rYeXLzQvep5pMqzf6FqsOFyuZMZXuK0kA14BpDbLWBzqhUWpNVHSn/bIpZ1RxXb82r1xXI3szfonu+69NNDnKOJ908cbs5qmZ6CXG7fJFs/ljqFZbvEks/PA2Ku+UiF9/7bs+m1hcamhbUtRWrdXlKXUZVW5LCNK/GELNa9z+rdP9njf6/5YYZCv08RWvWBmuZplkq25Oxt+v5c3faOHKOI3cFFdcfayAYj35TxdGA9E+OZvaxucj1728cP3D8X4p9JfKDGa935ml18bWmOI2ZCr01Rjr/U9kVpzmWpOhIqtYny9uy1horG1oX1x9a0vVFrYt87SW3fKLP0GqOr3tyP/gwl8u1fPnygoKCwsLC/Pz8jIyMhQsX3rlzx8/W4uFIAAmEAAGPx3PkyJHc3FyY4SWVSisqKjDSJwQ8NzYTUfQZG78QPrujowN+3LOFl1QqPXLkSAi3B01HAkhgGAIOh8PpdC5evFgqlRYXF5eUlOTl5SmVymEOH3a3V5g9xXs9Dk+vg9xwkSs95NsT3+3c0PKc5kiF4rBE3ZqtMaSrjEkKw1yaCLUjTmOdA8t1KVpjVK3xde2Z69uLZbsKG0+uvOp8hyMXeXKTI71e4nZxdNkZf17CashkkOjjJHSBnV4X6XaRnl/s3x7oqq3aUak6krfBmqvVJWkNCWrjXIVhdrU+qsY0S94Rq+pKUHQk/at5rqw1c725UttYrtk/v+NztYt87SG3BdFHNJjysgWzxJaC6OOTXegQjxOmXNDldIRoA2EdIS/vIHdd5Fo3+fzkl5sbDi6obyvQ6tM0uiSlfi5drscUozRFCbpPlNwwS66PpSujtaep2zI1LZK6xlL9+2uuO97xkmse0gejWp4uaw1v32Jh/RIQij5iBw1so+gzwCIAW760VcJK6XYnufr1L52HjtbQNeqayzT6/FpTZq01VWNJUpjnKgxzavRxSktKlW6e2pC11lKqPFQo3z1ff6r+Fv8VT255iXtAUvVSXcT/F3QKsBigoBkJ0qiXZobuvkvOfnD2QP3Bp/++JXOjeeGOd5fKWtPl7alyXbzCOFNpnqq2ztBa42uNkjpdmepIeW3j49v1z//n/L858r2X3Ozrc1DpBrRWvy3ziT4iOYrz8MJk1GtfXzHsNr+s3l+ytq2gXp9db0qvs6TWdiSp/n/23sO7iWsL+/5v3m/d9X73ptBsq2tGmlGX5YoBg+kQSkKAkAAOvbcACZDchJbQwaZDqA7GkADBEAgQuJBQTDPusrrmXdYDJ4qxjW1cpNGeleWMRjPn7PPbMwedZ/bZ5/D7Mw/+O3//vz8/8P6sA8mrT6cuKnBM/opb9v2QU1e/KfddCkplYanuVSqfqH7qH+ahe4rqKf7x7csPPp8vJyeH4zj8C8FxXHZ2dl1dXZg2IkAEZEcgGAxu374drwGRr91isVAi56a6RlkdI9FHVu5sS2MOHTrEEnjpdDqe5zdu3Ci7jo0aRASIwEsCWVlZer1ep9MhuG/p0qVt6TAi54YlTLkISqH6YE1k2sSTZ4ErP/w4c+WuYbO/t83bYVxxRFxxnJt/qPeMgv+75Fjy3APvz9j9n3kFvZYf4lYesi7dYZv7ne2bwvF3K04EGhLTlAca9At/OBxsfpXh5szE+C6SOufvSB+v1DAIqqv3VQUbImvqS++d/v7ojBW7Mub8oFxYoF24V73ggGLBoeQ5h3rMOPAfjKfmHlZ+ccK6qNA2+Svd/O+yj11eXRG4FJQeRsZT/xxJtSz6IHfs36JPvRSJYPKFIqJPSKrz1wek2oD05EHV2QPnF85eLy7abVh12PLFEcOCfb1n7vn3rH3/d8GR92YW/v8LjyQtP6ZfetAwd7thzlbLsj19vzk45kH18ZD0QJLq/MEGLakhGCJUH5bqI0E9rziQ6NPc/RI5TqJPi3ja+mU4Iji8DIULhRtS1Tz5rezIjuLZ87alz95unLk9ecauHrML35u9793Z+96dtfe9mXv7fL4nZfpWRf73upX7Bh69uuKR+3xAehaUvA1r0UX/h3u8bSZBba2PmBUVXtMQbucPSC+qpVs/3/1hzf6RszabZ23jpm9VzC3QzD+oWPRjj0U/vtswkbKgx+wd2tlbrNP/69x2Jv/Koy2V0sWgVCZJXp87Umo7RZ9XwT5MJoskLopIwtU+6d7vT/ZsPzVx/vfmGZtVU3/o9fmO3nMOpMw/kjTr4PvT9707bc97Eze/M3sXP3dr6sqdo3669n1d+E5YehEMV0fF7/yzq/qbGyZ2IcvXKzns72//3svNzWX/POj1+r59+7rd7r+/pj0iQARkRGDXrl2Y7iEIgl6vt1gsNL1LRu5tuikk+jTNJQGO7t+/X6/Xi6JoNpuNRqMgCJs3b06AdlMTiUCCEsjNzcU/7nq9nuf5JUuWtBlEWAoGGsQGjMa8oQYJwyc9+7P63Mnfvv5y7/CZm4TPv0+ZtbPXrIJ3Zxb+57Pt/5pT2GvpIfWSfbr5O/SLtlvXFg7+/sin/3txOpKVprq2vhKzurxef5uNaXjr3hBK02DNP0WfcLg+GPQjxMYrVdyvLjl4YcaM79T5GxWffZ+Uvy1p9n7F/COK2Yd6Td/37vSC9z/d1nPmDv2cLY4vdg49dmlddaDhvX5IqomMp/4eSTUkz0E61saj0VeRPq/Wao8YVC9JdWGpPjLYlPwNOX3wX8ArVVcH7leErxSU5K87PGDuD/y0Db1n7+iz6EDSgoM9Z+399+x9787d23vOLmX+JvWMjeav9o04eu2Lm+WHgw2KT7Xf7w1EUtxGGlgflmqlhv+8Lzn8Lfp4I2a0nausryDRp0Pd2yA8StLfakgoINXWS/dvVh7d9cuM74qGLT1gnrW7z6w978/d9978Az3mHug575B64RFx+RHnxuKR5x+uq5Z+DUgPg1JtQ7eC5aegTkTy+oTbHO0TgOjbYBY6ADx2kdLq/BWBSFLn3yt3bywat2i3Y2GBOGunbk6Bcnbhe/m7/s/Ubf9f/vYeiwocqw8O331u3o2KQ17pVkB60PCMhV/F7v3dIbSKZFRfEemlYFVQknwRhauhNH9YehaQbt1+vuPwr/nrjg1YuM88c6dmZqFy7kHF3MMpcw4nzTuimVOo++JQ1rZzU68/2xdoCPCp9fs8DVM7Gzo/qG7NWdZa0WfIkCFGo1Gn06kjW2ZmZmVlZYg2IkAEZEdAkqStW7dyHIfVfLB6V3V1das6NTopbgmQ6BO3rntbw/ft2wfRB5F9oihu27ZNdh0bNYgIEIGQ3+8Ph8MDBgywWCyI59Xr9fPmzWtrJxLCa2JMcYjkzvAEG3Qfr/TkWfjS2bv/3XJm/NJ9lpnbe8/c886Cgz0XHVIsPcIvPcjN3qaZs9nw38PDL97fWCtdjyg+db6A1++LCEh/SzZtsigUboijiQzu/i4hEukTiiggASnY8KU/KD28W7nzx6vTvj6eu2ifY9ZO3ay9mnmH1HMPK+ccSp57WD1vH7dkb+rWks+uP9vrke6FpeqGYdQ/Z3JA7nmz6PPyTXooEn1TG27QffzBhpCchhw8CGOoD3h8DfE+ZRXSuZK/Vn5zdMi8bcLivfzKY4YlRxqGn/P392mY1bWbW7Y3Y3PRJ2fvbXgSvuRtGHtWSmFfwwyYUMPcl8jaZd6QVCU1GFzfwA65nBssR8RDc8PANnGW1ckk+nSoOyORPoHal7KD2+3xSW6fVOmVHnqkm7fr9h+5Nn/9iRErD2Su2Je2fK9zaYHzqyN5uy5Nu1L1fbV03iv9Xi/d9UnPXj7Gr8J8Qp7IrRyWfN7Ibd0GkwORJ6H+peiD5yEQyefc0BcEglKtR3pYLV2vlS7dqtmz6/z0NYdGfnlw0Ip96Yt3W1fsS/uhZHzJX//903OqTvrD25BYuswvPfcF3UFfRPTxRQxrgz0NYtGr2KBXog96q1eiT0OUY8NK8GVh6Y+AdOVG1Z6jN5Z+e3zcssL+iwsyFhemLT+Q9eXRgQeuz7ldv9ctXfNJD4JSdTDkDaOEhtJRYnNPO1Qhlmas6dPq6ury8vKsVqsoijzPGwyG/v3719bWtqWtdC4RIAJxQ2D79u08z2OpPsz8p+ldceO89hpKok97ycX9dQcOHOA4DildNRqNwWCgnD5x71RqABFonkB2djbe6/CRrc1LtkeSj0ohKeiT3DUv1yOPZKXwu8MN+X280p1yqeTnB+u2FI9bdTBz5YG0xbtSF2x3fbGn/66Sab8921IlXfA1pEN9EpRq672Rd+dhyVP3MimP39v0YKT5BoUa5oU1jvSJhAmEG8wL+xvmd0kNaaef1kulAenS7bp9J26v2nDq4xX7chcXZC0uyFi2P3PV4YF7r868VrmjTvrNJ/3lk8obVuzCKOrVaA2LdjHdh43iXtn2KtIHg9aGdiAK6WWkTzAyvSsUktzehmFnJOogUB967pPueaVrT6WiC/f/u+3MxJWFOUv2OL/Yn7F0T9qXhwbuPDftwsPN5dIlj/SXt2El6+f+UJ3f62uoPSTV1zUsa92QCylU+TLSB0ljX2pVGOK1FemrBsn3/yT6dLRvoWq8elQiWrA/KNUHG3JrVfqkZ/XSg9rw3arA7QrfrRfemwHpSaAhsKU8KL0IStWQRV9KKawolPaqzLZYzASOV7c+K7OhlFC4IcnWS9uC0ouAVO6WyqoDf77w3qzw3aoN3/VJZYGIYUGpLtgQp9cQqvfSPHQKbbGm2XP/YVVDsM8rkbgyKL3wS89hVUXgf5XBu9XhP2ul+xFoIPbKJBTSbB3RXzBV6BWW6C8j+36/f8iQITzP42Ugz/MZGRkk+rzGiQ4QATkQCIfDO3bsMBqNiPQRBMFms5WXl8uhbdSG5gmQ6NM8G5l/c+jQIczqwsLtoij+8MMPMm8zNY8IJDCBnJwcQRAMkY3n+XaIPk3CwygvaiRV7pPK6qW/asN3n7lvvPD+URu675OesiFeZCT1j/Wwmiy2dQdfDcP+Hh6y0U3kBfvL436pIVc0xlPlXulpbeh+ue92ue92VeieuyG10DMM9P4egbZhPAVLI4Opf1z1j+FngyGRqCYoM5Hhpz8o1TS8s48Y5pMe14Ybxp7P3NfrpQeehkXNnvobhp+1keFnJKapQUuKbH9X9I9aXn7b8L9XZKIO0a4kSST6dNFtgExir8dZdlH1bakmGAz6Ilsw2DBdKha2cDgcCAT8kS0YbEfCszY3gkSfNiOjC4hA3BIg0SduXfdWhpPo81b44vliEn3i2XtkOxFoM4FOEn1etyMUCgUCAZ/PFwgEGg2jQqFQoyOvX94FRzDK83q9gUB7VgjqKAtfH80Fg8FAZAtGtnD4bzWroypN8HJI9OmiGwByT7zcwZCoughNq6vpSnok+rTaLXQiEYh7AiT6xL0L29UAEn3ahU0OF5HoIwcvUhuIQKsJdJ7o02hsEg6Hofu8blqMiD6R6VoNRr5uYVceeV30Qe1svNwIbFfaJte6SPTpas82Wj6xq6tvY33ovLpRmQ6FQo0UqEYf29ig1p5Ook9rSdF5RCD+CZDoE/8+bE8LSPRpDzVZXEOijyzcSI0gAq0l0HmiD8YpjeyAYBE94mt0Qtd/bGQns63rLWlUI7OEVJ5GZDr8I4k+HY70DQUyGQVhbG84u8u/bqS8wtpu1INhT3RHAJM6GwyJPp1NmMonArFDgESf2PFFV1pCok9X0o6pukj0iSl3kDFEoLMJdJ7o09yraMxRwt9GgktnN7bJ8pkl7NuuGU+x6prciR4Uw8LmTmvyOB1sEwESfdqES/4nB4PBaIWl2xvcXcaQ6NPtricDiECXESDRp8tQx1RFJPrElDu60hgSfbqSNtVFBLqdQOeJPm9sWnOq0Bsv7IwTGo2qGn3sjBrfWGZM8XmjtXF9Aok+ce2+jjc+Fp7/jm9V20sk0aftzOgKIhCvBEj0iVfPvZ3dJPq8Hb84vppEnzh2HplOBNpOoBtFH2ZsLKgbjUZ5jT4yU7tgJxZodEEzY6oKEn26xx2417vxYWuu2dEmIdAu+khzV3XBcUasa+wh0acLfEpVEIEYIUCiT4w4oovNINGni4HHTnUk+sSOL8gSItAFBLpe9GlyOlXXDGFa4Ik0yeyEbkzf0Uj0QZbrbswhy5jIeIdEHxk7l5rWfgIk+rSfHV1JBOKNAIk+8eaxjrGXRJ+O4RiHpZDoE4dOI5OJQPsJdL3o035b6Uoi0DkESPTpHK5UapwTINEnzh1I5hOBNhAg0acNsGR0Kok+MnJm25pCok/beNHZRCDOCZDoE+cOJPM7gACJPh0AkYqQHwESfeTnU2oREWiOAIk+zZGR93ESfeTt3xZaR6JPC3DoKyIgPwIk+sjPp9SithIg0aetxOj8hCBAok9CuJkaSQQiBEj0ScwbgUSfxPS7JEkk+iSs66nhiUmARJ/E9Du1OpoAiT7RNGifCLwkQKIP3QpEIHEIkOiTOL6ObimJPtE0EmqfRJ+Ecjc1lgiQ6EP3ABEg0YfuASLQBAESfZqAQoeIgEwJkOgjU8e+oVkk+rwBkHy/JtFHvr6llhGBJgiQ6NMEFDqUYARI9Ekwh1NzW0eARJ/WcaKziIAcCJDoIwcvtr0NJPq0nZlMriDRRyaOpGYQgdYRINGndZzoLDkTINFHzt6ltrWbAIk+7UZHFxKBuCNAok/cuaxDDCbRp0MwxmMhJPrEo9fIZiLQbgIk+rQbHV0oGwIk+sjGldSQjiRAok9H0qSyiEBsEyDRJ7b901nWkejTWWRjvlwSfWLeRWQgEehIAiT6dCRNKis+CZDoE59+I6s7mQCJPp0MmIonAjFEgESfGHJGF5pCok8Xwo6tqkj0iS1/kDVEoJMJkOjTyYCp+DggQKJPHDiJTOx6AiT6dD1zqpEIdBcBEn26i3z31kuiT/fy78baSfTpRvhUNRHoegIk+nQ9c6ox1giQ6BNrHiF7YoIAiT4x4QYyggh0CQESfboEc8xVQqJPzLmkqwwi0aerSFM9RCAmCJDoExNuICO6lQCJPt2KnyqPVQIk+sSqZ8guItDxBEj06Xim8VAiiT7x4KVOsZFEn07BSoUSgVglQKJPrHqG7Oo6AiT6dB1rqimOCJDoE0fOIlOJwFsSINHnLQHG6eUk+sSp497ebBJ93p4hlUAE4ogAiT5x5CwytZMIkOjTSWCp2PgmQKJPfPuPrCcCbSFAok9baMnnXBJ95OPLNraERJ82AqPTiUB8EyDRJ779R9Z3BAESfTqCIpUhOwIk+sjOpdQgItAsARJ9mkUj6y9I9JG1e1tqHIk+LdGh74iA7AiQ6CM7l1KD2kyARJ82I6MLEoEAiT6J4GVqIxEAARJ9EvNOINEnMf0uSRKJPgnremp4YhIg0Scx/U6tjiZAok80DdonAi8JkOhDtwIRSBwCJPokjq+jW0qiTzSNhNon0Seh3E2NJQIk+tA9QARI9KF7gAg0QYBEnyag0CEiIFMCJPrI1LFvaBaJPm8AJN+vSfSRr2+pZUSgCQIk+jQBhQ4lGAESfRLM4dTc1hEg0ad1nOgsIiAHAiT6yMGLbW8DiT5tZyaTK0j0kYkjqRlEoHUESPRpHSc6S84ESPSRs3epbe0mQKJPu9HRhUQg7giQ6BN3LusQg0n06RCM8VgIiT7x6DWymQi0mwCJPu1GRxfKhgCJPrJxJTWkIwmQ6NORNKksIhDbBEj0iW3/dJZ1JPp0FtmYL5dEn5h3ERlIBDqSAIk+HUmTyopPAiT6xKffyOpOJkCiTycDpuKJQAwRINEnhpzRhaaQ6NOFsGOrKhJ9YssfZA0R6GQCJPp0MmAqPg4IkOgTB04iE7ueAIk+Xc+caiQC3UWARJ/uIt+99ZLo0738u7F2En26ET5VTQS6ngCJPl3PnGqMNQIk+sSaR8iemCBAok9MuIGMIAJdQoBEny7BHHOVkOgTcy7pKoNI9Okq0lQPEYgJAiT6xIQbyIhuJUCiT7fip8pjlQCJPrHqGbKLCHQ8ARJ9Op5pPJRIok88eKlTbCTRp1OwUqFEIFYJkOgTq54hu7qOAIk+XceaaoojAiT6xJGzyFQi8JYESPR5S4BxejmJPnHquLc3m0Sft2dIJRCBOCJAok8cOYtM7SQCJPp0ElgqNr4JkOgT3/4j64lAWwiQ6NMWWvI5l0Qf+fiyjS0h0aeNwOh0IhDfBEj0iW//kfUdQYBEn46gSGXIjgCJPrJzKTWICDRLgESfZtHI+gsSfWTt3pYaR6JPS3ToOyIgOwIk+sjOpdSgNhMg0afNyOiCRCBAok8ieJnaSARAgESfxLwTSPRJTL9LkkSiT8K6nhqemARI9ElMv1OrowmQ6BNNg/aJwEsCJPrQrUAEEocAiT6J4+volpLoE00jofZJ9Ekod1NjiQCJPnQPEAESfegeIAJNECDRpwkodIgIyJQAiT4ydewbmkWizxsAyfdrEn3k61tqGRFoggCJPk1AoUMJRoBEnwRzODW3dQRI9GkdJzqLCMiBAIk+cvBi29tAok/bmcnkChJ9ZOJIagYRaB0BEn1ax4nOkjMBEn3k7F1qW7sJkOjTbnR0IRGIOwIk+sSdyzrEYBJ9OgRjPBZCok88eo1sJgLtJkCiT7vR0YWyIUCij2xcSQ3pSAIk+nQkTSqLCMQ2ARJ9Yts9gJvqAAAgAElEQVQ/nWUdiT6dRTbmyyXRJ+ZdRAYSgY4kQKJPR9KksuKTAIk+8ek3srqTCZDo08mAqXgiEEMESPSJIWd0oSkk+nQh7NiqikSf2PIHWUMEOpkAiT6dDJiKjwMCJPrEgZPIxK4nQKJP1zOnGolAdxEg0ae7yHdvvST6dC//bqydRJ9uhE9VE4GuJ0CiT9czpxpjjQCJPrHmEbInJgiQ6BMTbiAjiECXECDRp0swx1wlJPrEnEu6yiASfbqKNNVDBGKCAIk+MeEGMqJbCZDo0634qfJYJUCiT6x6huwiAh1PgESfjmcaDyWS6BMPXuoUG0n06RSsVCgRiFUCJPrEqmfIrq4jQKJP17GmmuKIAIk+ceQsMpUIvCUBEn3eEmCcXk6iT5w67u3NJtHn7RlSCUQgjgiQ6BNHziJTO4kAiT6dBJaKjW8CJPrEt//IeiLQFgIk+rSFlnzOJdFHPr5sY0tI9GkjMDqdCMQ3ARJ94tt/ZH1HECDRpyMoUhmyI0Cij+xcSg0iAs0SINGnWTSy/oJEH1m7t6XGkejTEh36jgjIjgCJPrJzKTWozQRI9GkzMrogEQiQ6JMIXqY2EgEQINEnMe8EEn0S0++SJJHok7Cup4YnJgESfRLT79TqaAIk+kTToH0i8JIAiT50KxCBxCFAok/i+Dq6pST6RNNIqH0SfRLK3dRYIkCiD90DRIBEH7oHiEATBEj0aQIKHSICMiVAoo9MHfuGZpHo8wZA8v2aRB/5+pZaRgSaIECiTxNQ6FCCESDRJ8EcTs1tHQESfVrHic4iAnIgQKKPHLzY9jaQ6NN2ZjK5gkQfmTiSmkEEWkeARJ/WcaKz5EyARB85e5fa1m4CJPq0Gx1dSATijgCJPnHnsg4xmESfDsEYj4WQ6BOPXiObiUC7CZDo0250dKFsCJDoIxtXUkM6kgCJPh1Jk8oiArFNgESf2PZPZ1lHok9nkY35ckn0iXkXkYFEoCMJkOjTkTSprPgkQKJPfPqNrO58AoMGDdJqtXq9XhAElUqVlpYWCoU6v1qqgQgQga4mQKJPVxOPjfpI9IkNP3SDFST6dAN0qpIIdB+BAQMGiKKo0Wh4nhcEYfbs2d1nC9VMBLqHAIk+3cOdao1xAnV1dXl5eWJks9lsRqMxPT29uro6xs0m84gAEWgHARJ92gFNBpeQ6CMDJ7avCST6tI8bXUUE4o6Az+cLBAK5ubl2u91oNJpMJlEUZ86cGXcNIYOJwFsSINHnLQHS5fIk4PV6hw8fbjKZOI4TIltOTk59fb08W0utIgKJTYBEn8T0P4k+iel3SZJI9ElY11PDE5NAbm4uIn2MRqPZbJ4/f35icqBWJzIBEn0S2fvU9mYJeDyeQYMG6XQ6lUql1+s1Gk1aWprb7W72AvqCCBCBuCVAok/cuu6tDCfR563wxfPFJPrEs/fIdiLQNgKhUKhv3756vT4lJUWn0wmCMG/evLYVQWcTgfgnQKJP/PuQWtAJBAKBwKBBgwwGg9VqdTqdHMelpaV5vd5OqIqKJAJEoJsJkOjTzQ7opupJ9Okm8N1fLYk+3e8DsoAIdAmBcDgsSVJeXp7T6TSZTLbItmDBgi6pnCohAjFEgESfGHIGmRI7BPx+f25urlqtRqSPUql0uVwejyd2LCRLiAAR6CgCJPp0FMn4KodEn/jyVwdaS6JPB8KkoohA7BMYMGCAwWBQKBQ6nY7necrpE/suIws7nACJPh2OlAqUA4GamppRo0bZ7Xas3mW1WgcMGFBZWSmHtlEbiAAR+CcBEn3+ySNRPpHokyiefq2dJPq8hoQOEAF5EghFttzcXIvFwvO82Wy2Wq0U6SNPZ1OrWiRAok+LeOjLBCbw9ddfr127dtmyZatWrfrqq6+WLVuWwDCo6URAzgRI9JGzd5tvG4k+zbOR+Tck+sjcwdQ8IvCKAKZ3LV++/Msvv1wb2ZYsWXL8+PFX39P/iUCiECDRJ1E8Te0kAkSACBCBJgmQ6NMkFtkfJNFH9i5uroEk+jRHho4TASJABIiALAmQ6CNLt1KjiAARIAJEoLUESPRpLSl5nUeij7z82YbWkOjTBlh0KhEgAkSACMQ/ARJ94t+H1AIiQASIABF4CwIk+rwFvDi+lESfOHbe25lOos/b8aOriQARIAJEIM4IkOgTZw4jc4kAESACRKBjCZDo07E846U0En3ixVMdbieJPh2OlAokAkSACBCBWCZAok8se4dsIwJEgAgQgU4nQKJPpyOOyQpI9IlJt3SFUST6dAVlqoMIEAEiQARihgCJPjHjCjKECBABIkAEuoMAiT7dQb376yTRp/t90E0WkOjTTeCpWiJABIgAEegeAiT6dA93qpUIEAEiQARihACJPjHiiC42g0SfLgYeO9WR6BM7viBLiAARIAJEoAsIkOjTBZCpCiJABIgAEYhdAiT6xK5vOtMyEn06k25Ml02iT0y7h4wjAkSACBCBjiZAok9HE6XyiAARIAJEIK4IkOgTV+7qMGNJ9OkwlPFWEIk+8eYxspcIEAEiQATeigCJPm+Fjy4mAkSACBCBeCdAok+8e7B99pPo0z5uMriKRB8ZOJGaQASIABEgAq0nQKJP61nRmUSACBABIiBDAiT6yNCprWgSiT6tgCTPU0j0kadfqVVEgAgQASLQDAESfZoBQ4eJABEgAkQgMQiQ6JMYfm7cShJ9GhNJmM8k+iSMq6mhRIAIEAEi0ECARB+6D4gAESACRCChCZDok5juJ9EnMf0uSRKJPgnremo4ESACRCAxCZDok5h+p1YTASJABIjASwIk+iTmrUCiT2L6nUSfhPU7NZwIEAEikLAESPRJWNdTw4kAESACRKCBAIk+iXkfkOiTmH4n0Sdh/U4NJwJEgAgkLAESfRLW9dRwIkAEiAARaCBAok9i3gck+iSm30n0SVi/U8OJABEgAglLgESf9rs+FAq53e5QKIQifD6fJEn4K0mS3+9n+2yHVRYMBtn+6zstf/v6+S0cCQQC+Nbj8WBsI0lSMBgMh8OSJDHjg8Gg1+tlJ/j9flyF01gh9fX17Kvy8nKcU19fjwbiK1TUgkn0FREgAkQgpgiQ6BNT7ugyY0j06TLUsVYR5fSJNY+QPUQgpgiEw2E23sEgKBzZWjaSDZfY8Krl81v5bSgUYgO3cDiMj42udbvdGHti4Ma+DYfD7NpQZIseq7JxH8oMBoOwnLWdlUM7MiBAos/bOhGPkD+yoSy/3x8tfEDBgQbEegH0JkwrYU9XILK9rU1NXe/xeIKRTZKkQCCAXoPZ0+iKRsdZi4LBYCAQ8Hq9TJZiO6zjaNSbNCqZPhIBIkAEYo0AiT6x5pGusYdEn67hHIO1kOgTg04hk4hALBCorq6ONiMQCLjd7uhhXfS3kiQ9f/48FAoxSSgQCNTX1zc65y0/onCoOWzf4/H4/X4m8WA4FgwGfT4f9tlQjp3DzAgEAvgWfysqKqIHcTU1Na9fwq6lnfglQKJPO30XLXaw5wpBNEzolSQJzyTqgNraqD4WBBRdYAudS6PL3/jR7/ezktkzzHZweSAQwDk+ny+6LV6vN/ojqws2BwKBvXv3Dho0iOf5UaNGHTp0CBpzdMfBLqEdIkAEiEDMEiDRJ2Zd06mGkejTqXhjuXASfWLZO2QbEeheAnV1deXl5Y3GSswkBMVECz34KhgMVlZWYp/tsKs6ZAeVNiqKHWQBBDjB4/FgEIchHmsOO40NS//444+RI0caDAaz2fzxxx8/fPiwURX0UR4ESPRpvx9ZvBwrgik4gUDA4/HU1dX9+eef+/fvnz9//pQpUyZPnjx16tTFixd///33Z8+eff78OS5E7Az2PR5PhyvEiOuRJKmurg77Xq83HA5DWvL5fEwYYh2BJEllZWUnItuZM2eKioqOHTt28OBBRAlB1dq3b5/L5bJYLElJSYIg9OvX7/jx42hFTU0NY0I7RIAIEIEYJ0CiT4w7qJPMI9Gnk8DGfrEk+sS+j8hCItAtBDBPClW/ePECMzBu3bq1d+/eb7/9dubMmWPGjPnggw/y8/PXrVu3a9eus2fPNnrZ37GDoOi370zfkSTJ6/ViBMfEnWjLMesCQk9JScnRo0ePHz9eVFR04sSJ06dPR480//jjj7y8PKPRKAiCKIo2m23cuHGI/ekW/lRp5xEg0af9bD0eD55zJMQJBoNMNHny5ElBQcHHH3/scDgEQTCZTIIgcBynVquVSqVGo7HZbKNGjZo1a9bt27fZVTU1NUis036bmrqSTRkLBAJMlmIJfaK7KshPtZFt27ZtaWlp6AWMka1///6Y3oWInunTp+v1em1kM5vN77///meffdZU/XSMCBABIhDTBEj0iWn3dJpxJPp0GtpYL5hEn1j3ENlHBLqPQF1dHYZmbrf70qVLS5YswTjOZDLZbDaHw2G3281ms8Fg0Ol0gwYNGjp06O7duzGegs7C5li8fSOY6IO8HCiwyfIx3Kuvr48e2dXU1HzyySc2m81gMIiiqNfrs7Kyzp8/X1tb6/P5PB7Ptm3bevToYbFYOI7TarVms1mv158/f/7tLacSYo0AiT7t9wgTSlkmY8xsKigoGDRokFarVavVCoVCqVTq9Xqe541Go9lsNplMer1erVYbDAan0zlo0KC9e/fW1dWFQiGmyDQSa9tvYiR9D7NTkqTS0tITJ04UFxcXFRX9+OOP586du3TpEhOAmPwkSdKePXsEQVCpVDqdTq/XKxQKi8XCLPH7/ZMmTdLpdBkZGVC1rFbrihUrJEl6+vQpO412iAARIAKxT4BEn9j3UWdYSKJPZ1CNizJJ9IkLN5GRRKDrCTA9paysbPXq1aIo9u7d22AwmEwmg8Gg1WqVSqVCoVCr1Xq93mAwKBQKg8HAcdy4ceOuXr0Kg6PHU2/ZhGjRB4pSKBSqq6s7f/58UWQ7evRoUVFRcXExtB42pQsne73e4cOHJycn4y1+UlKS2Wy+desWs2r9+vV2u91gMBiNRoz4+vfvf/r0aXYC7ciGAIk+7XQlcmXhYpaC59GjR9OnT09PT0cXkJqaarVaRVG02+16vZ7jOEEQLBYL0300Go1KpdLr9fPmzXvx4gVyAHXsRFCWfx4Lb+Xn56NvMhqNer0+MzMzPz+/traW9XFer7eurk6SpC1btuh0Oo7jTCaTKIqpkQ0xhMhStmnTJofDoVQqRVFMTk42GAzbtm0DEKZetRMuXUYEiAAR6EICJPp0IewYqopEnxhyRteaQqJP1/Km2ohA3BCAaFJaWjp8+PBevXoJguB0OtnLe5PJZLVaMZQzGo0YJdntdqvVqlAonE7nrl27ogNt3r7ZTPRhO36///nz5yaTSavV8jyvUqkcDsfgwYOjp5VFZw6ZMGGC0+k0mUypqalqtZrn+d9//x0neDyee/fuGQwGvV4vRDaj0ehyuTow+ODtCVAJHUWARJ/2k2QhfAilefbs2dq1a6GkCoIAbUUf2XQ6ncPhMBgMGo0G0o8gCJgzZTabFQqF1Wpdvnz5vXv3YE3HiiYQdDA/c9KkSQjeMxgMKSkpPM9PnDgRlbJc7tCnd+zYwboAtVqt1WptNhvkLcxBC4VC33zzDcdxdrs9LS1t8+bNkiShm2ASUvvh0pVEgAgQga4iQKJPV5GOrXpI9Iktf3ShNST6dCFsqooIxBmBX375Zdy4cTqdToxsGo1GFEWj0WgwGHie5yIbJnAgdweGfgiWycvLKyws7MAGY7CJlYJQrM/nKysrE0WR53mHw6HX60VRFASBpWrFaRCJwuHw4MGDtVptUlKSxWLRarUGg+H27dtMQgqFQkePHs3NzdXpdEajcfTo0SUlJR1oPxUVOwRI9HkrX0DNhQhSWlpqtVp1Ol1aWppGo0lKSsrJydFoNJgkZTAYrFarIAh6vR4dB9Qf/NXpdKmpqatWrYI1eBSjgwMRB4Tj0RIyFmLHVdH70TPOols4duxYyNIQdAwGw5QpU9gi66wLkCSpoKCA4zjM/0TIn8PhYBNK0QdVV1cfP358165dp06dwhqHsI2ljkbiZ1ZsOByO1rPYAoesR2MxU2wnHA6zdGLR89RY9wdKoVAoGgtLjQTZmxmAiWzRZ0avNcZWMYsmRvtEgAjIngCJPrJ3cZMNJNGnSSyJcJBEn0TwMrWRCLRMgA1JWGALxgsLFizIzs5WRTa9Xp+WlqbVanU6nSmyabVaDO5MJhPP8ykpKRaLBZku3n///bS0tKFDh6JkjEGiR3PMHoxTcAIGQWyMw3Yw8QLfwjC3243Snj9/jsAcjuMsFoter7dYLKHIxt6719XVYVHmsWPHYm4aog1EUSwtLYUlKNzj8Vy8eHFnZLt58yZGRmxtLwwS2dCJQcNUEladx+NhoznWzOhlnaOXKgoEAox5OBxmMUrRqU5YReAQvZQQyg9Gtka4JEliR6LNoH1Jkkj0aedtwFIaS5JUU1Pj8XjGjx9vNBoRy8PzvNPphKo6efLkn3766c8//ywrK3vy5MnFixeXLl2KHgSSiiAIOp3OYDAMHTq0oKCAGYQeIfoRYnE03lcbO5k9G40yeOEEXOj3+8eNG4euCvPOOI779NNPXy/kddGH47j09HQ8vR6Ph6kqXq/X7XYzVSXaWtYRYOGw6F4PHROrFyfgY7R8E/3cBoNB1IKE2awit9vNpKi6ujo2OY6dz+QhLLKIC0OhEJZXq6+vZ8Yze14/wr6iHSJABORHgEQf+fm0NS0i0ac1lGR5Dok+snQrNYoItIkARgTsDTSu/fXXX81mM5JXaLVai8ViNBqTk5NHjBixdu3aa9eu1Ue269evr1+//qOPPnK5XL1790ZYkM1m0+l0ZrP5iy++YJb4/X4sswXZIno05Pf72TwsGOPz+djYB7ILtBs2ykOxN2/e1Gg0eH9vjWw5OTlMJGJDJLzqHjlypFKpRCCS0WhsJPqwIU/0aj/MBkmSamtrUanH42FKDWsdBoZMl/H5fGz05/P52Jgr+nxWCBOSsLo0W9W6oqKCNYHVjhIAk/HEwegsJcDLwgWi66V9En3aeQ+wPgI7hw8ffv/99xFrx/O8zWbjOM5sNu/Zs+f27duoIxQK4V6srKw8f/78zJkze/bsiezOHMfp9XqdTjds2DCm9eA5rKurwwrrEC8QUIMCo58rHAmHw+wR8vv9TABios+CBQtEUWShiaIoTps2rUl1tlGkD6aMNoLFHnI2sSscDkcnvUcOINahuN1ur9f75MmT+/fvs4YEg0H2/DMtKbp3wypprJdkX7nd7vr6+vLy8qdPnz58+BDrFzIyXq83FAp5vd7y8nKPx/MkslVWVvr9fiYSseawzgU9MjtOO0SACCQCARJ9EsHLr7eRRJ/XmSTIERJ9EsTR1Ewi0DIBNkJBPIvH48HELpVKZTAYUlNTkTRn1apVdXV1GHaxNZEREbN9+/YBAwYolUooREjVarPZbt26xYZpzAY2lgmHw5jDwSZbRM88qKurix6Y4CqY+uTJE0mSysvLrVYrkgr16dOH47jc3Nw7d+7gnOfPn2MHkT4TJ05kqZpfF30kSYLawkap5eXlzGBmRiNQ1dXVT548uXfv3l9//YWxG1NnotuIcjBwA0B/ZMPx2traqqoqn8+HEsrKyiorK1lFeHmPjzDJ5/PV1NRUVFQ8f/68vLwcWg/0KWYnRsGsENYQ2qFIn/bfA7ifmECbm5uLyVDQfSwWi06n27JlCypwu91YBz26vsuXLw8ZMgRX4a9arbbb7T///DPrJsLh8JYtW8aNG5ebmztq1Ki8vLxJkyadOXMGNzfTd0KhUFVV1b59+z744INRo0aNHj16xIgREyZMQGZlr9e7ZMmSUaNG9evXD+twYQoo8gqZzeYpU6bk5eWNGDFi5syZzMJGoo/RaLTZbMwwv99fWFg4adKk7OzsoUOH9u/f/4MPPjh9+nQoFGIPHpui5ff779y5U1hYOHXq1Ozs7L59+2ZlZaG3GjFixOHDh1mlrEVMYz558uRHH300dOjQ4ZFtxIgR27Zt8/l89+/fX7VqVV5eHhYXTE9Ph+7D+lBJku7du7d69erhw4f37dvXbrdjyqvD4Rg4cOCsWbNOnjzJ4gkDgQDrUpnwxKyiHSJABORNgEQfefu3udaR6NMcGdkfJ9FH9i6mBhKBNxJgySgwugkGg+fPn1er1YidQTJTjUYzffp0TEdiAxyUHAqF8HL90KFDNpsNeXMwuhFF8bvvvsPber/fX11dfeLEibFjx+bl5Q0cOHDYsGFDhw4dM2YMG+xEm3rz5s1JkyYNHDhwxIgRAwYMGDx48Pjx4//880+fz1dRUTF58uQPP/wwKyuLj2xWqxW5mfV6/dixYz/99NMPP/wQIzK8U/d4PCNHjsT6Qk1O77py5cqwYcPGRDaMIseMGVNVVSVJEns9z163v3jxori4ePny5QMGDHA6nVlZWZmZmQ6Hw2q1rlq1qqSk5NmzZ0xwYcNASZJevHiRn5//QWQbNmzYwIED8/LyEDpw+fLladOmWSwWpVLpcrn279+PqgEnFAo9evTop59++uijj4YNG5aRkWGxWERRtNlsubm5Y8eO/fbbb+vq6p49e8YYRtfLDtIOiT7tvwdwS9XU1ITD4d9+++3999/PyspCvh61Wq3RaGbPns3kg2hVGAINOoLjx49jeTye500mEzqaOXPm+Hw+FpuzaNEivV6PKaM2m61nz55bt26FOMIkEjRj9+7dyCuGFQQtFsumTZswPXLGjBnI3O5yuZBPWqlUCoJgs9n0er3NZlMoFHa7vQXRx2QyWSwWJt96PJ558+b16NFDEAS73Q5FfM+ePQi3gfSDx76+vn7nzp1DhgwxGo1arRYrl2m1WixkhimpFotl//79TCRGkI4kSVVVVb/88ovFYkFGpJSUFFEUd+7c+fjx4zFjxnAcp9FobDYbZtXevXuXmVdSUjJr1iyLxfLee+/ZbDa1Wo38ZA6Hw+VyiaKoVqsNBkN6enpxcTELAmSBiO2/LehKIkAE4pAAiT5x6LQOMJlEnw6AGJ9FkOgTn34jq4lARxJg8wygcUiSNH/+fJvNhgXO9Xq9SqXq379/WVlZdK1+v9/r9UYPwWpra+fOncvzPF7eYyn3vn37smIlSTp9+rTBYLDb7Vj5S6fTCYKAYQsKZAEv165ds9vtKSkpNptNEASkDbl165bH47l7965Wq4XkodFodDqdxWLheR7Sj0Kh6N27NzSgU6dOMZsnTpyIkVSTok9JSYlKpdJFNp7nNRqNwWCIVqPq6+uR0uTMmTOffPJJSmTT6/Vms5njuKSkJJ1Oh3WrXS7X3Llzr1y5gqglvFmHYPT48WPMksPoT6PROByOx48fr1mzBuVwHIfEIwcOHMCsNEmSHj58uHLlSrvdjkEo8mqbTCbkz0ZWXLPZPGbMmM2bN0cnSGKeZRBoh0Sf9t8DuIkh6yxevJjnebPZjMXzbDab0+m8cOEClmBnsSeYjoRnGxXX1NQgRAg3ulKpNJlM6enp0SLlkiVLWHJ4rVZrt9tPnDiBy5nkHAgEampqtm3bhiTNJpMJgsiiRYswX+nTTz9VRLbU1FSbzYYJaGaz2Wq1YlJocnIyx3Eff/wxI9Io0gepwliNkiStXbs2NTUVvQ8Wd0dgEfpBqOaPHj1asmSJKIoKhcJkMrlcLlSHRPdIaG2IbC6Xa/369X/99RcMYKL7sWPHoPWkpqZqNBq73b506dJPP/1Ur9dzHIcwRZRWW1sLmennn38ePXq02WzGomPZ2dmYamswGHQ6HXpJCF6pqak5OTn79u1DpWy2GnUW7DagHSKQCARI9EkEL7/eRhJ9XmeSIEdI9EkQR1MziUALBNi7ebz9dbvdGRkZJpMJiVbxXnnlypUshQUrKno0BH3k3LlzRqPRYrFgmIMVnG/cuMGuPXr0aM+ePZF0GUs8m0wmVmD0zs2bNyHiYCCDuSOYzVBRUSEIAl7wi6JoMBi0kQ1qiMPhMJvNeJt+7NixYDBYVVVVX18/fPhws9ncXE6f06dPi6KINabNkU0UxZqammhVS5KkvXv3Yp0il8uF5X2gPaFGURSVSmVKSopOpxs5cuTBgwfRIka4qqoK80ugiGH/9OnTQ4cORdgBhnIajeaHH35A1U+ePJk5c2ZaWpper8eiYxjEcRzHFsjGRJl//etfWVlZWA0J48dGxkfjTeR9yunzVt6HyjBw4EDIHzzPGwyGjIyMJUuWsPiRJitwu92QjdatW4duAnF6UG0wLRPC6oIFC5Aunud5pVKp0+n27t1bV1dXU1PDwu1QxdGjR41GI9QQm83mcDgQW1hbW5ufny8IAlYcRP4gnueTk5O1Wq1er7darU6n0+FwYCUvlNZI9BEEweFw4KuqqqpQKLRo0SJ0PQaDAVnrIfqASTAY9Hq927ZtQw+YlpZmNpuTk5NFUURgDrRkxATq9fo+ffqYTKYZM2Y8ePAAWcFQzi+//ILmcxyHxeYnTpxos9kw1RYLz6vV6uTk5NraWiTrGTt2bEpKislkQhBQcnKyWq1GQJPT6UTAEShptdpevXqNGjXq8uXL0JXRj7NOqknf0UEiQARkRoBEH5k5tJXNIdGnlaDkdxqJPvLzKbWICLSJAKJsoA7g7+3btzmOUygULpfLYrEoFIqcnJxff/0VExHYwA21IIkqW/a3srJy4MCBRqMRUx+g1OzYsYMtJnXq1CmDweBwOKBfIFYAQTTQKVCs3++/du2a2WzGYmFYeyclJeXWrVtut/vu3bt4eY+hHJaEttvtRqNRrVbDZrzn/umnnxiN4cOHQyFqMtLn2LFjZrMZqg3P83q9nud5ZPlh8T6nT5/Oysp67733kFIDYyhoMXiVznFcWlqa0+nU6/XvvvtuTk4OBlbI61xbW1teXo41jlA+gnc++eQTo9GI0CGVSoUV6I8dOwbLly9frtFo1Gq10+nked5isWAkiJbmCRwAACAASURBVMkfNpvNarVaLJa0tDSWGPfUqVPR638xArQDAiT6vNWdgGQ90D7xLCGcpLi4OLpc9tj4/X4WxRMMBsPh8M8//6zX69VqtUqlstvt0JUPHDjAkuMsXLgQsTDQaLVa7dGjR6MLh/RTX19fWFiI+VNIXqNWq5E93ufzfffdd1OmTPnkk0/S0tKY1qvRaFwu18CBA8eOHTtlypSJEyd+8803rORGoo9erzeZTBBi0FEuXboUawRCUhFFcfv27Zi2BtHk+PHjTqfz3//+t81mE0WxT58+TqczMzNzyZIlhYWFa9asGTx4MMdxENRdLhdSkX3//fcMkdvtPnr0KDoIREWmpKSkpqZiuhb0cqvVmp2dnZKSgoiqkpISpVJpNpt5nn/nnXfQkeXn55eUlFy5cuXUqVMLFixIT09HaJLRaExNTU1OTl6+fDkazoJ9GAfaIQJEQPYESPSRvYubbCCJPk1iSYSDJPokgpepjUSgBQL4wY8VZnBacXExBAWsdYWAmujEw6w0LAfMPmJSxcKFC1UqFaZ9IJJl4cKFOCcUCp06dcpsNqekpGCWA7I+Y3iIFYFYhopbt26ZTCY2oENMAPI3P3v2bMqUKVOnTh0zZozRaDSZTAqFwmKx4OQpU6Z8/PHHU6dOnTRp0vXr19lqyHl5eYgtalL0KSkpwXgKmotGozEajTAG89qePHmSnZ3dp0+fgQMHKpVKjuN4ns/IyMjPz9++fXtBQcGcOXPS09P1en1ycjJLhzRz5sz79++z5tfX17O5bzqdDkESEMicTqdOp0NEj1qtPnLkiCRJjx49crlcmOQBPSslJWXAgAFr1qy5cOHCtWvXdu7cOXr0aMxoM5vNmEqSk5ODgWqjqIhoTyXyPok+7fc+bqyamhqj0cimXxoMBrPZfP36dVYue4zZkeidR48eQe5F56JWq81m86ZNm1jo4OLFixFQw5YG279/P76FAezM7du3I+gG4UI6nW7NmjWoi8W5TZgwAaIPhCSj0Th16lTMvURpzLZGog8mYbLc8uFweOXKlcgbj9lkHMft37+fPWb37t3r168fwgURZaNWq9etW8f6ICyttWXLFp1OhyzLVqvVZDKlpqY+ffoUZng8nlOnTiHICJNUXS6XSqXSarUDBw7cvHnz/fv3nzx5UlpaevHiRfRN69evR1dis9mQt2j+/PmsUdgpKSkZPHhwjx49kPxIEIR+/foxtZ5NJW10FX0kAkRArgR8Pt/27dvRESFaODMzs+VoTbmiSLR2Xbx4EYHx+GFtMBguXbqUaBASsL2HDh3CtAi8VRJFcfPmzQnIgZpMBBKcAMZHeNm8f/9+vIq2Wq3oH8aNG8fGNc2BwijM7/evX79eFEW8yMdb/FmzZrGpA8ePH8egCcM9zFFCJmk2msPOb7/9ZrVaDQYDhjMYtbGVoFHdo0ePUJrBYMCizOnp6YhIih4hQo0aO3YsG/S9vnpXcXExxCD8+NHr9aIosiyrfr8faXdEUUQ+VrVaPW3atP/97394zR8Oh71eb0VFRX5+fs+ePbF0tU6nS01NLSoqYsPGiooK5O4xGo3415atPjZx4sSioqL79+/fvHnzwoULSPRx+vRphPZoNBoWynDr1i20Dn/dbve4ceNgPFxmMpnu3r0bCAQaDWmb812iHSfRp/0ex5P89OlTPEJIFQwFFw8DivZ6vS3oPpWVlVBqcCFu7m+//RY3tCRJMS76GAwG5GbW6/X79u1j6tKSJUuYjIWubcmSJeXl5ew5RAOrqqq++OKLlJQU5N/BdE2WtEiSpJMnTyJSEQFBoDRlypSHDx9iPhcDhZ5l8uTJZrNZo9EkJSXZbLbhw4evXr0avR7rBZ48eVJYWLgosm3YsGH9+vV79uypqKhAHn5kYmr/bUFXEgEiEIcEdu7cKYqiTqfDeqsOh+PZs2d4/0Z/5UrA7/dfvHgRS4FghUq73X758mW5tpfaBQI+n2/v3r1IAspegG/cuDEO+y0ymQgQgfYTQFIItmj61q1bkV+ZKSmffPIJm3zwxmo2b96MfMl6vV4QBLVaPXHiRL/fj9lbx44dY3oH02tiX/R58uTJmDFjtFotxmKCIAwYMKC0tLQRjUAgcOPGjaFDhxqNRofDwfO8QqGYO3cuRmqSJL0u+qjVapvNtmXLlsePH6M0oPb7/aFQ6OTJkyqVCpPOMKsrNzf37t27OLO8vBwri12/fn3atGmff/756tWrN23atGHDhsePH9OkjUbeYR9J9GEo2ryDu7OsrAyiBoLxrFYrz/MsVgWFRk/XbFSNx+PheR7PEgRmURT/+9//Mi0j9kUfaMwcxxUWFqKlXq83NzfXFtl0Op3ZbFYqlcePH49uu9/vRxtLS0uVSiXCfOx2u1KpXLBgAaa5SpJ06tQpJK6HuqRQKDIzM8+ePcuKio7Q8fv9y5cvt9vtSDsNUXnkyJG///47O5/t4MK6urrotM1MtGKn0Q4RIAKJQGDr1q08zyNu2Wg0pqWlVVZWJkLDE7mNoVDo8uXLgiAolcqkpCQso/nLL78kMpMEafuPP/4IuUev12OYt3Xr1gRpOzWTCBABEGgUxfPdd99h7gVGJUajccqUKWxZ9xag4X32li1bsN6WIAhIIjFq1Ci8dZYk6ejRowjeiaNIn3A4fOHCBYPBgBfziD9asWIFUGDEhLAG7M+dOxcjYshbI0aMaCHSR6FQDB8+vLy8HBFDSOeK891u9+XLlzUaDRLOpqam8jz/3nvvff311+yHGcZubHyNESUcwcILWnBZYn5Fok/7/Y67qqqqCjmJkbXLarXq9XqIPsja03IFtbW1PM+rVCrEy/A8L4rixo0b40j0wbNtMBgKCgqCwWAoFIIQxpTsrKyszMzMY8eO/f7776WlpZcvXy4pKbl48WJJScmvv/564sSJfv36abVaTG1TKBRDhgxBJxIOh3/66SfENxqNRqvVqlQqR40aFQwGmXgcDoc9Hg/ruAsLC5HSzGazvfPOO3369EGa6smTJ3/77bdFRUW3bt2qqKhg58M7cCX6DhbT2LLj6FsiQATkRGDz5s2YnIvVQFNTUysqKoK0yZqAJElXrlxBpA+WgxQE4eLFi7JuNDUuyAZgeNOG6QxbtmyRU4dGbSECROCNBJBShwkHGzZswFpUCoUCq9988MEH0cu8NFkg5jdJkrRx40ZkFMXKyGazefTo0UzROHLkCKY1xYvoE4psW7duVavVmNGCNCObNm26fv16cXFxSUnJb7/9du7cudLS0p9//rm0tHTlypWZmZl4f2az2bRa7d27dzGefT3Sx263b9q0CUifPXuGHZbQ9vHjxxaLpWfPnlDnVSqVy+USBCE9PX3atGkHDx588OBBbW1tIBB49uwZTEUJjcZ3TbosYQ+S6NNO10MmQBCaXq/HtCOsIcdx3M2bN6NvvhZEx7t372KeJAKFIAPv2rUrXkQfdGHoHAsKCpCp58qVK4jc0Wq1KpUqKSkpOTkZohjHcQ6HQ6fTWSKbTqezWq0pKSkIibRarRzHZWRksOafOXPGZDIhmAhzZSdPnszmkTZyXjAYfP78+YABA95///3U1FS73W6z2SwWS1JSEnJOW61Wh8MxcODATz/9dPPmzZcvX8ZC7x6Px+v1ssBC9g9Ao/LpIxEgAnIlsHXrVtbVaLVaq9XKfoXItcnUrkAgUFxczPO83W63WCyIur1w4QKRkTcBv9+/b98+JLDAag+CIKxfv17erabWEQEi0IgA+9mP45jljTxfSLSclZWFr1pI04FlvCRJWr16NRYIRmZlURQnTZrUSPTBa3L2UjyWp3dh7tvs2bOxmDqULCzTrtVqMaMCUzrw4gTJpJVKJXKwZmVlKZXKGzduNCf68Dx//vz5RimxfT4fzne73bNnz05JSeE4TqVSpaWlYfY9RouYhm82m0eOHLlp06aLFy9iuTFJkryRjaSfRrc6PpLo0ySWNx9ET4G/WVlZPM8j4TlmMx08eBB3LYJ92Opdr5d75MgRq9UK0QQl6PX6oqIipnrE/vQuvCUzmUy7d++G4H327FkIvRBZsPCW0WjUaDS9evWyWCxqtRoZ7LHUHwQgLHym0+lsNhvi94LB4E8//QSBGavLG43G6dOnAyNbLhGsWLd7+PDh3Nxc5ABSqVRqtTojIwPiFPIuITeYXq9PTU1duHDh68H8DP7r/qIjRIAIyJLAjh07ICtjrkdGRkZlZSVeH9FfuRKQJOnSpUtcZFNHNo7jrl69Ktf2UrtAQJKkEydOiKKIARjUH4r0kWXHTo0iAi0QwKQkn8+HnqGoqIgNXpBxxmKxIHfMG5M/hEKhadOmYTCI/IA6nW7p0qVYviYUCv34448YzsRLpA+4jR8/3mQyYXyK92E8zyclJWGqV+/evfEPqFKpxKgK2fGQXDk5Ofnq1asYUr0e6aNUKi9dugS8kiThHTw0Mkg2t2/fnjZtWlpa2rvvvotpdxgz4keaw+GwWCxOpxMrpk2YMOHw4cP0rq6Fu12SJBJ9WubT7LcQfYPBoN/v//zzzzmOQ7wPz/M2m23atGksMRVTeZssa968eYIgmEwmnufxOImi+OeffzLdIcZFHwyTIFrt3LkTYZBnzpzhOA5JqXU6nVKp7NWrl8lkMpvNBoOB5fphgrEgCEh7ptVqU1NTc3NzGb3i4mKNRoPoPjznM2fOZPmAgDRaJ66pqZEk6cKFC4MHD9br9Q6Hw2w29+7d22KxoNuCVRCYRFH8z3/+8+GHHyJ1dDAYxOTSFhT9Jp1IB4kAEYh3AhB9tFqtwWBwOBwul+vWrVvx3iiyv2UCPp/v8uXLNpvNYDAgGtRisZw/f77lq+jbeCdQU1NTWFiI5Ww0Gg3She7atSve20X2EwEi0A4CwWAQETcPHz40m81YCp2tmI4BAhuUNVd+WVlZ//799ZFNEARIIWx9m2AwiNW7sBxzXET6oKUTJ07ETBSNRoMoG4VC4XA47HY72oIFozHTRRCEXr164d9TvV7vdDovXbrUnOhjt9svXrzIeLJlzhCtg+PFxcULFizIyclRq9VsPR/4CAKQXq+3Wq29e/dWqVTDhg376quv2EQcVjLtMAIk+jAU7dypra3duHEj0gzjMYbAefbsWa/X+8YAs0GDBqnVaiT90uv1aWlpLpcrWtSIcdHHbDZD7TIajdu3bwfEkpISRNNA7c7KyhJFcdGiRStWrFi5cuXs2bO/+uqrFStWLF26dM2aNYsWLVq5cuWyZcvWrl27cOHCNWvWrF69GqnXA4HA+fPnk5OTBUGw2Wx4HTd37lyIMuyVHSpl0g/T4y9durRo0aIRI0ZYrVYowZhtiwV64TKTyYQxXn19/Rv79HbeInQZESACMU9g9+7dZrNZq9UisVqfPn127NixkTZZE/j222/XrVunUCjwa9Jut/fq1euLL76QdaOpcRt37Ngxc+bMPn36YAI4ZnN8//33Md9LkYFEgAh0GIHo3/wsC0dGRgbeQ0O1MZlMK1asaHkoFwqFPB5PaWkpFpkSIhsiAK5cuQJzsRxVfCVyRqaLOXPmYPaWSqXKzMxMSUmZPn36xo0b8/PzFy9evHHjxnnz5i1btmzVqlUrV6785ptvFi9evG7dujVr1ixfvvzLL7+8c+dOc6KPIAhHjhxB5maWTbWqqkqSpOjlt3w+X1VVVWFh4bRp04YNG8bWEeN5HilBEBaAJYN4nr9z5w7zZofdK3IpiESfdnoStxQe9Tt37iiVyrS0NLVajcVf7Hb7gAEDMNeJhY2wmxhzl7xe7969e00mU0pKCqZKQjRduXIlnhAIzwsXLrRYLIIgsIXh9+/fj4AamI7YFq/Xu2bNGpfLpYtsUDfWrl2LooLBIDTU8ePHq1Qqu90OEYTjuOnTp7PlqzBbDcUWFBRAZIGmIwiCxWJhadjD4fDKlSsxzxPrnup0ur1790qS5Ha7Hz58CA4ajcYU2URRrK6uBgq2RCL4oFuBUlNbW4u+lSm+p0+f5nmehQIJgjB16lRmxuvOg2CP9RfhIyTVvnTp0vHjxxcuXOh0OjUaDaKNkKoNL/pOnDgR/Q/A6yXTESJABORKIBAI7NixA6+qjEajxWLR6/UqlQq/3ugvESACciKAl1L4xYXEgiaTadu2bXLt36hdRIAIvE6A5QxmKoPf7//iiy9UKpXT6cRkpaSkJKfT2eQSwJjqwQYaEyZMQAgM1GRRFIcPH85WIpYk6ccff9RqtaIoJicnm81mu93+zjvvQONAIcFgEMlADh8+jBxzdrsdoUMGg+H27dsYpODvgwcPTCaTUqk0GAxYQSgzM5OllEZjmVb10UcfKRQKg8GAoARRFNma6+FwuLi4GMfZoE8URabCfPnll2az2Wq1JiUl9e3bt0+fPseOHYuGCZv9fj9Go5Ik1dfXo0U4AoNfn97F8/yZM2caDehwIRsvS5KEITNqqa2t9Xg8RUVF69atmz9/PnJFm81mRGuazWaNRjN//nxmfLSdtE/Tu97qHoBOEQqFqqurc3JylEolVpXT6/V4pE+ePIlzcPtC3cANLUnS7du3BwwYoNFocnNzOY5TKpVY6u/w4cNs4TpJkpYvX47JXxqNxmq12my2pUuXlpWVNXpOJEn6/PPPk5OTNRqNw+HgeV6hUGzcuDF6RXNJkj799FPMY3c6nfjFAw2FPaKMSCtFHwyTMMkLok8gEHjx4gUCc1JTU61Wq06nczqdv/76a3OqSmVlpc/nY+qYJEnoKYLBYHOiD+wM/3OL7sGjkzFDQsLfP//8c8KECSkpKej+kELIZDJt3ryZlcl8xGjQDhEgAvImUFhYiDnqOp0OQrPT6YSGTn+JABGQGQG9Xo/pXVgeVK1Wb9iwQd5dHLWOCBCBRgSw4nD0mAtLBmOBHVEULRaL0WhcvHgxRnNY9QWF1NfXs/fTR44cwcJSSFeKy+fOncuq8/l8Z86cMRgMgiA4HA5ktMjIyLh79y5mM7Hcr36/v6SkRBAErVb73nvvpaamorO6ffs2SsMI5dGjR1arFYHJgiAolUq73f7ixQtfZENp7CX6hx9+KIpiW0UfNHn79u0ulwuBApixxYIi0XwWN4C8PNHRA5IkVVRUtEP0YSM42ICGNxpEl5WVbdmyBSNoZJVGFm0kz2bkaSeaAEX6RNNo2z4eJ9yRGzZsUCgUbJEpTCCy2+3nzp1D8Et0bI7X671x48ayZcu0Wq3RaFSr1ZjYpdPphg8fDlEThft8vnXr1uFHCZZ112q1I0aMuHfvHlIF4ZHzeDynTp3q27evwWBAwnnkrPnmm28Q84KG1dXVffbZZ4IgqFQqrVaLpOjs8WikyLRS9EHOM8hSEH3Qf40cORJCdVJSktFoTE1NnTdvniRJrDuoqanBjKonT56cPXv2zJkzJSUlxcXF169fv3btGgwOBAItiD6IGILQEwqFfD6f2+0uLS0tKSk5depUUVHRhg0bTp48KUkSfISM7pIklZeXL1q0SK/Xa7Xa5ORkLDS2cOHCtrmfziYCREAuBHw+39atW/GTCH2aXq/H2u1yCnCgthABIoDAYQRQi6KIlTQ4jqOcPnLpzqkdRKC1BMLhMJuCgJFCXV3d8OHDkWtZqVRiaWaj0bhx40YWP1If2VBHOBwuKiqy2+39+/f/17/+xfO8y+VSKpUOh+Pq1at4Pe/1esPh8NWrVw0GA5adUqvVKpWK5/mFCxeyqBaMj+7du5eWlsZxnNFoTE9PxwwSRPqgRog+T58+5Xke4hF+tGRnZ7MVrKL1kfr6+rFjxyKXRZsifVDIvXv3MNPNaDSqVCqLxTJ58uSysrJAIMAiiZhqduzYsR07dpw+ffrMmTOXLl169OgRC1BoU6SPJEmlpaVXrly5ePFiSUnJ7t279+zZg+ik6EoDgcCGDRvwQkIURfTtgwcPbjmXbmtvDjmeR6JPO73KZEg8rs+fPx8/fvx7772nUCiys7N79eql0+lMJlNGRsa4ceP+97//VVVV1dXV1dTU3L17d+fOnaNGjeI4TqfTpaam/uc//0FCLIPBgKlb0Gix/Pn+/fsxwQrCisFgUCqVy5Ytu3PnDjogj8fz66+/5uXlpaSk4NU0hi6CIHz55ZfRzXO73dOnT0cmY2TkQvxhTU1NOBxmcgwuaaXog0gfzCYrKChg1e3atSs9Pb1Hjx4Gg8Ec2Vwu19mzZ9kJ2Hnx4sWqVauSkpK0Wq3T6VSr1Xa7/fPPP4dy9EbRJxAIsKgcn89XU1OTlpaGrNI2m61Xr17Z2dnIygkpGn16TU3NokWLFAqFy+VCvjFBENauXYu+qZH41chg+kgEiIAsCezcuRMxPuivtFotfmzh5w79JQJEQDYE8PsHi3viDZnBYIj+ASPLLo4aRQSIwOsEsMgyJkZhQHHo0CG73Y7X7RzH2Ww2zN745JNPDh8+XF5eDtGnoqLixIkTM2fOtFqtdrs9KSmJrU5jMBhWrFiButg8hlu3btlsNp7nTSaTK7JhZsaPP/5YXV3t8Xj8fv/9+/eXLFliNpsREJScnIyMYzzPs0gfDD9fvHiBmV+YvWEymbKzs8+dO4cmVFRUsFCDcDg8btw4lgUZqUJaM72LDa8GDx6MbB6Y1aFWq/fu3YvxFJuZIUnS9evXP/jgA4fDwXGc3W43mUxpaWkPHz5sR6RPXV3dkCFDsPRzcnIytCrM2/L7/W63u7a2FhwKCgqwSg8Gm3q9fsKECV6vlw3SX/d4Ih8h0aed3sftHggE2KSk06dPQ3FAJoi+ffuqVKqUlBSe5+12u9lsHjx4cF5ens1mQ75nrHTO83x6ejpCAZctW8YC/DArUpKkO3fuWK1WtVqNuWNZWVmYmdm3b98JEybMmjVryJAhkJZVKhX0TiRX5nl+3bp1eGiZkLFs2bI+ffq4XC5RFDMzM5VKpU6nmzdv3ubNm7dt28b6FEmSWin6oC0mk4njuN27d7MJVm63e8aMGTzP5+TkYBarIAj9+/ffvn37tWvXAoFAXV3dTz/9NG/evJycHI7jIL6YzeaePXsePXqUcWgh0gfrILKmYTbs4MGDEeio1WqxdNfo0aMvX77M3Hznzp25c+dCOzOZTE6ns3fv3pmZmZcuXcI5LFyTXUI7RIAIyJtAIBDYuXMnfjwJgmA2mxHXjQkg9JcIEAE5EeB5Pi0tDZMmML6yWCw0vUvenTy1jgg0IsB0AfazH1EkwWBw4cKF+D2AXwJsERhoMf369cvJybHb7VB5eJ5HaI/NZsPIrn///uXl5T6fjykjkiQ9evRo9OjReH+PqSEajUatVhsMhv79+8+YMWPEiBF9+/bt0aMH1iwWRRHFIv3zH3/8AfvZ22uMCs1mM6J41Gr1Rx999PXXX2/cuHHPnj1+v58lOf3www/bIfpgeFtbW3vu3DlwwFJZHMc5HI5Zs2YVFxc/ePCgvr6+pqbm5MmTWJgIoUyIu5kxY0a7I31Wr17dp08fjuPUajXWX05OTt6wYcP9+/cx7qupqTly5EhGRgYm5mNul0ql2rVrF3NoI4/TRxJ93uoeQPwI1o3y+/27d+9GmAmmUBkMhvT0dLvd/u6770Kn1EQ2ZBrXaDQcx/Xp0wdTN3fs2OF2u9mdGg6HkdfG4/F8+OGHSqUSK8soFAr0KQqFguM4pC5HEp8xY8agx4E+bTKZVq9ezTo1tHPLli0KhUKj0Wi1WkEQkAMIqxS7XC6suY4zWyn6sCXbIfoghRAeyHv37o0aNSopKUmtVjscjuTkZBhsMpmsVqvL5bLb7VjZHT2IUqnkOG7cuHGgWlVV5ff7WxZ9mA4Nm4PB4LFjx5DC3Wq1arValUrVu3dvk8mUlZWVm5ubnZ0N2mymrk6nS0lJmTp1KpuV6vV6GxX7VrcIXUwEiEA8ECgrKztw4MDp06cPR7ajR48WFRUdp40IEAHZETh06FBJScmPP/74008/nTp16vjx40ePHkWqxHjoq8hGIkAEOoAAmyjEdlgW1OfPn8+aNSslJQWxNnhbjwEXBlAajQbDMSQwReLnHj16QFD+66+/6uvrWUwAm0jx9ddf4y041BxBELKyspBoQhRFh8Oh0+nS0tLy8vKQryMtLa1Xr15Go5HneSb6oFiPxzNq1CitVoup6AaDISUlBSmoBUEYM2bMs2fPkN0iEAiMHj0aA8M2Te8CYryDz8/PV6vViGYyGo09evSwWq2DBg0ymUxGo9HhcCQlJaHtPM9bLJaePXu6XK7Lly+zlZFbP72rpqYmFAqVl5cPHDiQ5/nU1FSs167T6URRzMrKGjBgAKIonE4nRpFmsxnv8llsEQsI6IAbRUZFkOjzVs5kGg0Empqamq1bt2JikdPpTE5O7tWrl9VqTUtLM5vNUFsQ1IeQnNTUVJPJ1L9//6VLl8IOlsA4GAyimwiHw6dPnx4+fDjUCsQcGo1GnU5nNpsdDoc6sg0fPvzgwYM5OTk8z6vVapPJZLfbly9fHj2zMRwOX79+/eOPP4behIxcaWlpoihi2fhFixYxHK0XfaAZcRxXWFjIllGHhnLo0KH09HSbzeZwOHr27InpqRqNBtnmTSYTAhetVmvv3r05juvbt+8vv/zCbJAkqQXRh+nH7PxwOFxfXz9z5syMjIzU1FTIPTk5OUlJSRqNJiMjw2QyqVQqrNKKKCdBED7++OPi4uLoQtg+7RABIpAIBPDqjP0yY03+Z6Z4+kQEiIAcCOBJx9jJ5/MhJyB76mmHCBCBRCAQDoch97AXvXhNjqwdv//+e35+fnp6OgJtlEqlQqGwWCxOpxN5LTCUwCxRs9mM19t5eXk3btxAKABjyF4q37hxY/r06VarNTk5med5CCVOp9Nut2NVmXfeecdsNv/yyy9OpxMyDVb44Tiukejj9/u3b9+enp6OIRhWHUX6juTkZJPJxFaLDwQCQ4cOZcmJWj+9i00QkyTp999/nzhxIvQXrJmlVqsxlkSokSAIOywM+wAAIABJREFUiFoCkMzMTJYlDfpL60UfcAsGgxs2bEhPT9fpdBiiIlEspnEhH65Wq7VarVi6SxCEDz74YNu2beFwmOXnZi6gHRAg0aeddwIGCSwHGNOJ/X7/7du3x48fr1arjUZjZmZmUlIS5i4ZDAZMg1IoFDzPI3Jn5MiRSDojSRJ70cRKc7vd6Iw2bdqEBDQWi0WhUNjtdpvNBhXJbDb369fv8uXLz58/1+v1iKZBJPaaNWvYcndM/SkqKsrLy4MIZbfbETEkCILdbh86dCjD0XrRB489z/P79u1jl7NfUT///HPfvn1FUUSfyJImQu6BnRzHuVyu+fPnI4Wz1+sFipYjfVAXHu9GT/iCBQuQ0Fqn02m1WpvNZrVa+/TpYzab09LSevfujYQ+giCMHz8emYbQK0WHYrK20A4RIAKJQAA/9djbOfZDMBHaTm0kAolGAAM8NpecPfiJxoHaSwQSlgDLzYwf/9GDLyQnXr9+PRbbwuCFj2yCIBiNRswPxXGkvJkxYwaWYMeAInp6l9/vRxWVlZWff/65IAhIeaNUKpG2FfOYbDYblsTJzs7u0aNHTk4OEoZEiz4wEgvG5+fnYyyJGB+O48xmc2pqalJSUkFBQXV1NTw7bNgwxMK0KdIHWhVTrB4+fPjZZ59h0pnL5TKZTElJSVhUOjk5GfO5+vTpk56e7nA4du/eLUnSixcv2Ov51os+AIVr9+7dazab09PTNRoNz/OYw4Gl5ZGGH0oc4qRYXrbXX+Al7B3eqOEk+jQC8rYf8TMiGAxevXr1iy++6NevHxI2Y0YoFFbkeP7ss8+iVZJGFaPLQJ4afPXLL7/k5+ezO95isUBtWbx48YMHDyRJunjxotPp1Gg0KSkpyEnx7bffohxWOLSY+vr6WbNmYaE7LE7Mlg9EUV6vd8uWLUj6g+hBpJFHZBMeyCVLlkCB1mq1SqWyX79+W7duZaMmnIN6Hzx4sGvXrtGjR6tUKmSCZPkyOI5LT08fM2bMzZs3Wffk9/vZcOvIkSN9+/bFQmNIpz9nzhzWnNd3GP9z585NmzZNFEWWslqn06FvxdS2SZMm7dix4/US6AgRIAJEgAgQASJABIgAESACCU7gwYMHGzduHDp0KJZvx6AJog/Uh5ycnGXLll25cgUDkOgAmSbR+f3+Xbt2DRw4ECu4Y/YWph38/PPP0HSsVqvRaISigbStSDzK5AyI1E+fPt2xY8eIESM0Gg2ih6xWq0KhyMrKmjdvHuyprq6ePn06RnkGg6Fnz552ux0riyEiqbi4GMmSMabDELW8vJwZzwaSjx8/vnDhwogRI9LS0jAiQzohrDWmUCgGDhz43//+9+bNm400dJ/P9+DBg5ycHI1Gg1kmCoXCZrNh8SKs7IxLUBcbA0qSdOPGjbVr144YMQLT63Q6Hdag1Gq1MDU7O/vrr7/+66+/YDDzArOfdhgBEn0Yio7ZCYVC/siGGOiqqqpr166dPHlyy5YtX0a2wsLC0tLSx48fM0W5hYqxgBfuYL/f//Tp07/++uv48eM//PDDkSNHbty48fTp05qaGvZ0/fnnnxUVFbW1tVVVVVevXsWyXNHlIzQJ2s29e/eOHTu2a9eunTt3Hjx4sLS0tLy8nD1pbrf70aNHZWVlFRUV1dXVz549u3nzJsKFMFMU8TgvXryoqqp6/vz548ePmWSOh5Z1E9DLnz179r///W///v3/r707f86izPf//++cqlN1ShwGSO697773NQsQUXB0WBVF8XhQEZ0By2UO44oYgRmOosgmiyIeVI4rKqICsolERVAJEJIQcu9Lf6ryru+7+tuBnJkzuOSeZ/9AdXd6ua5H33eKfuVa1qxZ88wzz3R2dq5Zs+bNN9+UmKm3t1e/qFqGarVaKpW+/fbbs2fPDgwM9Pf3nz59+vvvv7fXyLFeqVTs9z19+vQHH3ywfv365cuXP/74452dnVu3bt29e/eRI0f6+voc57KJAAIIIIAAAggggAAC/5wC+kdrfSuRCYWPHDny7rvvrlu3bsXQ8tJLL7399tsHDx7s6enRsT7sb20j6JXL5d7e3iNHjrz66qvPP//8G2+8Ia9v+jZ37NixQqGQy+VOnz597ty5I0eOyNWk3Y2+JelL2ZEjRz744INXXnnlxRdf3Lt371dffSUdJqrVarFYPHny5Pnz58+cOVMsFvv6+rq6uuRqmrCcOnVqYGDg22+/7erq6u3t7e7u1t4hMjCQ1kWaRn7zzTevvfbaX//612VDy3/9139t2bLlyJEj3333nbYMklc/qZH8e+rUqXPnznV3d8t75Q8//CBu5XJZ34gl1ZIRTtS/Xq9fvHjx0KFDb7311po1azqHFnE7cOBAX1+fvvfpO6A+RC05K5ZlEfr8HB8D+RA7fheUSiVtVzy8EI4eofrx1e+A4xQZDKhSqeivHv0O2I+s1+uOK0smXSqV9PhcLnfhwgX5ikqXV/02yqV0iq5arWavQrFYzOfzxWJRf23Zb63rxWJRs2rdqSsye6Jsyn2lYDo7uw5Hr6c4Vmq1Wi6Xs5dZq2bXk1+FjnPZRAABBBBAAAEEEEAAgX9CAY1UZHZw+4uDjhcjbyJ6pLxJVYeWf0RMXuKKxaK+9EkfCPmberValUjFXiS5nbyXySuenis/0hxEX80GBwfr9frg0GJ/FbVXp6+vTzftoYxcs16v613K5fLwKdKlAYS+fMnMPLqpL6qWZdk7wdnppI2CveeH5FDlclkaVThOlJ4xWkctvP2arBP6XOHPgGYN8o26ePGifMrtjW60b+fI97Z/oMvlcj6ft88QL+2JpLekPXmR74P8RtAPvQ69qHccGBjQb6z88rrkbysJfSRGsSxLE1xJbeR7KxfXK8uKTBaoO6X3qeLo/nq9LmG27JFfE1psKaFw6S8LPXfklVqtVigU8vm8UOjK8Mxr5OvwUwQQQAABBBBAAAEEEGh4AQ0OtKbValXf5nSnvH9JNqHBiv50hL9ty8udzhQmp+g0OHoFfW2pVqsydIa+tcmPJBuSE/W9SU6vDC0SGMmP5D1R9tvfp3T9woULsi4ll3hLrqZ1lLfFwtDiuKMWW06UnGj4MXaWQqFgpx4cHJR3TMerogZhegtdkQIPDAw4UrB6vW7PlfR4Vgh9rvBnwPE1Hn51+crJL4uRP5QSiBQKBf1O6tfDEanIAfJLQb4t8s3R6w8PfbRgpaFFNyVaks3haY5kN/JT/TLbW9bImEH2+w7PkuQi0nLHXjUJqrUZkY7+ValU9FeA/I7QW2uxdWV4maWFoR4gSXmhUPhfn5SewgoCCCCAAAIIIIAAAgg0vIBOETO8ptLIZXjKYz9S/oBt32Nf1xcfexcqGddG0gp5PRnevkZDH3kZtF9H3pjsL1CWZWnQo3fXYg8ODhYKBRlDQ4MY+/vg//qKJA7FYtHRtULvpT1LZEhmeY+TF1XHe5meIiCOWth/qvjD0ys5TP6uPzxBs1/kn3md0OcnefrysZMAQtoHynfJ0fXJkU3ai6Lfbce8VIVCQSMPyS/0SIla7P/aL+hY12++fb9mK9KHU4snvxEcv2WkQ5l8q+0Xcfwa0kGOHCmPnCL5calU0nvp/uHXsTd9st/RsS6/NPP5vDR6kp/KE9E+Yo5T2EQAAQQQQAABBBBAAAEE5D0oN7TI64/+PduOo812pJfT8I5O9oPt6473QR0U1f6qJamN3Fe6LznelSQ9kUEzisWivDfl83l5m5O3RXkVkrRF/wzvqIu+cMmK/S7DAxR74wB7jeS1S+IYfVHVA2SPjOBhX7c3JtCDJf0pDi2lUkm6tgy3lVdIQZCGQvaS26/GuggQ+vwknwT5IDqartnvJJ/g4d8KPUaTV92jXSjlG6LnSj8mR9QqUYtGqnoRx4o01dPGR/JTKXyxWNRb2MMgOUWb4Ti+YPLbQYbL0TTKcVOpiLQPHOEYOau3t9dxumVZI9RLyyxnyW9hKb90VdMCl0qlEa4z/KbsQQABBBBAAAEEEEAAgUYVuNyLidRX3rnsnTD+Xgf7IKoSLUnUIkPtyNVkj7xSaSJj/5G0JHAU1X5ksVgcGBgYPqKFdASRI/Uv7prjyF/N7S9HcgVJizQzkndAKYO+VdkdtCRaQrmm6MmR+iMZEUlG5CiVSpestV5cWifJYbpT30l1j/29VXeyQuhzhT8D0vFKP+7yUZbgtlQqaRA7PDq9ZDmkmY+9NY1cSkdflrPsQenf0hxmeMNFzX3s95K76K+G4SW0/9Zz9DiTg2UQIm3j40hk9ILyK6NWq12uPaH+AnKE03oF+4oOPu24ndZR6mU/hXUEEEAAAQQQQAABBBD4JxeQoSrsLxGX7B4hSvKmJp2S7G9/Ixjqn8+1Q5P94HK5rL069N1Krqw9GDRq0TvqkY4ERKfHkZBFXqOkavJuZd+jxZCRdPSVU/frimMwDfuYs1okaYNj7yyiZZNGTMO7sMkLmqRL8qYs/8oeuamj/5e9D4e8SNoLoAVmhdm7+AwggAACCCCAwP9PQP6QoBNn6N/67AeN8N9BOUwadUrbbNnj+L+a7LT/uc9+/Z9n3f6HUPmPuIymp3/z0P+d6x9v7AXr6+uzb7KOAAIIIIAAAgj8CgVo6fMrfCgUCQEEEEAAgZ9bQP8keMkbyx8/pTHpyH9Js//JUS9l/6updry179Qjf7YVbQGus2HKraV2OsiC/k1VhsaUBupyzC+bWP1sUNwIAQQQQAABBEa1AKHPqH58FB4BBBBAAIErKWBvWS3tzEcOgy53b2kjI1fTOT7sAcrlTvzZ9l8yshmeZ/X19Wk8pJ2Rdc//2uLpZ6sON0IAAQQQQAABBC4pQOhzSRZ2IoAAAggg8M8loHOsjtwARyYKGHmENek25QhQ7JvS+UumHfkFle2T1OZyORnjIJ/Pa/LlKLOGVjqTyMhWv2DVuDUCCCCAAAIIICAChD58EhBAAAEEEEDA0kRDLGRoRmnJIhmN44DLkTkOk6kDtFmNfUz9y13h59yv8Y39ppVKRedYqdVqFy5ckOF7dNoEXbGfxToCCCCAAAIIIPArFCD0+RU+FIqEAAIIIIDALyYgEY+2YSmXy465S/6WyEPm0XDMrOEYy7lSqcjUHr9IVbWLlv3u/f39Mo2u7Ozr6zt06ND+/ftlv2VZ9qGpdS4S+xVYRwABBBBAAAEEflUChD6/qsdBYRBAAAEEEPhlBBxNcqQQ2kJHNmUMZnunp0uWVSZ81djIsixHdzD7tFmXvMLPs1MrUq/Xi8WiFFiL/frrr8+YMSMYDHo8no6OjjfffFNKpU2ZJNj6eYrKXRBAAAEEEEAAgf+bAKHP/82NsxBAAAEEEGhYgUKhcPDgweeee27hwoWLFy9+4IEHlixZ8oc//OGRRx7ZuHHjt99+O3LNtUVPrVb7+uuv169f/4c//OGPf/zj4sWL/zC0/PnPf37llVd+/PHHka/zk/70f/7nfx599NGFCxcuXbr0kUceWbRo0caNGwcHB6VH25kzZ+68887x48en0+lEIuHz+SZOnCgVl9BHp7T/SQvJxRFAAAEEEEAAgX9QgNDnHwTkdAQQQAABBBpEQFu+1Gq1b775JhgMhkKhaDTq9/tN04xEIqFQyOPxHDp0yN7hS2c3t09lpf223nnnnUAgkEgkQkOLXueuu+6yq8lU6NqIxt73SoZV1oPtaUu1Wi2VStI2R8+V/lkySLO0OdL2SvYWRs8++6yjSDNmzJC7FAqFL7/8sqWlJRqNmqbp8XhSqZRpmh9//LEcMDAwICtya3WTWw/fqQdoM6J6vW7vKSb77Xu0vnquZVm1oUV/NMJKvV63T0VfH1r0eLuD7mQFAQQQQAABBBpSgNCnIR8rlUIAAQQQQODvFtB8wRH6mKYZDAaj0ahhGOFwuLOz0568aNYj2UqxWJTr1Ov1r7/+ev78+V6v1zRNR8KioU9vb68mRPYSa38r+85LrkvnrEv+SHfaU49KpZLL5S4X+kgtTp48GY1Gr7rqqmw229ra2tTUFAgEDh06ZE+j7KP/yExk5XK5Wq1KNFMsFiV2sQdkWh5d0fxFkykZOUiGQxJbPUbOyuVyPT09eoXhK8MHXZI51yQIsz/lS8oPvyB7EEAAAQQQQGD0ChD6jN5nR8kRQAABBBC4kgL2OMDe0icSiQSDwVgs5vf7U6lUW1vbqVOnZBhjbboiYYc9B7Esa82aNR6PJxAISKOhUCh0uZY+Ug1H+xfLssrlcqFQyOfzmgFJ6x7ZowVWBd0jl8rlchcvXtRGQPZJ4i8X+sjwQ4VCYfny5dls1u12m0PLgw8+KCGO3EKGQPpbxnKWvMk+Dbw9MtN2TFpyrYusqLBo2DcdR8qmvYGPZVn5fF5TOT2gUCg40qtLXoqdCCCAAAIIINAAAoQ+DfAQqQICCCCAAAJXQEBzB3tLn8jQYppmIpEwDCMej48bN27Tpk1yP22f4ggRJHqYNWuWNA4aOfSRabwccYa9bY7cS/MRraoMpSwnauqkP7WvOBrLlEqly4U+kuNUq9XBwcHNmzfPmzfv7rvvfvbZZ0+ePCkX1LhHmsn09vZKTiSFkWKXy+VcLpfP55VULiub9qI61nO5nN4ln8/ruj0nKhQK58+ft9fucut2Q52EXq9pv/XlrsB+BBBAAAEEEBjtAoQ+o/0JUn4EEEAAAQSujIAmFI7QRzpnJRKJcDjs8/kMw5gzZ47EExr62Ofnqgwtn3zySSAQiMVi0WjU5/NdrnuXzAimrVG0I5I0bJEhe+zhxcDAgLbc0WrbAyPp3KSdqvL5fKFQkI5X9Xpd0p9yuTxC6CPNiySmuXDhgtZRO0PJHh3MSIphL4NWRwbiKZfLjlDMsqzhGZZcp16vVyqVwcFBzZK0mn/7SrlcHhwclHLW6/Xe3l4pSbFYtKc/wyX/9ltwJAIIIIAAAgiMCgFCn1HxmCgkAggggAACP7nAJUOfcDgsoU80Go3FYk1NTa2trX6/f/fu3VIgSRbsMYcM6/PQQw/5/X6v15tMJg3DuFzoY6+VvT2Lfb8Mc2PvqSQtcTSF0YMl05Hpw+xRkR6gK5cLfTS7cVy8Wq1qMxxZkZY4Fy9e1LpLnzK5hUZFesfh+8vlsvRTk0Y3eh095fz581oeaWFUrVb1Melh9hV7umTPdLTwkv5crnj2S7GOAAIIIIAAAg0gQOjTAA+RKiCAAAIIIHAFBDRNsLf0CYfDMqZPMBiMx+NerzeVSnm93vvuu09iEUkZtFGJlOPYsWPt7e2JRKKpqSmdTofD4cuFPtpEqFwuawFyudxXX321ffv2hx9++JZbbpk9e/Y999yzevXqd9555+zZs5plaAJSr9dzuVyhUNAr1Gq1U6dOffbZZ48++ujdd989d+7cxYsXb9++/fvvv5cY5XKhjyYv27dvf+mll1atWtXZ2fnCCy9s3LhRqlar1bTMsqdcLp84ceKDDz5YtWrVggULbrnllv/4j/+47777Vq5c+dZbbx07dkw7asmU8Bq4dHV1bd68ec2aNa+++urmzZs3bNhw/PhxaQR0+vTpvXv3/uUvf7nrrrtuu+22u+666/nnn+/q6pI7OgogO/Xf/v7+/fv3b9269T//8z9vvfXWWbNm3XbbbY899timTZsOHTo0MDAgcVi1WtWS6LmsIIAAAggggECDCRD6NNgDpToIIIAAAgj8HwXsiYkO5BwOh+PxeCAQ8Hq9sVgsFAr5fL5EIhGLxc6dOyedsHT8Zh06Z/Xq1c3NzclkMhAIxOPxEWbv0rLK3Uul0nvvvffAAw/ILO/hcDiVSklbIZ/PZ5pmNptdvny5jCR9uXGUz58///rrr99yyy3jxo3z+/3JZDKTyfj9frfbPXPmzJ07d9br9cuFPpIo9fb2yinpdFoyL6/XWxxaJDOS0lYqlXPnzq1evXrSpEmGYUSj0UgkYhhGMBiUsZAMw0gkEvfdd9+ePXu0DY5ELblc7uWXX85ms2PGjInFYh6PJxaLvf7665Zl7d27d968eZlMJhgMin8sFgsGg5lMZsmSJV988YWiDV/56KOPFi1aZBiGVDwcDksZYrGYDEq9YMGC999/X7ItfeLDr8MeBBBAAAEEEGgMAUKfxniO1AIBBBBAAIF/VEAjAHtLH4kM/H5/KBSS8Zjj8XgkEonH408//bT9ljJwjGVZ/f39N9xwg5wi03UFAgFp7GOapvQX0ynb5QrS+ahcLt97771tbW1ut9vn83V0dPj9/n/7t39LJpOpVMrj8WSz2UQiEQgErr/++s8//1zvLk1ptCfU448/LvmLNFMyTdMwDJfLlU6ng8FgNpvdtWvXM88809raGggE5ILhcHjmzJlyhVqtNjg4OHHiRKmyllzayEjSJEcePXp02rRpMpl9LBaTqmnck81mpXebx+Npb29/4YUX7C1rarXa5s2bk8mkz+eTU0Kh0J49ezZt2iRzpUmfuEgkYpqmz+eLxWKGYUQikdmzZ+twQtrkR/YsX748FArFYrHf/va3iURCrhOJREKhkGEYmUymqakpEomkUqmlS5dalqWn66O3DzitvKwggAACCCCAwOgVIPQZvc+OkiOAAAIIIHAlBfTN3x76BAIBaWhz3XXXPfDAA16vVxKEcDg8bdq0crnc39+vLX2kNO+8844O4hOJRGKx2IwZMzQ6cYQ+Fy5ckLNOnjz58MMPS1CSSqUkSQmFQi0tLZlMxuv1NjU1GYbh8XhkSOmpU6ceOnRIkwspfLVaXb9+/dSpU7VXms/ny2azwWBQWr64XC632z19+vS77747Fov5fL5wOCyZ1IwZM6Qklwx94vG4zpklCcupU6duvvnmUCiUGFokmvF6vX6/3zRNv98fj8dDoVAymZSxjSZPnvzGG29o7lOpVDZv3pxKpfx+fzgcbm5ujsfjzzzzjKQ2Ms+9oKVSqXA4LIdFIpFkMvnHP/6xVCrJpbSz2+rVq9vb27PZbCwWk8qmUilBM00zmUzG43F5LnLxp556Sj89+ugJfdSEFQQQQAABBBpDgNCnMZ4jtUAAAQQQQOAfFdA3f3voEwwGZbL2efPmffbZZ5KeSEufCRMm7N+/397Kpl6v5/P5e+65R/oiud3uSCQSDofXr19/udCnNrRYlrVy5Uqv1ytxSTQazWazV199dSgUuvHGG6+77rrf/e53U6dObWpqkjQnGo2OGTNm4cKFEsRoyb/++uuOjo7m5mbp1hSLxSKRSDqdzmazksK0t7f7/f5AIDB58mRpAWQOLdFo9IYbbhDBS4Y+sVhMmiNJHS3L+stf/jJmzBi/359KpQKBwPjx4zOZzOzZs++444777rtvxowZLpdrwoQJmUwmnU4nk8nf/OY3M2bM0AKXy+UtW7ZID7hQKCTJTnt7uwhnMplEIiFRl3QZk+5jQpRIJL7//ntppyMJ1BdffJFOp31DixiOHTt2ypQpc+bMeeCBB2666aZIJDJu3Di5plC0tLQ899xzMui146Ojno79bCKAAAIIIIDAqBMg9Bl1j4wCI4AAAggg8JMI6Ku+PfQJhUKRSCQQCMyfP//ixYszZ850u90tLS2JRMLn8z388MPazEdO//HHH8PhsPTD8ng86XT62muvPXjw4OVCH8uy8vn8jz/+2NHRIblGS0uL2+3+zW9+M3fu3D179lQqlWq1WiwWd+3a1d7eLoMKZTKZaDTq9/vfffddHVeoWq0+//zzgUDAMIx4PN7c3JzNZj0ej8vlWrt2bXd3d09Pz/bt2+PxuEw8L21qJEWKxWLTpk0T1kuGPs3NzXIjqeaZM2ek/1cgEAiFQk1NTR0dHVu3bj179qykYOfOnVuyZEkoFIrH4xMmTEgkEslkMhaL7d+/X65QrVa3bt0ajUalnVFzc3MmkzFNUzqd3XnnnVu2bPn000/vuOOOadOmjR07Nh6PR6NRGfonk8ls3rxZBtKW0XmkzVE6nfZ6vcFgMJ1OL1iwQAcSunjx4oEDB2TkoNbWVhkhyOfzzZ071z5+tn4AdOUn+ZxxUQQQQAABBBD4GQUIfX5GbG6FAAIIIIDAr1hAX/XtoY+M4xMOh2+77bZisbh69Wq3251MJqUtTzwe7+vrq9fr5aHFsqwdO3Z4vd5AICDNSeLx+KpVq7744ovLhT7VoWXbtm0+ny+ZTOrFp06d+vbbb4uW5BqFQmHPnj0tLS0+ny8UCsng0Pfff7/0L5NJtWbOnCkdoFKp1IQJE+LxeHt7+xtvvCGTvktXsr17906dOtXj8ch8ZKFQKBwOx2Kx66+/Xm53ydDHMAx7vPXuu++OHTtWxuKRFkP33nvviRMn7I933759HR0dkUikqalJRhQKhUKbN2/WEZ23bt0aDAYDgYC05Zk0adLVV1+dTCY//fTTvr4+mcaru7t7w4YNMrKSjNETDAa9Xu+DDz6o3btOnDgRjUYTiYTL5Zo4caLMsPbOO+9IYbRD2eLFi/1+v4z143K5IpFIe3t7Pp/Xoal1UCT9JNirwzoCCCCAAAIIjEYBQp/R+NQoMwIIIIAAAldeQF/17aGPjMecTCbvuOOOUql05MiR1tZWj8fj9/tbWlpcLtfWrVsty9Lp22+88cZMJiMdrKRf2IkTJw4dOjRC6GNZ1ty5czX7kNnBNmzYIBlNpVIplUr1er1SqdRqtZUrV8q8YMFgUIb+GRgYqFar5XL53LlzkgRJlzSfzxcMBjs7O/P5vOYsEqasW7cuEonIdGDBYNAwjFgsNn36dDG9XOjT09Oj17Es68SJE11dXW+//fbrr7++ffv2I0eO2B9JrVbL5/NTpkzxer1TpkwJh8Ner9cwjGeffVaHT37llVd0qi+Px2MYRkdHx759+8RTp0Lr6elZvHhxIpEYP358MpkMh8Nut1uGc5ZHls/nz58/f+rUqf3797/zzjvbtm2ThyKxkTCWSqWdO3em0+mrr746Ho/L/Gsej2dgYEBDHx0eSD8J9hqxjgA6w9DmAAAf7klEQVQCCCCAAAKjUYDQZzQ+NcqMAAIIIIDAlRfQV3176COdj6LR6B133CFdsRYvXtzc3CzdviKRyK233qqtRT788MOmpibJYmQI5/vvv79YLHZ1dV0u9LEsq7u7W1vuyARbiURC5wLTJEIq/N5777nd7tbW1nQ6HRhajh8/XigUKpXKxx9/7PF4QqGQBFXhcLitra2rq0uyDxmiWFKbc+fO3XjjjYZhSOcsmRtr9uzZcotLhj6tra0XL14sFoulUqm/v1+sJOqSQEr21Ov1UqlULBZrtVpXV1d7e7vH45HOaOFwOJlMPv300xKyVKvV7du3y3RmoVDommuu+dd//de2tjYZmloaN+mwyu+//34sFnO5XDIkcyqVuvXWW6W7WaFQkLZOpVKpUCjoxS3L0tioWCzm8/kXXnhB5iObOHGia2hpaWnp6+sT4Xq9rtT6SbjyHzKuiAACCCCAAAI/rwChz8/rzd0QQAABBBD4tQroq7499JFwx+fzzZs3Twq+ZcsW0zSj0ajL5UqlUqZpfvrpp5Zl5XK5pUuXZjKZcePGSe+q1tbW06dPDwwMjNDSp1Kp7N69O5lMyoDK0o8plUr96U9/euqpp5599tknn3xy6dKly5cvX7ly5ZNPPvnUU0/JiMWBQMDj8UyePHnFihVSMBnQJ51Oyyzs0Wh07ty5lmXpBGFyWHd3t2VZCxcujMVipmnGYjGv1xuLxW6++WbpCXXJ0MftdquPhF9yNe081dPTc+DAgffff/+1117761//umjRolQq5XK5Ojo6JkyY4PV6ZcAdKW2tVisUCq+99lp0aDEMw+v1ZrPZ5cuXDw4OSmc0bT9VrVaPHz8eCAQymYxMNxYOhydOnCixjpSqXC7LONOy88KFC1999dXhw4e3bdu2cePGRx99dPr06dLUSIphmqZ0lOvt7dXQR+tir6lUk38RQAABBBBAYJQKEPqM0gdHsRFAAAEEELjCAvqqbw99JJWQgZyr1Wq9Xj979qwMupxKpcaOHZtKpaQRUE9PTyQS0ZGJQ6HQE088IRnEF198ERpaTNOMRCKhUOiuu+6S0hcKhR07dkjjIJnaPB6Py2Tqra2t8Xg8EAik0+loNOr1epPJpAx/I9eJx+NXXXXV1q1bJShZuXKltIVJJBIyRdcjjzwid5HBlTVGsSxrzZo1MuaxaZoybtHMmTPl4EuGPslkUntCWZYlc2b19fXt27dv2bJlN910k07NHg6HW1tbg8GgaZputzuRSIRCIbfbPXHiRLfbvXLlSglZarXatm3bJFOTXmmmaT7++OM6sI7QSWOfb775RsYekpGhg8HgnDlzdARrPeXcuXM7d+5csGBBLBZTtGg0KvPKB4NB6WVmmmY8Hg8OLTIkk95LW0Vd4c8Wl0MAAQQQQACBX0iA0OcXgue2CCCAAAII/MoELhn6yIxahmHcdtttckC9Xn/iiScCgYCMqhOJRCZOnHj69Ok1a9Ykk0lJZ2JDy+effy6NR0YIfSzLWr9+vc5LJf2PgsFgJBLx+/0+n0/6cEk043a7x40bFwgEEomEdB8LBoPbtm2TTluPPvqozBAv2VMwGFy2bJn0k9LeUrJSKpXWrVsnfcok8YlEIiOHPqFQSJrSaHOYgwcPLl26VMa0lonAWlpaZG74sWPHGobR0tIivbeCwaBmZ1cq9Jk0aZJ8fKSLWaFQ2Llzp/RZi0QiMmSPdHPLZDKhUGj8+PHRaDQcDkejUZ/PJ6MyZbNZQp9f2beQ4iCAAAIIIHCFBQh9rjAol0MAAQQQQGCUClwy9PF4PNIqRLpKSdUOHjwovaIk12hqalq9evXUqVOlAY4MjXz77bfrdFcjhz4yrLLb7ZbOYn6/PxqNxuNx2TNx4kSZYT2bzQaDwWuvvTaZTBqG4Xa7XS5XIBCQDlP1ev2RRx7JZDKxWMwwDLnUk08+KWWQpkCWZQ0MDMg4ymvWrJE2OIZhyKztM2fO1DY4g4ODMiO7tI6RKEpCn/rQcvbs2fvvv9/j8UyYMEEaH7lcLrfbHYlE4vG4TL4+Z84cwzBcLpff75fRr8Ph8JUKfexzjRWLxRUrVkyePHns2LHjxo2LRCLZbNY0TZmhTFauu+66WbNmyYhL8Xg8EonI0NGEPqP020qxEUAAAQQQ+BsFCH3+RigOQwABBBBAoMEFLhn6SKcq0zRvuukmHWsmn8/Pnz/fMAyZZ725ubmtrS2ZTHo8Hpn+3OPx7Ny5U7zK5fL+/fsv172rWq3u2rVL2hNJEmGaZltb24cffvjuu+9+9tlnBw8e/Oijj/bs2bNv374PP/xw9+7dH3/88YEDB44cOXL48OEvvvjiq6++kht1dnbqEDmS49x55536zHJDi27+6U9/isVi4XBYWhUFg8GZM2dKK55Ldu8Kh8O5XE6HSV65cmU0Gm1ubk6n021tbW63O5PJ3HzzzU8++eTmzZs/+ugjGUho0aJFyWTS6/WGw+Hm5uZoNHqlQp9bb721VCpJSrVjx45IJHLVVVe1trZOmTLF5XKNHz++tbX1/vvvX7t27QcffHDmzJnz589//PHH0hJK+rWJOaGPfiRYQQABBBBAoCEFCH0a8rFSKQQQQAABBP5ugUuGPtKXKhQKSUsfaSZTr9ffeOONYDDocrmy2Ww0Gh0/fnxLS4thGKZpGoZxzTXX9Pb2SoZSr9dHCH3K5fLx48ebm5ulY5TX602lUi0tLTIKT6VS0fGJpYmN9q4aGBiQnk2VSmVgYMCyrB07dsiYPhIepdPplpYWGYhHpqbSsW/K5fKMGTNkYjJpneT1emfNmiUHXC70KZfL0o+sWCy2trZ6vd5EIiEd0CKRyPr163/88UdFl/Jfe+210g9OZt1KJBJXKvS54YYbarWaPLJ58+bF43EZ9CcYDHo8nsWLFx8+fFgK09PTI4cdPnw4MbS43W6Zrj6ZTBL66CNjBQEEEEAAgYYUIPRpyMdKpRBAAAEEEPi7BS4Z+sgYw5FI5LbbbrMP93vhwoWWlpZwOCyhiQwfE41GDcNobm5etWpVpVIpl8sSEo3cvevChQvxocXn80Wj0XQ6bRjG7t27pTzFYlHSFol4LMv6/vvvu7u7pZGLDtZTrVaPHj0qs7AnEgmXy9Xa2ur3+3ft2mVZVk9Pj3DIAMx79uyJx+PSAEeGUna5XLNnz5Y7XjL0MQxDBk4uFov9/f1ut1uGBJJxpv/93/9d8iAhkvWLFy9ee+21bW1tkyZNkrGTm5qarlToc+2118oYz5ZlyYhCMrdXU1NTIpHYsWOHykhMVigU1q9fL531otGoDi9N6PN3f084AQEEEEAAgVElQOgzqh4XhUUAAQQQQOAnE7hk6BMOh30+XywWkzF69BjLsp544gkZtlmGK/Z4PDIzVyKROHHihLYJsizr0KFDl+veJWPuPPTQQ+Fw2O/3x+NxueOiRYsOHDggda1UKtVqtVarFYvFp59+ur29PRqNXnfdddOmTZs8efLu3bslYBocHJw+fbppmjJ7lwxFNGvWLGmAk8/npUh9fX233357MBiUlj7BYDAWi3k8nptuummElj7BYLBUKtVqtXK5/MMPP4TD4UAgYBhGKBRKp9MLFiyQvm/9/f1K9NZbbyUSCWlWI82C0un0lQp9brzxRh0yKRaLjR8/PhgMZrPZWCw2adKkffv2SfxUq9VyuZxUfNmyZf6hRcK1eDzu9/sJfX6y7xMXRgABBBBA4FchQOjzq3gMFAIBBBBAAIFfXEDTCseU7TLv+Lx58yRbkXKWSqVvvvnGNE0ZdNkwDBkvJhqNyjRYpVJJLnj+/PnDhw+PEPpYlvXRRx/JXO8y6rCkMEuWLDl27Fh5aJExmLdt25ZKpSTdkNnHW1tbz5w5oxONP/jggzKsj2maPp9Pul9Nnz79k08+GRgYuHjx4meffTZnzhzpCSUFNgxDDps7d+4IY/pEo9He3l6pe1dXVzqdHjduXCaTkQGnOzo6ent7tS1SsViUG8mkY8mhxev1mqZ5pUKf3/3ud9LyKJfLTZ8+PRwOyxg9iURizJgxa9as0axHsqFly5YFg0EZeygUCgUCgUgkYpomoc8v/r2jAAgggAACCPykAoQ+PykvF0cAAQQQQGB0CEhvKRk3x7Kso0ePyiTfhmGk0+lwOHzLLbdI4xHpNySBzuzZs+PxuGEYyWRSujtNmDDh008/1dFzarVatVo9cuSIYRh+vz8QCDQ3N8fj8TvuuEOaxkhPqN7e3scee8zv93s8HpmcSwapyWazt9xyy5IlS+65557rrrtOmucEg8FEIiEZyooVK3RmLsuyvvrqqylTpng8HplvSxrjJJNJmdIrPLTIyM0y4LTM124Yxvjx4++9915JbfL5/Pnz57PZrEwBJsMMGYahHbjK5fK0adMCgYD0fZPRoDs6Ojo7O/ft27dr164HH3wwk8mMGzculUqFQqFx48bFYjFpBtXZ2SkfiGq1+sorr0g3MWlzlEgkli5dalmWjlUkjMVi8euvvw6FQqlUSprqpFKpqVOn6oO4//773W53NpuVmchM08xmswsXLnzttdf27t37/PPP33zzzalUSlhcLlcsFnO5XNFoNBgM9vb26qPX8ZI0/hsdn11KiQACCCCAAAKXFyD0ubwNP0EAAQQQQOCfRkBe+HUgmO+++y4cDqfTaen95PP5JPSRpEYP3rZtWzgcDoVCLpdLQp9p06Z999139tF/arXagQMHEolEMplMp9OmaaZSKQl96vW6Jimff/75nXfe6fP5ZNyZ5uZmv98fDocTiURmaInH46ZpTp48WYIP0zTnzJkjwxXbc5/nn39ehnNubW2NRCKS+5immU6n29vbZXr1lpaWpUuXplKp2NCSSCQMw5g1a5bEH9I0ZtKkSdFoNBQKyXBF2Wz21KlTlUqlXq+Xy+UXX3wxEokkEgnpjOb3+2OxWDQa9Q0t0lWtra1typQp8Xg8FouZpjlhwoRoNPrMM88ITrVa/e///u9YLCbNhcyh5aGHHlI6jWAsy/rhhx9k7CFpOiSlrQ0tlmVt3bo1Ho83NTVJjzYJvLxDizTFikQiY8aMuemmm4LBYDKZbG1tlanoDcPo6+vT0EerT+jzT/O9p6IIIIAAAo0vQOjT+M+YGiKAAAIIIPA3CpTLZXnhP3r0qPQGkp5QXq93/vz50vCkWq3KjFrVajWfz//+97+PRCIS0KTT6RUrVkhypPmRhD5ut9vv90vvrUgkMn/+fC2SPfdZsmRJNpt1uVzpdFrSEJ/P19TU5PF4pFXOuHHjXC6XYRgLFy48evSoXkSGrbEsq7e3t7Ozc8qUKf/yL/8SCoUkiHG5XIFAwO/3u1yu66+/fuXKlS+//LLb7TYMQ+YvN01z0qRJlmVJ1fL5fFtbmzQmkhY6oVBIJuSSY3p6eubPnz9hwgQZx1oiLUmIJNXyer2dnZ2LFi2aMGGC3++XXmmBQGDFihUasrzyyiuhUEhmvpfMSFr6SKUkyRLGrq4un88nI0/H43GfzyellUv19PSsW7duypQpY8eO1Wm5MpmMtG+SQY6mTJmyffv25ubmwP+3RCKRaDQqs5vJmNCEPvpxYgUBBBBAAIGGESD0aZhHSUUQQAABBBD4RwUk8alWq4cOHero6EgkEtLSJxaL3XfffTIzutyjWCxWKpXBwcHHHnvMMIxMJuNyuSKRyMGDB+UAbahSqVS6uroiQ0s8Ho9Goy0tLQsXLpSJtCzLKhaLGjecPHly/fr1t99+u2mabrfb4/HEYrG2trZsNiuNdDKZzDXXXLNq1SoZysde4Wq1KteUmara2to6Ojr8fn8ikWhpaUkmkz6fL5lMPvfcc5ZlrV27NhwOt7a2SpEymcz06dOllU29Xu/r67vhhhskFkkmk3JraeWkLXEOHz78yCOPhEIhj8cjoZIOJxQMBpctW/bDDz+sXbtW+qlJY6VAILBq1aoLFy7IpTZt2pRKpWRQJGmL9Nhjj+VyOXkKmppZlvXll1+2tLTEYrF4PC6zm/3+97+Xuks2VK/Xt23bNnv27Ewm4/f7m5qaZIgf6YCWSCTef//9ixcvdnR0SHc8uZRpmvl8XrK8er2unfJo6WP/XLGOAAIIIIDAqBYg9BnVj4/CI4AAAgggcGUEdDQfuVxfX9+6deteGlo2bdr00ksvvffee/aBnOWwer3e09OzZcuW999/f+fOnbt27ZKoolgsSnAgHbj6+vpefvnlDRs2rB9a1q1b9+abb2q5a7VavV6vDC2ys7u7+/PPP1+2bNmUKVMMw/B4PD6fb+LEibfffvuLL744MDBQr9clOrEsq6+vT86SFkNSkUql0t3d/dxzz82YMSMcDo8ZM6ajo2PdunXfffedHHbo0KFNmzZt2bJl/fr1L7zwwtq1a3fs2CHXkXGINm7c+OLQIsVet26dNCOy36tcLh84cODPf/5zW1ubaZoSMD388MMHDhyQlkd79+599dVXN23a9Oyzz65du/bll1/+5JNPtGXTsWPHRHjDhg2rV6/esGHDZ599pp22NF2yLKu/v//FF1/csGHDCy+8sHHjxpdeeum1116Tkui/AwMD3d3da9asWbBgQTQa/e1vfxsIBObOnbt9+/aBgYFyuVyr1bZu3bpx48a1a9du3rx506ZNzz33nLbt0gng7St6cVYQQAABBBBAYJQKEPqM0gdHsRFAAAEEELjCAtrQQ64r2Yqsa0scDVYKhUK5XNbBdLRdj7RhkU5SElvIODj2spbLZRmrWIIhPVeCCTmyXq+fPn362LFjx48fP3r06Oeff378+HFtHCTBhN6lXC7rRbRIlmUNDg6eOXPm7Nmz33333cmTJ6V/Vq1W04O1XnJTSazksvbr2AtfrVYl0tLspru7++jRo19++eXRo0ePHTumaVSlUtF1h639gsNDFm3jUy6XpUWV9jvTNjhSZdmsVqtao1KpdO7cuRMnTnz77bdfDy09PT1yu8HBQTlMD9aWTSOXx/FTNhFAAAEEEEBgFAkQ+oyih0VREUAAAQQQ+AkFNAGxJxQS7kgOImMYX7IEkhBJKFMqlexX0OM1sJC5xmUWdunepcdUKpVSqeQIXKS5kJ4uzYv0GOl01t/fLwMwy637+/ulMFoSrZ2sSBSl15QCyEV05nWJY+TupVJJJ9XSwX1KpZIGKHojy7LOnz9vD27k4tIbTuKbfD6fy+X0XJlyXhpS5XK5wcFBPd3e60qsdPRrKbz9SDGpVCq5XE7rq7Za2UKhUCwWS6WSHqM/0irrWawggAACCCCAwKgWIPQZ1Y+PwiOAAAIIIHDFBDTskP5NtVpNG7NIslCpVKTXUmFocdxYgwONP/R0+ZH2DpP+XHK6PfjQwZjtSZCepUPq6H21DZHeUcIpHRZHgyF75zUtlUYehUJB1/UucnG9stxUAiYdyloKLFDFoUUvrhraOkm7oWk15aZ6Cz1FQjF7karVqjwdfUZ6sF5Nb6Q+2tKqUqnIieIjd5SnLAfr1Qh97HqsI4AAAggg0AAChD4N8BCpAgIIIIAAAggggAACCCCAAAIIIOAUIPRxirCNAAIIIIAAAggggAACCCCAAAIINIAAoU8DPESqgAACCCCAAAIIIIAAAggggAACCDgFCH2cImwjgAACCCCAAAIIIIAAAggggAACDSBA6NMAD5EqIIAAAggggAACCCCAAAIIIIAAAk4BQh+nCNsIIIAAAggggAACCCCAAAIIIIBAAwgQ+jTAQ6QKCCCAAAIIIIAAAggggAACCCCAgFOA0McpwjYCCCCAAAIIIIAAAggggAACCCDQAAKEPg3wEKkCAggggAACCCCAAAIIIIAAAggg4BQg9HGKsI0AAggggAACCCCAAAIIIIAAAgg0gAChTwM8RKqAAAIIIIAAAggggAACCCCAAAIIOAUIfZwibCOAAAIIIIAAAggggAACCCCAAAINIEDo0wAPkSoggAACCCCAAAIIIIAAAggggAACTgFCH6cI2wgggAACCCCAAAIIIIAAAggggEADCBD6NMBDpAoIIIAAAggggAACCCCAAAIIIICAU4DQxynCNgIIIIAAAggggAACCCCAAAIIINAAAoQ+DfAQqQICCCCAAAIIIIAAAggggAACCCDgFCD0cYqwjQACCCCAAAIIIIAAAggggAACCDSAAKFPAzxEqoAAAggggAACCCCAAAIIIIAAAgg4BQh9nCJsI4AAAggggAACCCCAAAIIIIAAAg0gQOjTAA+RKiCAAAIIIIAAAggggAACCCCAAAJOAUIfpwjbCCCAAAIIIIAAAggggAACCCCAQAMIEPo0wEOkCggggAACCCCAAAIIIIAAAggggIBTgNDHKcI2AggggAACCCCAAAIIIIAAAggg0AAChD4N8BCpAgIIIIAAAggggAACCCCAAAIIIOAUIPRxirCNAAIIIIAAAggggAACCCCAAAIINIAAoU8DPESqgAACCCCAAAIIIIAAAggggAACCDgFCH2cImwjgAACCCCAAAIIIIAAAggggAACDSBA6NMAD5EqIIAAAggggAACCCCAAAIIIIAAAk4BQh+nCNsIIIAAAggggAACCCCAAAIIIIBAAwgQ+jTAQ6QKCCCAAAIIIIAAAggggAACCCCAgFOA0McpwjYCCCCAAAIIIIAAAggggAACCCDQAAKEPg3wEKkCAggggAACCCCAAAIIIIAAAggg4BQg9HGKsI0AAggggAACCCCAAAIIIIAAAgg0gAChTwM8RKqAAAIIIIAAAggggAACCCCAAAIIOAUIfZwibCOAAAIIIIAAAggggAACCCCAAAINIEDo0wAPkSoggAACCCCAAAIIIIAAAggggAACTgFCH6cI2wgggAACCCCAAAIIIIAAAggggEADCBD6NMBDpAoIIIAAAggggAACCCCAAAIIIICAU4DQxynCNgIIIIAAAggggAACCCCAAAIIINAAAoQ+DfAQqQICCCCAAAIIIIAAAggggAACCCDgFCD0cYqwjQACCCCAAAIIIIAAAggggAACCDSAAKFPAzxEqoAAAggggAACCCCAAAIIIIAAAgg4BQh9nCJsI4AAAggggAACCCCAAAIIIIAAAg0gQOjTAA+RKiCAAAIIIIAAAggggAACCCCAAAJOAUIfpwjbCCCAAAIIIIAAAggggAACCCCAQAMIEPo0wEOkCggggAACCCCAAAIIIIAAAggggIBTgNDHKcI2AggggAACCCCAAAIIIIAAAggg0AAChD4N8BCpAgIIIIAAAggggAACCCCAAAIIIOAUIPRxirCNAAIIIIAAAggggAACCCCAAAIINIAAoU8DPESqgAACCCCAAAIIIIAAAggggAACCDgFCH2cImwjgAACCCCAAAIIIIAAAggggAACDSBA6NMAD5EqIIAAAggggAACCCCAAAIIIIAAAk4BQh+nCNsIIIAAAggggAACCCCAAAIIIIBAAwgQ+jTAQ6QKCCCAAAIIIIAAAggggAACCCCAgFOA0McpwjYCCCCAAAIIIIAAAggggAACCCDQAAKEPg3wEKkCAggggAACCCCAAAIIIIAAAggg4BQg9HGKsI0AAggggAACCCCAAAIIIIAAAgg0gAChTwM8RKqAAAIIIIAAAggggAACCCCAAAIIOAUIfZwibCOAAAIIIIAAAggggAACCCCAAAINIEDo0wAPkSoggAACCCCAAAIIIIAAAggggAACTgFCH6cI2wgggAACCCCAAAIIIIAAAggggEADCBD6NMBDpAoIIIAAAggggAACCCCAAAIIIICAU4DQxynCNgIIIIAAAggggAACCCCAAAIIINAAAoQ+DfAQqQICCCCAAAIIIIAAAggggAACCCDgFCD0cYqwjQACCCCAAAIIIIAAAggggAACCDSAAKFPAzxEqoAAAggggAACCCCAAAIIIIAAAgg4BQh9nCJsI4AAAggggAACCCCAAAIIIIAAAg0gQOjTAA+RKiCAAAIIIIAAAggggAACCCCAAAJOAUIfpwjbCCCAAAIIIIAAAggggAACCCCAQAMIEPo0wEOkCggggAACCCCAAAIIIIAAAggggIBTgNDHKcI2AggggAACCCCAAAIIIIAAAggg0AAChD4N8BCpAgIIIIAAAggggAACCCCAAAIIIOAUIPRxirCNAAIIIIAAAggggAACCCCAAAIINIAAoU8DPESqgAACCCCAAAIIIIAAAggggAACCDgFCH2cImwjgAACCCCAAAIIIIAAAggggAACDSBA6NMAD5EqIIAAAggggAACCCCAAAIIIIAAAk4BQh+nCNsIIIAAAggggAACCCCAAAIIIIBAAwgQ+jTAQ6QKCCCAAAIIIIAAAggggAACCCCAgFOA0McpwjYCCCCAAAIIIIAAAggggAACCCDQAAKEPg3wEKkCAggggAACCCCAAAIIIIAAAggg4BQg9HGKsI0AAggggAACCCCAAAIIIIAAAgg0gAChTwM8RKqAAAIIIIAAAggggAACCCCAAAIIOAUIfZwibCOAAAIIIIAAAggggAACCCCAAAINIEDo0wAPkSoggAACCCCAAAIIIIAAAggggAACTgFCH6cI2wgggAACCCCAAAIIIIAAAggggEADCBD6NMBDpAoIIIAAAggggAACCCCAAAIIIICAU4DQxynCNgIIIIAAAggggAACCCCAAAIIINAAAoQ+DfAQqQICCCCAAAIIIIAAAggggAACCCDgFCD0cYqwjQACCCCAAAIIIIAAAggggAACCDSAAKFPAzxEqoAAAggggAACCCCAAAIIIIAAAgg4BQh9nCJsI4AAAggggAACCCCAAAIIIIAAAg0gQOjTAA+RKiCAAAIIIIAAAggggAACCCCAAAJOAUIfpwjbCCCAAAIIIIAAAggggAACCCCAQAMIEPo0wEOkCggggAACCCCAAAIIIIAAAggggIBT4P8BIXQs67WaV0cAAAAASUVORK5CYII=)"
      ],
      "metadata": {
        "id": "wyjsu1IPP6Wb"
      }
    },
    {
      "cell_type": "markdown",
      "source": [
        "Após definir os limites, a função identifica os outliers na coluna do DataFrame utilizando a condição de que os valores sejam menores que o limite inferior ou maiores que o limite superior. Por fim, a função retorna um novo DataFrame contendo apenas os outliers identificados.\n",
        "\n",
        "Vamos então obter as amostras que são outliers na coluna “Valor da transação” no conjunto de dados fornecido:"
      ],
      "metadata": {
        "id": "aOPo_WnuP76i"
      }
    },
    {
      "cell_type": "code",
      "source": [
        "print(calc_outliers('Valor da transação', df))"
      ],
      "metadata": {
        "colab": {
          "base_uri": "https://localhost:8080/"
        },
        "id": "RIK_cGUUP9eK",
        "outputId": "10d1dd6c-b8fb-46e7-979f-7ab4bc1cbe15"
      },
      "execution_count": 28,
      "outputs": [
        {
          "output_type": "stream",
          "name": "stdout",
          "text": [
            "    ID da transação  Valor da transação Data da transação Local da transação\n",
            "5                 6                 913        2022-01-06   Nova Iorque, EUA\n",
            "16               17                 805        2022-01-17   Los Angeles, EUA\n",
            "28               29                 800        2022-01-29         Miami, EUA\n"
          ]
        }
      ]
    },
    {
      "cell_type": "markdown",
      "source": [
        "Logo, essas são as 3 transações fraudulentas presentes nos dados fornecidos."
      ],
      "metadata": {
        "id": "WtTQX2BNP_8u"
      }
    }
  ]
}